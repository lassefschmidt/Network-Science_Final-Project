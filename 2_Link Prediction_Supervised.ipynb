{
 "cells": [
  {
   "cell_type": "markdown",
   "id": "ca3f9796",
   "metadata": {},
   "source": [
    "# Machine Learning in Network Science\n",
    "Group Challenge\n",
    "\n",
    "***\n",
    "by: Leonardo Basili, Paul Bédier, Lasse Schmidt\n",
    "\n",
    "within: MS Data Sciences & Business Analytics\n",
    "\n",
    "at: CentraleSupélec & ESSEC Business School\n",
    "***"
   ]
  },
  {
   "attachments": {},
   "cell_type": "markdown",
   "id": "3a46be5a",
   "metadata": {},
   "source": [
    "This notebook covers classical machine learning techniques, namely:\n",
    "- unsupervised link prediction based on graph-topology (Adamic Adar, Preferential Attachment, Resource-Allocation-Index, ...)\n",
    "- supervised link prediction using Logistic Regression, SVM, Random Forest & Boosting"
   ]
  },
  {
   "cell_type": "markdown",
   "id": "54f241a1",
   "metadata": {},
   "source": [
    "### 1. Import Packages"
   ]
  },
  {
   "cell_type": "code",
   "execution_count": 43,
   "id": "98e82605",
   "metadata": {},
   "outputs": [
    {
     "data": {
      "text/plain": [
       "<module 'util.autoencoder' from '/Users/macbookpro/Documents/GitHub/Network-Science_Final-Project/util/autoencoder.py'>"
      ]
     },
     "execution_count": 43,
     "metadata": {},
     "output_type": "execute_result"
    }
   ],
   "source": [
    "from importlib import reload\n",
    "reload(analyseData)\n",
    "reload(prepData)\n",
    "reload(loadData)\n",
    "reload(modeling)\n",
    "reload(autoenc)"
   ]
  },
  {
   "cell_type": "code",
   "execution_count": 3,
   "id": "a3ffae4f",
   "metadata": {},
   "outputs": [],
   "source": [
    "# import own scripts\n",
    "import util.analyse_Data as analyseData\n",
    "import util.preprocess_Data as prepData\n",
    "import util.load_Data as loadData\n",
    "import util.modeling as modeling\n",
    "import util.autoencoder as autoenc"
   ]
  },
  {
   "cell_type": "code",
   "execution_count": 5,
   "id": "d7c6ba33",
   "metadata": {},
   "outputs": [],
   "source": [
    "# parse & handle data\n",
    "import os\n",
    "import csv\n",
    "import numpy as np\n",
    "import pandas as pd\n",
    "import networkx as nx # graph data\n",
    "\n",
    "# modeling\n",
    "import torch\n",
    "from torch_geometric.nn import GAE, VGAE\n",
    "from sklearn.ensemble import RandomForestClassifier\n",
    "from sklearn.linear_model import LogisticRegressionCV\n",
    "from sklearn.svm import SVC\n",
    "from sklearn.preprocessing import StandardScaler\n",
    "from sklearn.pipeline import make_pipeline\n",
    "from xgboost import XGBClassifier\n",
    "\n",
    "# hyperparameter tuning\n",
    "from ray import tune, air\n",
    "from ray.tune import CLIReporter, JupyterNotebookReporter\n",
    "from ray.tune.search.hyperopt import HyperOptSearch\n",
    "from ray.tune.schedulers import ASHAScheduler, MedianStoppingRule, PopulationBasedTraining\n",
    "from ray.tune.stopper import MaximumIterationStopper\n",
    "from ray.tune.experiment.trial import Trial\n",
    "from ray.tune.sklearn import TuneSearchCV\n",
    "import hyperopt\n",
    "\n",
    "# evaluation\n",
    "from sklearn.metrics import accuracy_score, classification_report, confusion_matrix, ConfusionMatrixDisplay, roc_auc_score\n",
    "from sklearn.model_selection import PredefinedSplit, ShuffleSplit\n",
    "\n",
    "# visualization\n",
    "import matplotlib.pyplot as plt\n",
    "import seaborn as sns"
   ]
  },
  {
   "cell_type": "code",
   "execution_count": 6,
   "id": "c84a352e",
   "metadata": {},
   "outputs": [],
   "source": [
    "# set matplotlib and seaborn settings for nicer plots\n",
    "%matplotlib inline\n",
    "\n",
    "SMALL_SIZE = 6\n",
    "MEDIUM_SIZE = 8\n",
    "BIGGER_SIZE = 10\n",
    "\n",
    "plt.rc('font', size=SMALL_SIZE)          # controls default text sizes\n",
    "plt.rc('axes', titlesize=BIGGER_SIZE)    # fontsize of the axes title\n",
    "plt.rc('axes', labelsize=MEDIUM_SIZE)    # fontsize of the x and y labels\n",
    "plt.rc('xtick', labelsize=SMALL_SIZE)    # fontsize of the tick labels\n",
    "plt.rc('ytick', labelsize=SMALL_SIZE)    # fontsize of the tick labels\n",
    "plt.rc('legend', fontsize=MEDIUM_SIZE)   # legend fontsize\n",
    "plt.rc('figure', titlesize=BIGGER_SIZE)  # fontsize of the figure title"
   ]
  },
  {
   "cell_type": "markdown",
   "id": "74f20e78",
   "metadata": {},
   "source": [
    "### 2. Load Data for Modeling"
   ]
  },
  {
   "cell_type": "code",
   "execution_count": 56,
   "id": "c682248d",
   "metadata": {},
   "outputs": [
    {
     "name": "stdout",
     "output_type": "stream",
     "text": [
      "Number of positive edges for training: 3802\n",
      "Number of positive edges for validation: 1085\n",
      "Number of positive edges for test: 542\n",
      "Number of edges in original graph: 5429\n",
      "Number of edges in training graph: 3802\n",
      "Number of non-existing edges generated: 29971\n",
      "Number of negative edges for training: 3802\n",
      "Number of negative edges for validation: 1085\n",
      "Number of negative edges for test: 542\n"
     ]
    },
    {
     "data": {
      "application/vnd.jupyter.widget-view+json": {
       "model_id": "9e2d2afaaf01499e9d96a5be565bc11d",
       "version_major": 2,
       "version_minor": 0
      },
      "text/plain": [
       "Computing transition probabilities:   0%|          | 0/2708 [00:00<?, ?it/s]"
      ]
     },
     "metadata": {},
     "output_type": "display_data"
    },
    {
     "name": "stderr",
     "output_type": "stream",
     "text": [
      "Generating walks (CPU: 1): 100%|██████████| 10/10 [00:00<00:00, 11.64it/s]\n"
     ]
    },
    {
     "data": {
      "application/vnd.jupyter.widget-view+json": {
       "model_id": "3d3ba4a65a254451ac58e8cbfa749529",
       "version_major": 2,
       "version_minor": 0
      },
      "text/plain": [
       "Computing transition probabilities:   0%|          | 0/2708 [00:00<?, ?it/s]"
      ]
     },
     "metadata": {},
     "output_type": "display_data"
    },
    {
     "name": "stderr",
     "output_type": "stream",
     "text": [
      "Generating walks (CPU: 1): 100%|██████████| 10/10 [00:01<00:00,  8.74it/s]\n"
     ]
    },
    {
     "name": "stdout",
     "output_type": "stream",
     "text": [
      "Enriching train data...\n"
     ]
    },
    {
     "name": "stderr",
     "output_type": "stream",
     "text": [
      "/Users/macbookpro/Documents/GitHub/Network-Science_Final-Project/util/preprocess_Data.py:130: FutureWarning: adjacency_matrix will return a scipy.sparse array instead of a matrix in Networkx 3.0.\n",
      "  adj = nx.adjacency_matrix(G, nodelist = nodelist)\n",
      "/Users/macbookpro/Documents/GitHub/Network-Science_Final-Project/util/preprocess_Data.py:99: FutureWarning: adjacency_matrix will return a scipy.sparse array instead of a matrix in Networkx 3.0.\n",
      "  adj = nx.adjacency_matrix(G, nodelist = nodelist)\n",
      "/Users/macbookpro/Documents/GitHub/Network-Science_Final-Project/util/preprocess_Data.py:153: FutureWarning: adjacency_matrix will return a scipy.sparse array instead of a matrix in Networkx 3.0.\n",
      "  adj = nx.adjacency_matrix(G, nodelist = nodelist).toarray()\n"
     ]
    },
    {
     "name": "stdout",
     "output_type": "stream",
     "text": [
      "Enriching validation data...\n",
      "Enriching test data...\n"
     ]
    }
   ],
   "source": [
    "# might take up to a minute\n",
    "(G, G_train, G_trainval, node_info, train_tf, val_tf, trainval_tf, test_tf, \n",
    " X_train, y_train, X_val, y_val, X_trainval, \n",
    " y_trainval, X_test, y_test) = loadData.load_transform(val_ratio = 0.2, test_ratio = 0.1, n2v_train=True)"
   ]
  },
  {
   "cell_type": "code",
   "execution_count": 37,
   "id": "de3f7777",
   "metadata": {},
   "outputs": [
    {
     "name": "stdout",
     "output_type": "stream",
     "text": [
      "Number of positive edges for training: 3802\n",
      "Number of positive edges for validation: 1085\n",
      "Number of positive edges for test: 542\n",
      "Number of edges in original graph: 5429\n",
      "Number of edges in training graph: 3802\n",
      "Number of non-existing edges generated: 29971\n",
      "Number of negative edges for training: 3802\n",
      "Number of negative edges for validation: 1085\n",
      "Number of negative edges for test: 542\n",
      "sum of train pos edges: 3802\n",
      "sum of train neg edges: 3802\n",
      "sum of val pos edges: 1085\n",
      "sum of val neg edges: 1085\n",
      "sum of train pos edges: 3802\n",
      "sum of train neg edges: 3802\n",
      "sum of val pos edges: 1085\n",
      "sum of val neg edges: 1085\n",
      "Enriching node features...\n"
     ]
    },
    {
     "data": {
      "application/vnd.jupyter.widget-view+json": {
       "model_id": "eda09c96a7ef4c8db01a9c45cd4f9eda",
       "version_major": 2,
       "version_minor": 0
      },
      "text/plain": [
       "Computing transition probabilities:   0%|          | 0/2708 [00:00<?, ?it/s]"
      ]
     },
     "metadata": {},
     "output_type": "display_data"
    },
    {
     "name": "stderr",
     "output_type": "stream",
     "text": [
      "Generating walks (CPU: 1): 100%|██████████| 10/10 [00:00<00:00, 13.98it/s]\n",
      "/Users/macbookpro/Library/Python/3.9/lib/python/site-packages/networkx/algorithms/link_analysis/hits_alg.py:78: FutureWarning: adjacency_matrix will return a scipy.sparse array instead of a matrix in Networkx 3.0.\n",
      "  A = nx.adjacency_matrix(G, nodelist=list(G), dtype=float)\n"
     ]
    },
    {
     "data": {
      "application/vnd.jupyter.widget-view+json": {
       "model_id": "67425f1073a542dfb0ad6ffbb542ff57",
       "version_major": 2,
       "version_minor": 0
      },
      "text/plain": [
       "Computing transition probabilities:   0%|          | 0/2708 [00:00<?, ?it/s]"
      ]
     },
     "metadata": {},
     "output_type": "display_data"
    },
    {
     "name": "stderr",
     "output_type": "stream",
     "text": [
      "Generating walks (CPU: 1): 100%|██████████| 10/10 [00:00<00:00, 11.12it/s]\n"
     ]
    },
    {
     "name": "stdout",
     "output_type": "stream",
     "text": [
      "Create PyTorch Geometric dataset...\n"
     ]
    }
   ],
   "source": [
    "# might take up to a minute\n",
    "data, _ = autoenc.load(val_ratio = 0.2, test_ratio = 0.1)"
   ]
  },
  {
   "cell_type": "code",
   "execution_count": 21,
   "id": "a785877b",
   "metadata": {},
   "outputs": [],
   "source": [
    "# get node embeddings (IF YOU CHANGE SEED = 42, then you need to train new autoencoder as train-val split is different)\n",
    "\n",
    "# load best autoencoder\n",
    "path = os.path.abspath(\"\")+\"/models/VGNAE_0.001_0_4982a_00000_autoencoder.pt\"\n",
    "\n",
    "model = VGAE(autoenc.Encoder(data.x.size()[1], 64, 1.5, 5, 0.2, 0.01))\n",
    "model.load_state_dict(torch.load(path, map_location=torch.device('cpu')))\n",
    "\n",
    "# get embeddings of nodes\n",
    "embedding = autoenc.get_embeddings(model, data.x, data.trainval_edges)\n",
    "node_emb = pd.DataFrame(embedding).rename(columns = {val: f\"x{val+1}\" for val in range(embedding.shape[1])})\n",
    "\n",
    "# enrich train\n",
    "train_sim = pd.DataFrame(autoenc.get_similarity(model, data.x, data.train_pos_edges, data.train_edges)).rename(columns = {0: \"sim\"})\n",
    "train_tf = (train_tf\n",
    "    .assign(sim = train_sim.sim.values)\n",
    "    .assign(dist = lambda df_: [np.linalg.norm(node_emb.loc[u].values-node_emb.loc[v].values) for u, v in zip(df_.source, df_.target)])\n",
    ")\n",
    "\n",
    "# enrich val\n",
    "val_sim = pd.DataFrame(autoenc.get_similarity(model, data.x, data.train_pos_edges, data.val_edges)).rename(columns = {0: \"sim\"})\n",
    "val_tf = (val_tf\n",
    "    .assign(sim = val_sim.sim.values)\n",
    "    .assign(dist = lambda df_: [np.linalg.norm(node_emb.loc[u].values-node_emb.loc[v].values) for u, v in zip(df_.source, df_.target)])\n",
    ")\n",
    "\n",
    "# enrich test\n",
    "test_sim = pd.DataFrame(autoenc.get_similarity(model, data.x, data.trainval_pos_edges, data.test_edges)).rename(columns = {0: \"sim\"})\n",
    "test_tf = (test_tf\n",
    "    .assign(sim = test_sim.sim.values)\n",
    "    .assign(dist = lambda df_: [np.linalg.norm(node_emb.loc[u].values-node_emb.loc[v].values) for u, v in zip(df_.source, df_.target)])\n",
    ")\n",
    "\n",
    "# split\n",
    "X_train, y_train = loadData.split_frame(train_tf)\n",
    "X_val, y_val     = loadData.split_frame(val_tf)\n",
    "X_test, y_test    = loadData.split_frame(test_tf)\n",
    "\n",
    "# merge to get trainval data\n",
    "X_trainval = pd.concat([X_train, X_val])\n",
    "y_trainval = pd.concat([y_train, y_val])"
   ]
  },
  {
   "cell_type": "code",
   "execution_count": 19,
   "id": "242bc6d6",
   "metadata": {},
   "outputs": [
    {
     "ename": "TypeError",
     "evalue": "plot() got an unexpected keyword argument 'text_kw'",
     "output_type": "error",
     "traceback": [
      "\u001b[0;31m---------------------------------------------------------------------------\u001b[0m",
      "\u001b[0;31mTypeError\u001b[0m                                 Traceback (most recent call last)",
      "\u001b[0;32m/var/folders/wl/zfv53bfx13j4zx15j58_cby00000gn/T/ipykernel_81705/100273484.py\u001b[0m in \u001b[0;36m<module>\u001b[0;34m\u001b[0m\n\u001b[1;32m      1\u001b[0m \u001b[0;31m# plot correlation with target (first train, then validation)\u001b[0m\u001b[0;34m\u001b[0m\u001b[0;34m\u001b[0m\u001b[0m\n\u001b[1;32m      2\u001b[0m \u001b[0;32mfor\u001b[0m \u001b[0mdf\u001b[0m \u001b[0;32min\u001b[0m \u001b[0;34m[\u001b[0m\u001b[0mtrain_tf\u001b[0m\u001b[0;34m,\u001b[0m \u001b[0mval_tf\u001b[0m\u001b[0;34m]\u001b[0m\u001b[0;34m:\u001b[0m\u001b[0;34m\u001b[0m\u001b[0;34m\u001b[0m\u001b[0m\n\u001b[0;32m----> 3\u001b[0;31m     \u001b[0manalyseData\u001b[0m\u001b[0;34m.\u001b[0m\u001b[0mplot_corr_matrix\u001b[0m\u001b[0;34m(\u001b[0m\u001b[0mdf\u001b[0m\u001b[0;34m.\u001b[0m\u001b[0miloc\u001b[0m\u001b[0;34m[\u001b[0m\u001b[0;34m:\u001b[0m\u001b[0;34m,\u001b[0m \u001b[0;36m2\u001b[0m\u001b[0;34m:\u001b[0m\u001b[0;34m]\u001b[0m\u001b[0;34m)\u001b[0m\u001b[0;34m\u001b[0m\u001b[0;34m\u001b[0m\u001b[0m\n\u001b[0m",
      "\u001b[0;32m~/Documents/GitHub/Network-Science_Final-Project/util/analyse_Data.py\u001b[0m in \u001b[0;36mplot_corr_matrix\u001b[0;34m(df)\u001b[0m\n\u001b[1;32m    172\u001b[0m     cm = ConfusionMatrixDisplay(corr_matrix,\n\u001b[1;32m    173\u001b[0m                                 display_labels = labels)\n\u001b[0;32m--> 174\u001b[0;31m     \u001b[0mcm\u001b[0m\u001b[0;34m.\u001b[0m\u001b[0mplot\u001b[0m\u001b[0;34m(\u001b[0m\u001b[0max\u001b[0m \u001b[0;34m=\u001b[0m \u001b[0max\u001b[0m\u001b[0;34m,\u001b[0m \u001b[0mxticks_rotation\u001b[0m \u001b[0;34m=\u001b[0m \u001b[0;34m'vertical'\u001b[0m\u001b[0;34m,\u001b[0m \u001b[0mcmap\u001b[0m \u001b[0;34m=\u001b[0m \u001b[0mplt\u001b[0m\u001b[0;34m.\u001b[0m\u001b[0mcm\u001b[0m\u001b[0;34m.\u001b[0m\u001b[0mBlues\u001b[0m\u001b[0;34m,\u001b[0m \u001b[0mtext_kw\u001b[0m \u001b[0;34m=\u001b[0m \u001b[0;34m{\u001b[0m\u001b[0;34m\"color\"\u001b[0m\u001b[0;34m:\u001b[0m \u001b[0;34m\"w\"\u001b[0m\u001b[0;34m,\u001b[0m \u001b[0;34m\"fontsize\"\u001b[0m\u001b[0;34m:\u001b[0m \u001b[0;36m6\u001b[0m\u001b[0;34m}\u001b[0m\u001b[0;34m)\u001b[0m\u001b[0;34m\u001b[0m\u001b[0;34m\u001b[0m\u001b[0m\n\u001b[0m\u001b[1;32m    175\u001b[0m     \u001b[0max\u001b[0m\u001b[0;34m.\u001b[0m\u001b[0mset_xticklabels\u001b[0m\u001b[0;34m(\u001b[0m\u001b[0;34m[\u001b[0m\u001b[0mi\u001b[0m \u001b[0;32mfor\u001b[0m \u001b[0mi\u001b[0m \u001b[0;32min\u001b[0m \u001b[0mrange\u001b[0m\u001b[0;34m(\u001b[0m\u001b[0mlen\u001b[0m\u001b[0;34m(\u001b[0m\u001b[0mdf\u001b[0m\u001b[0;34m.\u001b[0m\u001b[0mcolumns\u001b[0m\u001b[0;34m)\u001b[0m\u001b[0;34m)\u001b[0m\u001b[0;34m]\u001b[0m\u001b[0;34m)\u001b[0m\u001b[0;34m\u001b[0m\u001b[0;34m\u001b[0m\u001b[0m\n\u001b[1;32m    176\u001b[0m     \u001b[0max\u001b[0m\u001b[0;34m.\u001b[0m\u001b[0mtick_params\u001b[0m\u001b[0;34m(\u001b[0m\u001b[0maxis\u001b[0m\u001b[0;34m=\u001b[0m\u001b[0;34m'x'\u001b[0m\u001b[0;34m,\u001b[0m \u001b[0mlabelrotation\u001b[0m \u001b[0;34m=\u001b[0m \u001b[0;36m0\u001b[0m\u001b[0;34m)\u001b[0m\u001b[0;34m\u001b[0m\u001b[0;34m\u001b[0m\u001b[0m\n",
      "\u001b[0;31mTypeError\u001b[0m: plot() got an unexpected keyword argument 'text_kw'"
     ]
    },
    {
     "ename": "UnicodeDecodeError",
     "evalue": "'utf-8' codec can't decode byte 0x89 in position 0: invalid start byte",
     "output_type": "error",
     "traceback": [
      "\u001b[0;31m---------------------------------------------------------------------------\u001b[0m",
      "\u001b[0;31mUnicodeDecodeError\u001b[0m                        Traceback (most recent call last)",
      "\u001b[0;32m/Library/Frameworks/Python.framework/Versions/3.9/lib/python3.9/site-packages/matplotlib_inline/backend_inline.py\u001b[0m in \u001b[0;36mshow\u001b[0;34m(close, block)\u001b[0m\n\u001b[1;32m     39\u001b[0m     \u001b[0;32mtry\u001b[0m\u001b[0;34m:\u001b[0m\u001b[0;34m\u001b[0m\u001b[0;34m\u001b[0m\u001b[0m\n\u001b[1;32m     40\u001b[0m         \u001b[0;32mfor\u001b[0m \u001b[0mfigure_manager\u001b[0m \u001b[0;32min\u001b[0m \u001b[0mGcf\u001b[0m\u001b[0;34m.\u001b[0m\u001b[0mget_all_fig_managers\u001b[0m\u001b[0;34m(\u001b[0m\u001b[0;34m)\u001b[0m\u001b[0;34m:\u001b[0m\u001b[0;34m\u001b[0m\u001b[0;34m\u001b[0m\u001b[0m\n\u001b[0;32m---> 41\u001b[0;31m             display(\n\u001b[0m\u001b[1;32m     42\u001b[0m                 \u001b[0mfigure_manager\u001b[0m\u001b[0;34m.\u001b[0m\u001b[0mcanvas\u001b[0m\u001b[0;34m.\u001b[0m\u001b[0mfigure\u001b[0m\u001b[0;34m,\u001b[0m\u001b[0;34m\u001b[0m\u001b[0;34m\u001b[0m\u001b[0m\n\u001b[1;32m     43\u001b[0m                 \u001b[0mmetadata\u001b[0m\u001b[0;34m=\u001b[0m\u001b[0m_fetch_figure_metadata\u001b[0m\u001b[0;34m(\u001b[0m\u001b[0mfigure_manager\u001b[0m\u001b[0;34m.\u001b[0m\u001b[0mcanvas\u001b[0m\u001b[0;34m.\u001b[0m\u001b[0mfigure\u001b[0m\u001b[0;34m)\u001b[0m\u001b[0;34m\u001b[0m\u001b[0;34m\u001b[0m\u001b[0m\n",
      "\u001b[0;32m/Library/Frameworks/Python.framework/Versions/3.9/lib/python3.9/site-packages/IPython/core/display.py\u001b[0m in \u001b[0;36mdisplay\u001b[0;34m(include, exclude, metadata, transient, display_id, *objs, **kwargs)\u001b[0m\n\u001b[1;32m    325\u001b[0m                 \u001b[0;31m# kwarg-specified metadata gets precedence\u001b[0m\u001b[0;34m\u001b[0m\u001b[0;34m\u001b[0m\u001b[0m\n\u001b[1;32m    326\u001b[0m                 \u001b[0m_merge\u001b[0m\u001b[0;34m(\u001b[0m\u001b[0mmd_dict\u001b[0m\u001b[0;34m,\u001b[0m \u001b[0mmetadata\u001b[0m\u001b[0;34m)\u001b[0m\u001b[0;34m\u001b[0m\u001b[0;34m\u001b[0m\u001b[0m\n\u001b[0;32m--> 327\u001b[0;31m             \u001b[0mpublish_display_data\u001b[0m\u001b[0;34m(\u001b[0m\u001b[0mdata\u001b[0m\u001b[0;34m=\u001b[0m\u001b[0mformat_dict\u001b[0m\u001b[0;34m,\u001b[0m \u001b[0mmetadata\u001b[0m\u001b[0;34m=\u001b[0m\u001b[0mmd_dict\u001b[0m\u001b[0;34m,\u001b[0m \u001b[0;34m**\u001b[0m\u001b[0mkwargs\u001b[0m\u001b[0;34m)\u001b[0m\u001b[0;34m\u001b[0m\u001b[0;34m\u001b[0m\u001b[0m\n\u001b[0m\u001b[1;32m    328\u001b[0m     \u001b[0;32mif\u001b[0m \u001b[0mdisplay_id\u001b[0m\u001b[0;34m:\u001b[0m\u001b[0;34m\u001b[0m\u001b[0;34m\u001b[0m\u001b[0m\n\u001b[1;32m    329\u001b[0m         \u001b[0;32mreturn\u001b[0m \u001b[0mDisplayHandle\u001b[0m\u001b[0;34m(\u001b[0m\u001b[0mdisplay_id\u001b[0m\u001b[0;34m)\u001b[0m\u001b[0;34m\u001b[0m\u001b[0;34m\u001b[0m\u001b[0m\n",
      "\u001b[0;32m/Library/Frameworks/Python.framework/Versions/3.9/lib/python3.9/site-packages/IPython/core/display.py\u001b[0m in \u001b[0;36mpublish_display_data\u001b[0;34m(data, metadata, source, transient, **kwargs)\u001b[0m\n\u001b[1;32m    117\u001b[0m         \u001b[0mkwargs\u001b[0m\u001b[0;34m[\u001b[0m\u001b[0;34m'transient'\u001b[0m\u001b[0;34m]\u001b[0m \u001b[0;34m=\u001b[0m \u001b[0mtransient\u001b[0m\u001b[0;34m\u001b[0m\u001b[0;34m\u001b[0m\u001b[0m\n\u001b[1;32m    118\u001b[0m \u001b[0;34m\u001b[0m\u001b[0m\n\u001b[0;32m--> 119\u001b[0;31m     display_pub.publish(\n\u001b[0m\u001b[1;32m    120\u001b[0m         \u001b[0mdata\u001b[0m\u001b[0;34m=\u001b[0m\u001b[0mdata\u001b[0m\u001b[0;34m,\u001b[0m\u001b[0;34m\u001b[0m\u001b[0;34m\u001b[0m\u001b[0m\n\u001b[1;32m    121\u001b[0m         \u001b[0mmetadata\u001b[0m\u001b[0;34m=\u001b[0m\u001b[0mmetadata\u001b[0m\u001b[0;34m,\u001b[0m\u001b[0;34m\u001b[0m\u001b[0;34m\u001b[0m\u001b[0m\n",
      "\u001b[0;32m/Library/Frameworks/Python.framework/Versions/3.9/lib/python3.9/site-packages/ipykernel/zmqshell.py\u001b[0m in \u001b[0;36mpublish\u001b[0;34m(self, data, metadata, transient, update)\u001b[0m\n\u001b[1;32m    136\u001b[0m                 \u001b[0;32mreturn\u001b[0m\u001b[0;34m\u001b[0m\u001b[0;34m\u001b[0m\u001b[0m\n\u001b[1;32m    137\u001b[0m \u001b[0;34m\u001b[0m\u001b[0m\n\u001b[0;32m--> 138\u001b[0;31m         self.session.send(\n\u001b[0m\u001b[1;32m    139\u001b[0m             \u001b[0mself\u001b[0m\u001b[0;34m.\u001b[0m\u001b[0mpub_socket\u001b[0m\u001b[0;34m,\u001b[0m \u001b[0mmsg\u001b[0m\u001b[0;34m,\u001b[0m \u001b[0mident\u001b[0m\u001b[0;34m=\u001b[0m\u001b[0mself\u001b[0m\u001b[0;34m.\u001b[0m\u001b[0mtopic\u001b[0m\u001b[0;34m,\u001b[0m\u001b[0;34m\u001b[0m\u001b[0;34m\u001b[0m\u001b[0m\n\u001b[1;32m    140\u001b[0m         )\n",
      "\u001b[0;32m/Library/Frameworks/Python.framework/Versions/3.9/lib/python3.9/site-packages/jupyter_client/session.py\u001b[0m in \u001b[0;36msend\u001b[0;34m(self, stream, msg_or_type, content, parent, ident, buffers, track, header, metadata)\u001b[0m\n\u001b[1;32m    828\u001b[0m         \u001b[0;32mif\u001b[0m \u001b[0mself\u001b[0m\u001b[0;34m.\u001b[0m\u001b[0madapt_version\u001b[0m\u001b[0;34m:\u001b[0m\u001b[0;34m\u001b[0m\u001b[0;34m\u001b[0m\u001b[0m\n\u001b[1;32m    829\u001b[0m             \u001b[0mmsg\u001b[0m \u001b[0;34m=\u001b[0m \u001b[0madapt\u001b[0m\u001b[0;34m(\u001b[0m\u001b[0mmsg\u001b[0m\u001b[0;34m,\u001b[0m \u001b[0mself\u001b[0m\u001b[0;34m.\u001b[0m\u001b[0madapt_version\u001b[0m\u001b[0;34m)\u001b[0m\u001b[0;34m\u001b[0m\u001b[0;34m\u001b[0m\u001b[0m\n\u001b[0;32m--> 830\u001b[0;31m         \u001b[0mto_send\u001b[0m \u001b[0;34m=\u001b[0m \u001b[0mself\u001b[0m\u001b[0;34m.\u001b[0m\u001b[0mserialize\u001b[0m\u001b[0;34m(\u001b[0m\u001b[0mmsg\u001b[0m\u001b[0;34m,\u001b[0m \u001b[0mident\u001b[0m\u001b[0;34m)\u001b[0m\u001b[0;34m\u001b[0m\u001b[0;34m\u001b[0m\u001b[0m\n\u001b[0m\u001b[1;32m    831\u001b[0m         \u001b[0mto_send\u001b[0m\u001b[0;34m.\u001b[0m\u001b[0mextend\u001b[0m\u001b[0;34m(\u001b[0m\u001b[0mbuffers\u001b[0m\u001b[0;34m)\u001b[0m\u001b[0;34m\u001b[0m\u001b[0;34m\u001b[0m\u001b[0m\n\u001b[1;32m    832\u001b[0m         \u001b[0mlongest\u001b[0m \u001b[0;34m=\u001b[0m \u001b[0mmax\u001b[0m\u001b[0;34m(\u001b[0m\u001b[0;34m[\u001b[0m\u001b[0mlen\u001b[0m\u001b[0;34m(\u001b[0m\u001b[0ms\u001b[0m\u001b[0;34m)\u001b[0m \u001b[0;32mfor\u001b[0m \u001b[0ms\u001b[0m \u001b[0;32min\u001b[0m \u001b[0mto_send\u001b[0m\u001b[0;34m]\u001b[0m\u001b[0;34m)\u001b[0m\u001b[0;34m\u001b[0m\u001b[0;34m\u001b[0m\u001b[0m\n",
      "\u001b[0;32m/Library/Frameworks/Python.framework/Versions/3.9/lib/python3.9/site-packages/jupyter_client/session.py\u001b[0m in \u001b[0;36mserialize\u001b[0;34m(self, msg, ident)\u001b[0m\n\u001b[1;32m    702\u001b[0m             \u001b[0mcontent\u001b[0m \u001b[0;34m=\u001b[0m \u001b[0mself\u001b[0m\u001b[0;34m.\u001b[0m\u001b[0mnone\u001b[0m\u001b[0;34m\u001b[0m\u001b[0;34m\u001b[0m\u001b[0m\n\u001b[1;32m    703\u001b[0m         \u001b[0;32melif\u001b[0m \u001b[0misinstance\u001b[0m\u001b[0;34m(\u001b[0m\u001b[0mcontent\u001b[0m\u001b[0;34m,\u001b[0m \u001b[0mdict\u001b[0m\u001b[0;34m)\u001b[0m\u001b[0;34m:\u001b[0m\u001b[0;34m\u001b[0m\u001b[0;34m\u001b[0m\u001b[0m\n\u001b[0;32m--> 704\u001b[0;31m             \u001b[0mcontent\u001b[0m \u001b[0;34m=\u001b[0m \u001b[0mself\u001b[0m\u001b[0;34m.\u001b[0m\u001b[0mpack\u001b[0m\u001b[0;34m(\u001b[0m\u001b[0mcontent\u001b[0m\u001b[0;34m)\u001b[0m\u001b[0;34m\u001b[0m\u001b[0;34m\u001b[0m\u001b[0m\n\u001b[0m\u001b[1;32m    705\u001b[0m         \u001b[0;32melif\u001b[0m \u001b[0misinstance\u001b[0m\u001b[0;34m(\u001b[0m\u001b[0mcontent\u001b[0m\u001b[0;34m,\u001b[0m \u001b[0mbytes\u001b[0m\u001b[0;34m)\u001b[0m\u001b[0;34m:\u001b[0m\u001b[0;34m\u001b[0m\u001b[0;34m\u001b[0m\u001b[0m\n\u001b[1;32m    706\u001b[0m             \u001b[0;31m# content is already packed, as in a relayed message\u001b[0m\u001b[0;34m\u001b[0m\u001b[0;34m\u001b[0m\u001b[0m\n",
      "\u001b[0;32m/Library/Frameworks/Python.framework/Versions/3.9/lib/python3.9/site-packages/jupyter_client/session.py\u001b[0m in \u001b[0;36mjson_packer\u001b[0;34m(obj)\u001b[0m\n\u001b[1;32m     93\u001b[0m \u001b[0;34m\u001b[0m\u001b[0m\n\u001b[1;32m     94\u001b[0m \u001b[0;32mdef\u001b[0m \u001b[0mjson_packer\u001b[0m\u001b[0;34m(\u001b[0m\u001b[0mobj\u001b[0m\u001b[0;34m)\u001b[0m\u001b[0;34m:\u001b[0m\u001b[0;34m\u001b[0m\u001b[0;34m\u001b[0m\u001b[0m\n\u001b[0;32m---> 95\u001b[0;31m     return jsonapi.dumps(\n\u001b[0m\u001b[1;32m     96\u001b[0m         \u001b[0mobj\u001b[0m\u001b[0;34m,\u001b[0m\u001b[0;34m\u001b[0m\u001b[0;34m\u001b[0m\u001b[0m\n\u001b[1;32m     97\u001b[0m         \u001b[0mdefault\u001b[0m\u001b[0;34m=\u001b[0m\u001b[0mjson_default\u001b[0m\u001b[0;34m,\u001b[0m\u001b[0;34m\u001b[0m\u001b[0;34m\u001b[0m\u001b[0m\n",
      "\u001b[0;32m~/Library/Python/3.9/lib/python/site-packages/zmq/utils/jsonapi.py\u001b[0m in \u001b[0;36mdumps\u001b[0;34m(o, **kwargs)\u001b[0m\n\u001b[1;32m     38\u001b[0m         \u001b[0mkwargs\u001b[0m\u001b[0;34m[\u001b[0m\u001b[0;34m'separators'\u001b[0m\u001b[0;34m]\u001b[0m \u001b[0;34m=\u001b[0m \u001b[0;34m(\u001b[0m\u001b[0;34m','\u001b[0m\u001b[0;34m,\u001b[0m \u001b[0;34m':'\u001b[0m\u001b[0;34m)\u001b[0m\u001b[0;34m\u001b[0m\u001b[0;34m\u001b[0m\u001b[0m\n\u001b[1;32m     39\u001b[0m \u001b[0;34m\u001b[0m\u001b[0m\n\u001b[0;32m---> 40\u001b[0;31m     \u001b[0ms\u001b[0m \u001b[0;34m=\u001b[0m \u001b[0mjsonmod\u001b[0m\u001b[0;34m.\u001b[0m\u001b[0mdumps\u001b[0m\u001b[0;34m(\u001b[0m\u001b[0mo\u001b[0m\u001b[0;34m,\u001b[0m \u001b[0;34m**\u001b[0m\u001b[0mkwargs\u001b[0m\u001b[0;34m)\u001b[0m\u001b[0;34m\u001b[0m\u001b[0;34m\u001b[0m\u001b[0m\n\u001b[0m\u001b[1;32m     41\u001b[0m \u001b[0;34m\u001b[0m\u001b[0m\n\u001b[1;32m     42\u001b[0m     \u001b[0;32mif\u001b[0m \u001b[0misinstance\u001b[0m\u001b[0;34m(\u001b[0m\u001b[0ms\u001b[0m\u001b[0;34m,\u001b[0m \u001b[0municode\u001b[0m\u001b[0;34m)\u001b[0m\u001b[0;34m:\u001b[0m\u001b[0;34m\u001b[0m\u001b[0;34m\u001b[0m\u001b[0m\n",
      "\u001b[0;32m~/Library/Python/3.9/lib/python/site-packages/simplejson/__init__.py\u001b[0m in \u001b[0;36mdumps\u001b[0;34m(obj, skipkeys, ensure_ascii, check_circular, allow_nan, cls, indent, separators, encoding, default, use_decimal, namedtuple_as_object, tuple_as_array, bigint_as_string, sort_keys, item_sort_key, for_json, ignore_nan, int_as_string_bitcount, iterable_as_array, **kw)\u001b[0m\n\u001b[1;32m    379\u001b[0m     \u001b[0;32mif\u001b[0m \u001b[0mcls\u001b[0m \u001b[0;32mis\u001b[0m \u001b[0;32mNone\u001b[0m\u001b[0;34m:\u001b[0m\u001b[0;34m\u001b[0m\u001b[0;34m\u001b[0m\u001b[0m\n\u001b[1;32m    380\u001b[0m         \u001b[0mcls\u001b[0m \u001b[0;34m=\u001b[0m \u001b[0mJSONEncoder\u001b[0m\u001b[0;34m\u001b[0m\u001b[0;34m\u001b[0m\u001b[0m\n\u001b[0;32m--> 381\u001b[0;31m     return cls(\n\u001b[0m\u001b[1;32m    382\u001b[0m         \u001b[0mskipkeys\u001b[0m\u001b[0;34m=\u001b[0m\u001b[0mskipkeys\u001b[0m\u001b[0;34m,\u001b[0m \u001b[0mensure_ascii\u001b[0m\u001b[0;34m=\u001b[0m\u001b[0mensure_ascii\u001b[0m\u001b[0;34m,\u001b[0m\u001b[0;34m\u001b[0m\u001b[0;34m\u001b[0m\u001b[0m\n\u001b[1;32m    383\u001b[0m         \u001b[0mcheck_circular\u001b[0m\u001b[0;34m=\u001b[0m\u001b[0mcheck_circular\u001b[0m\u001b[0;34m,\u001b[0m \u001b[0mallow_nan\u001b[0m\u001b[0;34m=\u001b[0m\u001b[0mallow_nan\u001b[0m\u001b[0;34m,\u001b[0m \u001b[0mindent\u001b[0m\u001b[0;34m=\u001b[0m\u001b[0mindent\u001b[0m\u001b[0;34m,\u001b[0m\u001b[0;34m\u001b[0m\u001b[0;34m\u001b[0m\u001b[0m\n",
      "\u001b[0;32m~/Library/Python/3.9/lib/python/site-packages/simplejson/encoder.py\u001b[0m in \u001b[0;36mencode\u001b[0;34m(self, o)\u001b[0m\n\u001b[1;32m    296\u001b[0m         \u001b[0;31m# exceptions aren't as detailed.  The list call should be roughly\u001b[0m\u001b[0;34m\u001b[0m\u001b[0;34m\u001b[0m\u001b[0m\n\u001b[1;32m    297\u001b[0m         \u001b[0;31m# equivalent to the PySequence_Fast that ''.join() would do.\u001b[0m\u001b[0;34m\u001b[0m\u001b[0;34m\u001b[0m\u001b[0m\n\u001b[0;32m--> 298\u001b[0;31m         \u001b[0mchunks\u001b[0m \u001b[0;34m=\u001b[0m \u001b[0mself\u001b[0m\u001b[0;34m.\u001b[0m\u001b[0miterencode\u001b[0m\u001b[0;34m(\u001b[0m\u001b[0mo\u001b[0m\u001b[0;34m)\u001b[0m\u001b[0;34m\u001b[0m\u001b[0;34m\u001b[0m\u001b[0m\n\u001b[0m\u001b[1;32m    299\u001b[0m         \u001b[0;32mif\u001b[0m \u001b[0;32mnot\u001b[0m \u001b[0misinstance\u001b[0m\u001b[0;34m(\u001b[0m\u001b[0mchunks\u001b[0m\u001b[0;34m,\u001b[0m \u001b[0;34m(\u001b[0m\u001b[0mlist\u001b[0m\u001b[0;34m,\u001b[0m \u001b[0mtuple\u001b[0m\u001b[0;34m)\u001b[0m\u001b[0;34m)\u001b[0m\u001b[0;34m:\u001b[0m\u001b[0;34m\u001b[0m\u001b[0;34m\u001b[0m\u001b[0m\n\u001b[1;32m    300\u001b[0m             \u001b[0mchunks\u001b[0m \u001b[0;34m=\u001b[0m \u001b[0mlist\u001b[0m\u001b[0;34m(\u001b[0m\u001b[0mchunks\u001b[0m\u001b[0;34m)\u001b[0m\u001b[0;34m\u001b[0m\u001b[0;34m\u001b[0m\u001b[0m\n",
      "\u001b[0;32m~/Library/Python/3.9/lib/python/site-packages/simplejson/encoder.py\u001b[0m in \u001b[0;36miterencode\u001b[0;34m(self, o)\u001b[0m\n\u001b[1;32m    377\u001b[0m                 self.iterable_as_array, Decimal=decimal.Decimal)\n\u001b[1;32m    378\u001b[0m         \u001b[0;32mtry\u001b[0m\u001b[0;34m:\u001b[0m\u001b[0;34m\u001b[0m\u001b[0;34m\u001b[0m\u001b[0m\n\u001b[0;32m--> 379\u001b[0;31m             \u001b[0;32mreturn\u001b[0m \u001b[0m_iterencode\u001b[0m\u001b[0;34m(\u001b[0m\u001b[0mo\u001b[0m\u001b[0;34m,\u001b[0m \u001b[0;36m0\u001b[0m\u001b[0;34m)\u001b[0m\u001b[0;34m\u001b[0m\u001b[0;34m\u001b[0m\u001b[0m\n\u001b[0m\u001b[1;32m    380\u001b[0m         \u001b[0;32mfinally\u001b[0m\u001b[0;34m:\u001b[0m\u001b[0;34m\u001b[0m\u001b[0;34m\u001b[0m\u001b[0m\n\u001b[1;32m    381\u001b[0m             \u001b[0mkey_memo\u001b[0m\u001b[0;34m.\u001b[0m\u001b[0mclear\u001b[0m\u001b[0;34m(\u001b[0m\u001b[0;34m)\u001b[0m\u001b[0;34m\u001b[0m\u001b[0;34m\u001b[0m\u001b[0m\n",
      "\u001b[0;32m~/Library/Python/3.9/lib/python/site-packages/simplejson/encoder.py\u001b[0m in \u001b[0;36mencode_basestring\u001b[0;34m(s, _PY3, _q)\u001b[0m\n\u001b[1;32m     43\u001b[0m     \u001b[0;32mif\u001b[0m \u001b[0m_PY3\u001b[0m\u001b[0;34m:\u001b[0m\u001b[0;34m\u001b[0m\u001b[0;34m\u001b[0m\u001b[0m\n\u001b[1;32m     44\u001b[0m         \u001b[0;32mif\u001b[0m \u001b[0misinstance\u001b[0m\u001b[0;34m(\u001b[0m\u001b[0ms\u001b[0m\u001b[0;34m,\u001b[0m \u001b[0mbytes\u001b[0m\u001b[0;34m)\u001b[0m\u001b[0;34m:\u001b[0m\u001b[0;34m\u001b[0m\u001b[0;34m\u001b[0m\u001b[0m\n\u001b[0;32m---> 45\u001b[0;31m             \u001b[0ms\u001b[0m \u001b[0;34m=\u001b[0m \u001b[0mstr\u001b[0m\u001b[0;34m(\u001b[0m\u001b[0ms\u001b[0m\u001b[0;34m,\u001b[0m \u001b[0;34m'utf-8'\u001b[0m\u001b[0;34m)\u001b[0m\u001b[0;34m\u001b[0m\u001b[0;34m\u001b[0m\u001b[0m\n\u001b[0m\u001b[1;32m     46\u001b[0m         \u001b[0;32melif\u001b[0m \u001b[0mtype\u001b[0m\u001b[0;34m(\u001b[0m\u001b[0ms\u001b[0m\u001b[0;34m)\u001b[0m \u001b[0;32mis\u001b[0m \u001b[0;32mnot\u001b[0m \u001b[0mstr\u001b[0m\u001b[0;34m:\u001b[0m\u001b[0;34m\u001b[0m\u001b[0;34m\u001b[0m\u001b[0m\n\u001b[1;32m     47\u001b[0m             \u001b[0;31m# convert an str subclass instance to exact str\u001b[0m\u001b[0;34m\u001b[0m\u001b[0;34m\u001b[0m\u001b[0m\n",
      "\u001b[0;31mUnicodeDecodeError\u001b[0m: 'utf-8' codec can't decode byte 0x89 in position 0: invalid start byte"
     ]
    }
   ],
   "source": [
    "# plot correlation with target (first train, then validation)\n",
    "for df in [train_tf, val_tf]:\n",
    "    analyseData.plot_corr_matrix(df.iloc[:, 2:])"
   ]
  },
  {
   "cell_type": "code",
   "execution_count": 39,
   "id": "32b56632",
   "metadata": {},
   "outputs": [
    {
     "data": {
      "text/plain": [
       "<seaborn.axisgrid.PairGrid at 0x7f879be24580>"
      ]
     },
     "execution_count": 39,
     "metadata": {},
     "output_type": "execute_result"
    },
    {
     "ename": "UnicodeDecodeError",
     "evalue": "'utf-8' codec can't decode byte 0x89 in position 0: invalid start byte",
     "output_type": "error",
     "traceback": [
      "\u001b[0;31m---------------------------------------------------------------------------\u001b[0m",
      "\u001b[0;31mUnicodeDecodeError\u001b[0m                        Traceback (most recent call last)",
      "\u001b[0;32m/Library/Frameworks/Python.framework/Versions/3.9/lib/python3.9/site-packages/matplotlib_inline/backend_inline.py\u001b[0m in \u001b[0;36mshow\u001b[0;34m(close, block)\u001b[0m\n\u001b[1;32m     39\u001b[0m     \u001b[0;32mtry\u001b[0m\u001b[0;34m:\u001b[0m\u001b[0;34m\u001b[0m\u001b[0;34m\u001b[0m\u001b[0m\n\u001b[1;32m     40\u001b[0m         \u001b[0;32mfor\u001b[0m \u001b[0mfigure_manager\u001b[0m \u001b[0;32min\u001b[0m \u001b[0mGcf\u001b[0m\u001b[0;34m.\u001b[0m\u001b[0mget_all_fig_managers\u001b[0m\u001b[0;34m(\u001b[0m\u001b[0;34m)\u001b[0m\u001b[0;34m:\u001b[0m\u001b[0;34m\u001b[0m\u001b[0;34m\u001b[0m\u001b[0m\n\u001b[0;32m---> 41\u001b[0;31m             display(\n\u001b[0m\u001b[1;32m     42\u001b[0m                 \u001b[0mfigure_manager\u001b[0m\u001b[0;34m.\u001b[0m\u001b[0mcanvas\u001b[0m\u001b[0;34m.\u001b[0m\u001b[0mfigure\u001b[0m\u001b[0;34m,\u001b[0m\u001b[0;34m\u001b[0m\u001b[0;34m\u001b[0m\u001b[0m\n\u001b[1;32m     43\u001b[0m                 \u001b[0mmetadata\u001b[0m\u001b[0;34m=\u001b[0m\u001b[0m_fetch_figure_metadata\u001b[0m\u001b[0;34m(\u001b[0m\u001b[0mfigure_manager\u001b[0m\u001b[0;34m.\u001b[0m\u001b[0mcanvas\u001b[0m\u001b[0;34m.\u001b[0m\u001b[0mfigure\u001b[0m\u001b[0;34m)\u001b[0m\u001b[0;34m\u001b[0m\u001b[0;34m\u001b[0m\u001b[0m\n",
      "\u001b[0;32m/Library/Frameworks/Python.framework/Versions/3.9/lib/python3.9/site-packages/IPython/core/display.py\u001b[0m in \u001b[0;36mdisplay\u001b[0;34m(include, exclude, metadata, transient, display_id, *objs, **kwargs)\u001b[0m\n\u001b[1;32m    325\u001b[0m                 \u001b[0;31m# kwarg-specified metadata gets precedence\u001b[0m\u001b[0;34m\u001b[0m\u001b[0;34m\u001b[0m\u001b[0m\n\u001b[1;32m    326\u001b[0m                 \u001b[0m_merge\u001b[0m\u001b[0;34m(\u001b[0m\u001b[0mmd_dict\u001b[0m\u001b[0;34m,\u001b[0m \u001b[0mmetadata\u001b[0m\u001b[0;34m)\u001b[0m\u001b[0;34m\u001b[0m\u001b[0;34m\u001b[0m\u001b[0m\n\u001b[0;32m--> 327\u001b[0;31m             \u001b[0mpublish_display_data\u001b[0m\u001b[0;34m(\u001b[0m\u001b[0mdata\u001b[0m\u001b[0;34m=\u001b[0m\u001b[0mformat_dict\u001b[0m\u001b[0;34m,\u001b[0m \u001b[0mmetadata\u001b[0m\u001b[0;34m=\u001b[0m\u001b[0mmd_dict\u001b[0m\u001b[0;34m,\u001b[0m \u001b[0;34m**\u001b[0m\u001b[0mkwargs\u001b[0m\u001b[0;34m)\u001b[0m\u001b[0;34m\u001b[0m\u001b[0;34m\u001b[0m\u001b[0m\n\u001b[0m\u001b[1;32m    328\u001b[0m     \u001b[0;32mif\u001b[0m \u001b[0mdisplay_id\u001b[0m\u001b[0;34m:\u001b[0m\u001b[0;34m\u001b[0m\u001b[0;34m\u001b[0m\u001b[0m\n\u001b[1;32m    329\u001b[0m         \u001b[0;32mreturn\u001b[0m \u001b[0mDisplayHandle\u001b[0m\u001b[0;34m(\u001b[0m\u001b[0mdisplay_id\u001b[0m\u001b[0;34m)\u001b[0m\u001b[0;34m\u001b[0m\u001b[0;34m\u001b[0m\u001b[0m\n",
      "\u001b[0;32m/Library/Frameworks/Python.framework/Versions/3.9/lib/python3.9/site-packages/IPython/core/display.py\u001b[0m in \u001b[0;36mpublish_display_data\u001b[0;34m(data, metadata, source, transient, **kwargs)\u001b[0m\n\u001b[1;32m    117\u001b[0m         \u001b[0mkwargs\u001b[0m\u001b[0;34m[\u001b[0m\u001b[0;34m'transient'\u001b[0m\u001b[0;34m]\u001b[0m \u001b[0;34m=\u001b[0m \u001b[0mtransient\u001b[0m\u001b[0;34m\u001b[0m\u001b[0;34m\u001b[0m\u001b[0m\n\u001b[1;32m    118\u001b[0m \u001b[0;34m\u001b[0m\u001b[0m\n\u001b[0;32m--> 119\u001b[0;31m     display_pub.publish(\n\u001b[0m\u001b[1;32m    120\u001b[0m         \u001b[0mdata\u001b[0m\u001b[0;34m=\u001b[0m\u001b[0mdata\u001b[0m\u001b[0;34m,\u001b[0m\u001b[0;34m\u001b[0m\u001b[0;34m\u001b[0m\u001b[0m\n\u001b[1;32m    121\u001b[0m         \u001b[0mmetadata\u001b[0m\u001b[0;34m=\u001b[0m\u001b[0mmetadata\u001b[0m\u001b[0;34m,\u001b[0m\u001b[0;34m\u001b[0m\u001b[0;34m\u001b[0m\u001b[0m\n",
      "\u001b[0;32m/Library/Frameworks/Python.framework/Versions/3.9/lib/python3.9/site-packages/ipykernel/zmqshell.py\u001b[0m in \u001b[0;36mpublish\u001b[0;34m(self, data, metadata, transient, update)\u001b[0m\n\u001b[1;32m    136\u001b[0m                 \u001b[0;32mreturn\u001b[0m\u001b[0;34m\u001b[0m\u001b[0;34m\u001b[0m\u001b[0m\n\u001b[1;32m    137\u001b[0m \u001b[0;34m\u001b[0m\u001b[0m\n\u001b[0;32m--> 138\u001b[0;31m         self.session.send(\n\u001b[0m\u001b[1;32m    139\u001b[0m             \u001b[0mself\u001b[0m\u001b[0;34m.\u001b[0m\u001b[0mpub_socket\u001b[0m\u001b[0;34m,\u001b[0m \u001b[0mmsg\u001b[0m\u001b[0;34m,\u001b[0m \u001b[0mident\u001b[0m\u001b[0;34m=\u001b[0m\u001b[0mself\u001b[0m\u001b[0;34m.\u001b[0m\u001b[0mtopic\u001b[0m\u001b[0;34m,\u001b[0m\u001b[0;34m\u001b[0m\u001b[0;34m\u001b[0m\u001b[0m\n\u001b[1;32m    140\u001b[0m         )\n",
      "\u001b[0;32m/Library/Frameworks/Python.framework/Versions/3.9/lib/python3.9/site-packages/jupyter_client/session.py\u001b[0m in \u001b[0;36msend\u001b[0;34m(self, stream, msg_or_type, content, parent, ident, buffers, track, header, metadata)\u001b[0m\n\u001b[1;32m    828\u001b[0m         \u001b[0;32mif\u001b[0m \u001b[0mself\u001b[0m\u001b[0;34m.\u001b[0m\u001b[0madapt_version\u001b[0m\u001b[0;34m:\u001b[0m\u001b[0;34m\u001b[0m\u001b[0;34m\u001b[0m\u001b[0m\n\u001b[1;32m    829\u001b[0m             \u001b[0mmsg\u001b[0m \u001b[0;34m=\u001b[0m \u001b[0madapt\u001b[0m\u001b[0;34m(\u001b[0m\u001b[0mmsg\u001b[0m\u001b[0;34m,\u001b[0m \u001b[0mself\u001b[0m\u001b[0;34m.\u001b[0m\u001b[0madapt_version\u001b[0m\u001b[0;34m)\u001b[0m\u001b[0;34m\u001b[0m\u001b[0;34m\u001b[0m\u001b[0m\n\u001b[0;32m--> 830\u001b[0;31m         \u001b[0mto_send\u001b[0m \u001b[0;34m=\u001b[0m \u001b[0mself\u001b[0m\u001b[0;34m.\u001b[0m\u001b[0mserialize\u001b[0m\u001b[0;34m(\u001b[0m\u001b[0mmsg\u001b[0m\u001b[0;34m,\u001b[0m \u001b[0mident\u001b[0m\u001b[0;34m)\u001b[0m\u001b[0;34m\u001b[0m\u001b[0;34m\u001b[0m\u001b[0m\n\u001b[0m\u001b[1;32m    831\u001b[0m         \u001b[0mto_send\u001b[0m\u001b[0;34m.\u001b[0m\u001b[0mextend\u001b[0m\u001b[0;34m(\u001b[0m\u001b[0mbuffers\u001b[0m\u001b[0;34m)\u001b[0m\u001b[0;34m\u001b[0m\u001b[0;34m\u001b[0m\u001b[0m\n\u001b[1;32m    832\u001b[0m         \u001b[0mlongest\u001b[0m \u001b[0;34m=\u001b[0m \u001b[0mmax\u001b[0m\u001b[0;34m(\u001b[0m\u001b[0;34m[\u001b[0m\u001b[0mlen\u001b[0m\u001b[0;34m(\u001b[0m\u001b[0ms\u001b[0m\u001b[0;34m)\u001b[0m \u001b[0;32mfor\u001b[0m \u001b[0ms\u001b[0m \u001b[0;32min\u001b[0m \u001b[0mto_send\u001b[0m\u001b[0;34m]\u001b[0m\u001b[0;34m)\u001b[0m\u001b[0;34m\u001b[0m\u001b[0;34m\u001b[0m\u001b[0m\n",
      "\u001b[0;32m/Library/Frameworks/Python.framework/Versions/3.9/lib/python3.9/site-packages/jupyter_client/session.py\u001b[0m in \u001b[0;36mserialize\u001b[0;34m(self, msg, ident)\u001b[0m\n\u001b[1;32m    702\u001b[0m             \u001b[0mcontent\u001b[0m \u001b[0;34m=\u001b[0m \u001b[0mself\u001b[0m\u001b[0;34m.\u001b[0m\u001b[0mnone\u001b[0m\u001b[0;34m\u001b[0m\u001b[0;34m\u001b[0m\u001b[0m\n\u001b[1;32m    703\u001b[0m         \u001b[0;32melif\u001b[0m \u001b[0misinstance\u001b[0m\u001b[0;34m(\u001b[0m\u001b[0mcontent\u001b[0m\u001b[0;34m,\u001b[0m \u001b[0mdict\u001b[0m\u001b[0;34m)\u001b[0m\u001b[0;34m:\u001b[0m\u001b[0;34m\u001b[0m\u001b[0;34m\u001b[0m\u001b[0m\n\u001b[0;32m--> 704\u001b[0;31m             \u001b[0mcontent\u001b[0m \u001b[0;34m=\u001b[0m \u001b[0mself\u001b[0m\u001b[0;34m.\u001b[0m\u001b[0mpack\u001b[0m\u001b[0;34m(\u001b[0m\u001b[0mcontent\u001b[0m\u001b[0;34m)\u001b[0m\u001b[0;34m\u001b[0m\u001b[0;34m\u001b[0m\u001b[0m\n\u001b[0m\u001b[1;32m    705\u001b[0m         \u001b[0;32melif\u001b[0m \u001b[0misinstance\u001b[0m\u001b[0;34m(\u001b[0m\u001b[0mcontent\u001b[0m\u001b[0;34m,\u001b[0m \u001b[0mbytes\u001b[0m\u001b[0;34m)\u001b[0m\u001b[0;34m:\u001b[0m\u001b[0;34m\u001b[0m\u001b[0;34m\u001b[0m\u001b[0m\n\u001b[1;32m    706\u001b[0m             \u001b[0;31m# content is already packed, as in a relayed message\u001b[0m\u001b[0;34m\u001b[0m\u001b[0;34m\u001b[0m\u001b[0m\n",
      "\u001b[0;32m/Library/Frameworks/Python.framework/Versions/3.9/lib/python3.9/site-packages/jupyter_client/session.py\u001b[0m in \u001b[0;36mjson_packer\u001b[0;34m(obj)\u001b[0m\n\u001b[1;32m     93\u001b[0m \u001b[0;34m\u001b[0m\u001b[0m\n\u001b[1;32m     94\u001b[0m \u001b[0;32mdef\u001b[0m \u001b[0mjson_packer\u001b[0m\u001b[0;34m(\u001b[0m\u001b[0mobj\u001b[0m\u001b[0;34m)\u001b[0m\u001b[0;34m:\u001b[0m\u001b[0;34m\u001b[0m\u001b[0;34m\u001b[0m\u001b[0m\n\u001b[0;32m---> 95\u001b[0;31m     return jsonapi.dumps(\n\u001b[0m\u001b[1;32m     96\u001b[0m         \u001b[0mobj\u001b[0m\u001b[0;34m,\u001b[0m\u001b[0;34m\u001b[0m\u001b[0;34m\u001b[0m\u001b[0m\n\u001b[1;32m     97\u001b[0m         \u001b[0mdefault\u001b[0m\u001b[0;34m=\u001b[0m\u001b[0mjson_default\u001b[0m\u001b[0;34m,\u001b[0m\u001b[0;34m\u001b[0m\u001b[0;34m\u001b[0m\u001b[0m\n",
      "\u001b[0;32m~/Library/Python/3.9/lib/python/site-packages/zmq/utils/jsonapi.py\u001b[0m in \u001b[0;36mdumps\u001b[0;34m(o, **kwargs)\u001b[0m\n\u001b[1;32m     38\u001b[0m         \u001b[0mkwargs\u001b[0m\u001b[0;34m[\u001b[0m\u001b[0;34m'separators'\u001b[0m\u001b[0;34m]\u001b[0m \u001b[0;34m=\u001b[0m \u001b[0;34m(\u001b[0m\u001b[0;34m','\u001b[0m\u001b[0;34m,\u001b[0m \u001b[0;34m':'\u001b[0m\u001b[0;34m)\u001b[0m\u001b[0;34m\u001b[0m\u001b[0;34m\u001b[0m\u001b[0m\n\u001b[1;32m     39\u001b[0m \u001b[0;34m\u001b[0m\u001b[0m\n\u001b[0;32m---> 40\u001b[0;31m     \u001b[0ms\u001b[0m \u001b[0;34m=\u001b[0m \u001b[0mjsonmod\u001b[0m\u001b[0;34m.\u001b[0m\u001b[0mdumps\u001b[0m\u001b[0;34m(\u001b[0m\u001b[0mo\u001b[0m\u001b[0;34m,\u001b[0m \u001b[0;34m**\u001b[0m\u001b[0mkwargs\u001b[0m\u001b[0;34m)\u001b[0m\u001b[0;34m\u001b[0m\u001b[0;34m\u001b[0m\u001b[0m\n\u001b[0m\u001b[1;32m     41\u001b[0m \u001b[0;34m\u001b[0m\u001b[0m\n\u001b[1;32m     42\u001b[0m     \u001b[0;32mif\u001b[0m \u001b[0misinstance\u001b[0m\u001b[0;34m(\u001b[0m\u001b[0ms\u001b[0m\u001b[0;34m,\u001b[0m \u001b[0municode\u001b[0m\u001b[0;34m)\u001b[0m\u001b[0;34m:\u001b[0m\u001b[0;34m\u001b[0m\u001b[0;34m\u001b[0m\u001b[0m\n",
      "\u001b[0;32m~/Library/Python/3.9/lib/python/site-packages/simplejson/__init__.py\u001b[0m in \u001b[0;36mdumps\u001b[0;34m(obj, skipkeys, ensure_ascii, check_circular, allow_nan, cls, indent, separators, encoding, default, use_decimal, namedtuple_as_object, tuple_as_array, bigint_as_string, sort_keys, item_sort_key, for_json, ignore_nan, int_as_string_bitcount, iterable_as_array, **kw)\u001b[0m\n\u001b[1;32m    379\u001b[0m     \u001b[0;32mif\u001b[0m \u001b[0mcls\u001b[0m \u001b[0;32mis\u001b[0m \u001b[0;32mNone\u001b[0m\u001b[0;34m:\u001b[0m\u001b[0;34m\u001b[0m\u001b[0;34m\u001b[0m\u001b[0m\n\u001b[1;32m    380\u001b[0m         \u001b[0mcls\u001b[0m \u001b[0;34m=\u001b[0m \u001b[0mJSONEncoder\u001b[0m\u001b[0;34m\u001b[0m\u001b[0;34m\u001b[0m\u001b[0m\n\u001b[0;32m--> 381\u001b[0;31m     return cls(\n\u001b[0m\u001b[1;32m    382\u001b[0m         \u001b[0mskipkeys\u001b[0m\u001b[0;34m=\u001b[0m\u001b[0mskipkeys\u001b[0m\u001b[0;34m,\u001b[0m \u001b[0mensure_ascii\u001b[0m\u001b[0;34m=\u001b[0m\u001b[0mensure_ascii\u001b[0m\u001b[0;34m,\u001b[0m\u001b[0;34m\u001b[0m\u001b[0;34m\u001b[0m\u001b[0m\n\u001b[1;32m    383\u001b[0m         \u001b[0mcheck_circular\u001b[0m\u001b[0;34m=\u001b[0m\u001b[0mcheck_circular\u001b[0m\u001b[0;34m,\u001b[0m \u001b[0mallow_nan\u001b[0m\u001b[0;34m=\u001b[0m\u001b[0mallow_nan\u001b[0m\u001b[0;34m,\u001b[0m \u001b[0mindent\u001b[0m\u001b[0;34m=\u001b[0m\u001b[0mindent\u001b[0m\u001b[0;34m,\u001b[0m\u001b[0;34m\u001b[0m\u001b[0;34m\u001b[0m\u001b[0m\n",
      "\u001b[0;32m~/Library/Python/3.9/lib/python/site-packages/simplejson/encoder.py\u001b[0m in \u001b[0;36mencode\u001b[0;34m(self, o)\u001b[0m\n\u001b[1;32m    296\u001b[0m         \u001b[0;31m# exceptions aren't as detailed.  The list call should be roughly\u001b[0m\u001b[0;34m\u001b[0m\u001b[0;34m\u001b[0m\u001b[0m\n\u001b[1;32m    297\u001b[0m         \u001b[0;31m# equivalent to the PySequence_Fast that ''.join() would do.\u001b[0m\u001b[0;34m\u001b[0m\u001b[0;34m\u001b[0m\u001b[0m\n\u001b[0;32m--> 298\u001b[0;31m         \u001b[0mchunks\u001b[0m \u001b[0;34m=\u001b[0m \u001b[0mself\u001b[0m\u001b[0;34m.\u001b[0m\u001b[0miterencode\u001b[0m\u001b[0;34m(\u001b[0m\u001b[0mo\u001b[0m\u001b[0;34m)\u001b[0m\u001b[0;34m\u001b[0m\u001b[0;34m\u001b[0m\u001b[0m\n\u001b[0m\u001b[1;32m    299\u001b[0m         \u001b[0;32mif\u001b[0m \u001b[0;32mnot\u001b[0m \u001b[0misinstance\u001b[0m\u001b[0;34m(\u001b[0m\u001b[0mchunks\u001b[0m\u001b[0;34m,\u001b[0m \u001b[0;34m(\u001b[0m\u001b[0mlist\u001b[0m\u001b[0;34m,\u001b[0m \u001b[0mtuple\u001b[0m\u001b[0;34m)\u001b[0m\u001b[0;34m)\u001b[0m\u001b[0;34m:\u001b[0m\u001b[0;34m\u001b[0m\u001b[0;34m\u001b[0m\u001b[0m\n\u001b[1;32m    300\u001b[0m             \u001b[0mchunks\u001b[0m \u001b[0;34m=\u001b[0m \u001b[0mlist\u001b[0m\u001b[0;34m(\u001b[0m\u001b[0mchunks\u001b[0m\u001b[0;34m)\u001b[0m\u001b[0;34m\u001b[0m\u001b[0;34m\u001b[0m\u001b[0m\n",
      "\u001b[0;32m~/Library/Python/3.9/lib/python/site-packages/simplejson/encoder.py\u001b[0m in \u001b[0;36miterencode\u001b[0;34m(self, o)\u001b[0m\n\u001b[1;32m    377\u001b[0m                 self.iterable_as_array, Decimal=decimal.Decimal)\n\u001b[1;32m    378\u001b[0m         \u001b[0;32mtry\u001b[0m\u001b[0;34m:\u001b[0m\u001b[0;34m\u001b[0m\u001b[0;34m\u001b[0m\u001b[0m\n\u001b[0;32m--> 379\u001b[0;31m             \u001b[0;32mreturn\u001b[0m \u001b[0m_iterencode\u001b[0m\u001b[0;34m(\u001b[0m\u001b[0mo\u001b[0m\u001b[0;34m,\u001b[0m \u001b[0;36m0\u001b[0m\u001b[0;34m)\u001b[0m\u001b[0;34m\u001b[0m\u001b[0;34m\u001b[0m\u001b[0m\n\u001b[0m\u001b[1;32m    380\u001b[0m         \u001b[0;32mfinally\u001b[0m\u001b[0;34m:\u001b[0m\u001b[0;34m\u001b[0m\u001b[0;34m\u001b[0m\u001b[0m\n\u001b[1;32m    381\u001b[0m             \u001b[0mkey_memo\u001b[0m\u001b[0;34m.\u001b[0m\u001b[0mclear\u001b[0m\u001b[0;34m(\u001b[0m\u001b[0;34m)\u001b[0m\u001b[0;34m\u001b[0m\u001b[0;34m\u001b[0m\u001b[0m\n",
      "\u001b[0;32m~/Library/Python/3.9/lib/python/site-packages/simplejson/encoder.py\u001b[0m in \u001b[0;36mencode_basestring\u001b[0;34m(s, _PY3, _q)\u001b[0m\n\u001b[1;32m     43\u001b[0m     \u001b[0;32mif\u001b[0m \u001b[0m_PY3\u001b[0m\u001b[0;34m:\u001b[0m\u001b[0;34m\u001b[0m\u001b[0;34m\u001b[0m\u001b[0m\n\u001b[1;32m     44\u001b[0m         \u001b[0;32mif\u001b[0m \u001b[0misinstance\u001b[0m\u001b[0;34m(\u001b[0m\u001b[0ms\u001b[0m\u001b[0;34m,\u001b[0m \u001b[0mbytes\u001b[0m\u001b[0;34m)\u001b[0m\u001b[0;34m:\u001b[0m\u001b[0;34m\u001b[0m\u001b[0;34m\u001b[0m\u001b[0m\n\u001b[0;32m---> 45\u001b[0;31m             \u001b[0ms\u001b[0m \u001b[0;34m=\u001b[0m \u001b[0mstr\u001b[0m\u001b[0;34m(\u001b[0m\u001b[0ms\u001b[0m\u001b[0;34m,\u001b[0m \u001b[0;34m'utf-8'\u001b[0m\u001b[0;34m)\u001b[0m\u001b[0;34m\u001b[0m\u001b[0;34m\u001b[0m\u001b[0m\n\u001b[0m\u001b[1;32m     46\u001b[0m         \u001b[0;32melif\u001b[0m \u001b[0mtype\u001b[0m\u001b[0;34m(\u001b[0m\u001b[0ms\u001b[0m\u001b[0;34m)\u001b[0m \u001b[0;32mis\u001b[0m \u001b[0;32mnot\u001b[0m \u001b[0mstr\u001b[0m\u001b[0;34m:\u001b[0m\u001b[0;34m\u001b[0m\u001b[0;34m\u001b[0m\u001b[0m\n\u001b[1;32m     47\u001b[0m             \u001b[0;31m# convert an str subclass instance to exact str\u001b[0m\u001b[0;34m\u001b[0m\u001b[0;34m\u001b[0m\u001b[0m\n",
      "\u001b[0;31mUnicodeDecodeError\u001b[0m: 'utf-8' codec can't decode byte 0x89 in position 0: invalid start byte"
     ]
    }
   ],
   "source": [
    "sns.pairplot(val_tf[[\"sim\", \"y\"]], hue = \"y\")"
   ]
  },
  {
   "attachments": {},
   "cell_type": "markdown",
   "id": "22c80136",
   "metadata": {},
   "source": [
    "### 3. Supervised Link Prediction"
   ]
  },
  {
   "cell_type": "code",
   "execution_count": 22,
   "id": "cc97d3be",
   "metadata": {},
   "outputs": [
    {
     "data": {
      "text/plain": [
       "1"
      ]
     },
     "execution_count": 22,
     "metadata": {},
     "output_type": "execute_result"
    }
   ],
   "source": [
    "# prepare datasets for supervised methods, removing features highly correlated with target in train set but not in val set\n",
    "cols = ['source_DCT', 'target_DCT', 'BCT_diff', 'katz_idx', 'node2vec_1', 'node2vec_2', 'node2vec_3', 'node2vec_4',\n",
    "       'friendLink', 'PR1', 'PR2', 'sim', 'dist']\n",
    "X_trainval_sv  =  X_trainval[[col for col in X_trainval.columns  if col in cols]]\n",
    "X_train_sv  =  X_train[[col for col in X_train.columns  if col in cols]]\n",
    "X_val_sv  =  X_val[[col for col in X_val.columns  if col in cols]]\n",
    "X_test_sv  =  X_test[[col for col in X_test.columns  if col in cols]]\n",
    "\n",
    "# preparing predifined cv split for sklearn\n",
    "val_fold = [0 if i in X_val_sv.index else -1 for i in X_trainval_sv.index]\n",
    "ps = PredefinedSplit(val_fold)\n",
    "ps.get_n_splits()"
   ]
  },
  {
   "cell_type": "code",
   "execution_count": 23,
   "id": "67a324ae",
   "metadata": {},
   "outputs": [
    {
     "name": "stdout",
     "output_type": "stream",
     "text": [
      "9774\n",
      "9774\n"
     ]
    }
   ],
   "source": [
    "print(len(X_trainval_sv))\n",
    "print(len(y_trainval))"
   ]
  },
  {
   "attachments": {},
   "cell_type": "markdown",
   "id": "0f4659df",
   "metadata": {},
   "source": [
    "##### a) Logistic Regression"
   ]
  },
  {
   "cell_type": "code",
   "execution_count": 24,
   "id": "b5480576",
   "metadata": {},
   "outputs": [
    {
     "name": "stdout",
     "output_type": "stream",
     "text": [
      "Acc train: 0.9288929813791692\n",
      "Acc val: 0.8622119815668203\n",
      "Acc test: 0.8560885608856088\n"
     ]
    }
   ],
   "source": [
    "# logistic regression\n",
    "\n",
    "clf = LogisticRegressionCV(max_iter = 10000, cv = ps)\n",
    "clf.fit(X_trainval_sv, y_trainval)\n",
    "\n",
    "# predict val\n",
    "y_trainval_hat = clf.predict(X_trainval_sv)\n",
    "# compute accuracy\n",
    "acc_trainval = accuracy_score(y_trainval, y_trainval_hat)\n",
    "\n",
    "# predict val\n",
    "y_val_hat = clf.predict(X_val_sv)\n",
    "y_test_hat = clf.predict(X_test_sv)\n",
    "# compute accuracy\n",
    "acc_val = accuracy_score(y_val, y_val_hat)\n",
    "acc_test = accuracy_score(y_test, y_test_hat)\n",
    "# print performance\n",
    "print(f\"Acc train: {acc_trainval}\")\n",
    "print(f\"Acc val: {acc_val}\")\n",
    "print(f\"Acc test: {acc_test}\")"
   ]
  },
  {
   "cell_type": "code",
   "execution_count": 28,
   "id": "b04da079",
   "metadata": {},
   "outputs": [
    {
     "data": {
      "text/plain": [
       "Predicted\n",
       "0            596\n",
       "1            488\n",
       "dtype: int64"
      ]
     },
     "execution_count": 28,
     "metadata": {},
     "output_type": "execute_result"
    }
   ],
   "source": [
    "# predict test\n",
    "y_test_hat = clf.predict(X_test_sv)\n",
    "\n",
    "# save test predictions\n",
    "save_test = modeling.save_test_preds(test_tf[['source', 'target']], test_tf, y_test_hat)\n",
    "save_test.value_counts()"
   ]
  },
  {
   "attachments": {},
   "cell_type": "markdown",
   "id": "7b1f6677",
   "metadata": {},
   "source": [
    "##### b) Random Forest & XGBoost"
   ]
  },
  {
   "cell_type": "code",
   "execution_count": 29,
   "id": "d69a7442",
   "metadata": {},
   "outputs": [],
   "source": [
    "# search spaces\n",
    "rdForest_params = {\n",
    "                \"n_estimators\": tune.randint(2, 10),\n",
    "                \"max_depth\": tune.randint(1, 3),\n",
    "                \"min_samples_split\": tune.choice([2, 5, 10]),\n",
    "                \"min_samples_leaf\": tune.choice([1, 2, 3, 4]),\n",
    "                \"max_features\": tune.uniform(0.2, 1),\n",
    "                \"bootstrap\": tune.choice([True, False])\n",
    "            }\n",
    "\n",
    "XGBoost_params = {\n",
    "                \"n_estimators\": tune.randint(2, 10),\n",
    "                \"max_depth\": tune.randint(1, 3),\n",
    "                \"min_child_weight\": tune.uniform(1, 10),\n",
    "                \"colsample_bytree\": tune.uniform(0.5, 1),\n",
    "                \"subsample\": tune.uniform(0.2, 1),\n",
    "                \"eta\": tune.loguniform(1e-4, 1e-1)\n",
    "            }\n",
    "\n",
    "# loading models\n",
    "rdForest_mdl = RandomForestClassifier()\n",
    "XGBoost_mdl = XGBClassifier()"
   ]
  },
  {
   "cell_type": "code",
   "execution_count": 30,
   "id": "5f82285a",
   "metadata": {},
   "outputs": [
    {
     "data": {
      "text/html": [
       "<div class=\"tuneStatus\">\n",
       "  <div style=\"display: flex;flex-direction: row\">\n",
       "    <div style=\"display: flex;flex-direction: column;\">\n",
       "      <h3>Tune Status</h3>\n",
       "      <table>\n",
       "<tbody>\n",
       "<tr><td>Current time:</td><td>2023-04-23 12:48:18</td></tr>\n",
       "<tr><td>Running for: </td><td>00:00:06.90        </td></tr>\n",
       "<tr><td>Memory:      </td><td>14.8/16.0 GiB      </td></tr>\n",
       "</tbody>\n",
       "</table>\n",
       "    </div>\n",
       "    <div class=\"vDivider\"></div>\n",
       "    <div class=\"systemInfo\">\n",
       "      <h3>System Info</h3>\n",
       "      Using FIFO scheduling algorithm.<br>Resources requested: 0/8 CPUs, 0/0 GPUs, 0.0/10.88 GiB heap, 0.0/2.0 GiB objects\n",
       "    </div>\n",
       "    <div class=\"vDivider\"></div>\n",
       "<div class=\"messages\">\n",
       "  <h3>Messages</h3>\n",
       "  : ***LOW MEMORY*** less than 10% of the memory on this node is available for use. This can cause unexpected crashes. Consider reducing the memory used by your application or reducing the Ray object store size by setting `object_store_memory` when calling `ray.init`.\n",
       "  \n",
       "  \n",
       "</div>\n",
       "<style>\n",
       ".messages {\n",
       "  color: var(--jp-ui-font-color1);\n",
       "  display: flex;\n",
       "  flex-direction: column;\n",
       "  padding-left: 1em;\n",
       "  overflow-y: auto;\n",
       "}\n",
       ".messages h3 {\n",
       "  font-weight: bold;\n",
       "}\n",
       ".vDivider {\n",
       "  border-left-width: var(--jp-border-width);\n",
       "  border-left-color: var(--jp-border-color0);\n",
       "  border-left-style: solid;\n",
       "  margin: 0.5em 1em 0.5em 1em;\n",
       "}\n",
       "</style>\n",
       "\n",
       "  </div>\n",
       "  <div class=\"hDivider\"></div>\n",
       "  <div class=\"trialStatus\">\n",
       "    <h3>Trial Status</h3>\n",
       "    <table>\n",
       "<thead>\n",
       "<tr><th>Trial name         </th><th>status    </th><th>loc            </th><th>bootstrap  </th><th>cv                  </th><th>early_stop_type     </th><th>early_stopping  </th><th>groups  </th><th style=\"text-align: right;\">  max_depth</th><th style=\"text-align: right;\">  max_features</th><th style=\"text-align: right;\">  max_iters</th><th>metric_name       </th><th style=\"text-align: right;\">  min_samples_leaf</th><th style=\"text-align: right;\">  min_samples_split</th><th style=\"text-align: right;\">  n_estimators</th><th style=\"text-align: right;\">  n_jobs</th><th>return_train_score  </th><th>scoring/score       </th><th style=\"text-align: right;\">  iter</th><th style=\"text-align: right;\">  total time (s)</th><th style=\"text-align: right;\">  split0_test_score</th><th style=\"text-align: right;\">  average_test_score</th><th style=\"text-align: right;\">  split0_train_score</th></tr>\n",
       "</thead>\n",
       "<tbody>\n",
       "<tr><td>_Trainable_17b85452</td><td>TERMINATED</td><td>127.0.0.1:14253</td><td>False      </td><td>PredefinedSplit_6bb0</td><td>EarlyStopping.N_88e0</td><td>False           </td><td>        </td><td style=\"text-align: right;\">          1</td><td style=\"text-align: right;\">      0.652533</td><td style=\"text-align: right;\">          1</td><td>average_test_score</td><td style=\"text-align: right;\">                 2</td><td style=\"text-align: right;\">                  5</td><td style=\"text-align: right;\">             6</td><td style=\"text-align: right;\">       1</td><td>True                </td><td>make_scorer(acc_60a0</td><td style=\"text-align: right;\">     1</td><td style=\"text-align: right;\">       0.0474529</td><td style=\"text-align: right;\">           0.837788</td><td style=\"text-align: right;\">            0.837788</td><td style=\"text-align: right;\">            0.951604</td></tr>\n",
       "<tr><td>_Trainable_1a2073c0</td><td>TERMINATED</td><td>127.0.0.1:14264</td><td>False      </td><td>PredefinedSplit_1550</td><td>EarlyStopping.N_88e0</td><td>False           </td><td>        </td><td style=\"text-align: right;\">          1</td><td style=\"text-align: right;\">      0.242124</td><td style=\"text-align: right;\">          1</td><td>average_test_score</td><td style=\"text-align: right;\">                 3</td><td style=\"text-align: right;\">                 10</td><td style=\"text-align: right;\">             5</td><td style=\"text-align: right;\">       1</td><td>True                </td><td>make_scorer(acc_1f70</td><td style=\"text-align: right;\">     1</td><td style=\"text-align: right;\">       0.028239 </td><td style=\"text-align: right;\">           0.770968</td><td style=\"text-align: right;\">            0.770968</td><td style=\"text-align: right;\">            0.856128</td></tr>\n",
       "<tr><td>_Trainable_79fafcee</td><td>TERMINATED</td><td>127.0.0.1:14265</td><td>True       </td><td>PredefinedSplit_17c0</td><td>EarlyStopping.N_88e0</td><td>False           </td><td>        </td><td style=\"text-align: right;\">          2</td><td style=\"text-align: right;\">      0.453867</td><td style=\"text-align: right;\">          1</td><td>average_test_score</td><td style=\"text-align: right;\">                 1</td><td style=\"text-align: right;\">                 10</td><td style=\"text-align: right;\">             2</td><td style=\"text-align: right;\">       1</td><td>True                </td><td>make_scorer(acc_1280</td><td style=\"text-align: right;\">     1</td><td style=\"text-align: right;\">       0.080364 </td><td style=\"text-align: right;\">           0.872811</td><td style=\"text-align: right;\">            0.872811</td><td style=\"text-align: right;\">            0.966991</td></tr>\n",
       "<tr><td>_Trainable_e555cf5e</td><td>TERMINATED</td><td>127.0.0.1:14253</td><td>True       </td><td>PredefinedSplit_14c0</td><td>EarlyStopping.N_88e0</td><td>False           </td><td>        </td><td style=\"text-align: right;\">          1</td><td style=\"text-align: right;\">      0.393491</td><td style=\"text-align: right;\">          1</td><td>average_test_score</td><td style=\"text-align: right;\">                 4</td><td style=\"text-align: right;\">                 10</td><td style=\"text-align: right;\">             3</td><td style=\"text-align: right;\">       1</td><td>True                </td><td>make_scorer(acc_1b20</td><td style=\"text-align: right;\">     1</td><td style=\"text-align: right;\">       0.019366 </td><td style=\"text-align: right;\">           0.849309</td><td style=\"text-align: right;\">            0.849309</td><td style=\"text-align: right;\">            0.950552</td></tr>\n",
       "<tr><td>_Trainable_7875056d</td><td>TERMINATED</td><td>127.0.0.1:14266</td><td>False      </td><td>PredefinedSplit_7040</td><td>EarlyStopping.N_88e0</td><td>False           </td><td>        </td><td style=\"text-align: right;\">          1</td><td style=\"text-align: right;\">      0.221702</td><td style=\"text-align: right;\">          1</td><td>average_test_score</td><td style=\"text-align: right;\">                 4</td><td style=\"text-align: right;\">                  5</td><td style=\"text-align: right;\">             7</td><td style=\"text-align: right;\">       1</td><td>True                </td><td>make_scorer(acc_7700</td><td style=\"text-align: right;\">     1</td><td style=\"text-align: right;\">       0.047282 </td><td style=\"text-align: right;\">           0.820737</td><td style=\"text-align: right;\">            0.820737</td><td style=\"text-align: right;\">            0.841268</td></tr>\n",
       "<tr><td>_Trainable_7c1a81bc</td><td>TERMINATED</td><td>127.0.0.1:14253</td><td>True       </td><td>PredefinedSplit_5d00</td><td>EarlyStopping.N_88e0</td><td>False           </td><td>        </td><td style=\"text-align: right;\">          1</td><td style=\"text-align: right;\">      0.915287</td><td style=\"text-align: right;\">          1</td><td>average_test_score</td><td style=\"text-align: right;\">                 4</td><td style=\"text-align: right;\">                  5</td><td style=\"text-align: right;\">             4</td><td style=\"text-align: right;\">       1</td><td>True                </td><td>make_scorer(acc_c2e0</td><td style=\"text-align: right;\">     1</td><td style=\"text-align: right;\">       0.0302317</td><td style=\"text-align: right;\">           0.837788</td><td style=\"text-align: right;\">            0.837788</td><td style=\"text-align: right;\">            0.951604</td></tr>\n",
       "<tr><td>_Trainable_51fe831d</td><td>TERMINATED</td><td>127.0.0.1:14267</td><td>True       </td><td>PredefinedSplit_4f10</td><td>EarlyStopping.N_88e0</td><td>False           </td><td>        </td><td style=\"text-align: right;\">          1</td><td style=\"text-align: right;\">      0.310439</td><td style=\"text-align: right;\">          1</td><td>average_test_score</td><td style=\"text-align: right;\">                 4</td><td style=\"text-align: right;\">                  5</td><td style=\"text-align: right;\">             3</td><td style=\"text-align: right;\">       1</td><td>True                </td><td>make_scorer(acc_4e80</td><td style=\"text-align: right;\">     1</td><td style=\"text-align: right;\">       0.0222261</td><td style=\"text-align: right;\">           0.839631</td><td style=\"text-align: right;\">            0.839631</td><td style=\"text-align: right;\">            0.957522</td></tr>\n",
       "<tr><td>_Trainable_dd9ad69e</td><td>TERMINATED</td><td>127.0.0.1:14253</td><td>False      </td><td>PredefinedSplit_f100</td><td>EarlyStopping.N_88e0</td><td>False           </td><td>        </td><td style=\"text-align: right;\">          1</td><td style=\"text-align: right;\">      0.363102</td><td style=\"text-align: right;\">          1</td><td>average_test_score</td><td style=\"text-align: right;\">                 1</td><td style=\"text-align: right;\">                  2</td><td style=\"text-align: right;\">             7</td><td style=\"text-align: right;\">       1</td><td>True                </td><td>make_scorer(acc_4d60</td><td style=\"text-align: right;\">     1</td><td style=\"text-align: right;\">       0.033664 </td><td style=\"text-align: right;\">           0.837788</td><td style=\"text-align: right;\">            0.837788</td><td style=\"text-align: right;\">            0.951604</td></tr>\n",
       "<tr><td>_Trainable_57149d82</td><td>TERMINATED</td><td>127.0.0.1:14268</td><td>False      </td><td>PredefinedSplit_9dc0</td><td>EarlyStopping.N_88e0</td><td>False           </td><td>        </td><td style=\"text-align: right;\">          1</td><td style=\"text-align: right;\">      0.428941</td><td style=\"text-align: right;\">          1</td><td>average_test_score</td><td style=\"text-align: right;\">                 2</td><td style=\"text-align: right;\">                 10</td><td style=\"text-align: right;\">             4</td><td style=\"text-align: right;\">       1</td><td>True                </td><td>make_scorer(acc_9400</td><td style=\"text-align: right;\">     1</td><td style=\"text-align: right;\">       0.026669 </td><td style=\"text-align: right;\">           0.727189</td><td style=\"text-align: right;\">            0.727189</td><td style=\"text-align: right;\">            0.725276</td></tr>\n",
       "<tr><td>_Trainable_378aaffe</td><td>TERMINATED</td><td>127.0.0.1:14253</td><td>False      </td><td>PredefinedSplit_a520</td><td>EarlyStopping.N_88e0</td><td>False           </td><td>        </td><td style=\"text-align: right;\">          2</td><td style=\"text-align: right;\">      0.651058</td><td style=\"text-align: right;\">          1</td><td>average_test_score</td><td style=\"text-align: right;\">                 1</td><td style=\"text-align: right;\">                  2</td><td style=\"text-align: right;\">             6</td><td style=\"text-align: right;\">       1</td><td>True                </td><td>make_scorer(acc_a2b0</td><td style=\"text-align: right;\">     1</td><td style=\"text-align: right;\">       0.0708702</td><td style=\"text-align: right;\">           0.948848</td><td style=\"text-align: right;\">            0.948848</td><td style=\"text-align: right;\">            0.967386</td></tr>\n",
       "<tr><td>_Trainable_a8d27822</td><td>TERMINATED</td><td>127.0.0.1:14269</td><td>True       </td><td>PredefinedSplit_fd00</td><td>EarlyStopping.N_88e0</td><td>False           </td><td>        </td><td style=\"text-align: right;\">          2</td><td style=\"text-align: right;\">      0.415633</td><td style=\"text-align: right;\">          1</td><td>average_test_score</td><td style=\"text-align: right;\">                 3</td><td style=\"text-align: right;\">                 10</td><td style=\"text-align: right;\">             9</td><td style=\"text-align: right;\">       1</td><td>True                </td><td>make_scorer(acc_f670</td><td style=\"text-align: right;\">     1</td><td style=\"text-align: right;\">       0.0583427</td><td style=\"text-align: right;\">           0.9447  </td><td style=\"text-align: right;\">            0.9447  </td><td style=\"text-align: right;\">            0.964492</td></tr>\n",
       "<tr><td>_Trainable_30a77719</td><td>TERMINATED</td><td>127.0.0.1:14270</td><td>True       </td><td>PredefinedSplit_f3d0</td><td>EarlyStopping.N_88e0</td><td>False           </td><td>        </td><td style=\"text-align: right;\">          2</td><td style=\"text-align: right;\">      0.234752</td><td style=\"text-align: right;\">          1</td><td>average_test_score</td><td style=\"text-align: right;\">                 2</td><td style=\"text-align: right;\">                  5</td><td style=\"text-align: right;\">             8</td><td style=\"text-align: right;\">       1</td><td>True                </td><td>make_scorer(acc_f4c0</td><td style=\"text-align: right;\">     1</td><td style=\"text-align: right;\">       0.0419879</td><td style=\"text-align: right;\">           0.894931</td><td style=\"text-align: right;\">            0.894931</td><td style=\"text-align: right;\">            0.952788</td></tr>\n",
       "<tr><td>_Trainable_0b10d61c</td><td>TERMINATED</td><td>127.0.0.1:14253</td><td>True       </td><td>PredefinedSplit_d2e0</td><td>EarlyStopping.N_88e0</td><td>False           </td><td>        </td><td style=\"text-align: right;\">          1</td><td style=\"text-align: right;\">      0.403116</td><td style=\"text-align: right;\">          1</td><td>average_test_score</td><td style=\"text-align: right;\">                 3</td><td style=\"text-align: right;\">                  5</td><td style=\"text-align: right;\">             3</td><td style=\"text-align: right;\">       1</td><td>True                </td><td>make_scorer(acc_d4f0</td><td style=\"text-align: right;\">     1</td><td style=\"text-align: right;\">       0.0229592</td><td style=\"text-align: right;\">           0.70553 </td><td style=\"text-align: right;\">            0.70553 </td><td style=\"text-align: right;\">            0.721725</td></tr>\n",
       "<tr><td>_Trainable_19dc6511</td><td>TERMINATED</td><td>127.0.0.1:14253</td><td>True       </td><td>PredefinedSplit_fd30</td><td>EarlyStopping.N_88e0</td><td>False           </td><td>        </td><td style=\"text-align: right;\">          1</td><td style=\"text-align: right;\">      0.338155</td><td style=\"text-align: right;\">          1</td><td>average_test_score</td><td style=\"text-align: right;\">                 3</td><td style=\"text-align: right;\">                 10</td><td style=\"text-align: right;\">             4</td><td style=\"text-align: right;\">       1</td><td>True                </td><td>make_scorer(acc_f8e0</td><td style=\"text-align: right;\">     1</td><td style=\"text-align: right;\">       0.089606 </td><td style=\"text-align: right;\">           0.830876</td><td style=\"text-align: right;\">            0.830876</td><td style=\"text-align: right;\">            0.939111</td></tr>\n",
       "<tr><td>_Trainable_49ed6ff4</td><td>TERMINATED</td><td>127.0.0.1:14253</td><td>False      </td><td>PredefinedSplit_bdf0</td><td>EarlyStopping.N_88e0</td><td>False           </td><td>        </td><td style=\"text-align: right;\">          1</td><td style=\"text-align: right;\">      0.488041</td><td style=\"text-align: right;\">          1</td><td>average_test_score</td><td style=\"text-align: right;\">                 3</td><td style=\"text-align: right;\">                  5</td><td style=\"text-align: right;\">             3</td><td style=\"text-align: right;\">       1</td><td>True                </td><td>make_scorer(acc_b5e0</td><td style=\"text-align: right;\">     1</td><td style=\"text-align: right;\">       0.047277 </td><td style=\"text-align: right;\">           0.833641</td><td style=\"text-align: right;\">            0.833641</td><td style=\"text-align: right;\">            0.950421</td></tr>\n",
       "<tr><td>_Trainable_55c9ca08</td><td>TERMINATED</td><td>127.0.0.1:14253</td><td>True       </td><td>PredefinedSplit_9b80</td><td>EarlyStopping.N_88e0</td><td>False           </td><td>        </td><td style=\"text-align: right;\">          1</td><td style=\"text-align: right;\">      0.289658</td><td style=\"text-align: right;\">          1</td><td>average_test_score</td><td style=\"text-align: right;\">                 1</td><td style=\"text-align: right;\">                  5</td><td style=\"text-align: right;\">             8</td><td style=\"text-align: right;\">       1</td><td>True                </td><td>make_scorer(acc_99a0</td><td style=\"text-align: right;\">     1</td><td style=\"text-align: right;\">       0.0717471</td><td style=\"text-align: right;\">           0.839171</td><td style=\"text-align: right;\">            0.839171</td><td style=\"text-align: right;\">            0.953577</td></tr>\n",
       "<tr><td>_Trainable_1cd965cd</td><td>TERMINATED</td><td>127.0.0.1:14253</td><td>True       </td><td>PredefinedSplit_9040</td><td>EarlyStopping.N_88e0</td><td>False           </td><td>        </td><td style=\"text-align: right;\">          2</td><td style=\"text-align: right;\">      0.634945</td><td style=\"text-align: right;\">          1</td><td>average_test_score</td><td style=\"text-align: right;\">                 3</td><td style=\"text-align: right;\">                 10</td><td style=\"text-align: right;\">             8</td><td style=\"text-align: right;\">       1</td><td>True                </td><td>make_scorer(acc_6400</td><td style=\"text-align: right;\">     1</td><td style=\"text-align: right;\">       0.0863879</td><td style=\"text-align: right;\">           0.837788</td><td style=\"text-align: right;\">            0.837788</td><td style=\"text-align: right;\">            0.956865</td></tr>\n",
       "<tr><td>_Trainable_97ac7759</td><td>TERMINATED</td><td>127.0.0.1:14253</td><td>True       </td><td>PredefinedSplit_6940</td><td>EarlyStopping.N_88e0</td><td>False           </td><td>        </td><td style=\"text-align: right;\">          1</td><td style=\"text-align: right;\">      0.813282</td><td style=\"text-align: right;\">          1</td><td>average_test_score</td><td style=\"text-align: right;\">                 3</td><td style=\"text-align: right;\">                 10</td><td style=\"text-align: right;\">             9</td><td style=\"text-align: right;\">       1</td><td>True                </td><td>make_scorer(acc_67c0</td><td style=\"text-align: right;\">     1</td><td style=\"text-align: right;\">       0.0988548</td><td style=\"text-align: right;\">           0.841475</td><td style=\"text-align: right;\">            0.841475</td><td style=\"text-align: right;\">            0.951473</td></tr>\n",
       "<tr><td>_Trainable_f9010445</td><td>TERMINATED</td><td>127.0.0.1:14253</td><td>False      </td><td>PredefinedSplit_dc10</td><td>EarlyStopping.N_88e0</td><td>False           </td><td>        </td><td style=\"text-align: right;\">          1</td><td style=\"text-align: right;\">      0.642569</td><td style=\"text-align: right;\">          1</td><td>average_test_score</td><td style=\"text-align: right;\">                 2</td><td style=\"text-align: right;\">                  5</td><td style=\"text-align: right;\">             4</td><td style=\"text-align: right;\">       1</td><td>True                </td><td>make_scorer(acc_d910</td><td style=\"text-align: right;\">     1</td><td style=\"text-align: right;\">       0.0605991</td><td style=\"text-align: right;\">           0.939631</td><td style=\"text-align: right;\">            0.939631</td><td style=\"text-align: right;\">            0.960547</td></tr>\n",
       "<tr><td>_Trainable_c94f96c0</td><td>TERMINATED</td><td>127.0.0.1:14253</td><td>False      </td><td>PredefinedSplit_1c70</td><td>EarlyStopping.N_88e0</td><td>False           </td><td>        </td><td style=\"text-align: right;\">          1</td><td style=\"text-align: right;\">      0.310537</td><td style=\"text-align: right;\">          1</td><td>average_test_score</td><td style=\"text-align: right;\">                 4</td><td style=\"text-align: right;\">                  2</td><td style=\"text-align: right;\">             6</td><td style=\"text-align: right;\">       1</td><td>True                </td><td>make_scorer(acc_1a60</td><td style=\"text-align: right;\">     1</td><td style=\"text-align: right;\">       0.0302467</td><td style=\"text-align: right;\">           0.93871 </td><td style=\"text-align: right;\">            0.93871 </td><td style=\"text-align: right;\">            0.967517</td></tr>\n",
       "</tbody>\n",
       "</table>\n",
       "  </div>\n",
       "</div>\n",
       "<style>\n",
       ".tuneStatus {\n",
       "  color: var(--jp-ui-font-color1);\n",
       "}\n",
       ".tuneStatus .systemInfo {\n",
       "  display: flex;\n",
       "  flex-direction: column;\n",
       "}\n",
       ".tuneStatus td {\n",
       "  white-space: nowrap;\n",
       "}\n",
       ".tuneStatus .trialStatus {\n",
       "  display: flex;\n",
       "  flex-direction: column;\n",
       "}\n",
       ".tuneStatus h3 {\n",
       "  font-weight: bold;\n",
       "}\n",
       ".tuneStatus .hDivider {\n",
       "  border-bottom-width: var(--jp-border-width);\n",
       "  border-bottom-color: var(--jp-border-color0);\n",
       "  border-bottom-style: solid;\n",
       "}\n",
       ".tuneStatus .vDivider {\n",
       "  border-left-width: var(--jp-border-width);\n",
       "  border-left-color: var(--jp-border-color0);\n",
       "  border-left-style: solid;\n",
       "  margin: 0.5em 1em 0.5em 1em;\n",
       "}\n",
       "</style>\n"
      ],
      "text/plain": [
       "<IPython.core.display.HTML object>"
      ]
     },
     "metadata": {},
     "output_type": "display_data"
    },
    {
     "name": "stderr",
     "output_type": "stream",
     "text": [
      "2023-04-23 12:48:14,377\tINFO tensorboardx.py:267 -- Removed the following hyperparameter values when logging to tensorboard: {'cv': PredefinedSplit(test_fold=array([-1, -1, ...,  0,  0])), 'early_stop_type': <EarlyStopping.NO_EARLY_STOP: 7>, 'scoring/score': make_scorer(accuracy_score)}\n",
      "2023-04-23 12:48:14,425\tINFO tensorboardx.py:267 -- Removed the following hyperparameter values when logging to tensorboard: {'cv': PredefinedSplit(test_fold=array([-1, -1, ...,  0,  0])), 'early_stop_type': <EarlyStopping.NO_EARLY_STOP: 7>, 'scoring/score': make_scorer(accuracy_score)}\n",
      "2023-04-23 12:48:14,472\tINFO tensorboardx.py:267 -- Removed the following hyperparameter values when logging to tensorboard: {'cv': PredefinedSplit(test_fold=array([-1, -1, ...,  0,  0])), 'early_stop_type': <EarlyStopping.NO_EARLY_STOP: 7>, 'scoring/score': make_scorer(accuracy_score)}\n",
      "2023-04-23 12:48:14,529\tINFO tensorboardx.py:267 -- Removed the following hyperparameter values when logging to tensorboard: {'cv': PredefinedSplit(test_fold=array([-1, -1, ...,  0,  0])), 'early_stop_type': <EarlyStopping.NO_EARLY_STOP: 7>, 'scoring/score': make_scorer(accuracy_score)}\n",
      "2023-04-23 12:48:14,633\tINFO tensorboardx.py:267 -- Removed the following hyperparameter values when logging to tensorboard: {'cv': PredefinedSplit(test_fold=array([-1, -1, ...,  0,  0])), 'early_stop_type': <EarlyStopping.NO_EARLY_STOP: 7>, 'scoring/score': make_scorer(accuracy_score)}\n",
      "2023-04-23 12:48:14,728\tINFO tensorboardx.py:267 -- Removed the following hyperparameter values when logging to tensorboard: {'cv': PredefinedSplit(test_fold=array([-1, -1, ...,  0,  0])), 'early_stop_type': <EarlyStopping.NO_EARLY_STOP: 7>, 'scoring/score': make_scorer(accuracy_score)}\n",
      "2023-04-23 12:48:14,854\tINFO tensorboardx.py:267 -- Removed the following hyperparameter values when logging to tensorboard: {'cv': PredefinedSplit(test_fold=array([-1, -1, ...,  0,  0])), 'early_stop_type': <EarlyStopping.NO_EARLY_STOP: 7>, 'scoring/score': make_scorer(accuracy_score)}\n",
      "2023-04-23 12:48:14,951\tINFO tensorboardx.py:267 -- Removed the following hyperparameter values when logging to tensorboard: {'cv': PredefinedSplit(test_fold=array([-1, -1, ...,  0,  0])), 'early_stop_type': <EarlyStopping.NO_EARLY_STOP: 7>, 'scoring/score': make_scorer(accuracy_score)}\n",
      "2023-04-23 12:48:15,080\tINFO tensorboardx.py:267 -- Removed the following hyperparameter values when logging to tensorboard: {'cv': PredefinedSplit(test_fold=array([-1, -1, ...,  0,  0])), 'early_stop_type': <EarlyStopping.NO_EARLY_STOP: 7>, 'scoring/score': make_scorer(accuracy_score)}\n",
      "2023-04-23 12:48:15,211\tINFO tensorboardx.py:267 -- Removed the following hyperparameter values when logging to tensorboard: {'cv': PredefinedSplit(test_fold=array([-1, -1, ...,  0,  0])), 'early_stop_type': <EarlyStopping.NO_EARLY_STOP: 7>, 'scoring/score': make_scorer(accuracy_score)}\n",
      "2023-04-23 12:48:15,347\tINFO tensorboardx.py:267 -- Removed the following hyperparameter values when logging to tensorboard: {'cv': PredefinedSplit(test_fold=array([-1, -1, ...,  0,  0])), 'early_stop_type': <EarlyStopping.NO_EARLY_STOP: 7>, 'scoring/score': make_scorer(accuracy_score)}\n",
      "2023-04-23 12:48:15,439\tINFO tensorboardx.py:267 -- Removed the following hyperparameter values when logging to tensorboard: {'cv': PredefinedSplit(test_fold=array([-1, -1, ...,  0,  0])), 'early_stop_type': <EarlyStopping.NO_EARLY_STOP: 7>, 'scoring/score': make_scorer(accuracy_score)}\n",
      "2023-04-23 12:48:15,509\tINFO tensorboardx.py:267 -- Removed the following hyperparameter values when logging to tensorboard: {'cv': PredefinedSplit(test_fold=array([-1, -1, ...,  0,  0])), 'early_stop_type': <EarlyStopping.NO_EARLY_STOP: 7>, 'scoring/score': make_scorer(accuracy_score)}\n",
      "2023-04-23 12:48:17,957\tINFO tensorboardx.py:267 -- Removed the following hyperparameter values when logging to tensorboard: {'cv': PredefinedSplit(test_fold=array([-1, -1, ...,  0,  0])), 'early_stop_type': <EarlyStopping.NO_EARLY_STOP: 7>, 'scoring/score': make_scorer(accuracy_score)}\n",
      "2023-04-23 12:48:18,254\tINFO tensorboardx.py:267 -- Removed the following hyperparameter values when logging to tensorboard: {'cv': PredefinedSplit(test_fold=array([-1, -1, ...,  0,  0])), 'early_stop_type': <EarlyStopping.NO_EARLY_STOP: 7>, 'scoring/score': make_scorer(accuracy_score)}\n",
      "2023-04-23 12:48:18,254\tINFO tensorboardx.py:267 -- Removed the following hyperparameter values when logging to tensorboard: {'cv': PredefinedSplit(test_fold=array([-1, -1, ...,  0,  0])), 'early_stop_type': <EarlyStopping.NO_EARLY_STOP: 7>, 'scoring/score': make_scorer(accuracy_score)}\n",
      "2023-04-23 12:48:18,262\tINFO tensorboardx.py:267 -- Removed the following hyperparameter values when logging to tensorboard: {'cv': PredefinedSplit(test_fold=array([-1, -1, ...,  0,  0])), 'early_stop_type': <EarlyStopping.NO_EARLY_STOP: 7>, 'scoring/score': make_scorer(accuracy_score)}\n",
      "2023-04-23 12:48:18,274\tINFO tensorboardx.py:267 -- Removed the following hyperparameter values when logging to tensorboard: {'cv': PredefinedSplit(test_fold=array([-1, -1, ...,  0,  0])), 'early_stop_type': <EarlyStopping.NO_EARLY_STOP: 7>, 'scoring/score': make_scorer(accuracy_score)}\n",
      "2023-04-23 12:48:18,285\tINFO tensorboardx.py:267 -- Removed the following hyperparameter values when logging to tensorboard: {'cv': PredefinedSplit(test_fold=array([-1, -1, ...,  0,  0])), 'early_stop_type': <EarlyStopping.NO_EARLY_STOP: 7>, 'scoring/score': make_scorer(accuracy_score)}\n",
      "2023-04-23 12:48:18,301\tINFO tensorboardx.py:267 -- Removed the following hyperparameter values when logging to tensorboard: {'cv': PredefinedSplit(test_fold=array([-1, -1, ...,  0,  0])), 'early_stop_type': <EarlyStopping.NO_EARLY_STOP: 7>, 'scoring/score': make_scorer(accuracy_score)}\n",
      "2023-04-23 12:48:18,314\tINFO tensorboardx.py:267 -- Removed the following hyperparameter values when logging to tensorboard: {'cv': PredefinedSplit(test_fold=array([-1, -1, ...,  0,  0])), 'early_stop_type': <EarlyStopping.NO_EARLY_STOP: 7>, 'scoring/score': make_scorer(accuracy_score)}\n",
      "2023-04-23 12:48:18,447\tINFO tune.py:798 -- Total run time: 6.94 seconds (6.78 seconds for the tuning loop).\n"
     ]
    },
    {
     "name": "stdout",
     "output_type": "stream",
     "text": [
      "The TuneSearchCV best hyperparameters : {'n_estimators': 6, 'max_depth': 2, 'min_samples_split': 2, 'min_samples_leaf': 1, 'max_features': 0.6510575850885153, 'bootstrap': False}\n",
      "The TuneSearchCV best score : 0.9488479262672812\n",
      "Acc train: 0.9598935952527112\n",
      "Acc val: 0.9488479262672811\n"
     ]
    }
   ],
   "source": [
    "# tuning RandomForestClassifier\n",
    "tune_search = TuneSearchCV(\n",
    "    rdForest_mdl,\n",
    "    rdForest_params,\n",
    "    search_optimization=\"hyperopt\",\n",
    "    n_trials=20,\n",
    "    cv=ps,\n",
    "    scoring='accuracy', \n",
    "    early_stopping=False,\n",
    "    verbose=1,\n",
    "    return_train_score=True,\n",
    ")\n",
    "tune_search.fit(X_trainval_sv, y_trainval)\n",
    "\n",
    "# print tuning results\n",
    "print(f'The TuneSearchCV best hyperparameters : {tune_search.best_params_}')\n",
    "print(f'The TuneSearchCV best score : {tune_search.best_score_}')\n",
    "\n",
    "# performance on train set\n",
    "y_trainval_hat = tune_search.best_estimator_.predict(X_trainval_sv)\n",
    "acc_trainval = accuracy_score(y_trainval, y_trainval_hat)\n",
    "\n",
    "# performance on val set\n",
    "y_val_hat = tune_search.best_estimator_.predict(X_val_sv)\n",
    "acc_val = accuracy_score(y_val, y_val_hat)\n",
    "\n",
    "print(f\"Acc train: {acc_trainval}\")\n",
    "print(f\"Acc val: {acc_val}\")"
   ]
  },
  {
   "cell_type": "code",
   "execution_count": 32,
   "id": "de0cf421",
   "metadata": {},
   "outputs": [
    {
     "data": {
      "text/plain": [
       "Predicted\n",
       "0            619\n",
       "1            465\n",
       "dtype: int64"
      ]
     },
     "execution_count": 32,
     "metadata": {},
     "output_type": "execute_result"
    }
   ],
   "source": [
    "# predict test\n",
    "y_test_hat = tune_search.predict(X_test_sv)\n",
    "\n",
    "# save test predictions\n",
    "save_test = modeling.save_test_preds(test_tf[['source', 'target']], test_tf, y_test_hat)\n",
    "save_test.value_counts()"
   ]
  },
  {
   "cell_type": "code",
   "execution_count": 33,
   "id": "df723b61",
   "metadata": {},
   "outputs": [
    {
     "data": {
      "text/html": [
       "<div class=\"tuneStatus\">\n",
       "  <div style=\"display: flex;flex-direction: row\">\n",
       "    <div style=\"display: flex;flex-direction: column;\">\n",
       "      <h3>Tune Status</h3>\n",
       "      <table>\n",
       "<tbody>\n",
       "<tr><td>Current time:</td><td>2023-04-23 12:48:56</td></tr>\n",
       "<tr><td>Running for: </td><td>00:00:06.72        </td></tr>\n",
       "<tr><td>Memory:      </td><td>14.8/16.0 GiB      </td></tr>\n",
       "</tbody>\n",
       "</table>\n",
       "    </div>\n",
       "    <div class=\"vDivider\"></div>\n",
       "    <div class=\"systemInfo\">\n",
       "      <h3>System Info</h3>\n",
       "      Using FIFO scheduling algorithm.<br>Resources requested: 0/8 CPUs, 0/0 GPUs, 0.0/10.88 GiB heap, 0.0/2.0 GiB objects\n",
       "    </div>\n",
       "    <div class=\"vDivider\"></div>\n",
       "<div class=\"messages\">\n",
       "  <h3>Messages</h3>\n",
       "  : ***LOW MEMORY*** less than 10% of the memory on this node is available for use. This can cause unexpected crashes. Consider reducing the memory used by your application or reducing the Ray object store size by setting `object_store_memory` when calling `ray.init`.\n",
       "  \n",
       "  \n",
       "</div>\n",
       "<style>\n",
       ".messages {\n",
       "  color: var(--jp-ui-font-color1);\n",
       "  display: flex;\n",
       "  flex-direction: column;\n",
       "  padding-left: 1em;\n",
       "  overflow-y: auto;\n",
       "}\n",
       ".messages h3 {\n",
       "  font-weight: bold;\n",
       "}\n",
       ".vDivider {\n",
       "  border-left-width: var(--jp-border-width);\n",
       "  border-left-color: var(--jp-border-color0);\n",
       "  border-left-style: solid;\n",
       "  margin: 0.5em 1em 0.5em 1em;\n",
       "}\n",
       "</style>\n",
       "\n",
       "  </div>\n",
       "  <div class=\"hDivider\"></div>\n",
       "  <div class=\"trialStatus\">\n",
       "    <h3>Trial Status</h3>\n",
       "    <table>\n",
       "<thead>\n",
       "<tr><th>Trial name         </th><th>status    </th><th>loc            </th><th style=\"text-align: right;\">  colsample_bytree</th><th>cv                  </th><th>early_stop_type     </th><th>early_stopping  </th><th style=\"text-align: right;\">        eta</th><th>groups  </th><th style=\"text-align: right;\">  max_depth</th><th style=\"text-align: right;\">  max_iters</th><th>metric_name       </th><th style=\"text-align: right;\">  min_child_weight</th><th style=\"text-align: right;\">  n_estimators</th><th style=\"text-align: right;\">  n_jobs</th><th>return_train_score  </th><th>scoring/score       </th><th style=\"text-align: right;\">  subsample</th><th style=\"text-align: right;\">  iter</th><th style=\"text-align: right;\">  total time (s)</th><th style=\"text-align: right;\">  split0_test_score</th><th style=\"text-align: right;\">  average_test_score</th><th style=\"text-align: right;\">  split0_train_score</th></tr>\n",
       "</thead>\n",
       "<tbody>\n",
       "<tr><td>_Trainable_8ae62d5b</td><td>TERMINATED</td><td>127.0.0.1:14331</td><td style=\"text-align: right;\">          0.698673</td><td>PredefinedSplit_f2b0</td><td>EarlyStopping.N_88e0</td><td>False           </td><td style=\"text-align: right;\">0.00738356 </td><td>        </td><td style=\"text-align: right;\">          1</td><td style=\"text-align: right;\">          1</td><td>average_test_score</td><td style=\"text-align: right;\">           4.12184</td><td style=\"text-align: right;\">             9</td><td style=\"text-align: right;\">       1</td><td>True                </td><td>make_scorer(acc_6850</td><td style=\"text-align: right;\">   0.59832 </td><td style=\"text-align: right;\">     1</td><td style=\"text-align: right;\">       0.0614731</td><td style=\"text-align: right;\">           0.83871 </td><td style=\"text-align: right;\">            0.83871 </td><td style=\"text-align: right;\">            0.951867</td></tr>\n",
       "<tr><td>_Trainable_dd3a2fa3</td><td>TERMINATED</td><td>127.0.0.1:14334</td><td style=\"text-align: right;\">          0.535174</td><td>PredefinedSplit_3c40</td><td>EarlyStopping.N_88e0</td><td>False           </td><td style=\"text-align: right;\">0.00011344 </td><td>        </td><td style=\"text-align: right;\">          2</td><td style=\"text-align: right;\">          1</td><td>average_test_score</td><td style=\"text-align: right;\">           2.3167 </td><td style=\"text-align: right;\">             7</td><td style=\"text-align: right;\">       1</td><td>True                </td><td>make_scorer(acc_34c0</td><td style=\"text-align: right;\">   0.228422</td><td style=\"text-align: right;\">     1</td><td style=\"text-align: right;\">       0.050518 </td><td style=\"text-align: right;\">           0.923963</td><td style=\"text-align: right;\">            0.923963</td><td style=\"text-align: right;\">            0.96949 </td></tr>\n",
       "<tr><td>_Trainable_86624880</td><td>TERMINATED</td><td>127.0.0.1:14335</td><td style=\"text-align: right;\">          0.706756</td><td>PredefinedSplit_a730</td><td>EarlyStopping.N_88e0</td><td>False           </td><td style=\"text-align: right;\">0.00248612 </td><td>        </td><td style=\"text-align: right;\">          2</td><td style=\"text-align: right;\">          1</td><td>average_test_score</td><td style=\"text-align: right;\">           8.54984</td><td style=\"text-align: right;\">             6</td><td style=\"text-align: right;\">       1</td><td>True                </td><td>make_scorer(acc_a9a0</td><td style=\"text-align: right;\">   0.543918</td><td style=\"text-align: right;\">     1</td><td style=\"text-align: right;\">       0.0683062</td><td style=\"text-align: right;\">           0.85576 </td><td style=\"text-align: right;\">            0.85576 </td><td style=\"text-align: right;\">            0.965676</td></tr>\n",
       "<tr><td>_Trainable_44730ccc</td><td>TERMINATED</td><td>127.0.0.1:14336</td><td style=\"text-align: right;\">          0.83729 </td><td>PredefinedSplit_f640</td><td>EarlyStopping.N_88e0</td><td>False           </td><td style=\"text-align: right;\">0.00435993 </td><td>        </td><td style=\"text-align: right;\">          2</td><td style=\"text-align: right;\">          1</td><td>average_test_score</td><td style=\"text-align: right;\">           7.26557</td><td style=\"text-align: right;\">             9</td><td style=\"text-align: right;\">       1</td><td>True                </td><td>make_scorer(acc_a370</td><td style=\"text-align: right;\">   0.834846</td><td style=\"text-align: right;\">     1</td><td style=\"text-align: right;\">       0.0743341</td><td style=\"text-align: right;\">           0.929493</td><td style=\"text-align: right;\">            0.929493</td><td style=\"text-align: right;\">            0.968175</td></tr>\n",
       "<tr><td>_Trainable_f6379984</td><td>TERMINATED</td><td>127.0.0.1:14331</td><td style=\"text-align: right;\">          0.506702</td><td>PredefinedSplit_ccd0</td><td>EarlyStopping.N_88e0</td><td>False           </td><td style=\"text-align: right;\">0.0801221  </td><td>        </td><td style=\"text-align: right;\">          2</td><td style=\"text-align: right;\">          1</td><td>average_test_score</td><td style=\"text-align: right;\">           3.50407</td><td style=\"text-align: right;\">             5</td><td style=\"text-align: right;\">       1</td><td>True                </td><td>make_scorer(acc_c970</td><td style=\"text-align: right;\">   0.30988 </td><td style=\"text-align: right;\">     1</td><td style=\"text-align: right;\">       0.036787 </td><td style=\"text-align: right;\">           0.927189</td><td style=\"text-align: right;\">            0.927189</td><td style=\"text-align: right;\">            0.966597</td></tr>\n",
       "<tr><td>_Trainable_51259200</td><td>TERMINATED</td><td>127.0.0.1:14337</td><td style=\"text-align: right;\">          0.604132</td><td>PredefinedSplit_1400</td><td>EarlyStopping.N_88e0</td><td>False           </td><td style=\"text-align: right;\">0.00173655 </td><td>        </td><td style=\"text-align: right;\">          1</td><td style=\"text-align: right;\">          1</td><td>average_test_score</td><td style=\"text-align: right;\">           2.88933</td><td style=\"text-align: right;\">             7</td><td style=\"text-align: right;\">       1</td><td>True                </td><td>make_scorer(acc_1a00</td><td style=\"text-align: right;\">   0.618203</td><td style=\"text-align: right;\">     1</td><td style=\"text-align: right;\">       0.0503099</td><td style=\"text-align: right;\">           0.839631</td><td style=\"text-align: right;\">            0.839631</td><td style=\"text-align: right;\">            0.953183</td></tr>\n",
       "<tr><td>_Trainable_31b6320d</td><td>TERMINATED</td><td>127.0.0.1:14331</td><td style=\"text-align: right;\">          0.82258 </td><td>PredefinedSplit_dc10</td><td>EarlyStopping.N_88e0</td><td>False           </td><td style=\"text-align: right;\">0.00278052 </td><td>        </td><td style=\"text-align: right;\">          1</td><td style=\"text-align: right;\">          1</td><td>average_test_score</td><td style=\"text-align: right;\">           1.97842</td><td style=\"text-align: right;\">             4</td><td style=\"text-align: right;\">       1</td><td>True                </td><td>make_scorer(acc_d9a0</td><td style=\"text-align: right;\">   0.626716</td><td style=\"text-align: right;\">     1</td><td style=\"text-align: right;\">       0.05475  </td><td style=\"text-align: right;\">           0.837788</td><td style=\"text-align: right;\">            0.837788</td><td style=\"text-align: right;\">            0.951604</td></tr>\n",
       "<tr><td>_Trainable_c84e39fa</td><td>TERMINATED</td><td>127.0.0.1:14338</td><td style=\"text-align: right;\">          0.853117</td><td>PredefinedSplit_f730</td><td>EarlyStopping.N_88e0</td><td>False           </td><td style=\"text-align: right;\">0.0254406  </td><td>        </td><td style=\"text-align: right;\">          1</td><td style=\"text-align: right;\">          1</td><td>average_test_score</td><td style=\"text-align: right;\">           4.6106 </td><td style=\"text-align: right;\">             3</td><td style=\"text-align: right;\">       1</td><td>True                </td><td>make_scorer(acc_f7c0</td><td style=\"text-align: right;\">   0.526345</td><td style=\"text-align: right;\">     1</td><td style=\"text-align: right;\">       0.038027 </td><td style=\"text-align: right;\">           0.843779</td><td style=\"text-align: right;\">            0.843779</td><td style=\"text-align: right;\">            0.954366</td></tr>\n",
       "<tr><td>_Trainable_0e325feb</td><td>TERMINATED</td><td>127.0.0.1:14339</td><td style=\"text-align: right;\">          0.595901</td><td>PredefinedSplit_7520</td><td>EarlyStopping.N_88e0</td><td>False           </td><td style=\"text-align: right;\">0.000269513</td><td>        </td><td style=\"text-align: right;\">          2</td><td style=\"text-align: right;\">          1</td><td>average_test_score</td><td style=\"text-align: right;\">           6.38578</td><td style=\"text-align: right;\">             2</td><td style=\"text-align: right;\">       1</td><td>True                </td><td>make_scorer(acc_75b0</td><td style=\"text-align: right;\">   0.776367</td><td style=\"text-align: right;\">     1</td><td style=\"text-align: right;\">       0.0459907</td><td style=\"text-align: right;\">           0.8447  </td><td style=\"text-align: right;\">            0.8447  </td><td style=\"text-align: right;\">            0.854287</td></tr>\n",
       "<tr><td>_Trainable_1c1d2576</td><td>TERMINATED</td><td>127.0.0.1:14331</td><td style=\"text-align: right;\">          0.541129</td><td>PredefinedSplit_3520</td><td>EarlyStopping.N_88e0</td><td>False           </td><td style=\"text-align: right;\">0.00096172 </td><td>        </td><td style=\"text-align: right;\">          1</td><td style=\"text-align: right;\">          1</td><td>average_test_score</td><td style=\"text-align: right;\">           5.91799</td><td style=\"text-align: right;\">             8</td><td style=\"text-align: right;\">       1</td><td>True                </td><td>make_scorer(acc_3310</td><td style=\"text-align: right;\">   0.309091</td><td style=\"text-align: right;\">     1</td><td style=\"text-align: right;\">       0.0532033</td><td style=\"text-align: right;\">           0.83871 </td><td style=\"text-align: right;\">            0.83871 </td><td style=\"text-align: right;\">            0.953314</td></tr>\n",
       "<tr><td>_Trainable_7dea8a7f</td><td>TERMINATED</td><td>127.0.0.1:14341</td><td style=\"text-align: right;\">          0.853559</td><td>PredefinedSplit_0400</td><td>EarlyStopping.N_88e0</td><td>False           </td><td style=\"text-align: right;\">0.000227332</td><td>        </td><td style=\"text-align: right;\">          2</td><td style=\"text-align: right;\">          1</td><td>average_test_score</td><td style=\"text-align: right;\">           3.70649</td><td style=\"text-align: right;\">             8</td><td style=\"text-align: right;\">       1</td><td>True                </td><td>make_scorer(acc_0820</td><td style=\"text-align: right;\">   0.645971</td><td style=\"text-align: right;\">     1</td><td style=\"text-align: right;\">       0.066222 </td><td style=\"text-align: right;\">           0.947465</td><td style=\"text-align: right;\">            0.947465</td><td style=\"text-align: right;\">            0.967912</td></tr>\n",
       "<tr><td>_Trainable_8afddaf9</td><td>TERMINATED</td><td>127.0.0.1:14331</td><td style=\"text-align: right;\">          0.593396</td><td>PredefinedSplit_b4c0</td><td>EarlyStopping.N_88e0</td><td>False           </td><td style=\"text-align: right;\">0.00180605 </td><td>        </td><td style=\"text-align: right;\">          1</td><td style=\"text-align: right;\">          1</td><td>average_test_score</td><td style=\"text-align: right;\">           2.87319</td><td style=\"text-align: right;\">             8</td><td style=\"text-align: right;\">       1</td><td>True                </td><td>make_scorer(acc_b6d0</td><td style=\"text-align: right;\">   0.906384</td><td style=\"text-align: right;\">     1</td><td style=\"text-align: right;\">       0.0448658</td><td style=\"text-align: right;\">           0.832719</td><td style=\"text-align: right;\">            0.832719</td><td style=\"text-align: right;\">            0.951604</td></tr>\n",
       "<tr><td>_Trainable_e751514d</td><td>TERMINATED</td><td>127.0.0.1:14331</td><td style=\"text-align: right;\">          0.666115</td><td>PredefinedSplit_2ee0</td><td>EarlyStopping.N_88e0</td><td>False           </td><td style=\"text-align: right;\">0.0044043  </td><td>        </td><td style=\"text-align: right;\">          2</td><td style=\"text-align: right;\">          1</td><td>average_test_score</td><td style=\"text-align: right;\">           2.05156</td><td style=\"text-align: right;\">             7</td><td style=\"text-align: right;\">       1</td><td>True                </td><td>make_scorer(acc_2d00</td><td style=\"text-align: right;\">   0.453127</td><td style=\"text-align: right;\">     1</td><td style=\"text-align: right;\">       0.0925949</td><td style=\"text-align: right;\">           0.929954</td><td style=\"text-align: right;\">            0.929954</td><td style=\"text-align: right;\">            0.968964</td></tr>\n",
       "<tr><td>_Trainable_5527fa64</td><td>TERMINATED</td><td>127.0.0.1:14331</td><td style=\"text-align: right;\">          0.975237</td><td>PredefinedSplit_d9a0</td><td>EarlyStopping.N_88e0</td><td>False           </td><td style=\"text-align: right;\">0.000147102</td><td>        </td><td style=\"text-align: right;\">          2</td><td style=\"text-align: right;\">          1</td><td>average_test_score</td><td style=\"text-align: right;\">           1.49618</td><td style=\"text-align: right;\">             9</td><td style=\"text-align: right;\">       1</td><td>True                </td><td>make_scorer(acc_daf0</td><td style=\"text-align: right;\">   0.999104</td><td style=\"text-align: right;\">     1</td><td style=\"text-align: right;\">       0.0863707</td><td style=\"text-align: right;\">           0.937788</td><td style=\"text-align: right;\">            0.937788</td><td style=\"text-align: right;\">            0.96344 </td></tr>\n",
       "<tr><td>_Trainable_69ce63e1</td><td>TERMINATED</td><td>127.0.0.1:14331</td><td style=\"text-align: right;\">          0.674501</td><td>PredefinedSplit_00a0</td><td>EarlyStopping.N_88e0</td><td>False           </td><td style=\"text-align: right;\">0.000692489</td><td>        </td><td style=\"text-align: right;\">          2</td><td style=\"text-align: right;\">          1</td><td>average_test_score</td><td style=\"text-align: right;\">           8.06125</td><td style=\"text-align: right;\">             2</td><td style=\"text-align: right;\">       1</td><td>True                </td><td>make_scorer(acc_03d0</td><td style=\"text-align: right;\">   0.231396</td><td style=\"text-align: right;\">     1</td><td style=\"text-align: right;\">       0.0597918</td><td style=\"text-align: right;\">           0.93318 </td><td style=\"text-align: right;\">            0.93318 </td><td style=\"text-align: right;\">            0.958574</td></tr>\n",
       "<tr><td>_Trainable_a8e8084b</td><td>TERMINATED</td><td>127.0.0.1:14331</td><td style=\"text-align: right;\">          0.780747</td><td>PredefinedSplit_b5e0</td><td>EarlyStopping.N_88e0</td><td>False           </td><td style=\"text-align: right;\">0.00662473 </td><td>        </td><td style=\"text-align: right;\">          1</td><td style=\"text-align: right;\">          1</td><td>average_test_score</td><td style=\"text-align: right;\">           4.31801</td><td style=\"text-align: right;\">             9</td><td style=\"text-align: right;\">       1</td><td>True                </td><td>make_scorer(acc_bc40</td><td style=\"text-align: right;\">   0.697168</td><td style=\"text-align: right;\">     1</td><td style=\"text-align: right;\">       0.0611272</td><td style=\"text-align: right;\">           0.838249</td><td style=\"text-align: right;\">            0.838249</td><td style=\"text-align: right;\">            0.951473</td></tr>\n",
       "<tr><td>_Trainable_5a7410a2</td><td>TERMINATED</td><td>127.0.0.1:14331</td><td style=\"text-align: right;\">          0.859161</td><td>PredefinedSplit_6a00</td><td>EarlyStopping.N_88e0</td><td>False           </td><td style=\"text-align: right;\">0.034158   </td><td>        </td><td style=\"text-align: right;\">          1</td><td style=\"text-align: right;\">          1</td><td>average_test_score</td><td style=\"text-align: right;\">           6.49616</td><td style=\"text-align: right;\">             4</td><td style=\"text-align: right;\">       1</td><td>True                </td><td>make_scorer(acc_68b0</td><td style=\"text-align: right;\">   0.941684</td><td style=\"text-align: right;\">     1</td><td style=\"text-align: right;\">       0.0498476</td><td style=\"text-align: right;\">           0.837788</td><td style=\"text-align: right;\">            0.837788</td><td style=\"text-align: right;\">            0.951604</td></tr>\n",
       "<tr><td>_Trainable_ecbf4f96</td><td>TERMINATED</td><td>127.0.0.1:14331</td><td style=\"text-align: right;\">          0.990805</td><td>PredefinedSplit_8130</td><td>EarlyStopping.N_88e0</td><td>False           </td><td style=\"text-align: right;\">0.00485098 </td><td>        </td><td style=\"text-align: right;\">          2</td><td style=\"text-align: right;\">          1</td><td>average_test_score</td><td style=\"text-align: right;\">           8.14503</td><td style=\"text-align: right;\">             6</td><td style=\"text-align: right;\">       1</td><td>True                </td><td>make_scorer(acc_8e50</td><td style=\"text-align: right;\">   0.955148</td><td style=\"text-align: right;\">     1</td><td style=\"text-align: right;\">       0.0649002</td><td style=\"text-align: right;\">           0.937788</td><td style=\"text-align: right;\">            0.937788</td><td style=\"text-align: right;\">            0.963703</td></tr>\n",
       "<tr><td>_Trainable_992a51fb</td><td>TERMINATED</td><td>127.0.0.1:14331</td><td style=\"text-align: right;\">          0.728478</td><td>PredefinedSplit_82e0</td><td>EarlyStopping.N_88e0</td><td>False           </td><td style=\"text-align: right;\">0.0986154  </td><td>        </td><td style=\"text-align: right;\">          2</td><td style=\"text-align: right;\">          1</td><td>average_test_score</td><td style=\"text-align: right;\">           2.25863</td><td style=\"text-align: right;\">             8</td><td style=\"text-align: right;\">       1</td><td>True                </td><td>make_scorer(acc_2340</td><td style=\"text-align: right;\">   0.864227</td><td style=\"text-align: right;\">     1</td><td style=\"text-align: right;\">       0.13989  </td><td style=\"text-align: right;\">           0.941014</td><td style=\"text-align: right;\">            0.941014</td><td style=\"text-align: right;\">            0.971331</td></tr>\n",
       "<tr><td>_Trainable_604b1e5a</td><td>TERMINATED</td><td>127.0.0.1:14331</td><td style=\"text-align: right;\">          0.698887</td><td>PredefinedSplit_26d0</td><td>EarlyStopping.N_88e0</td><td>False           </td><td style=\"text-align: right;\">0.000202241</td><td>        </td><td style=\"text-align: right;\">          2</td><td style=\"text-align: right;\">          1</td><td>average_test_score</td><td style=\"text-align: right;\">           8.73866</td><td style=\"text-align: right;\">             8</td><td style=\"text-align: right;\">       1</td><td>True                </td><td>make_scorer(acc_4880</td><td style=\"text-align: right;\">   0.541144</td><td style=\"text-align: right;\">     1</td><td style=\"text-align: right;\">       0.0584712</td><td style=\"text-align: right;\">           0.929954</td><td style=\"text-align: right;\">            0.929954</td><td style=\"text-align: right;\">            0.967649</td></tr>\n",
       "</tbody>\n",
       "</table>\n",
       "  </div>\n",
       "</div>\n",
       "<style>\n",
       ".tuneStatus {\n",
       "  color: var(--jp-ui-font-color1);\n",
       "}\n",
       ".tuneStatus .systemInfo {\n",
       "  display: flex;\n",
       "  flex-direction: column;\n",
       "}\n",
       ".tuneStatus td {\n",
       "  white-space: nowrap;\n",
       "}\n",
       ".tuneStatus .trialStatus {\n",
       "  display: flex;\n",
       "  flex-direction: column;\n",
       "}\n",
       ".tuneStatus h3 {\n",
       "  font-weight: bold;\n",
       "}\n",
       ".tuneStatus .hDivider {\n",
       "  border-bottom-width: var(--jp-border-width);\n",
       "  border-bottom-color: var(--jp-border-color0);\n",
       "  border-bottom-style: solid;\n",
       "}\n",
       ".tuneStatus .vDivider {\n",
       "  border-left-width: var(--jp-border-width);\n",
       "  border-left-color: var(--jp-border-color0);\n",
       "  border-left-style: solid;\n",
       "  margin: 0.5em 1em 0.5em 1em;\n",
       "}\n",
       "</style>\n"
      ],
      "text/plain": [
       "<IPython.core.display.HTML object>"
      ]
     },
     "metadata": {},
     "output_type": "display_data"
    },
    {
     "name": "stderr",
     "output_type": "stream",
     "text": [
      "2023-04-23 12:48:52,593\tINFO tensorboardx.py:267 -- Removed the following hyperparameter values when logging to tensorboard: {'cv': PredefinedSplit(test_fold=array([-1, -1, ...,  0,  0])), 'early_stop_type': <EarlyStopping.NO_EARLY_STOP: 7>, 'scoring/score': make_scorer(accuracy_score)}\n",
      "2023-04-23 12:48:52,646\tINFO tensorboardx.py:267 -- Removed the following hyperparameter values when logging to tensorboard: {'cv': PredefinedSplit(test_fold=array([-1, -1, ...,  0,  0])), 'early_stop_type': <EarlyStopping.NO_EARLY_STOP: 7>, 'scoring/score': make_scorer(accuracy_score)}\n",
      "2023-04-23 12:48:52,735\tINFO tensorboardx.py:267 -- Removed the following hyperparameter values when logging to tensorboard: {'cv': PredefinedSplit(test_fold=array([-1, -1, ...,  0,  0])), 'early_stop_type': <EarlyStopping.NO_EARLY_STOP: 7>, 'scoring/score': make_scorer(accuracy_score)}\n",
      "2023-04-23 12:48:52,834\tINFO tensorboardx.py:267 -- Removed the following hyperparameter values when logging to tensorboard: {'cv': PredefinedSplit(test_fold=array([-1, -1, ...,  0,  0])), 'early_stop_type': <EarlyStopping.NO_EARLY_STOP: 7>, 'scoring/score': make_scorer(accuracy_score)}\n",
      "2023-04-23 12:48:52,918\tINFO tensorboardx.py:267 -- Removed the following hyperparameter values when logging to tensorboard: {'cv': PredefinedSplit(test_fold=array([-1, -1, ...,  0,  0])), 'early_stop_type': <EarlyStopping.NO_EARLY_STOP: 7>, 'scoring/score': make_scorer(accuracy_score)}\n",
      "2023-04-23 12:48:53,043\tINFO tensorboardx.py:267 -- Removed the following hyperparameter values when logging to tensorboard: {'cv': PredefinedSplit(test_fold=array([-1, -1, ...,  0,  0])), 'early_stop_type': <EarlyStopping.NO_EARLY_STOP: 7>, 'scoring/score': make_scorer(accuracy_score)}\n",
      "2023-04-23 12:48:53,177\tINFO tensorboardx.py:267 -- Removed the following hyperparameter values when logging to tensorboard: {'cv': PredefinedSplit(test_fold=array([-1, -1, ...,  0,  0])), 'early_stop_type': <EarlyStopping.NO_EARLY_STOP: 7>, 'scoring/score': make_scorer(accuracy_score)}\n",
      "2023-04-23 12:48:53,263\tINFO tensorboardx.py:267 -- Removed the following hyperparameter values when logging to tensorboard: {'cv': PredefinedSplit(test_fold=array([-1, -1, ...,  0,  0])), 'early_stop_type': <EarlyStopping.NO_EARLY_STOP: 7>, 'scoring/score': make_scorer(accuracy_score)}\n",
      "2023-04-23 12:48:53,355\tINFO tensorboardx.py:267 -- Removed the following hyperparameter values when logging to tensorboard: {'cv': PredefinedSplit(test_fold=array([-1, -1, ...,  0,  0])), 'early_stop_type': <EarlyStopping.NO_EARLY_STOP: 7>, 'scoring/score': make_scorer(accuracy_score)}\n",
      "2023-04-23 12:48:53,438\tINFO tensorboardx.py:267 -- Removed the following hyperparameter values when logging to tensorboard: {'cv': PredefinedSplit(test_fold=array([-1, -1, ...,  0,  0])), 'early_stop_type': <EarlyStopping.NO_EARLY_STOP: 7>, 'scoring/score': make_scorer(accuracy_score)}\n",
      "2023-04-23 12:48:53,539\tINFO tensorboardx.py:267 -- Removed the following hyperparameter values when logging to tensorboard: {'cv': PredefinedSplit(test_fold=array([-1, -1, ...,  0,  0])), 'early_stop_type': <EarlyStopping.NO_EARLY_STOP: 7>, 'scoring/score': make_scorer(accuracy_score)}\n",
      "2023-04-23 12:48:53,733\tINFO tensorboardx.py:267 -- Removed the following hyperparameter values when logging to tensorboard: {'cv': PredefinedSplit(test_fold=array([-1, -1, ...,  0,  0])), 'early_stop_type': <EarlyStopping.NO_EARLY_STOP: 7>, 'scoring/score': make_scorer(accuracy_score)}\n",
      "2023-04-23 12:48:53,823\tINFO tensorboardx.py:267 -- Removed the following hyperparameter values when logging to tensorboard: {'cv': PredefinedSplit(test_fold=array([-1, -1, ...,  0,  0])), 'early_stop_type': <EarlyStopping.NO_EARLY_STOP: 7>, 'scoring/score': make_scorer(accuracy_score)}\n",
      "2023-04-23 12:48:56,464\tINFO tensorboardx.py:267 -- Removed the following hyperparameter values when logging to tensorboard: {'cv': PredefinedSplit(test_fold=array([-1, -1, ...,  0,  0])), 'early_stop_type': <EarlyStopping.NO_EARLY_STOP: 7>, 'scoring/score': make_scorer(accuracy_score)}\n",
      "2023-04-23 12:48:56,544\tINFO tensorboardx.py:267 -- Removed the following hyperparameter values when logging to tensorboard: {'cv': PredefinedSplit(test_fold=array([-1, -1, ...,  0,  0])), 'early_stop_type': <EarlyStopping.NO_EARLY_STOP: 7>, 'scoring/score': make_scorer(accuracy_score)}\n",
      "2023-04-23 12:48:56,544\tINFO tensorboardx.py:267 -- Removed the following hyperparameter values when logging to tensorboard: {'cv': PredefinedSplit(test_fold=array([-1, -1, ...,  0,  0])), 'early_stop_type': <EarlyStopping.NO_EARLY_STOP: 7>, 'scoring/score': make_scorer(accuracy_score)}\n",
      "2023-04-23 12:48:56,553\tINFO tensorboardx.py:267 -- Removed the following hyperparameter values when logging to tensorboard: {'cv': PredefinedSplit(test_fold=array([-1, -1, ...,  0,  0])), 'early_stop_type': <EarlyStopping.NO_EARLY_STOP: 7>, 'scoring/score': make_scorer(accuracy_score)}\n",
      "2023-04-23 12:48:56,569\tINFO tensorboardx.py:267 -- Removed the following hyperparameter values when logging to tensorboard: {'cv': PredefinedSplit(test_fold=array([-1, -1, ...,  0,  0])), 'early_stop_type': <EarlyStopping.NO_EARLY_STOP: 7>, 'scoring/score': make_scorer(accuracy_score)}\n",
      "2023-04-23 12:48:56,595\tINFO tensorboardx.py:267 -- Removed the following hyperparameter values when logging to tensorboard: {'cv': PredefinedSplit(test_fold=array([-1, -1, ...,  0,  0])), 'early_stop_type': <EarlyStopping.NO_EARLY_STOP: 7>, 'scoring/score': make_scorer(accuracy_score)}\n",
      "2023-04-23 12:48:56,608\tINFO tensorboardx.py:267 -- Removed the following hyperparameter values when logging to tensorboard: {'cv': PredefinedSplit(test_fold=array([-1, -1, ...,  0,  0])), 'early_stop_type': <EarlyStopping.NO_EARLY_STOP: 7>, 'scoring/score': make_scorer(accuracy_score)}\n",
      "2023-04-23 12:48:56,626\tINFO tensorboardx.py:267 -- Removed the following hyperparameter values when logging to tensorboard: {'cv': PredefinedSplit(test_fold=array([-1, -1, ...,  0,  0])), 'early_stop_type': <EarlyStopping.NO_EARLY_STOP: 7>, 'scoring/score': make_scorer(accuracy_score)}\n",
      "2023-04-23 12:48:56,761\tINFO tune.py:798 -- Total run time: 6.74 seconds (6.60 seconds for the tuning loop).\n"
     ]
    },
    {
     "name": "stdout",
     "output_type": "stream",
     "text": [
      "The TuneSearchCV best hyperparameters : {'n_estimators': 8, 'max_depth': 2, 'min_child_weight': 3.7064888836950427, 'colsample_bytree': 0.8535591471612474, 'subsample': 0.645970665138671, 'eta': 0.0002273317107317788}\n",
      "The TuneSearchCV best score : 0.9474654377880184\n",
      "Acc train: 0.9608144055657868\n",
      "Acc val: 0.947926267281106\n"
     ]
    }
   ],
   "source": [
    "# tuning XGBoostClassifier\n",
    "tune_search = TuneSearchCV(\n",
    "    XGBoost_mdl,\n",
    "    XGBoost_params,\n",
    "    search_optimization=\"hyperopt\",\n",
    "    n_trials=20,\n",
    "    cv=ps,\n",
    "    scoring='accuracy',\n",
    "    early_stopping=False,\n",
    "    verbose=1,\n",
    "    return_train_score=True,\n",
    ")\n",
    "tune_search.fit(X_trainval_sv, y_trainval)\n",
    "\n",
    "# print tuning results\n",
    "print(f'The TuneSearchCV best hyperparameters : {tune_search.best_params_}')\n",
    "print(f'The TuneSearchCV best score : {tune_search.best_score_}')\n",
    "\n",
    "# performance on train set\n",
    "y_trainval_hat = tune_search.best_estimator_.predict(X_trainval_sv)\n",
    "acc_trainval = accuracy_score(y_trainval, y_trainval_hat)\n",
    "\n",
    "# performance on val set\n",
    "y_val_hat = tune_search.best_estimator_.predict(X_val_sv)\n",
    "acc_val = accuracy_score(y_val, y_val_hat)\n",
    "\n",
    "print(f\"Acc train: {acc_trainval}\")\n",
    "print(f\"Acc val: {acc_val}\")"
   ]
  },
  {
   "cell_type": "code",
   "execution_count": 34,
   "id": "9e09d8a8",
   "metadata": {},
   "outputs": [
    {
     "data": {
      "text/plain": [
       "Predicted\n",
       "0            622\n",
       "1            462\n",
       "dtype: int64"
      ]
     },
     "execution_count": 34,
     "metadata": {},
     "output_type": "execute_result"
    }
   ],
   "source": [
    "# predict test\n",
    "y_test_hat = tune_search.predict(X_test_sv)\n",
    "\n",
    "# save test predictions\n",
    "save_test = modeling.save_test_preds(test_tf[['source', 'target']], test_tf, y_test_hat)\n",
    "save_test.value_counts()"
   ]
  },
  {
   "attachments": {},
   "cell_type": "markdown",
   "id": "cf96d2e7",
   "metadata": {},
   "source": [
    "##### c) SVM"
   ]
  },
  {
   "cell_type": "code",
   "execution_count": 35,
   "id": "7247dd4e",
   "metadata": {},
   "outputs": [],
   "source": [
    "# prepare datasets for SVM\n",
    "cols = ['node2vec_1', 'node2vec_2', 'node2vec_3', 'node2vec_4']\n",
    "X_trainval_sv  =  X_trainval[[col for col in X_trainval.columns  if col in cols]]\n",
    "X_train_sv  =  X_train[[col for col in X_train.columns  if col in cols]]\n",
    "X_val_sv  =  X_val[[col for col in X_val.columns  if col in cols]]\n",
    "X_test_sv  =  X_test[[col for col in X_test.columns  if col in cols]]"
   ]
  },
  {
   "cell_type": "code",
   "execution_count": 36,
   "id": "a4975293",
   "metadata": {},
   "outputs": [
    {
     "name": "stdout",
     "output_type": "stream",
     "text": [
      "Acc train: 0.7006838506049448\n",
      "Acc val: 0.6953917050691244\n"
     ]
    }
   ],
   "source": [
    "# prepare SVM pipeline\n",
    "clf = make_pipeline(StandardScaler(), SVC(C=0.001))\n",
    "clf.fit(X_train_sv, y_train)\n",
    "\n",
    "# performance on train set\n",
    "y_train_hat = clf.predict(X_train_sv)\n",
    "acc_train = accuracy_score(y_train, y_train_hat)\n",
    "\n",
    "# performance on val set\n",
    "y_val_hat = clf.predict(X_val_sv)\n",
    "acc_val = accuracy_score(y_val, y_val_hat)\n",
    "\n",
    "print(f\"Acc train: {acc_train}\")\n",
    "print(f\"Acc val: {acc_val}\")\n"
   ]
  }
 ],
 "metadata": {
  "kernelspec": {
   "display_name": "Python 3",
   "language": "python",
   "name": "python3"
  },
  "language_info": {
   "codemirror_mode": {
    "name": "ipython",
    "version": 3
   },
   "file_extension": ".py",
   "mimetype": "text/x-python",
   "name": "python",
   "nbconvert_exporter": "python",
   "pygments_lexer": "ipython3",
   "version": "3.9.7"
  },
  "vscode": {
   "interpreter": {
    "hash": "edc5d5641674580b35290ba45bd16007251669062615a59c5f9a5e5dd7884ea6"
   }
  }
 },
 "nbformat": 4,
 "nbformat_minor": 5
}
