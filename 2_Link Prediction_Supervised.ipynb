{
 "cells": [
  {
   "cell_type": "markdown",
   "id": "ca3f9796",
   "metadata": {},
   "source": [
    "# Machine Learning in Network Science\n",
    "Group Challenge\n",
    "\n",
    "***\n",
    "by: Leonardo Basili, Paul Bédier, Lasse Schmidt\n",
    "\n",
    "within: MS Data Sciences & Business Analytics\n",
    "\n",
    "at: CentraleSupélec & ESSEC Business School\n",
    "***"
   ]
  },
  {
   "attachments": {},
   "cell_type": "markdown",
   "id": "3a46be5a",
   "metadata": {},
   "source": [
    "This notebook covers classical machine learning techniques, namely:\n",
    "- unsupervised link prediction based on graph-topology (Adamic Adar, Preferential Attachment, Resource-Allocation-Index, ...)\n",
    "- supervised link prediction using Logistic Regression, SVM, Random Forest & Boosting"
   ]
  },
  {
   "cell_type": "markdown",
   "id": "54f241a1",
   "metadata": {},
   "source": [
    "### 1. Import Packages"
   ]
  },
  {
   "cell_type": "code",
   "execution_count": 19,
   "id": "98e82605",
   "metadata": {},
   "outputs": [
    {
     "data": {
      "text/plain": [
       "<module 'util.autoencoder' from '/Users/macbookpro/Desktop/LABS/Network-Science_Final-Project/util/autoencoder.py'>"
      ]
     },
     "execution_count": 19,
     "metadata": {},
     "output_type": "execute_result"
    }
   ],
   "source": [
    "from importlib import reload\n",
    "reload(analyseData)\n",
    "reload(prepData)\n",
    "reload(loadData)\n",
    "reload(modeling)\n",
    "reload(autoenc)"
   ]
  },
  {
   "cell_type": "code",
   "execution_count": 2,
   "id": "a3ffae4f",
   "metadata": {},
   "outputs": [],
   "source": [
    "# import own scripts\n",
    "import util.analyse_Data as analyseData\n",
    "import util.preprocess_Data as prepData\n",
    "import util.load_Data as loadData\n",
    "import util.modeling as modeling\n",
    "import util.autoencoder as autoenc"
   ]
  },
  {
   "cell_type": "code",
   "execution_count": 4,
   "id": "d7c6ba33",
   "metadata": {},
   "outputs": [],
   "source": [
    "# parse & handle data\n",
    "import os\n",
    "import csv\n",
    "import numpy as np\n",
    "import pandas as pd\n",
    "import networkx as nx # graph data\n",
    "\n",
    "# modeling\n",
    "import torch\n",
    "from torch_geometric.nn import GAE, VGAE\n",
    "from sklearn.ensemble import RandomForestClassifier\n",
    "from sklearn.linear_model import LogisticRegressionCV\n",
    "from sklearn.svm import SVC\n",
    "from sklearn.preprocessing import StandardScaler\n",
    "from sklearn.pipeline import make_pipeline\n",
    "from xgboost import XGBClassifier\n",
    "\n",
    "# hyperparameter tuning\n",
    "from ray import tune, air\n",
    "from ray.tune import CLIReporter, JupyterNotebookReporter\n",
    "from ray.tune.search.hyperopt import HyperOptSearch\n",
    "from ray.tune.schedulers import ASHAScheduler, MedianStoppingRule, PopulationBasedTraining\n",
    "from ray.tune.stopper import MaximumIterationStopper\n",
    "from ray.tune.experiment.trial import Trial\n",
    "from ray.tune.sklearn import TuneSearchCV\n",
    "\n",
    "# evaluation\n",
    "from sklearn.metrics import accuracy_score, classification_report, confusion_matrix, ConfusionMatrixDisplay, roc_auc_score\n",
    "from sklearn.model_selection import PredefinedSplit, ShuffleSplit\n",
    "\n",
    "# visualization\n",
    "import matplotlib.pyplot as plt\n",
    "import seaborn as sns"
   ]
  },
  {
   "cell_type": "code",
   "execution_count": 5,
   "id": "c84a352e",
   "metadata": {},
   "outputs": [],
   "source": [
    "# set matplotlib and seaborn settings for nicer plots\n",
    "%matplotlib inline\n",
    "\n",
    "SMALL_SIZE = 6\n",
    "MEDIUM_SIZE = 8\n",
    "BIGGER_SIZE = 10\n",
    "\n",
    "plt.rc('font', size=SMALL_SIZE)          # controls default text sizes\n",
    "plt.rc('axes', titlesize=BIGGER_SIZE)    # fontsize of the axes title\n",
    "plt.rc('axes', labelsize=MEDIUM_SIZE)    # fontsize of the x and y labels\n",
    "plt.rc('xtick', labelsize=SMALL_SIZE)    # fontsize of the tick labels\n",
    "plt.rc('ytick', labelsize=SMALL_SIZE)    # fontsize of the tick labels\n",
    "plt.rc('legend', fontsize=MEDIUM_SIZE)   # legend fontsize\n",
    "plt.rc('figure', titlesize=BIGGER_SIZE)  # fontsize of the figure title"
   ]
  },
  {
   "cell_type": "markdown",
   "id": "74f20e78",
   "metadata": {},
   "source": [
    "### 2. Load Data for Modeling"
   ]
  },
  {
   "cell_type": "code",
   "execution_count": 20,
   "id": "c682248d",
   "metadata": {},
   "outputs": [
    {
     "name": "stdout",
     "output_type": "stream",
     "text": [
      "Number of positive edges for training: 3802\n",
      "Number of positive edges for validation: 1085\n",
      "Number of positive edges for test: 542\n",
      "Number of edges in original graph: 5429\n",
      "Number of edges in training graph: 3802\n",
      "Number of non-existing edges generated: 29971\n",
      "Number of negative edges for training: 3802\n",
      "Number of negative edges for validation: 1085\n",
      "Number of negative edges for test: 542\n"
     ]
    },
    {
     "data": {
      "application/vnd.jupyter.widget-view+json": {
       "model_id": "91db9cce1a19438cb18f41a88e073079",
       "version_major": 2,
       "version_minor": 0
      },
      "text/plain": [
       "Computing transition probabilities:   0%|          | 0/2708 [00:00<?, ?it/s]"
      ]
     },
     "metadata": {},
     "output_type": "display_data"
    },
    {
     "name": "stderr",
     "output_type": "stream",
     "text": [
      "Generating walks (CPU: 1): 100%|██████████| 10/10 [00:00<00:00, 11.64it/s]\n"
     ]
    },
    {
     "data": {
      "application/vnd.jupyter.widget-view+json": {
       "model_id": "327f3d7dc118486c923a7d8811f47cca",
       "version_major": 2,
       "version_minor": 0
      },
      "text/plain": [
       "Computing transition probabilities:   0%|          | 0/2708 [00:00<?, ?it/s]"
      ]
     },
     "metadata": {},
     "output_type": "display_data"
    },
    {
     "name": "stderr",
     "output_type": "stream",
     "text": [
      "Generating walks (CPU: 1): 100%|██████████| 10/10 [00:01<00:00,  9.20it/s]\n"
     ]
    },
    {
     "name": "stdout",
     "output_type": "stream",
     "text": [
      "Enriching train data...\n"
     ]
    },
    {
     "name": "stderr",
     "output_type": "stream",
     "text": [
      "/Users/macbookpro/Desktop/LABS/Network-Science_Final-Project/util/preprocess_Data.py:130: FutureWarning: adjacency_matrix will return a scipy.sparse array instead of a matrix in Networkx 3.0.\n",
      "  adj = nx.adjacency_matrix(G, nodelist = nodelist)\n",
      "/Users/macbookpro/Desktop/LABS/Network-Science_Final-Project/util/preprocess_Data.py:99: FutureWarning: adjacency_matrix will return a scipy.sparse array instead of a matrix in Networkx 3.0.\n",
      "  adj = nx.adjacency_matrix(G, nodelist = nodelist)\n"
     ]
    },
    {
     "name": "stdout",
     "output_type": "stream",
     "text": [
      "Enriching validation data...\n",
      "Enriching test data...\n"
     ]
    }
   ],
   "source": [
    "# might take up to a minute\n",
    "(G, G_train, node_info, train_tf, val_tf, trainval_tf, test_tf, \n",
    " X_train, y_train, X_val, y_val, X_trainval, \n",
    " y_trainval, X_test, y_test) = loadData.load_transform(val_ratio = 0.2, test_ratio = 0.1, n2v_train=True)"
   ]
  },
  {
   "cell_type": "code",
   "execution_count": 18,
   "id": "4c184a43",
   "metadata": {},
   "outputs": [
    {
     "name": "stdout",
     "output_type": "stream",
     "text": [
      "Index(['nodeInfo_dupl', 'nodeInfo_diff', 'source_DCT', 'target_DCT',\n",
      "       'BCT_diff', 'katz_idx', 'sim_rank', 'root_pagerank', 'node2vec_1',\n",
      "       'node2vec_2', 'node2vec_3', 'node2vec_4', 'friendLink', 'PR1', 'PR2'],\n",
      "      dtype='object')\n"
     ]
    }
   ],
   "source": [
    "print(X_test.columns)"
   ]
  },
  {
   "cell_type": "code",
   "execution_count": 7,
   "id": "de3f7777",
   "metadata": {},
   "outputs": [
    {
     "name": "stdout",
     "output_type": "stream",
     "text": [
      "Number of positive edges for training: 3802\n",
      "Number of positive edges for validation: 1085\n",
      "Number of positive edges for test: 542\n",
      "Number of edges in original graph: 5429\n",
      "Number of edges in training graph: 3802\n",
      "Number of non-existing edges generated: 29971\n",
      "Number of negative edges for training: 3802\n",
      "Number of negative edges for validation: 1085\n",
      "Number of negative edges for test: 542\n",
      "sum of train pos edges: 3802\n",
      "sum of train neg edges: 3802\n",
      "sum of val pos edges: 1085\n",
      "sum of val neg edges: 1085\n",
      "sum of train pos edges: 3802\n",
      "sum of train neg edges: 3802\n",
      "sum of val pos edges: 1085\n",
      "sum of val neg edges: 1085\n",
      "Enriching node features...\n"
     ]
    },
    {
     "data": {
      "application/vnd.jupyter.widget-view+json": {
       "model_id": "56ff7b1f49624ae9b70d94b0b7127e4e",
       "version_major": 2,
       "version_minor": 0
      },
      "text/plain": [
       "Computing transition probabilities:   0%|          | 0/2708 [00:00<?, ?it/s]"
      ]
     },
     "metadata": {},
     "output_type": "display_data"
    },
    {
     "name": "stderr",
     "output_type": "stream",
     "text": [
      "Generating walks (CPU: 1): 100%|██████████| 10/10 [00:00<00:00, 12.12it/s]\n",
      "/Users/macbookpro/Library/Python/3.9/lib/python/site-packages/networkx/algorithms/link_analysis/hits_alg.py:78: FutureWarning: adjacency_matrix will return a scipy.sparse array instead of a matrix in Networkx 3.0.\n",
      "  A = nx.adjacency_matrix(G, nodelist=list(G), dtype=float)\n"
     ]
    },
    {
     "data": {
      "application/vnd.jupyter.widget-view+json": {
       "model_id": "9855b17d841948a4817e85b985eb3479",
       "version_major": 2,
       "version_minor": 0
      },
      "text/plain": [
       "Computing transition probabilities:   0%|          | 0/2708 [00:00<?, ?it/s]"
      ]
     },
     "metadata": {},
     "output_type": "display_data"
    },
    {
     "name": "stderr",
     "output_type": "stream",
     "text": [
      "Generating walks (CPU: 1): 100%|██████████| 10/10 [00:00<00:00, 11.01it/s]\n"
     ]
    },
    {
     "name": "stdout",
     "output_type": "stream",
     "text": [
      "Create PyTorch Geometric dataset...\n"
     ]
    }
   ],
   "source": [
    "# might take up to a minute\n",
    "data, _ = autoenc.load(val_ratio = 0.2, test_ratio = 0.1)"
   ]
  },
  {
   "cell_type": "code",
   "execution_count": 9,
   "id": "a785877b",
   "metadata": {},
   "outputs": [],
   "source": [
    "# get node embeddings (IF YOU CHANGE SEED = 42, then you need to train new autoencoder as train-val split is different)\n",
    "\n",
    "# load best autoencoder\n",
    "path = os.path.abspath(\"\")+\"/models/VGNAE_0.001_0_4c954_00000\\\\autoencoder.pt\"\n",
    "\n",
    "model = VGAE(autoenc.Encoder(data.x.size()[1], 64, 1.5, 5, 0.2, 0.01))\n",
    "model.load_state_dict(torch.load(path, map_location=torch.device('cpu')))\n",
    "\n",
    "# get embeddings of nodes\n",
    "embedding = autoenc.get_embeddings(model, data.x, data.trainval_edges)\n",
    "node_emb = pd.DataFrame(embedding).rename(columns = {val: f\"x{val+1}\" for val in range(embedding.shape[1])})\n",
    "\n",
    "# enrich train\n",
    "train_sim = pd.DataFrame(autoenc.get_similarity(model, data.x, data.train_pos_edges, data.train_edges)).rename(columns = {0: \"sim\"})\n",
    "train_tf = (train_tf\n",
    "    .assign(sim = train_sim.sim.values)\n",
    "    .assign(dist = lambda df_: [np.linalg.norm(node_emb.loc[u].values-node_emb.loc[v].values) for u, v in zip(df_.source, df_.target)])\n",
    ")\n",
    "\n",
    "# enrich val\n",
    "val_sim = pd.DataFrame(autoenc.get_similarity(model, data.x, data.train_pos_edges, data.val_edges)).rename(columns = {0: \"sim\"})\n",
    "val_tf = (val_tf\n",
    "    .assign(sim = val_sim.sim.values)\n",
    "    .assign(dist = lambda df_: [np.linalg.norm(node_emb.loc[u].values-node_emb.loc[v].values) for u, v in zip(df_.source, df_.target)])\n",
    ")\n",
    "\n",
    "# enrich test\n",
    "test_sim = pd.DataFrame(autoenc.get_similarity(model, data.x, data.trainval_pos_edges, data.test_edges)).rename(columns = {0: \"sim\"})\n",
    "test_tf = (test_tf\n",
    "    .assign(sim = test_sim.sim.values)\n",
    "    .assign(dist = lambda df_: [np.linalg.norm(node_emb.loc[u].values-node_emb.loc[v].values) for u, v in zip(df_.source, df_.target)])\n",
    ")\n",
    "\n",
    "# split\n",
    "X_train, y_train = loadData.split_frame(train_tf)\n",
    "X_val, y_val     = loadData.split_frame(val_tf)\n",
    "X_test           = loadData.split_frame(test_tf)\n",
    "\n",
    "# merge to get trainval data\n",
    "X_trainval = pd.concat([X_train, X_val])\n",
    "y_trainval = pd.concat([y_train, y_val])"
   ]
  },
  {
   "cell_type": "code",
   "execution_count": 10,
   "id": "242bc6d6",
   "metadata": {},
   "outputs": [
    {
     "ename": "AttributeError",
     "evalue": "module 'util.analyse_Data' has no attribute 'plot_corr_matrix'",
     "output_type": "error",
     "traceback": [
      "\u001b[0;31m---------------------------------------------------------------------------\u001b[0m",
      "\u001b[0;31mAttributeError\u001b[0m                            Traceback (most recent call last)",
      "\u001b[0;32m/var/folders/wl/zfv53bfx13j4zx15j58_cby00000gn/T/ipykernel_62745/100273484.py\u001b[0m in \u001b[0;36m<module>\u001b[0;34m\u001b[0m\n\u001b[1;32m      1\u001b[0m \u001b[0;31m# plot correlation with target (first train, then validation)\u001b[0m\u001b[0;34m\u001b[0m\u001b[0;34m\u001b[0m\u001b[0m\n\u001b[1;32m      2\u001b[0m \u001b[0;32mfor\u001b[0m \u001b[0mdf\u001b[0m \u001b[0;32min\u001b[0m \u001b[0;34m[\u001b[0m\u001b[0mtrain_tf\u001b[0m\u001b[0;34m,\u001b[0m \u001b[0mval_tf\u001b[0m\u001b[0;34m]\u001b[0m\u001b[0;34m:\u001b[0m\u001b[0;34m\u001b[0m\u001b[0;34m\u001b[0m\u001b[0m\n\u001b[0;32m----> 3\u001b[0;31m     \u001b[0manalyseData\u001b[0m\u001b[0;34m.\u001b[0m\u001b[0mplot_corr_matrix\u001b[0m\u001b[0;34m(\u001b[0m\u001b[0mdf\u001b[0m\u001b[0;34m.\u001b[0m\u001b[0miloc\u001b[0m\u001b[0;34m[\u001b[0m\u001b[0;34m:\u001b[0m\u001b[0;34m,\u001b[0m \u001b[0;36m2\u001b[0m\u001b[0;34m:\u001b[0m\u001b[0;34m]\u001b[0m\u001b[0;34m)\u001b[0m\u001b[0;34m\u001b[0m\u001b[0;34m\u001b[0m\u001b[0m\n\u001b[0m",
      "\u001b[0;31mAttributeError\u001b[0m: module 'util.analyse_Data' has no attribute 'plot_corr_matrix'"
     ]
    }
   ],
   "source": [
    "# plot correlation with target (first train, then validation)\n",
    "for df in [train_tf, val_tf]:\n",
    "    analyseData.plot_corr_matrix(df.iloc[:, 2:])"
   ]
  },
  {
   "cell_type": "code",
   "execution_count": 11,
   "id": "32b56632",
   "metadata": {},
   "outputs": [
    {
     "data": {
      "text/plain": [
       "<seaborn.axisgrid.PairGrid at 0x7fd210d5d100>"
      ]
     },
     "execution_count": 11,
     "metadata": {},
     "output_type": "execute_result"
    },
    {
     "ename": "UnicodeDecodeError",
     "evalue": "'utf-8' codec can't decode byte 0x89 in position 0: invalid start byte",
     "output_type": "error",
     "traceback": [
      "\u001b[0;31m---------------------------------------------------------------------------\u001b[0m",
      "\u001b[0;31mUnicodeDecodeError\u001b[0m                        Traceback (most recent call last)",
      "\u001b[0;32m/Library/Frameworks/Python.framework/Versions/3.9/lib/python3.9/site-packages/matplotlib_inline/backend_inline.py\u001b[0m in \u001b[0;36mshow\u001b[0;34m(close, block)\u001b[0m\n\u001b[1;32m     39\u001b[0m     \u001b[0;32mtry\u001b[0m\u001b[0;34m:\u001b[0m\u001b[0;34m\u001b[0m\u001b[0;34m\u001b[0m\u001b[0m\n\u001b[1;32m     40\u001b[0m         \u001b[0;32mfor\u001b[0m \u001b[0mfigure_manager\u001b[0m \u001b[0;32min\u001b[0m \u001b[0mGcf\u001b[0m\u001b[0;34m.\u001b[0m\u001b[0mget_all_fig_managers\u001b[0m\u001b[0;34m(\u001b[0m\u001b[0;34m)\u001b[0m\u001b[0;34m:\u001b[0m\u001b[0;34m\u001b[0m\u001b[0;34m\u001b[0m\u001b[0m\n\u001b[0;32m---> 41\u001b[0;31m             display(\n\u001b[0m\u001b[1;32m     42\u001b[0m                 \u001b[0mfigure_manager\u001b[0m\u001b[0;34m.\u001b[0m\u001b[0mcanvas\u001b[0m\u001b[0;34m.\u001b[0m\u001b[0mfigure\u001b[0m\u001b[0;34m,\u001b[0m\u001b[0;34m\u001b[0m\u001b[0;34m\u001b[0m\u001b[0m\n\u001b[1;32m     43\u001b[0m                 \u001b[0mmetadata\u001b[0m\u001b[0;34m=\u001b[0m\u001b[0m_fetch_figure_metadata\u001b[0m\u001b[0;34m(\u001b[0m\u001b[0mfigure_manager\u001b[0m\u001b[0;34m.\u001b[0m\u001b[0mcanvas\u001b[0m\u001b[0;34m.\u001b[0m\u001b[0mfigure\u001b[0m\u001b[0;34m)\u001b[0m\u001b[0;34m\u001b[0m\u001b[0;34m\u001b[0m\u001b[0m\n",
      "\u001b[0;32m/Library/Frameworks/Python.framework/Versions/3.9/lib/python3.9/site-packages/IPython/core/display.py\u001b[0m in \u001b[0;36mdisplay\u001b[0;34m(include, exclude, metadata, transient, display_id, *objs, **kwargs)\u001b[0m\n\u001b[1;32m    325\u001b[0m                 \u001b[0;31m# kwarg-specified metadata gets precedence\u001b[0m\u001b[0;34m\u001b[0m\u001b[0;34m\u001b[0m\u001b[0m\n\u001b[1;32m    326\u001b[0m                 \u001b[0m_merge\u001b[0m\u001b[0;34m(\u001b[0m\u001b[0mmd_dict\u001b[0m\u001b[0;34m,\u001b[0m \u001b[0mmetadata\u001b[0m\u001b[0;34m)\u001b[0m\u001b[0;34m\u001b[0m\u001b[0;34m\u001b[0m\u001b[0m\n\u001b[0;32m--> 327\u001b[0;31m             \u001b[0mpublish_display_data\u001b[0m\u001b[0;34m(\u001b[0m\u001b[0mdata\u001b[0m\u001b[0;34m=\u001b[0m\u001b[0mformat_dict\u001b[0m\u001b[0;34m,\u001b[0m \u001b[0mmetadata\u001b[0m\u001b[0;34m=\u001b[0m\u001b[0mmd_dict\u001b[0m\u001b[0;34m,\u001b[0m \u001b[0;34m**\u001b[0m\u001b[0mkwargs\u001b[0m\u001b[0;34m)\u001b[0m\u001b[0;34m\u001b[0m\u001b[0;34m\u001b[0m\u001b[0m\n\u001b[0m\u001b[1;32m    328\u001b[0m     \u001b[0;32mif\u001b[0m \u001b[0mdisplay_id\u001b[0m\u001b[0;34m:\u001b[0m\u001b[0;34m\u001b[0m\u001b[0;34m\u001b[0m\u001b[0m\n\u001b[1;32m    329\u001b[0m         \u001b[0;32mreturn\u001b[0m \u001b[0mDisplayHandle\u001b[0m\u001b[0;34m(\u001b[0m\u001b[0mdisplay_id\u001b[0m\u001b[0;34m)\u001b[0m\u001b[0;34m\u001b[0m\u001b[0;34m\u001b[0m\u001b[0m\n",
      "\u001b[0;32m/Library/Frameworks/Python.framework/Versions/3.9/lib/python3.9/site-packages/IPython/core/display.py\u001b[0m in \u001b[0;36mpublish_display_data\u001b[0;34m(data, metadata, source, transient, **kwargs)\u001b[0m\n\u001b[1;32m    117\u001b[0m         \u001b[0mkwargs\u001b[0m\u001b[0;34m[\u001b[0m\u001b[0;34m'transient'\u001b[0m\u001b[0;34m]\u001b[0m \u001b[0;34m=\u001b[0m \u001b[0mtransient\u001b[0m\u001b[0;34m\u001b[0m\u001b[0;34m\u001b[0m\u001b[0m\n\u001b[1;32m    118\u001b[0m \u001b[0;34m\u001b[0m\u001b[0m\n\u001b[0;32m--> 119\u001b[0;31m     display_pub.publish(\n\u001b[0m\u001b[1;32m    120\u001b[0m         \u001b[0mdata\u001b[0m\u001b[0;34m=\u001b[0m\u001b[0mdata\u001b[0m\u001b[0;34m,\u001b[0m\u001b[0;34m\u001b[0m\u001b[0;34m\u001b[0m\u001b[0m\n\u001b[1;32m    121\u001b[0m         \u001b[0mmetadata\u001b[0m\u001b[0;34m=\u001b[0m\u001b[0mmetadata\u001b[0m\u001b[0;34m,\u001b[0m\u001b[0;34m\u001b[0m\u001b[0;34m\u001b[0m\u001b[0m\n",
      "\u001b[0;32m/Library/Frameworks/Python.framework/Versions/3.9/lib/python3.9/site-packages/ipykernel/zmqshell.py\u001b[0m in \u001b[0;36mpublish\u001b[0;34m(self, data, metadata, transient, update)\u001b[0m\n\u001b[1;32m    136\u001b[0m                 \u001b[0;32mreturn\u001b[0m\u001b[0;34m\u001b[0m\u001b[0;34m\u001b[0m\u001b[0m\n\u001b[1;32m    137\u001b[0m \u001b[0;34m\u001b[0m\u001b[0m\n\u001b[0;32m--> 138\u001b[0;31m         self.session.send(\n\u001b[0m\u001b[1;32m    139\u001b[0m             \u001b[0mself\u001b[0m\u001b[0;34m.\u001b[0m\u001b[0mpub_socket\u001b[0m\u001b[0;34m,\u001b[0m \u001b[0mmsg\u001b[0m\u001b[0;34m,\u001b[0m \u001b[0mident\u001b[0m\u001b[0;34m=\u001b[0m\u001b[0mself\u001b[0m\u001b[0;34m.\u001b[0m\u001b[0mtopic\u001b[0m\u001b[0;34m,\u001b[0m\u001b[0;34m\u001b[0m\u001b[0;34m\u001b[0m\u001b[0m\n\u001b[1;32m    140\u001b[0m         )\n",
      "\u001b[0;32m/Library/Frameworks/Python.framework/Versions/3.9/lib/python3.9/site-packages/jupyter_client/session.py\u001b[0m in \u001b[0;36msend\u001b[0;34m(self, stream, msg_or_type, content, parent, ident, buffers, track, header, metadata)\u001b[0m\n\u001b[1;32m    828\u001b[0m         \u001b[0;32mif\u001b[0m \u001b[0mself\u001b[0m\u001b[0;34m.\u001b[0m\u001b[0madapt_version\u001b[0m\u001b[0;34m:\u001b[0m\u001b[0;34m\u001b[0m\u001b[0;34m\u001b[0m\u001b[0m\n\u001b[1;32m    829\u001b[0m             \u001b[0mmsg\u001b[0m \u001b[0;34m=\u001b[0m \u001b[0madapt\u001b[0m\u001b[0;34m(\u001b[0m\u001b[0mmsg\u001b[0m\u001b[0;34m,\u001b[0m \u001b[0mself\u001b[0m\u001b[0;34m.\u001b[0m\u001b[0madapt_version\u001b[0m\u001b[0;34m)\u001b[0m\u001b[0;34m\u001b[0m\u001b[0;34m\u001b[0m\u001b[0m\n\u001b[0;32m--> 830\u001b[0;31m         \u001b[0mto_send\u001b[0m \u001b[0;34m=\u001b[0m \u001b[0mself\u001b[0m\u001b[0;34m.\u001b[0m\u001b[0mserialize\u001b[0m\u001b[0;34m(\u001b[0m\u001b[0mmsg\u001b[0m\u001b[0;34m,\u001b[0m \u001b[0mident\u001b[0m\u001b[0;34m)\u001b[0m\u001b[0;34m\u001b[0m\u001b[0;34m\u001b[0m\u001b[0m\n\u001b[0m\u001b[1;32m    831\u001b[0m         \u001b[0mto_send\u001b[0m\u001b[0;34m.\u001b[0m\u001b[0mextend\u001b[0m\u001b[0;34m(\u001b[0m\u001b[0mbuffers\u001b[0m\u001b[0;34m)\u001b[0m\u001b[0;34m\u001b[0m\u001b[0;34m\u001b[0m\u001b[0m\n\u001b[1;32m    832\u001b[0m         \u001b[0mlongest\u001b[0m \u001b[0;34m=\u001b[0m \u001b[0mmax\u001b[0m\u001b[0;34m(\u001b[0m\u001b[0;34m[\u001b[0m\u001b[0mlen\u001b[0m\u001b[0;34m(\u001b[0m\u001b[0ms\u001b[0m\u001b[0;34m)\u001b[0m \u001b[0;32mfor\u001b[0m \u001b[0ms\u001b[0m \u001b[0;32min\u001b[0m \u001b[0mto_send\u001b[0m\u001b[0;34m]\u001b[0m\u001b[0;34m)\u001b[0m\u001b[0;34m\u001b[0m\u001b[0;34m\u001b[0m\u001b[0m\n",
      "\u001b[0;32m/Library/Frameworks/Python.framework/Versions/3.9/lib/python3.9/site-packages/jupyter_client/session.py\u001b[0m in \u001b[0;36mserialize\u001b[0;34m(self, msg, ident)\u001b[0m\n\u001b[1;32m    702\u001b[0m             \u001b[0mcontent\u001b[0m \u001b[0;34m=\u001b[0m \u001b[0mself\u001b[0m\u001b[0;34m.\u001b[0m\u001b[0mnone\u001b[0m\u001b[0;34m\u001b[0m\u001b[0;34m\u001b[0m\u001b[0m\n\u001b[1;32m    703\u001b[0m         \u001b[0;32melif\u001b[0m \u001b[0misinstance\u001b[0m\u001b[0;34m(\u001b[0m\u001b[0mcontent\u001b[0m\u001b[0;34m,\u001b[0m \u001b[0mdict\u001b[0m\u001b[0;34m)\u001b[0m\u001b[0;34m:\u001b[0m\u001b[0;34m\u001b[0m\u001b[0;34m\u001b[0m\u001b[0m\n\u001b[0;32m--> 704\u001b[0;31m             \u001b[0mcontent\u001b[0m \u001b[0;34m=\u001b[0m \u001b[0mself\u001b[0m\u001b[0;34m.\u001b[0m\u001b[0mpack\u001b[0m\u001b[0;34m(\u001b[0m\u001b[0mcontent\u001b[0m\u001b[0;34m)\u001b[0m\u001b[0;34m\u001b[0m\u001b[0;34m\u001b[0m\u001b[0m\n\u001b[0m\u001b[1;32m    705\u001b[0m         \u001b[0;32melif\u001b[0m \u001b[0misinstance\u001b[0m\u001b[0;34m(\u001b[0m\u001b[0mcontent\u001b[0m\u001b[0;34m,\u001b[0m \u001b[0mbytes\u001b[0m\u001b[0;34m)\u001b[0m\u001b[0;34m:\u001b[0m\u001b[0;34m\u001b[0m\u001b[0;34m\u001b[0m\u001b[0m\n\u001b[1;32m    706\u001b[0m             \u001b[0;31m# content is already packed, as in a relayed message\u001b[0m\u001b[0;34m\u001b[0m\u001b[0;34m\u001b[0m\u001b[0m\n",
      "\u001b[0;32m/Library/Frameworks/Python.framework/Versions/3.9/lib/python3.9/site-packages/jupyter_client/session.py\u001b[0m in \u001b[0;36mjson_packer\u001b[0;34m(obj)\u001b[0m\n\u001b[1;32m     93\u001b[0m \u001b[0;34m\u001b[0m\u001b[0m\n\u001b[1;32m     94\u001b[0m \u001b[0;32mdef\u001b[0m \u001b[0mjson_packer\u001b[0m\u001b[0;34m(\u001b[0m\u001b[0mobj\u001b[0m\u001b[0;34m)\u001b[0m\u001b[0;34m:\u001b[0m\u001b[0;34m\u001b[0m\u001b[0;34m\u001b[0m\u001b[0m\n\u001b[0;32m---> 95\u001b[0;31m     return jsonapi.dumps(\n\u001b[0m\u001b[1;32m     96\u001b[0m         \u001b[0mobj\u001b[0m\u001b[0;34m,\u001b[0m\u001b[0;34m\u001b[0m\u001b[0;34m\u001b[0m\u001b[0m\n\u001b[1;32m     97\u001b[0m         \u001b[0mdefault\u001b[0m\u001b[0;34m=\u001b[0m\u001b[0mjson_default\u001b[0m\u001b[0;34m,\u001b[0m\u001b[0;34m\u001b[0m\u001b[0;34m\u001b[0m\u001b[0m\n",
      "\u001b[0;32m~/Library/Python/3.9/lib/python/site-packages/zmq/utils/jsonapi.py\u001b[0m in \u001b[0;36mdumps\u001b[0;34m(o, **kwargs)\u001b[0m\n\u001b[1;32m     38\u001b[0m         \u001b[0mkwargs\u001b[0m\u001b[0;34m[\u001b[0m\u001b[0;34m'separators'\u001b[0m\u001b[0;34m]\u001b[0m \u001b[0;34m=\u001b[0m \u001b[0;34m(\u001b[0m\u001b[0;34m','\u001b[0m\u001b[0;34m,\u001b[0m \u001b[0;34m':'\u001b[0m\u001b[0;34m)\u001b[0m\u001b[0;34m\u001b[0m\u001b[0;34m\u001b[0m\u001b[0m\n\u001b[1;32m     39\u001b[0m \u001b[0;34m\u001b[0m\u001b[0m\n\u001b[0;32m---> 40\u001b[0;31m     \u001b[0ms\u001b[0m \u001b[0;34m=\u001b[0m \u001b[0mjsonmod\u001b[0m\u001b[0;34m.\u001b[0m\u001b[0mdumps\u001b[0m\u001b[0;34m(\u001b[0m\u001b[0mo\u001b[0m\u001b[0;34m,\u001b[0m \u001b[0;34m**\u001b[0m\u001b[0mkwargs\u001b[0m\u001b[0;34m)\u001b[0m\u001b[0;34m\u001b[0m\u001b[0;34m\u001b[0m\u001b[0m\n\u001b[0m\u001b[1;32m     41\u001b[0m \u001b[0;34m\u001b[0m\u001b[0m\n\u001b[1;32m     42\u001b[0m     \u001b[0;32mif\u001b[0m \u001b[0misinstance\u001b[0m\u001b[0;34m(\u001b[0m\u001b[0ms\u001b[0m\u001b[0;34m,\u001b[0m \u001b[0municode\u001b[0m\u001b[0;34m)\u001b[0m\u001b[0;34m:\u001b[0m\u001b[0;34m\u001b[0m\u001b[0;34m\u001b[0m\u001b[0m\n",
      "\u001b[0;32m~/Library/Python/3.9/lib/python/site-packages/simplejson/__init__.py\u001b[0m in \u001b[0;36mdumps\u001b[0;34m(obj, skipkeys, ensure_ascii, check_circular, allow_nan, cls, indent, separators, encoding, default, use_decimal, namedtuple_as_object, tuple_as_array, bigint_as_string, sort_keys, item_sort_key, for_json, ignore_nan, int_as_string_bitcount, iterable_as_array, **kw)\u001b[0m\n\u001b[1;32m    379\u001b[0m     \u001b[0;32mif\u001b[0m \u001b[0mcls\u001b[0m \u001b[0;32mis\u001b[0m \u001b[0;32mNone\u001b[0m\u001b[0;34m:\u001b[0m\u001b[0;34m\u001b[0m\u001b[0;34m\u001b[0m\u001b[0m\n\u001b[1;32m    380\u001b[0m         \u001b[0mcls\u001b[0m \u001b[0;34m=\u001b[0m \u001b[0mJSONEncoder\u001b[0m\u001b[0;34m\u001b[0m\u001b[0;34m\u001b[0m\u001b[0m\n\u001b[0;32m--> 381\u001b[0;31m     return cls(\n\u001b[0m\u001b[1;32m    382\u001b[0m         \u001b[0mskipkeys\u001b[0m\u001b[0;34m=\u001b[0m\u001b[0mskipkeys\u001b[0m\u001b[0;34m,\u001b[0m \u001b[0mensure_ascii\u001b[0m\u001b[0;34m=\u001b[0m\u001b[0mensure_ascii\u001b[0m\u001b[0;34m,\u001b[0m\u001b[0;34m\u001b[0m\u001b[0;34m\u001b[0m\u001b[0m\n\u001b[1;32m    383\u001b[0m         \u001b[0mcheck_circular\u001b[0m\u001b[0;34m=\u001b[0m\u001b[0mcheck_circular\u001b[0m\u001b[0;34m,\u001b[0m \u001b[0mallow_nan\u001b[0m\u001b[0;34m=\u001b[0m\u001b[0mallow_nan\u001b[0m\u001b[0;34m,\u001b[0m \u001b[0mindent\u001b[0m\u001b[0;34m=\u001b[0m\u001b[0mindent\u001b[0m\u001b[0;34m,\u001b[0m\u001b[0;34m\u001b[0m\u001b[0;34m\u001b[0m\u001b[0m\n",
      "\u001b[0;32m~/Library/Python/3.9/lib/python/site-packages/simplejson/encoder.py\u001b[0m in \u001b[0;36mencode\u001b[0;34m(self, o)\u001b[0m\n\u001b[1;32m    296\u001b[0m         \u001b[0;31m# exceptions aren't as detailed.  The list call should be roughly\u001b[0m\u001b[0;34m\u001b[0m\u001b[0;34m\u001b[0m\u001b[0m\n\u001b[1;32m    297\u001b[0m         \u001b[0;31m# equivalent to the PySequence_Fast that ''.join() would do.\u001b[0m\u001b[0;34m\u001b[0m\u001b[0;34m\u001b[0m\u001b[0m\n\u001b[0;32m--> 298\u001b[0;31m         \u001b[0mchunks\u001b[0m \u001b[0;34m=\u001b[0m \u001b[0mself\u001b[0m\u001b[0;34m.\u001b[0m\u001b[0miterencode\u001b[0m\u001b[0;34m(\u001b[0m\u001b[0mo\u001b[0m\u001b[0;34m)\u001b[0m\u001b[0;34m\u001b[0m\u001b[0;34m\u001b[0m\u001b[0m\n\u001b[0m\u001b[1;32m    299\u001b[0m         \u001b[0;32mif\u001b[0m \u001b[0;32mnot\u001b[0m \u001b[0misinstance\u001b[0m\u001b[0;34m(\u001b[0m\u001b[0mchunks\u001b[0m\u001b[0;34m,\u001b[0m \u001b[0;34m(\u001b[0m\u001b[0mlist\u001b[0m\u001b[0;34m,\u001b[0m \u001b[0mtuple\u001b[0m\u001b[0;34m)\u001b[0m\u001b[0;34m)\u001b[0m\u001b[0;34m:\u001b[0m\u001b[0;34m\u001b[0m\u001b[0;34m\u001b[0m\u001b[0m\n\u001b[1;32m    300\u001b[0m             \u001b[0mchunks\u001b[0m \u001b[0;34m=\u001b[0m \u001b[0mlist\u001b[0m\u001b[0;34m(\u001b[0m\u001b[0mchunks\u001b[0m\u001b[0;34m)\u001b[0m\u001b[0;34m\u001b[0m\u001b[0;34m\u001b[0m\u001b[0m\n",
      "\u001b[0;32m~/Library/Python/3.9/lib/python/site-packages/simplejson/encoder.py\u001b[0m in \u001b[0;36miterencode\u001b[0;34m(self, o)\u001b[0m\n\u001b[1;32m    377\u001b[0m                 self.iterable_as_array, Decimal=decimal.Decimal)\n\u001b[1;32m    378\u001b[0m         \u001b[0;32mtry\u001b[0m\u001b[0;34m:\u001b[0m\u001b[0;34m\u001b[0m\u001b[0;34m\u001b[0m\u001b[0m\n\u001b[0;32m--> 379\u001b[0;31m             \u001b[0;32mreturn\u001b[0m \u001b[0m_iterencode\u001b[0m\u001b[0;34m(\u001b[0m\u001b[0mo\u001b[0m\u001b[0;34m,\u001b[0m \u001b[0;36m0\u001b[0m\u001b[0;34m)\u001b[0m\u001b[0;34m\u001b[0m\u001b[0;34m\u001b[0m\u001b[0m\n\u001b[0m\u001b[1;32m    380\u001b[0m         \u001b[0;32mfinally\u001b[0m\u001b[0;34m:\u001b[0m\u001b[0;34m\u001b[0m\u001b[0;34m\u001b[0m\u001b[0m\n\u001b[1;32m    381\u001b[0m             \u001b[0mkey_memo\u001b[0m\u001b[0;34m.\u001b[0m\u001b[0mclear\u001b[0m\u001b[0;34m(\u001b[0m\u001b[0;34m)\u001b[0m\u001b[0;34m\u001b[0m\u001b[0;34m\u001b[0m\u001b[0m\n",
      "\u001b[0;32m~/Library/Python/3.9/lib/python/site-packages/simplejson/encoder.py\u001b[0m in \u001b[0;36mencode_basestring\u001b[0;34m(s, _PY3, _q)\u001b[0m\n\u001b[1;32m     43\u001b[0m     \u001b[0;32mif\u001b[0m \u001b[0m_PY3\u001b[0m\u001b[0;34m:\u001b[0m\u001b[0;34m\u001b[0m\u001b[0;34m\u001b[0m\u001b[0m\n\u001b[1;32m     44\u001b[0m         \u001b[0;32mif\u001b[0m \u001b[0misinstance\u001b[0m\u001b[0;34m(\u001b[0m\u001b[0ms\u001b[0m\u001b[0;34m,\u001b[0m \u001b[0mbytes\u001b[0m\u001b[0;34m)\u001b[0m\u001b[0;34m:\u001b[0m\u001b[0;34m\u001b[0m\u001b[0;34m\u001b[0m\u001b[0m\n\u001b[0;32m---> 45\u001b[0;31m             \u001b[0ms\u001b[0m \u001b[0;34m=\u001b[0m \u001b[0mstr\u001b[0m\u001b[0;34m(\u001b[0m\u001b[0ms\u001b[0m\u001b[0;34m,\u001b[0m \u001b[0;34m'utf-8'\u001b[0m\u001b[0;34m)\u001b[0m\u001b[0;34m\u001b[0m\u001b[0;34m\u001b[0m\u001b[0m\n\u001b[0m\u001b[1;32m     46\u001b[0m         \u001b[0;32melif\u001b[0m \u001b[0mtype\u001b[0m\u001b[0;34m(\u001b[0m\u001b[0ms\u001b[0m\u001b[0;34m)\u001b[0m \u001b[0;32mis\u001b[0m \u001b[0;32mnot\u001b[0m \u001b[0mstr\u001b[0m\u001b[0;34m:\u001b[0m\u001b[0;34m\u001b[0m\u001b[0;34m\u001b[0m\u001b[0m\n\u001b[1;32m     47\u001b[0m             \u001b[0;31m# convert an str subclass instance to exact str\u001b[0m\u001b[0;34m\u001b[0m\u001b[0;34m\u001b[0m\u001b[0m\n",
      "\u001b[0;31mUnicodeDecodeError\u001b[0m: 'utf-8' codec can't decode byte 0x89 in position 0: invalid start byte"
     ]
    }
   ],
   "source": [
    "sns.pairplot(val_tf[[\"sim\", \"y\"]], hue = \"y\")"
   ]
  },
  {
   "attachments": {},
   "cell_type": "markdown",
   "id": "22c80136",
   "metadata": {},
   "source": [
    "### 3. Supervised Link Prediction"
   ]
  },
  {
   "cell_type": "code",
   "execution_count": 15,
   "id": "99e6633e",
   "metadata": {},
   "outputs": [
    {
     "ename": "AttributeError",
     "evalue": "'tuple' object has no attribute 'columns'",
     "output_type": "error",
     "traceback": [
      "\u001b[0;31m---------------------------------------------------------------------------\u001b[0m",
      "\u001b[0;31mAttributeError\u001b[0m                            Traceback (most recent call last)",
      "\u001b[0;32m/var/folders/wl/zfv53bfx13j4zx15j58_cby00000gn/T/ipykernel_62745/1432695787.py\u001b[0m in \u001b[0;36m<module>\u001b[0;34m\u001b[0m\n\u001b[0;32m----> 1\u001b[0;31m \u001b[0mprint\u001b[0m\u001b[0;34m(\u001b[0m\u001b[0mX_test\u001b[0m\u001b[0;34m.\u001b[0m\u001b[0mcolumns\u001b[0m\u001b[0;34m)\u001b[0m\u001b[0;34m\u001b[0m\u001b[0;34m\u001b[0m\u001b[0m\n\u001b[0m",
      "\u001b[0;31mAttributeError\u001b[0m: 'tuple' object has no attribute 'columns'"
     ]
    }
   ],
   "source": [
    "print(X_test.columns)"
   ]
  },
  {
   "cell_type": "code",
   "execution_count": 32,
   "id": "cc97d3be",
   "metadata": {},
   "outputs": [
    {
     "data": {
      "text/plain": [
       "1"
      ]
     },
     "execution_count": 32,
     "metadata": {},
     "output_type": "execute_result"
    }
   ],
   "source": [
    "# prepare datasets for supervised methods, removing features highly correlated with target in train set but not in val set\n",
    "cols = ['source_DCT', 'target_DCT', 'BCT_diff', 'katz_idx', 'node2vec_1', 'node2vec_2', 'node2vec_3', 'node2vec_4',\n",
    "       'friendLink', 'PR1', 'PR2', 'sim', 'dist']\n",
    "X_trainval_sv  =  X_trainval[[col for col in X_trainval.columns  if col in cols]]\n",
    "X_train_sv  =  X_train[[col for col in X_train.columns  if col in cols]]\n",
    "X_val_sv  =  X_val[[col for col in X_val.columns  if col in cols]]\n",
    "X_test_sv  =  X_test[[col for col in X_test.columns  if col in cols]]\n",
    "\n",
    "# preparing predifined cv split for sklearn\n",
    "val_fold = [0 if i in X_val_sv.index else -1 for i in X_trainval_sv.index]\n",
    "ps = PredefinedSplit(val_fold)\n",
    "ps.get_n_splits()"
   ]
  },
  {
   "cell_type": "code",
   "execution_count": 33,
   "id": "c6f8d2eb",
   "metadata": {},
   "outputs": [
    {
     "data": {
      "text/plain": [
       "source_DCT    0\n",
       "target_DCT    0\n",
       "BCT_diff      0\n",
       "katz_idx      0\n",
       "node2vec_1    0\n",
       "node2vec_2    0\n",
       "node2vec_3    0\n",
       "node2vec_4    0\n",
       "friendLink    0\n",
       "PR1           0\n",
       "PR2           0\n",
       "dtype: int64"
      ]
     },
     "execution_count": 33,
     "metadata": {},
     "output_type": "execute_result"
    }
   ],
   "source": [
    "X_trainval_sv.isna().sum()"
   ]
  },
  {
   "attachments": {},
   "cell_type": "markdown",
   "id": "0f4659df",
   "metadata": {},
   "source": [
    "##### a) Logistic Regression"
   ]
  },
  {
   "cell_type": "code",
   "execution_count": 36,
   "id": "b5480576",
   "metadata": {},
   "outputs": [
    {
     "name": "stdout",
     "output_type": "stream",
     "text": [
      "Acc train: 0.8175772457540413\n",
      "Acc val: 0.7525345622119816\n",
      "Acc test: 0.7564575645756457\n"
     ]
    }
   ],
   "source": [
    "# logistic regression\n",
    "\n",
    "clf = LogisticRegressionCV(max_iter = 10000, cv = ps)\n",
    "clf.fit(X_trainval_sv, y_trainval)\n",
    "\n",
    "# predict val\n",
    "y_trainval_hat = clf.predict(X_trainval_sv)\n",
    "# compute accuracy\n",
    "acc_trainval = accuracy_score(y_trainval, y_trainval_hat)\n",
    "\n",
    "# predict val\n",
    "y_val_hat = clf.predict(X_val_sv)\n",
    "y_test_hat = clf.predict(X_test_sv)\n",
    "# compute accuracy\n",
    "acc_val = accuracy_score(y_val, y_val_hat)\n",
    "acc_test = accuracy_score(y_test, y_test_hat)\n",
    "# print performance\n",
    "print(f\"Acc train: {acc_trainval}\")\n",
    "print(f\"Acc val: {acc_val}\")\n",
    "print(f\"Acc test: {acc_test}\")"
   ]
  },
  {
   "cell_type": "code",
   "execution_count": 35,
   "id": "b04da079",
   "metadata": {},
   "outputs": [
    {
     "ename": "NameError",
     "evalue": "name 'test' is not defined",
     "output_type": "error",
     "traceback": [
      "\u001b[0;31m---------------------------------------------------------------------------\u001b[0m",
      "\u001b[0;31mNameError\u001b[0m                                 Traceback (most recent call last)",
      "\u001b[0;32m/var/folders/wl/zfv53bfx13j4zx15j58_cby00000gn/T/ipykernel_62745/1382328889.py\u001b[0m in \u001b[0;36m<module>\u001b[0;34m\u001b[0m\n\u001b[1;32m      3\u001b[0m \u001b[0;34m\u001b[0m\u001b[0m\n\u001b[1;32m      4\u001b[0m \u001b[0;31m# save test predictions\u001b[0m\u001b[0;34m\u001b[0m\u001b[0;34m\u001b[0m\u001b[0m\n\u001b[0;32m----> 5\u001b[0;31m \u001b[0msave_test\u001b[0m \u001b[0;34m=\u001b[0m \u001b[0mmodeling\u001b[0m\u001b[0;34m.\u001b[0m\u001b[0msave_test_preds\u001b[0m\u001b[0;34m(\u001b[0m\u001b[0mtest\u001b[0m\u001b[0;34m,\u001b[0m \u001b[0mtest_tf\u001b[0m\u001b[0;34m,\u001b[0m \u001b[0my_test_hat\u001b[0m\u001b[0;34m)\u001b[0m\u001b[0;34m\u001b[0m\u001b[0;34m\u001b[0m\u001b[0m\n\u001b[0m\u001b[1;32m      6\u001b[0m \u001b[0msave_test\u001b[0m\u001b[0;34m.\u001b[0m\u001b[0mvalue_counts\u001b[0m\u001b[0;34m(\u001b[0m\u001b[0;34m)\u001b[0m\u001b[0;34m\u001b[0m\u001b[0;34m\u001b[0m\u001b[0m\n",
      "\u001b[0;31mNameError\u001b[0m: name 'test' is not defined"
     ]
    }
   ],
   "source": [
    "# predict test\n",
    "y_test_hat = clf.predict(X_test_sv)\n",
    "\n",
    "# save test predictions\n",
    "save_test = modeling.save_test_preds(test_tf, test_tf, y_test_hat)\n",
    "save_test.value_counts()"
   ]
  },
  {
   "attachments": {},
   "cell_type": "markdown",
   "id": "7b1f6677",
   "metadata": {},
   "source": [
    "##### b) Random Forest & XGBoost"
   ]
  },
  {
   "cell_type": "code",
   "execution_count": 40,
   "id": "d69a7442",
   "metadata": {},
   "outputs": [],
   "source": [
    "# search spaces\n",
    "rdForest_params = {\n",
    "                \"n_estimators\": tune.randint(2, 10),\n",
    "                \"max_depth\": tune.randint(1, 3),\n",
    "                \"min_samples_split\": tune.choice([2, 5, 10]),\n",
    "                \"min_samples_leaf\": tune.choice([1, 2, 3, 4]),\n",
    "                \"max_features\": tune.uniform(0.2, 1),\n",
    "                \"bootstrap\": tune.choice([True, False])\n",
    "            }\n",
    "\n",
    "XGBoost_params = {\n",
    "                \"n_estimators\": tune.randint(2, 10),\n",
    "                \"max_depth\": tune.randint(1, 3),\n",
    "                \"min_child_weight\": tune.uniform(1, 10),\n",
    "                \"colsample_bytree\": tune.uniform(0.5, 1),\n",
    "                \"subsample\": tune.uniform(0.2, 1),\n",
    "                \"eta\": tune.loguniform(1e-4, 1e-1)\n",
    "            }\n",
    "\n",
    "# loading models\n",
    "rdForest_mdl = RandomForestClassifier()\n",
    "XGBoost_mdl = XGBClassifier()"
   ]
  },
  {
   "cell_type": "code",
   "execution_count": 46,
   "id": "5f82285a",
   "metadata": {},
   "outputs": [
    {
     "data": {
      "text/html": [
       "<div class=\"tuneStatus\">\n",
       "  <div style=\"display: flex;flex-direction: row\">\n",
       "    <div style=\"display: flex;flex-direction: column;\">\n",
       "      <h3>Tune Status</h3>\n",
       "      <table>\n",
       "<tbody>\n",
       "<tr><td>Current time:</td><td>2023-03-26 18:02:57</td></tr>\n",
       "<tr><td>Running for: </td><td>00:00:15.33        </td></tr>\n",
       "<tr><td>Memory:      </td><td>5.6/7.7 GiB        </td></tr>\n",
       "</tbody>\n",
       "</table>\n",
       "    </div>\n",
       "    <div class=\"vDivider\"></div>\n",
       "    <div class=\"systemInfo\">\n",
       "      <h3>System Info</h3>\n",
       "      Using FIFO scheduling algorithm.<br>Resources requested: 0/8 CPUs, 0/0 GPUs, 0.0/1.49 GiB heap, 0.0/0.75 GiB objects\n",
       "    </div>\n",
       "    \n",
       "  </div>\n",
       "  <div class=\"hDivider\"></div>\n",
       "  <div class=\"trialStatus\">\n",
       "    <h3>Trial Status</h3>\n",
       "    <table>\n",
       "<thead>\n",
       "<tr><th>Trial name         </th><th>status    </th><th>loc            </th><th>bootstrap  </th><th>cv                  </th><th>early_stop_type     </th><th>early_stopping  </th><th>groups  </th><th style=\"text-align: right;\">  max_depth</th><th style=\"text-align: right;\">  max_features</th><th style=\"text-align: right;\">  max_iters</th><th>metric_name       </th><th style=\"text-align: right;\">  min_samples_leaf</th><th style=\"text-align: right;\">  min_samples_split</th><th style=\"text-align: right;\">  n_estimators</th><th style=\"text-align: right;\">  n_jobs</th><th>return_train_score  </th><th>scoring/score       </th><th style=\"text-align: right;\">  iter</th><th style=\"text-align: right;\">  total time (s)</th><th style=\"text-align: right;\">  split0_test_score</th><th style=\"text-align: right;\">  average_test_score</th><th style=\"text-align: right;\">  split0_train_score</th></tr>\n",
       "</thead>\n",
       "<tbody>\n",
       "<tr><td>_Trainable_f4255de9</td><td>TERMINATED</td><td>127.0.0.1:5804 </td><td>True       </td><td>PredefinedSplit_2370</td><td>EarlyStopping.N_5160</td><td>False           </td><td>        </td><td style=\"text-align: right;\">          1</td><td style=\"text-align: right;\">      0.734009</td><td style=\"text-align: right;\">          1</td><td>average_test_score</td><td style=\"text-align: right;\">                 4</td><td style=\"text-align: right;\">                  2</td><td style=\"text-align: right;\">             8</td><td style=\"text-align: right;\">       1</td><td>True                </td><td>make_scorer(acc_23d0</td><td style=\"text-align: right;\">     1</td><td style=\"text-align: right;\">       0.0412805</td><td style=\"text-align: right;\">           0.758242</td><td style=\"text-align: right;\">            0.758242</td><td style=\"text-align: right;\">            0.734711</td></tr>\n",
       "<tr><td>_Trainable_529dfe25</td><td>TERMINATED</td><td>127.0.0.1:14764</td><td>False      </td><td>PredefinedSplit_9310</td><td>EarlyStopping.N_5160</td><td>False           </td><td>        </td><td style=\"text-align: right;\">          1</td><td style=\"text-align: right;\">      0.325159</td><td style=\"text-align: right;\">          1</td><td>average_test_score</td><td style=\"text-align: right;\">                 2</td><td style=\"text-align: right;\">                 10</td><td style=\"text-align: right;\">             9</td><td style=\"text-align: right;\">       1</td><td>True                </td><td>make_scorer(acc_9130</td><td style=\"text-align: right;\">     1</td><td style=\"text-align: right;\">       0.0448458</td><td style=\"text-align: right;\">           0.761586</td><td style=\"text-align: right;\">            0.761586</td><td style=\"text-align: right;\">            0.731725</td></tr>\n",
       "<tr><td>_Trainable_83e5785d</td><td>TERMINATED</td><td>127.0.0.1:5804 </td><td>False      </td><td>PredefinedSplit_3e80</td><td>EarlyStopping.N_5160</td><td>False           </td><td>        </td><td style=\"text-align: right;\">          1</td><td style=\"text-align: right;\">      0.884934</td><td style=\"text-align: right;\">          1</td><td>average_test_score</td><td style=\"text-align: right;\">                 2</td><td style=\"text-align: right;\">                  5</td><td style=\"text-align: right;\">             6</td><td style=\"text-align: right;\">       1</td><td>True                </td><td>make_scorer(acc_3550</td><td style=\"text-align: right;\">     1</td><td style=\"text-align: right;\">       0.0448809</td><td style=\"text-align: right;\">           0.758242</td><td style=\"text-align: right;\">            0.758242</td><td style=\"text-align: right;\">            0.734711</td></tr>\n",
       "<tr><td>_Trainable_c4e0e6f8</td><td>TERMINATED</td><td>127.0.0.1:16776</td><td>True       </td><td>PredefinedSplit_9b80</td><td>EarlyStopping.N_5160</td><td>False           </td><td>        </td><td style=\"text-align: right;\">          1</td><td style=\"text-align: right;\">      0.926455</td><td style=\"text-align: right;\">          1</td><td>average_test_score</td><td style=\"text-align: right;\">                 3</td><td style=\"text-align: right;\">                  5</td><td style=\"text-align: right;\">             9</td><td style=\"text-align: right;\">       1</td><td>True                </td><td>make_scorer(acc_9dc0</td><td style=\"text-align: right;\">     1</td><td style=\"text-align: right;\">       0.0558248</td><td style=\"text-align: right;\">           0.758242</td><td style=\"text-align: right;\">            0.758242</td><td style=\"text-align: right;\">            0.734711</td></tr>\n",
       "<tr><td>_Trainable_2deb6bca</td><td>TERMINATED</td><td>127.0.0.1:5804 </td><td>False      </td><td>PredefinedSplit_1cd0</td><td>EarlyStopping.N_5160</td><td>False           </td><td>        </td><td style=\"text-align: right;\">          2</td><td style=\"text-align: right;\">      0.619352</td><td style=\"text-align: right;\">          1</td><td>average_test_score</td><td style=\"text-align: right;\">                 2</td><td style=\"text-align: right;\">                  5</td><td style=\"text-align: right;\">             6</td><td style=\"text-align: right;\">       1</td><td>True                </td><td>make_scorer(acc_19d0</td><td style=\"text-align: right;\">     1</td><td style=\"text-align: right;\">       0.0388949</td><td style=\"text-align: right;\">           0.760153</td><td style=\"text-align: right;\">            0.760153</td><td style=\"text-align: right;\">            0.735308</td></tr>\n",
       "<tr><td>_Trainable_8942b8ac</td><td>TERMINATED</td><td>127.0.0.1:4688 </td><td>True       </td><td>PredefinedSplit_1fa0</td><td>EarlyStopping.N_5160</td><td>False           </td><td>        </td><td style=\"text-align: right;\">          2</td><td style=\"text-align: right;\">      0.280743</td><td style=\"text-align: right;\">          1</td><td>average_test_score</td><td style=\"text-align: right;\">                 3</td><td style=\"text-align: right;\">                  5</td><td style=\"text-align: right;\">             8</td><td style=\"text-align: right;\">       1</td><td>True                </td><td>make_scorer(acc_1ac0</td><td style=\"text-align: right;\">     1</td><td style=\"text-align: right;\">       0.0454581</td><td style=\"text-align: right;\">           0.760153</td><td style=\"text-align: right;\">            0.760153</td><td style=\"text-align: right;\">            0.735069</td></tr>\n",
       "<tr><td>_Trainable_0693dbf7</td><td>TERMINATED</td><td>127.0.0.1:14764</td><td>True       </td><td>PredefinedSplit_2d60</td><td>EarlyStopping.N_5160</td><td>False           </td><td>        </td><td style=\"text-align: right;\">          2</td><td style=\"text-align: right;\">      0.992452</td><td style=\"text-align: right;\">          1</td><td>average_test_score</td><td style=\"text-align: right;\">                 3</td><td style=\"text-align: right;\">                  5</td><td style=\"text-align: right;\">             8</td><td style=\"text-align: right;\">       1</td><td>True                </td><td>make_scorer(acc_2cd0</td><td style=\"text-align: right;\">     1</td><td style=\"text-align: right;\">       0.0608368</td><td style=\"text-align: right;\">           0.758242</td><td style=\"text-align: right;\">            0.758242</td><td style=\"text-align: right;\">            0.734711</td></tr>\n",
       "<tr><td>_Trainable_917c84b4</td><td>TERMINATED</td><td>127.0.0.1:16776</td><td>False      </td><td>PredefinedSplit_1bb0</td><td>EarlyStopping.N_5160</td><td>False           </td><td>        </td><td style=\"text-align: right;\">          1</td><td style=\"text-align: right;\">      0.644874</td><td style=\"text-align: right;\">          1</td><td>average_test_score</td><td style=\"text-align: right;\">                 3</td><td style=\"text-align: right;\">                  5</td><td style=\"text-align: right;\">             6</td><td style=\"text-align: right;\">       1</td><td>True                </td><td>make_scorer(acc_c130</td><td style=\"text-align: right;\">     1</td><td style=\"text-align: right;\">       0.0428853</td><td style=\"text-align: right;\">           0.763975</td><td style=\"text-align: right;\">            0.763975</td><td style=\"text-align: right;\">            0.734711</td></tr>\n",
       "<tr><td>_Trainable_d9980f26</td><td>TERMINATED</td><td>127.0.0.1:5804 </td><td>True       </td><td>PredefinedSplit_aee0</td><td>EarlyStopping.N_5160</td><td>False           </td><td>        </td><td style=\"text-align: right;\">          2</td><td style=\"text-align: right;\">      0.442669</td><td style=\"text-align: right;\">          1</td><td>average_test_score</td><td style=\"text-align: right;\">                 2</td><td style=\"text-align: right;\">                 10</td><td style=\"text-align: right;\">             3</td><td style=\"text-align: right;\">       1</td><td>True                </td><td>make_scorer(acc_9550</td><td style=\"text-align: right;\">     1</td><td style=\"text-align: right;\">       0.0279245</td><td style=\"text-align: right;\">           0.767797</td><td style=\"text-align: right;\">            0.767797</td><td style=\"text-align: right;\">            0.733039</td></tr>\n",
       "<tr><td>_Trainable_d91f09c8</td><td>TERMINATED</td><td>127.0.0.1:16776</td><td>True       </td><td>PredefinedSplit_1790</td><td>EarlyStopping.N_5160</td><td>False           </td><td>        </td><td style=\"text-align: right;\">          2</td><td style=\"text-align: right;\">      0.843171</td><td style=\"text-align: right;\">          1</td><td>average_test_score</td><td style=\"text-align: right;\">                 1</td><td style=\"text-align: right;\">                  5</td><td style=\"text-align: right;\">             7</td><td style=\"text-align: right;\">       1</td><td>True                </td><td>make_scorer(acc_bdc0</td><td style=\"text-align: right;\">     1</td><td style=\"text-align: right;\">       0.04089  </td><td style=\"text-align: right;\">           0.760153</td><td style=\"text-align: right;\">            0.760153</td><td style=\"text-align: right;\">            0.735069</td></tr>\n",
       "<tr><td>_Trainable_5bdd92b0</td><td>TERMINATED</td><td>127.0.0.1:5804 </td><td>True       </td><td>PredefinedSplit_7550</td><td>EarlyStopping.N_5160</td><td>False           </td><td>        </td><td style=\"text-align: right;\">          1</td><td style=\"text-align: right;\">      0.565685</td><td style=\"text-align: right;\">          1</td><td>average_test_score</td><td style=\"text-align: right;\">                 3</td><td style=\"text-align: right;\">                  2</td><td style=\"text-align: right;\">             8</td><td style=\"text-align: right;\">       1</td><td>True                </td><td>make_scorer(acc_7910</td><td style=\"text-align: right;\">     1</td><td style=\"text-align: right;\">       0.0528615</td><td style=\"text-align: right;\">           0.771142</td><td style=\"text-align: right;\">            0.771142</td><td style=\"text-align: right;\">            0.729814</td></tr>\n",
       "<tr><td>_Trainable_87c960b6</td><td>TERMINATED</td><td>127.0.0.1:4688 </td><td>False      </td><td>PredefinedSplit_1730</td><td>EarlyStopping.N_5160</td><td>False           </td><td>        </td><td style=\"text-align: right;\">          1</td><td style=\"text-align: right;\">      0.276426</td><td style=\"text-align: right;\">          1</td><td>average_test_score</td><td style=\"text-align: right;\">                 4</td><td style=\"text-align: right;\">                 10</td><td style=\"text-align: right;\">             5</td><td style=\"text-align: right;\">       1</td><td>True                </td><td>make_scorer(acc_13a0</td><td style=\"text-align: right;\">     1</td><td style=\"text-align: right;\">       0.0359063</td><td style=\"text-align: right;\">           0.761586</td><td style=\"text-align: right;\">            0.761586</td><td style=\"text-align: right;\">            0.731725</td></tr>\n",
       "<tr><td>_Trainable_fecd62ae</td><td>TERMINATED</td><td>127.0.0.1:16776</td><td>False      </td><td>PredefinedSplit_7d60</td><td>EarlyStopping.N_5160</td><td>False           </td><td>        </td><td style=\"text-align: right;\">          2</td><td style=\"text-align: right;\">      0.535781</td><td style=\"text-align: right;\">          1</td><td>average_test_score</td><td style=\"text-align: right;\">                 2</td><td style=\"text-align: right;\">                 10</td><td style=\"text-align: right;\">             4</td><td style=\"text-align: right;\">       1</td><td>True                </td><td>make_scorer(acc_7ac0</td><td style=\"text-align: right;\">     1</td><td style=\"text-align: right;\">       0.0219429</td><td style=\"text-align: right;\">           0.758242</td><td style=\"text-align: right;\">            0.758242</td><td style=\"text-align: right;\">            0.734711</td></tr>\n",
       "<tr><td>_Trainable_f8725a08</td><td>TERMINATED</td><td>127.0.0.1:5804 </td><td>True       </td><td>PredefinedSplit_7e80</td><td>EarlyStopping.N_5160</td><td>False           </td><td>        </td><td style=\"text-align: right;\">          2</td><td style=\"text-align: right;\">      0.278144</td><td style=\"text-align: right;\">          1</td><td>average_test_score</td><td style=\"text-align: right;\">                 3</td><td style=\"text-align: right;\">                  5</td><td style=\"text-align: right;\">             8</td><td style=\"text-align: right;\">       1</td><td>True                </td><td>make_scorer(acc_4b80</td><td style=\"text-align: right;\">     1</td><td style=\"text-align: right;\">       0.0448785</td><td style=\"text-align: right;\">           0.760153</td><td style=\"text-align: right;\">            0.760153</td><td style=\"text-align: right;\">            0.735308</td></tr>\n",
       "<tr><td>_Trainable_e7fa4e1e</td><td>TERMINATED</td><td>127.0.0.1:14764</td><td>False      </td><td>PredefinedSplit_f0d0</td><td>EarlyStopping.N_5160</td><td>False           </td><td>        </td><td style=\"text-align: right;\">          1</td><td style=\"text-align: right;\">      0.873179</td><td style=\"text-align: right;\">          1</td><td>average_test_score</td><td style=\"text-align: right;\">                 1</td><td style=\"text-align: right;\">                  5</td><td style=\"text-align: right;\">             7</td><td style=\"text-align: right;\">       1</td><td>True                </td><td>make_scorer(acc_f430</td><td style=\"text-align: right;\">     1</td><td style=\"text-align: right;\">       0.0329125</td><td style=\"text-align: right;\">           0.763975</td><td style=\"text-align: right;\">            0.763975</td><td style=\"text-align: right;\">            0.734711</td></tr>\n",
       "<tr><td>_Trainable_481c619b</td><td>TERMINATED</td><td>127.0.0.1:4688 </td><td>False      </td><td>PredefinedSplit_1640</td><td>EarlyStopping.N_5160</td><td>False           </td><td>        </td><td style=\"text-align: right;\">          2</td><td style=\"text-align: right;\">      0.222107</td><td style=\"text-align: right;\">          1</td><td>average_test_score</td><td style=\"text-align: right;\">                 4</td><td style=\"text-align: right;\">                 10</td><td style=\"text-align: right;\">             4</td><td style=\"text-align: right;\">       1</td><td>True                </td><td>make_scorer(acc_1ac0</td><td style=\"text-align: right;\">     1</td><td style=\"text-align: right;\">       0.0219414</td><td style=\"text-align: right;\">           0.761108</td><td style=\"text-align: right;\">            0.761108</td><td style=\"text-align: right;\">            0.73495 </td></tr>\n",
       "<tr><td>_Trainable_e82e1627</td><td>TERMINATED</td><td>127.0.0.1:16776</td><td>True       </td><td>PredefinedSplit_1850</td><td>EarlyStopping.N_5160</td><td>False           </td><td>        </td><td style=\"text-align: right;\">          2</td><td style=\"text-align: right;\">      0.587223</td><td style=\"text-align: right;\">          1</td><td>average_test_score</td><td style=\"text-align: right;\">                 1</td><td style=\"text-align: right;\">                  5</td><td style=\"text-align: right;\">             7</td><td style=\"text-align: right;\">       1</td><td>True                </td><td>make_scorer(acc_f9d0</td><td style=\"text-align: right;\">     1</td><td style=\"text-align: right;\">       0.0379012</td><td style=\"text-align: right;\">           0.760153</td><td style=\"text-align: right;\">            0.760153</td><td style=\"text-align: right;\">            0.735308</td></tr>\n",
       "<tr><td>_Trainable_c3f17ee6</td><td>TERMINATED</td><td>127.0.0.1:5804 </td><td>True       </td><td>PredefinedSplit_47c0</td><td>EarlyStopping.N_5160</td><td>False           </td><td>        </td><td style=\"text-align: right;\">          2</td><td style=\"text-align: right;\">      0.745836</td><td style=\"text-align: right;\">          1</td><td>average_test_score</td><td style=\"text-align: right;\">                 2</td><td style=\"text-align: right;\">                  2</td><td style=\"text-align: right;\">             4</td><td style=\"text-align: right;\">       1</td><td>True                </td><td>make_scorer(acc_4220</td><td style=\"text-align: right;\">     1</td><td style=\"text-align: right;\">       0.0299211</td><td style=\"text-align: right;\">           0.760153</td><td style=\"text-align: right;\">            0.760153</td><td style=\"text-align: right;\">            0.73495 </td></tr>\n",
       "<tr><td>_Trainable_03f4fad8</td><td>TERMINATED</td><td>127.0.0.1:14764</td><td>False      </td><td>PredefinedSplit_4340</td><td>EarlyStopping.N_5160</td><td>False           </td><td>        </td><td style=\"text-align: right;\">          2</td><td style=\"text-align: right;\">      0.862666</td><td style=\"text-align: right;\">          1</td><td>average_test_score</td><td style=\"text-align: right;\">                 4</td><td style=\"text-align: right;\">                  2</td><td style=\"text-align: right;\">             6</td><td style=\"text-align: right;\">       1</td><td>True                </td><td>make_scorer(acc_4250</td><td style=\"text-align: right;\">     1</td><td style=\"text-align: right;\">       0.03391  </td><td style=\"text-align: right;\">           0.758242</td><td style=\"text-align: right;\">            0.758242</td><td style=\"text-align: right;\">            0.734711</td></tr>\n",
       "<tr><td>_Trainable_e0f6bc3e</td><td>TERMINATED</td><td>127.0.0.1:16776</td><td>True       </td><td>PredefinedSplit_fe80</td><td>EarlyStopping.N_5160</td><td>False           </td><td>        </td><td style=\"text-align: right;\">          1</td><td style=\"text-align: right;\">      0.637156</td><td style=\"text-align: right;\">          1</td><td>average_test_score</td><td style=\"text-align: right;\">                 2</td><td style=\"text-align: right;\">                  5</td><td style=\"text-align: right;\">             6</td><td style=\"text-align: right;\">       1</td><td>True                </td><td>make_scorer(acc_7a00</td><td style=\"text-align: right;\">     1</td><td style=\"text-align: right;\">       0.0359044</td><td style=\"text-align: right;\">           0.776398</td><td style=\"text-align: right;\">            0.776398</td><td style=\"text-align: right;\">            0.723244</td></tr>\n",
       "</tbody>\n",
       "</table>\n",
       "  </div>\n",
       "</div>\n",
       "<style>\n",
       ".tuneStatus {\n",
       "  color: var(--jp-ui-font-color1);\n",
       "}\n",
       ".tuneStatus .systemInfo {\n",
       "  display: flex;\n",
       "  flex-direction: column;\n",
       "}\n",
       ".tuneStatus td {\n",
       "  white-space: nowrap;\n",
       "}\n",
       ".tuneStatus .trialStatus {\n",
       "  display: flex;\n",
       "  flex-direction: column;\n",
       "}\n",
       ".tuneStatus h3 {\n",
       "  font-weight: bold;\n",
       "}\n",
       ".tuneStatus .hDivider {\n",
       "  border-bottom-width: var(--jp-border-width);\n",
       "  border-bottom-color: var(--jp-border-color0);\n",
       "  border-bottom-style: solid;\n",
       "}\n",
       ".tuneStatus .vDivider {\n",
       "  border-left-width: var(--jp-border-width);\n",
       "  border-left-color: var(--jp-border-color0);\n",
       "  border-left-style: solid;\n",
       "  margin: 0.5em 1em 0.5em 1em;\n",
       "}\n",
       "</style>\n"
      ],
      "text/plain": [
       "<IPython.core.display.HTML object>"
      ]
     },
     "metadata": {},
     "output_type": "display_data"
    },
    {
     "name": "stdout",
     "output_type": "stream",
     "text": [
      "The TuneSearchCV best hyperparameters : {'n_estimators': 6, 'max_depth': 1, 'min_samples_split': 5, 'min_samples_leaf': 2, 'max_features': 0.637155630798365, 'bootstrap': True}\n",
      "The TuneSearchCV best score : 0.7763975155279503\n",
      "Acc train: 0.7397993311036789\n",
      "Acc val: 0.767797419971333\n"
     ]
    }
   ],
   "source": [
    "# tuning RandomForestClassifier\n",
    "tune_search = TuneSearchCV(\n",
    "    rdForest_mdl,\n",
    "    rdForest_params,\n",
    "    search_optimization=\"hyperopt\",\n",
    "    n_trials=20,\n",
    "    cv=ps,\n",
    "    scoring='accuracy', \n",
    "    early_stopping=False,\n",
    "    verbose=1,\n",
    "    return_train_score=True,\n",
    ")\n",
    "tune_search.fit(X_trainval_sv, y_trainval)\n",
    "\n",
    "# print tuning results\n",
    "print(f'The TuneSearchCV best hyperparameters : {tune_search.best_params_}')\n",
    "print(f'The TuneSearchCV best score : {tune_search.best_score_}')\n",
    "\n",
    "# performance on train set\n",
    "y_trainval_hat = tune_search.best_estimator_.predict(X_trainval_sv)\n",
    "acc_trainval = accuracy_score(y_trainval, y_trainval_hat)\n",
    "\n",
    "# performance on val set\n",
    "y_val_hat = tune_search.best_estimator_.predict(X_val_sv)\n",
    "acc_val = accuracy_score(y_val, y_val_hat)\n",
    "\n",
    "print(f\"Acc train: {acc_trainval}\")\n",
    "print(f\"Acc val: {acc_val}\")"
   ]
  },
  {
   "cell_type": "code",
   "execution_count": 47,
   "id": "de0cf421",
   "metadata": {},
   "outputs": [
    {
     "data": {
      "text/plain": [
       "Predicted\n",
       "1            2046\n",
       "0            1452\n",
       "dtype: int64"
      ]
     },
     "execution_count": 47,
     "metadata": {},
     "output_type": "execute_result"
    }
   ],
   "source": [
    "# predict test\n",
    "y_test_hat = tune_search.predict(X_test_sv)\n",
    "\n",
    "# save test predictions\n",
    "save_test = modeling.save_test_preds(test, test_tf, y_test_hat)\n",
    "save_test.value_counts()"
   ]
  },
  {
   "cell_type": "code",
   "execution_count": 48,
   "id": "df723b61",
   "metadata": {},
   "outputs": [
    {
     "data": {
      "text/html": [
       "<div class=\"tuneStatus\">\n",
       "  <div style=\"display: flex;flex-direction: row\">\n",
       "    <div style=\"display: flex;flex-direction: column;\">\n",
       "      <h3>Tune Status</h3>\n",
       "      <table>\n",
       "<tbody>\n",
       "<tr><td>Current time:</td><td>2023-03-26 18:03:49</td></tr>\n",
       "<tr><td>Running for: </td><td>00:00:11.76        </td></tr>\n",
       "<tr><td>Memory:      </td><td>5.6/7.7 GiB        </td></tr>\n",
       "</tbody>\n",
       "</table>\n",
       "    </div>\n",
       "    <div class=\"vDivider\"></div>\n",
       "    <div class=\"systemInfo\">\n",
       "      <h3>System Info</h3>\n",
       "      Using FIFO scheduling algorithm.<br>Resources requested: 0/8 CPUs, 0/0 GPUs, 0.0/1.49 GiB heap, 0.0/0.75 GiB objects\n",
       "    </div>\n",
       "    \n",
       "  </div>\n",
       "  <div class=\"hDivider\"></div>\n",
       "  <div class=\"trialStatus\">\n",
       "    <h3>Trial Status</h3>\n",
       "    <table>\n",
       "<thead>\n",
       "<tr><th>Trial name         </th><th>status    </th><th>loc            </th><th style=\"text-align: right;\">  colsample_bytree</th><th>cv                  </th><th>early_stop_type     </th><th>early_stopping  </th><th style=\"text-align: right;\">        eta</th><th>groups  </th><th style=\"text-align: right;\">  max_depth</th><th style=\"text-align: right;\">  max_iters</th><th>metric_name       </th><th style=\"text-align: right;\">  min_child_weight</th><th style=\"text-align: right;\">  n_estimators</th><th style=\"text-align: right;\">  n_jobs</th><th>return_train_score  </th><th>scoring/score       </th><th style=\"text-align: right;\">  subsample</th><th style=\"text-align: right;\">  iter</th><th style=\"text-align: right;\">  total time (s)</th><th style=\"text-align: right;\">  split0_test_score</th><th style=\"text-align: right;\">  average_test_score</th><th style=\"text-align: right;\">  split0_train_score</th></tr>\n",
       "</thead>\n",
       "<tbody>\n",
       "<tr><td>_Trainable_b18eb47f</td><td>TERMINATED</td><td>127.0.0.1:16068</td><td style=\"text-align: right;\">          0.529363</td><td>PredefinedSplit_1af0</td><td>EarlyStopping.N_5160</td><td>False           </td><td style=\"text-align: right;\">0.00222484 </td><td>        </td><td style=\"text-align: right;\">          2</td><td style=\"text-align: right;\">          1</td><td>average_test_score</td><td style=\"text-align: right;\">           7.75368</td><td style=\"text-align: right;\">             8</td><td style=\"text-align: right;\">       1</td><td>True                </td><td>make_scorer(acc_1b20</td><td style=\"text-align: right;\">   0.907359</td><td style=\"text-align: right;\">     1</td><td style=\"text-align: right;\">       0.0361106</td><td style=\"text-align: right;\">           0.758242</td><td style=\"text-align: right;\">            0.758242</td><td style=\"text-align: right;\">            0.73495 </td></tr>\n",
       "<tr><td>_Trainable_4c24cc5e</td><td>TERMINATED</td><td>127.0.0.1:9260 </td><td style=\"text-align: right;\">          0.568749</td><td>PredefinedSplit_3610</td><td>EarlyStopping.N_5160</td><td>False           </td><td style=\"text-align: right;\">0.0480609  </td><td>        </td><td style=\"text-align: right;\">          2</td><td style=\"text-align: right;\">          1</td><td>average_test_score</td><td style=\"text-align: right;\">           7.98087</td><td style=\"text-align: right;\">             3</td><td style=\"text-align: right;\">       1</td><td>True                </td><td>make_scorer(acc_39d0</td><td style=\"text-align: right;\">   0.58174 </td><td style=\"text-align: right;\">     1</td><td style=\"text-align: right;\">       0.0319149</td><td style=\"text-align: right;\">           0.773053</td><td style=\"text-align: right;\">            0.773053</td><td style=\"text-align: right;\">            0.733039</td></tr>\n",
       "<tr><td>_Trainable_49eaff85</td><td>TERMINATED</td><td>127.0.0.1:16068</td><td style=\"text-align: right;\">          0.750397</td><td>PredefinedSplit_7d30</td><td>EarlyStopping.N_5160</td><td>False           </td><td style=\"text-align: right;\">0.000142339</td><td>        </td><td style=\"text-align: right;\">          2</td><td style=\"text-align: right;\">          1</td><td>average_test_score</td><td style=\"text-align: right;\">           9.4795 </td><td style=\"text-align: right;\">             7</td><td style=\"text-align: right;\">       1</td><td>True                </td><td>make_scorer(acc_7d90</td><td style=\"text-align: right;\">   0.453943</td><td style=\"text-align: right;\">     1</td><td style=\"text-align: right;\">       0.0508637</td><td style=\"text-align: right;\">           0.76302 </td><td style=\"text-align: right;\">            0.76302 </td><td style=\"text-align: right;\">            0.734711</td></tr>\n",
       "<tr><td>_Trainable_b674a7ea</td><td>TERMINATED</td><td>127.0.0.1:1016 </td><td style=\"text-align: right;\">          0.512936</td><td>PredefinedSplit_37c0</td><td>EarlyStopping.N_5160</td><td>False           </td><td style=\"text-align: right;\">0.0810993  </td><td>        </td><td style=\"text-align: right;\">          1</td><td style=\"text-align: right;\">          1</td><td>average_test_score</td><td style=\"text-align: right;\">           5.6391 </td><td style=\"text-align: right;\">             7</td><td style=\"text-align: right;\">       1</td><td>True                </td><td>make_scorer(acc_3bb0</td><td style=\"text-align: right;\">   0.982928</td><td style=\"text-align: right;\">     1</td><td style=\"text-align: right;\">       0.0386236</td><td style=\"text-align: right;\">           0.763975</td><td style=\"text-align: right;\">            0.763975</td><td style=\"text-align: right;\">            0.734711</td></tr>\n",
       "<tr><td>_Trainable_557fc4d2</td><td>TERMINATED</td><td>127.0.0.1:16068</td><td style=\"text-align: right;\">          0.608195</td><td>PredefinedSplit_1370</td><td>EarlyStopping.N_5160</td><td>False           </td><td style=\"text-align: right;\">0.0998204  </td><td>        </td><td style=\"text-align: right;\">          2</td><td style=\"text-align: right;\">          1</td><td>average_test_score</td><td style=\"text-align: right;\">           6.60582</td><td style=\"text-align: right;\">             9</td><td style=\"text-align: right;\">       1</td><td>True                </td><td>make_scorer(acc_1550</td><td style=\"text-align: right;\">   0.665479</td><td style=\"text-align: right;\">     1</td><td style=\"text-align: right;\">       0.0538547</td><td style=\"text-align: right;\">           0.761108</td><td style=\"text-align: right;\">            0.761108</td><td style=\"text-align: right;\">            0.735069</td></tr>\n",
       "<tr><td>_Trainable_6bcbc977</td><td>TERMINATED</td><td>127.0.0.1:1016 </td><td style=\"text-align: right;\">          0.708881</td><td>PredefinedSplit_14f0</td><td>EarlyStopping.N_5160</td><td>False           </td><td style=\"text-align: right;\">0.0039513  </td><td>        </td><td style=\"text-align: right;\">          1</td><td style=\"text-align: right;\">          1</td><td>average_test_score</td><td style=\"text-align: right;\">           1.00417</td><td style=\"text-align: right;\">             8</td><td style=\"text-align: right;\">       1</td><td>True                </td><td>make_scorer(acc_7370</td><td style=\"text-align: right;\">   0.580448</td><td style=\"text-align: right;\">     1</td><td style=\"text-align: right;\">       0.0448818</td><td style=\"text-align: right;\">           0.763975</td><td style=\"text-align: right;\">            0.763975</td><td style=\"text-align: right;\">            0.734711</td></tr>\n",
       "<tr><td>_Trainable_81f71685</td><td>TERMINATED</td><td>127.0.0.1:16068</td><td style=\"text-align: right;\">          0.652259</td><td>PredefinedSplit_30a0</td><td>EarlyStopping.N_5160</td><td>False           </td><td style=\"text-align: right;\">0.00211477 </td><td>        </td><td style=\"text-align: right;\">          1</td><td style=\"text-align: right;\">          1</td><td>average_test_score</td><td style=\"text-align: right;\">           8.29816</td><td style=\"text-align: right;\">             4</td><td style=\"text-align: right;\">       1</td><td>True                </td><td>make_scorer(acc_3820</td><td style=\"text-align: right;\">   0.769501</td><td style=\"text-align: right;\">     1</td><td style=\"text-align: right;\">       0.0359044</td><td style=\"text-align: right;\">           0.771142</td><td style=\"text-align: right;\">            0.771142</td><td style=\"text-align: right;\">            0.729814</td></tr>\n",
       "<tr><td>_Trainable_1defc694</td><td>TERMINATED</td><td>127.0.0.1:1016 </td><td style=\"text-align: right;\">          0.558126</td><td>PredefinedSplit_da90</td><td>EarlyStopping.N_5160</td><td>False           </td><td style=\"text-align: right;\">0.0267373  </td><td>        </td><td style=\"text-align: right;\">          2</td><td style=\"text-align: right;\">          1</td><td>average_test_score</td><td style=\"text-align: right;\">           7.91588</td><td style=\"text-align: right;\">             3</td><td style=\"text-align: right;\">       1</td><td>True                </td><td>make_scorer(acc_dc40</td><td style=\"text-align: right;\">   0.258634</td><td style=\"text-align: right;\">     1</td><td style=\"text-align: right;\">       0.0369039</td><td style=\"text-align: right;\">           0.773053</td><td style=\"text-align: right;\">            0.773053</td><td style=\"text-align: right;\">            0.731725</td></tr>\n",
       "<tr><td>_Trainable_17983df3</td><td>TERMINATED</td><td>127.0.0.1:16068</td><td style=\"text-align: right;\">          0.85279 </td><td>PredefinedSplit_e400</td><td>EarlyStopping.N_5160</td><td>False           </td><td style=\"text-align: right;\">0.042009   </td><td>        </td><td style=\"text-align: right;\">          2</td><td style=\"text-align: right;\">          1</td><td>average_test_score</td><td style=\"text-align: right;\">           3.21236</td><td style=\"text-align: right;\">             4</td><td style=\"text-align: right;\">       1</td><td>True                </td><td>make_scorer(acc_e4f0</td><td style=\"text-align: right;\">   0.43574 </td><td style=\"text-align: right;\">     1</td><td style=\"text-align: right;\">       0.0339091</td><td style=\"text-align: right;\">           0.772575</td><td style=\"text-align: right;\">            0.772575</td><td style=\"text-align: right;\">            0.733039</td></tr>\n",
       "<tr><td>_Trainable_c2476dd2</td><td>TERMINATED</td><td>127.0.0.1:9260 </td><td style=\"text-align: right;\">          0.903596</td><td>PredefinedSplit_e820</td><td>EarlyStopping.N_5160</td><td>False           </td><td style=\"text-align: right;\">0.0107729  </td><td>        </td><td style=\"text-align: right;\">          1</td><td style=\"text-align: right;\">          1</td><td>average_test_score</td><td style=\"text-align: right;\">           6.99106</td><td style=\"text-align: right;\">             6</td><td style=\"text-align: right;\">       1</td><td>True                </td><td>make_scorer(acc_e9d0</td><td style=\"text-align: right;\">   0.990047</td><td style=\"text-align: right;\">     1</td><td style=\"text-align: right;\">       0.0349076</td><td style=\"text-align: right;\">           0.758242</td><td style=\"text-align: right;\">            0.758242</td><td style=\"text-align: right;\">            0.734711</td></tr>\n",
       "<tr><td>_Trainable_84c07585</td><td>TERMINATED</td><td>127.0.0.1:16068</td><td style=\"text-align: right;\">          0.726274</td><td>PredefinedSplit_9550</td><td>EarlyStopping.N_5160</td><td>False           </td><td style=\"text-align: right;\">0.00264863 </td><td>        </td><td style=\"text-align: right;\">          1</td><td style=\"text-align: right;\">          1</td><td>average_test_score</td><td style=\"text-align: right;\">           2.23403</td><td style=\"text-align: right;\">             7</td><td style=\"text-align: right;\">       1</td><td>True                </td><td>make_scorer(acc_90d0</td><td style=\"text-align: right;\">   0.892186</td><td style=\"text-align: right;\">     1</td><td style=\"text-align: right;\">       0.046875 </td><td style=\"text-align: right;\">           0.763975</td><td style=\"text-align: right;\">            0.763975</td><td style=\"text-align: right;\">            0.734711</td></tr>\n",
       "<tr><td>_Trainable_67605e45</td><td>TERMINATED</td><td>127.0.0.1:1016 </td><td style=\"text-align: right;\">          0.671663</td><td>PredefinedSplit_9cd0</td><td>EarlyStopping.N_5160</td><td>False           </td><td style=\"text-align: right;\">0.000391486</td><td>        </td><td style=\"text-align: right;\">          1</td><td style=\"text-align: right;\">          1</td><td>average_test_score</td><td style=\"text-align: right;\">           8.64585</td><td style=\"text-align: right;\">             8</td><td style=\"text-align: right;\">       1</td><td>True                </td><td>make_scorer(acc_e370</td><td style=\"text-align: right;\">   0.426691</td><td style=\"text-align: right;\">     1</td><td style=\"text-align: right;\">       0.0488694</td><td style=\"text-align: right;\">           0.773531</td><td style=\"text-align: right;\">            0.773531</td><td style=\"text-align: right;\">            0.7328  </td></tr>\n",
       "<tr><td>_Trainable_2e2c3dbd</td><td>TERMINATED</td><td>127.0.0.1:9260 </td><td style=\"text-align: right;\">          0.644202</td><td>PredefinedSplit_9dc0</td><td>EarlyStopping.N_5160</td><td>False           </td><td style=\"text-align: right;\">0.00173494 </td><td>        </td><td style=\"text-align: right;\">          2</td><td style=\"text-align: right;\">          1</td><td>average_test_score</td><td style=\"text-align: right;\">           5.3987 </td><td style=\"text-align: right;\">             3</td><td style=\"text-align: right;\">       1</td><td>True                </td><td>make_scorer(acc_9880</td><td style=\"text-align: right;\">   0.784113</td><td style=\"text-align: right;\">     1</td><td style=\"text-align: right;\">       0.032912 </td><td style=\"text-align: right;\">           0.763975</td><td style=\"text-align: right;\">            0.763975</td><td style=\"text-align: right;\">            0.733397</td></tr>\n",
       "<tr><td>_Trainable_1c12b17f</td><td>TERMINATED</td><td>127.0.0.1:1016 </td><td style=\"text-align: right;\">          0.887016</td><td>PredefinedSplit_1a00</td><td>EarlyStopping.N_5160</td><td>False           </td><td style=\"text-align: right;\">0.000437343</td><td>        </td><td style=\"text-align: right;\">          2</td><td style=\"text-align: right;\">          1</td><td>average_test_score</td><td style=\"text-align: right;\">           3.60972</td><td style=\"text-align: right;\">             6</td><td style=\"text-align: right;\">       1</td><td>True                </td><td>make_scorer(acc_1880</td><td style=\"text-align: right;\">   0.93651 </td><td style=\"text-align: right;\">     1</td><td style=\"text-align: right;\">       0.0388954</td><td style=\"text-align: right;\">           0.758242</td><td style=\"text-align: right;\">            0.758242</td><td style=\"text-align: right;\">            0.73495 </td></tr>\n",
       "<tr><td>_Trainable_de7a438f</td><td>TERMINATED</td><td>127.0.0.1:9260 </td><td style=\"text-align: right;\">          0.930558</td><td>PredefinedSplit_90a0</td><td>EarlyStopping.N_5160</td><td>False           </td><td style=\"text-align: right;\">0.0535733  </td><td>        </td><td style=\"text-align: right;\">          1</td><td style=\"text-align: right;\">          1</td><td>average_test_score</td><td style=\"text-align: right;\">           3.50053</td><td style=\"text-align: right;\">             5</td><td style=\"text-align: right;\">       1</td><td>True                </td><td>make_scorer(acc_94f0</td><td style=\"text-align: right;\">   0.724015</td><td style=\"text-align: right;\">     1</td><td style=\"text-align: right;\">       0.0398877</td><td style=\"text-align: right;\">           0.763975</td><td style=\"text-align: right;\">            0.763975</td><td style=\"text-align: right;\">            0.734711</td></tr>\n",
       "<tr><td>_Trainable_1d307db7</td><td>TERMINATED</td><td>127.0.0.1:16068</td><td style=\"text-align: right;\">          0.780281</td><td>PredefinedSplit_9040</td><td>EarlyStopping.N_5160</td><td>False           </td><td style=\"text-align: right;\">0.000317793</td><td>        </td><td style=\"text-align: right;\">          2</td><td style=\"text-align: right;\">          1</td><td>average_test_score</td><td style=\"text-align: right;\">           6.9898 </td><td style=\"text-align: right;\">             4</td><td style=\"text-align: right;\">       1</td><td>True                </td><td>make_scorer(acc_9af0</td><td style=\"text-align: right;\">   0.289244</td><td style=\"text-align: right;\">     1</td><td style=\"text-align: right;\">       0.0398805</td><td style=\"text-align: right;\">           0.773531</td><td style=\"text-align: right;\">            0.773531</td><td style=\"text-align: right;\">            0.7328  </td></tr>\n",
       "<tr><td>_Trainable_5cd8d14b</td><td>TERMINATED</td><td>127.0.0.1:1016 </td><td style=\"text-align: right;\">          0.50408 </td><td>PredefinedSplit_f6a0</td><td>EarlyStopping.N_5160</td><td>False           </td><td style=\"text-align: right;\">0.0136245  </td><td>        </td><td style=\"text-align: right;\">          1</td><td style=\"text-align: right;\">          1</td><td>average_test_score</td><td style=\"text-align: right;\">           4.70331</td><td style=\"text-align: right;\">             6</td><td style=\"text-align: right;\">       1</td><td>True                </td><td>make_scorer(acc_f310</td><td style=\"text-align: right;\">   0.383123</td><td style=\"text-align: right;\">     1</td><td style=\"text-align: right;\">       0.0359056</td><td style=\"text-align: right;\">           0.763975</td><td style=\"text-align: right;\">            0.763975</td><td style=\"text-align: right;\">            0.734711</td></tr>\n",
       "<tr><td>_Trainable_64b48619</td><td>TERMINATED</td><td>127.0.0.1:16068</td><td style=\"text-align: right;\">          0.614915</td><td>PredefinedSplit_b850</td><td>EarlyStopping.N_5160</td><td>False           </td><td style=\"text-align: right;\">0.00057621 </td><td>        </td><td style=\"text-align: right;\">          1</td><td style=\"text-align: right;\">          1</td><td>average_test_score</td><td style=\"text-align: right;\">           1.4184 </td><td style=\"text-align: right;\">             8</td><td style=\"text-align: right;\">       1</td><td>True                </td><td>make_scorer(acc_bee0</td><td style=\"text-align: right;\">   0.553287</td><td style=\"text-align: right;\">     1</td><td style=\"text-align: right;\">       0.0488768</td><td style=\"text-align: right;\">           0.773531</td><td style=\"text-align: right;\">            0.773531</td><td style=\"text-align: right;\">            0.7328  </td></tr>\n",
       "<tr><td>_Trainable_54a2d045</td><td>TERMINATED</td><td>127.0.0.1:1016 </td><td style=\"text-align: right;\">          0.674321</td><td>PredefinedSplit_f4c0</td><td>EarlyStopping.N_5160</td><td>False           </td><td style=\"text-align: right;\">0.0594885  </td><td>        </td><td style=\"text-align: right;\">          2</td><td style=\"text-align: right;\">          1</td><td>average_test_score</td><td style=\"text-align: right;\">           3.19289</td><td style=\"text-align: right;\">             8</td><td style=\"text-align: right;\">       1</td><td>True                </td><td>make_scorer(acc_fdc0</td><td style=\"text-align: right;\">   0.680063</td><td style=\"text-align: right;\">     1</td><td style=\"text-align: right;\">       0.0568511</td><td style=\"text-align: right;\">           0.768753</td><td style=\"text-align: right;\">            0.768753</td><td style=\"text-align: right;\">            0.733397</td></tr>\n",
       "<tr><td>_Trainable_a43c084d</td><td>TERMINATED</td><td>127.0.0.1:16068</td><td style=\"text-align: right;\">          0.742676</td><td>PredefinedSplit_b250</td><td>EarlyStopping.N_5160</td><td>False           </td><td style=\"text-align: right;\">0.00565361 </td><td>        </td><td style=\"text-align: right;\">          1</td><td style=\"text-align: right;\">          1</td><td>average_test_score</td><td style=\"text-align: right;\">           6.79255</td><td style=\"text-align: right;\">             8</td><td style=\"text-align: right;\">       1</td><td>True                </td><td>make_scorer(acc_b220</td><td style=\"text-align: right;\">   0.837067</td><td style=\"text-align: right;\">     1</td><td style=\"text-align: right;\">       0.0578482</td><td style=\"text-align: right;\">           0.763975</td><td style=\"text-align: right;\">            0.763975</td><td style=\"text-align: right;\">            0.734711</td></tr>\n",
       "</tbody>\n",
       "</table>\n",
       "  </div>\n",
       "</div>\n",
       "<style>\n",
       ".tuneStatus {\n",
       "  color: var(--jp-ui-font-color1);\n",
       "}\n",
       ".tuneStatus .systemInfo {\n",
       "  display: flex;\n",
       "  flex-direction: column;\n",
       "}\n",
       ".tuneStatus td {\n",
       "  white-space: nowrap;\n",
       "}\n",
       ".tuneStatus .trialStatus {\n",
       "  display: flex;\n",
       "  flex-direction: column;\n",
       "}\n",
       ".tuneStatus h3 {\n",
       "  font-weight: bold;\n",
       "}\n",
       ".tuneStatus .hDivider {\n",
       "  border-bottom-width: var(--jp-border-width);\n",
       "  border-bottom-color: var(--jp-border-color0);\n",
       "  border-bottom-style: solid;\n",
       "}\n",
       ".tuneStatus .vDivider {\n",
       "  border-left-width: var(--jp-border-width);\n",
       "  border-left-color: var(--jp-border-color0);\n",
       "  border-left-style: solid;\n",
       "  margin: 0.5em 1em 0.5em 1em;\n",
       "}\n",
       "</style>\n"
      ],
      "text/plain": [
       "<IPython.core.display.HTML object>"
      ]
     },
     "metadata": {},
     "output_type": "display_data"
    },
    {
     "name": "stdout",
     "output_type": "stream",
     "text": [
      "The TuneSearchCV best hyperparameters : {'n_estimators': 8, 'max_depth': 1, 'min_child_weight': 8.645847780240997, 'colsample_bytree': 0.6716630965072301, 'subsample': 0.4266911461536964, 'eta': 0.00039148560019111687}\n",
      "The TuneSearchCV best score : 0.7735308170090779\n",
      "Acc train: 0.7336837075967511\n",
      "Acc val: 0.7763975155279503\n"
     ]
    }
   ],
   "source": [
    "# tuning XGBoostClassifier\n",
    "tune_search = TuneSearchCV(\n",
    "    XGBoost_mdl,\n",
    "    XGBoost_params,\n",
    "    search_optimization=\"hyperopt\",\n",
    "    n_trials=20,\n",
    "    cv=ps,\n",
    "    scoring='accuracy',\n",
    "    early_stopping=False,\n",
    "    verbose=1,\n",
    "    return_train_score=True,\n",
    ")\n",
    "tune_search.fit(X_trainval_sv, y_trainval)\n",
    "\n",
    "# print tuning results\n",
    "print(f'The TuneSearchCV best hyperparameters : {tune_search.best_params_}')\n",
    "print(f'The TuneSearchCV best score : {tune_search.best_score_}')\n",
    "\n",
    "# performance on train set\n",
    "y_trainval_hat = tune_search.best_estimator_.predict(X_trainval_sv)\n",
    "acc_trainval = accuracy_score(y_trainval, y_trainval_hat)\n",
    "\n",
    "# performance on val set\n",
    "y_val_hat = tune_search.best_estimator_.predict(X_val_sv)\n",
    "acc_val = accuracy_score(y_val, y_val_hat)\n",
    "\n",
    "print(f\"Acc train: {acc_trainval}\")\n",
    "print(f\"Acc val: {acc_val}\")"
   ]
  },
  {
   "cell_type": "code",
   "execution_count": 49,
   "id": "9e09d8a8",
   "metadata": {},
   "outputs": [
    {
     "data": {
      "text/plain": [
       "Predicted\n",
       "1            1785\n",
       "0            1713\n",
       "dtype: int64"
      ]
     },
     "execution_count": 49,
     "metadata": {},
     "output_type": "execute_result"
    }
   ],
   "source": [
    "# predict test\n",
    "y_test_hat = tune_search.predict(X_test_sv)\n",
    "\n",
    "# save test predictions\n",
    "save_test = modeling.save_test_preds(test, test_tf, y_test_hat)\n",
    "save_test.value_counts()"
   ]
  },
  {
   "attachments": {},
   "cell_type": "markdown",
   "id": "cf96d2e7",
   "metadata": {},
   "source": [
    "##### c) SVM"
   ]
  },
  {
   "cell_type": "code",
   "execution_count": 84,
   "id": "7247dd4e",
   "metadata": {},
   "outputs": [],
   "source": [
    "# prepare datasets for SVM\n",
    "cols = ['node2vec_1', 'node2vec_2', 'node2vec_3', 'node2vec_4']\n",
    "X_trainval_sv  =  X_trainval[[col for col in X_trainval.columns  if col in cols]]\n",
    "X_train_sv  =  X_train[[col for col in X_train.columns  if col in cols]]\n",
    "X_val_sv  =  X_val[[col for col in X_val.columns  if col in cols]]\n",
    "X_test_sv  =  X_test[[col for col in X_test.columns  if col in cols]]"
   ]
  },
  {
   "cell_type": "code",
   "execution_count": 85,
   "id": "a4975293",
   "metadata": {},
   "outputs": [
    {
     "name": "stdout",
     "output_type": "stream",
     "text": [
      "Acc train: 0.8387482083134257\n",
      "Acc val: 0.6297181079789775\n"
     ]
    }
   ],
   "source": [
    "# prepare SVM pipeline\n",
    "clf = make_pipeline(StandardScaler(), SVC(C=0.001))\n",
    "clf.fit(X_train_sv, y_train)\n",
    "\n",
    "# performance on train set\n",
    "y_train_hat = clf.predict(X_train_sv)\n",
    "acc_train = accuracy_score(y_train, y_train_hat)\n",
    "\n",
    "# performance on val set\n",
    "y_val_hat = clf.predict(X_val_sv)\n",
    "acc_val = accuracy_score(y_val, y_val_hat)\n",
    "\n",
    "print(f\"Acc train: {acc_train}\")\n",
    "print(f\"Acc val: {acc_val}\")\n"
   ]
  }
 ],
 "metadata": {
  "kernelspec": {
   "display_name": "Python 3",
   "language": "python",
   "name": "python3"
  },
  "language_info": {
   "codemirror_mode": {
    "name": "ipython",
    "version": 3
   },
   "file_extension": ".py",
   "mimetype": "text/x-python",
   "name": "python",
   "nbconvert_exporter": "python",
   "pygments_lexer": "ipython3",
   "version": "3.9.7"
  },
  "vscode": {
   "interpreter": {
    "hash": "edc5d5641674580b35290ba45bd16007251669062615a59c5f9a5e5dd7884ea6"
   }
  }
 },
 "nbformat": 4,
 "nbformat_minor": 5
}
