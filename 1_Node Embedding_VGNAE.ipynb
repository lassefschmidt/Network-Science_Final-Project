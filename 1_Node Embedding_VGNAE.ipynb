{
 "cells": [
  {
   "cell_type": "markdown",
   "id": "ca3f9796",
   "metadata": {},
   "source": [
    "# Machine Learning in Network Science\n",
    "Group Challenge\n",
    "\n",
    "***\n",
    "by: Leonardo Basili, Paul Bédier, Lasse Schmidt\n",
    "\n",
    "within: MS Data Sciences & Business Analytics\n",
    "\n",
    "at: CentraleSupélec & ESSEC Business School\n",
    "***"
   ]
  },
  {
   "cell_type": "markdown",
   "id": "3a46be5a",
   "metadata": {},
   "source": [
    "This notebook covers deep learning techniques, namely:\n",
    "- Variational Graph Normalized Auto-Encoders (based on https://arxiv.org/abs/2108.08046) which allow us to learn graph embeddings in an unsupervised way (based on graph structure and node embeddings)"
   ]
  },
  {
   "cell_type": "markdown",
   "id": "54f241a1",
   "metadata": {},
   "source": [
    "### 1. Import Packages"
   ]
  },
  {
   "cell_type": "code",
   "execution_count": 85,
   "id": "98e82605",
   "metadata": {},
   "outputs": [
    {
     "data": {
      "text/plain": [
       "<module 'util.autoencoder' from '/Users/macbookpro/Documents/GitHub/Network-Science_Final-Project/util/autoencoder.py'>"
      ]
     },
     "execution_count": 85,
     "metadata": {},
     "output_type": "execute_result"
    }
   ],
   "source": [
    "from importlib import reload\n",
    "reload(analyseData)\n",
    "reload(loadData)\n",
    "reload(modeling)\n",
    "reload(autoenc)"
   ]
  },
  {
   "cell_type": "code",
   "execution_count": 86,
   "id": "a3ffae4f",
   "metadata": {},
   "outputs": [],
   "source": [
    "# import own scripts\n",
    "import util.analyse_Data as analyseData\n",
    "#import util.preprocess_Data as prepData\n",
    "import util.load_Data as loadData\n",
    "import util.modeling as modeling\n",
    "import util.autoencoder as autoenc"
   ]
  },
  {
   "cell_type": "code",
   "execution_count": 87,
   "id": "d7c6ba33",
   "metadata": {},
   "outputs": [],
   "source": [
    "# parse & handle data\n",
    "import os\n",
    "import numpy as np\n",
    "import pandas as pd\n",
    "\n",
    "# modeling\n",
    "import torch\n",
    "from torch_geometric.nn import GAE, VGAE\n",
    "\n",
    "# hyperparam optimization\n",
    "from ray import tune, air\n",
    "\n",
    "# evaluation\n",
    "from sklearn.metrics import accuracy_score, roc_auc_score, classification_report, confusion_matrix, ConfusionMatrixDisplay\n",
    "\n",
    "\n",
    "# visualization\n",
    "import matplotlib.pyplot as plt\n",
    "import seaborn as sns"
   ]
  },
  {
   "cell_type": "code",
   "execution_count": 88,
   "id": "c84a352e",
   "metadata": {},
   "outputs": [],
   "source": [
    "# set matplotlib and seaborn settings for nicer plots\n",
    "%matplotlib inline\n",
    "\n",
    "SMALL_SIZE = 6\n",
    "MEDIUM_SIZE = 8\n",
    "BIGGER_SIZE = 10\n",
    "\n",
    "plt.rc('font', size=SMALL_SIZE)          # controls default text sizes\n",
    "plt.rc('axes', titlesize=BIGGER_SIZE)    # fontsize of the axes title\n",
    "plt.rc('axes', labelsize=MEDIUM_SIZE)    # fontsize of the x and y labels\n",
    "plt.rc('xtick', labelsize=SMALL_SIZE)    # fontsize of the tick labels\n",
    "plt.rc('ytick', labelsize=SMALL_SIZE)    # fontsize of the tick labels\n",
    "plt.rc('legend', fontsize=MEDIUM_SIZE)   # legend fontsize\n",
    "plt.rc('figure', titlesize=BIGGER_SIZE)  # fontsize of the figure title"
   ]
  },
  {
   "cell_type": "markdown",
   "id": "74f20e78",
   "metadata": {},
   "source": [
    "### 2. Load Data for Modeling"
   ]
  },
  {
   "cell_type": "code",
   "execution_count": 89,
   "id": "2a7d5835",
   "metadata": {},
   "outputs": [
    {
     "name": "stdout",
     "output_type": "stream",
     "text": [
      "Number of positive edges for training: 3802\n",
      "Number of positive edges for validation: 1085\n",
      "Number of positive edges for test: 542\n",
      "Number of edges in original graph: 5429\n",
      "Number of edges in training graph: 3802\n",
      "Number of non-existing edges generated: 29971\n",
      "Number of negative edges for training: 3802\n",
      "Number of negative edges for validation: 1085\n",
      "Number of negative edges for test: 542\n",
      "sum of train pos edges: 3802\n",
      "sum of train neg edges: 3802\n",
      "sum of val pos edges: 1085\n",
      "sum of val neg edges: 1085\n",
      "sum of train pos edges: 3802\n",
      "sum of train neg edges: 3802\n",
      "sum of val pos edges: 1085\n",
      "sum of val neg edges: 1085\n",
      "Enriching node features...\n"
     ]
    },
    {
     "data": {
      "application/vnd.jupyter.widget-view+json": {
       "model_id": "35628cb2118d41a0b540db9e8fa1f5c5",
       "version_major": 2,
       "version_minor": 0
      },
      "text/plain": [
       "Computing transition probabilities:   0%|          | 0/2708 [00:00<?, ?it/s]"
      ]
     },
     "metadata": {},
     "output_type": "display_data"
    },
    {
     "name": "stderr",
     "output_type": "stream",
     "text": [
      "Generating walks (CPU: 1): 100%|██████████| 10/10 [00:00<00:00, 13.74it/s]\n",
      "/Users/macbookpro/Library/Python/3.9/lib/python/site-packages/networkx/algorithms/link_analysis/hits_alg.py:78: FutureWarning: adjacency_matrix will return a scipy.sparse array instead of a matrix in Networkx 3.0.\n",
      "  A = nx.adjacency_matrix(G, nodelist=list(G), dtype=float)\n"
     ]
    },
    {
     "data": {
      "application/vnd.jupyter.widget-view+json": {
       "model_id": "8f8ebd91c26b4e948d33fd2f32abd571",
       "version_major": 2,
       "version_minor": 0
      },
      "text/plain": [
       "Computing transition probabilities:   0%|          | 0/2708 [00:00<?, ?it/s]"
      ]
     },
     "metadata": {},
     "output_type": "display_data"
    },
    {
     "name": "stderr",
     "output_type": "stream",
     "text": [
      "Generating walks (CPU: 1): 100%|██████████| 10/10 [00:00<00:00, 11.12it/s]\n"
     ]
    },
    {
     "name": "stdout",
     "output_type": "stream",
     "text": [
      "Create PyTorch Geometric dataset...\n"
     ]
    }
   ],
   "source": [
    "# might take up to a minute\n",
    "data, (G, G_train, G_trainval, node_info, train_tf, val_tf, trainval_tf, test_tf) = autoenc.load()"
   ]
  },
  {
   "cell_type": "code",
   "execution_count": 90,
   "id": "3ee7a8e9",
   "metadata": {},
   "outputs": [],
   "source": [
    "# where to save trial results to\n",
    "ray_path = os.path.abspath(\"\")+\"/ray_results\"\n",
    "if not os.path.isdir(ray_path):\n",
    "    os.mkdir(ray_path)"
   ]
  },
  {
   "cell_type": "markdown",
   "id": "345c4898",
   "metadata": {},
   "source": [
    "### 3. VGNAE Node Embeddings\n",
    "\n",
    "https://github.com/SeongJinAhn/VGNAE/blob/main/main.py for Variational Graph Normalized Auto-Encoders"
   ]
  },
  {
   "cell_type": "markdown",
   "id": "372aac42",
   "metadata": {},
   "source": [
    "#### 3.1 Hyperparameter tuning"
   ]
  },
  {
   "cell_type": "code",
   "execution_count": 70,
   "id": "b68c1c9f",
   "metadata": {},
   "outputs": [],
   "source": [
    "# tunable hyperparameter search space --> search using tune.choice([]), tune.uniform(lower, upper), tune.grid_search([])\n",
    "config = {\n",
    "    # log params in raytune\n",
    "    \"ray\": True,\n",
    "    \n",
    "    # print results per epoch\n",
    "    \"verbose\": False,\n",
    "    \n",
    "    # basic infos\n",
    "    \"data\": data,\n",
    "    \"max_epochs\": 50,\n",
    "    \"save\": True, # if we want to save best model on validation set\n",
    "    \n",
    "    # model\n",
    "    \"model\": \"VGNAE\",\n",
    "    \n",
    "    ## encoder\n",
    "    \"enc_channels\": 64,\n",
    "    \"scaling\": 1.8,\n",
    "    \"num_prop\": tune.grid_search([4, 16, 32, 64, 128]),\n",
    "    \"teleport\": 0, # tune.grid_search([0, 0.1, 0.2]),\n",
    "    \"dropout\": 0, # tune.grid_search([0, 0.1, 0.2]),\n",
    "    \n",
    "    # optimizer\n",
    "    \"lr\": tune.grid_search([1e-3, 1e-4, 1e-5]),\n",
    "    \"wd\": 0,\n",
    "}"
   ]
  },
  {
   "cell_type": "code",
   "execution_count": 71,
   "id": "5116af65",
   "metadata": {},
   "outputs": [
    {
     "data": {
      "text/html": [
       "<div class=\"tuneStatus\">\n",
       "  <div style=\"display: flex;flex-direction: row\">\n",
       "    <div style=\"display: flex;flex-direction: column;\">\n",
       "      <h3>Tune Status</h3>\n",
       "      <table>\n",
       "<tbody>\n",
       "<tr><td>Current time:</td><td>2023-04-23 11:48:36</td></tr>\n",
       "<tr><td>Running for: </td><td>00:05:13.79        </td></tr>\n",
       "<tr><td>Memory:      </td><td>15.1/16.0 GiB      </td></tr>\n",
       "</tbody>\n",
       "</table>\n",
       "    </div>\n",
       "    <div class=\"vDivider\"></div>\n",
       "    <div class=\"systemInfo\">\n",
       "      <h3>System Info</h3>\n",
       "      Using FIFO scheduling algorithm.<br>Resources requested: 0/8 CPUs, 0/0 GPUs, 0.0/10.92 GiB heap, 0.0/2.0 GiB objects\n",
       "    </div>\n",
       "    <div class=\"vDivider\"></div>\n",
       "<div class=\"messages\">\n",
       "  <h3>Messages</h3>\n",
       "  : ***LOW MEMORY*** less than 10% of the memory on this node is available for use. This can cause unexpected crashes. Consider reducing the memory used by your application or reducing the Ray object store size by setting `object_store_memory` when calling `ray.init`.\n",
       "  \n",
       "  \n",
       "</div>\n",
       "<style>\n",
       ".messages {\n",
       "  color: var(--jp-ui-font-color1);\n",
       "  display: flex;\n",
       "  flex-direction: column;\n",
       "  padding-left: 1em;\n",
       "  overflow-y: auto;\n",
       "}\n",
       ".messages h3 {\n",
       "  font-weight: bold;\n",
       "}\n",
       ".vDivider {\n",
       "  border-left-width: var(--jp-border-width);\n",
       "  border-left-color: var(--jp-border-color0);\n",
       "  border-left-style: solid;\n",
       "  margin: 0.5em 1em 0.5em 1em;\n",
       "}\n",
       "</style>\n",
       "\n",
       "  </div>\n",
       "  <div class=\"hDivider\"></div>\n",
       "  <div class=\"trialStatus\">\n",
       "    <h3>Trial Status</h3>\n",
       "    <table>\n",
       "<thead>\n",
       "<tr><th>Trial name                </th><th>status    </th><th>loc           </th><th style=\"text-align: right;\">  scaling</th><th style=\"text-align: right;\">  num_prop</th><th style=\"text-align: right;\">    lr</th><th style=\"text-align: right;\">  trn_auc</th><th style=\"text-align: right;\">  val_auc</th><th style=\"text-align: right;\">  max_val_auc</th><th style=\"text-align: right;\">   training_iterat\n",
       "ion</th></tr>\n",
       "</thead>\n",
       "<tbody>\n",
       "<tr><td>VGNAE_0.001_0_4982a_00000 </td><td>TERMINATED</td><td>127.0.0.1:8887</td><td style=\"text-align: right;\">      1.8</td><td style=\"text-align: right;\">         4</td><td style=\"text-align: right;\">0.001 </td><td style=\"text-align: right;\"> 0.941873</td><td style=\"text-align: right;\"> 0.817512</td><td style=\"text-align: right;\">     0.825806</td><td style=\"text-align: right;\">50</td></tr>\n",
       "<tr><td>VGNAE_0.0001_0_4982a_00001</td><td>TERMINATED</td><td>127.0.0.1:8903</td><td style=\"text-align: right;\">      1.8</td><td style=\"text-align: right;\">         4</td><td style=\"text-align: right;\">0.0001</td><td style=\"text-align: right;\"> 0.693582</td><td style=\"text-align: right;\"> 0.661751</td><td style=\"text-align: right;\">     0.661751</td><td style=\"text-align: right;\">50</td></tr>\n",
       "<tr><td>VGNAE_1e-05_0_4982a_00002 </td><td>TERMINATED</td><td>127.0.0.1:8887</td><td style=\"text-align: right;\">      1.8</td><td style=\"text-align: right;\">         4</td><td style=\"text-align: right;\">1e-05 </td><td style=\"text-align: right;\"> 0.693319</td><td style=\"text-align: right;\"> 0.661751</td><td style=\"text-align: right;\">     0.661751</td><td style=\"text-align: right;\">50</td></tr>\n",
       "<tr><td>VGNAE_0.001_0_4982a_00003 </td><td>TERMINATED</td><td>127.0.0.1:8903</td><td style=\"text-align: right;\">      1.8</td><td style=\"text-align: right;\">        16</td><td style=\"text-align: right;\">0.001 </td><td style=\"text-align: right;\"> 0.940558</td><td style=\"text-align: right;\"> 0.814747</td><td style=\"text-align: right;\">     0.823963</td><td style=\"text-align: right;\">50</td></tr>\n",
       "<tr><td>VGNAE_0.0001_0_4982a_00004</td><td>TERMINATED</td><td>127.0.0.1:8887</td><td style=\"text-align: right;\">      1.8</td><td style=\"text-align: right;\">        16</td><td style=\"text-align: right;\">0.0001</td><td style=\"text-align: right;\"> 0.705155</td><td style=\"text-align: right;\"> 0.658525</td><td style=\"text-align: right;\">     0.658986</td><td style=\"text-align: right;\">50</td></tr>\n",
       "<tr><td>VGNAE_1e-05_0_4982a_00005 </td><td>TERMINATED</td><td>127.0.0.1:8903</td><td style=\"text-align: right;\">      1.8</td><td style=\"text-align: right;\">        16</td><td style=\"text-align: right;\">1e-05 </td><td style=\"text-align: right;\"> 0.705155</td><td style=\"text-align: right;\"> 0.654839</td><td style=\"text-align: right;\">     0.6553  </td><td style=\"text-align: right;\">50</td></tr>\n",
       "<tr><td>VGNAE_0.001_0_4982a_00006 </td><td>TERMINATED</td><td>127.0.0.1:8887</td><td style=\"text-align: right;\">      1.8</td><td style=\"text-align: right;\">        32</td><td style=\"text-align: right;\">0.001 </td><td style=\"text-align: right;\"> 0.941084</td><td style=\"text-align: right;\"> 0.814747</td><td style=\"text-align: right;\">     0.819355</td><td style=\"text-align: right;\">50</td></tr>\n",
       "<tr><td>VGNAE_0.0001_0_4982a_00007</td><td>TERMINATED</td><td>127.0.0.1:8903</td><td style=\"text-align: right;\">      1.8</td><td style=\"text-align: right;\">        32</td><td style=\"text-align: right;\">0.0001</td><td style=\"text-align: right;\"> 0.705155</td><td style=\"text-align: right;\"> 0.659908</td><td style=\"text-align: right;\">     0.659908</td><td style=\"text-align: right;\">50</td></tr>\n",
       "<tr><td>VGNAE_1e-05_0_4982a_00008 </td><td>TERMINATED</td><td>127.0.0.1:8887</td><td style=\"text-align: right;\">      1.8</td><td style=\"text-align: right;\">        32</td><td style=\"text-align: right;\">1e-05 </td><td style=\"text-align: right;\"> 0.705024</td><td style=\"text-align: right;\"> 0.657604</td><td style=\"text-align: right;\">     0.657604</td><td style=\"text-align: right;\">50</td></tr>\n",
       "<tr><td>VGNAE_0.001_0_4982a_00009 </td><td>TERMINATED</td><td>127.0.0.1:8903</td><td style=\"text-align: right;\">      1.8</td><td style=\"text-align: right;\">        64</td><td style=\"text-align: right;\">0.001 </td><td style=\"text-align: right;\"> 0.94161 </td><td style=\"text-align: right;\"> 0.813825</td><td style=\"text-align: right;\">     0.818433</td><td style=\"text-align: right;\">50</td></tr>\n",
       "<tr><td>VGNAE_0.0001_0_4982a_00010</td><td>TERMINATED</td><td>127.0.0.1:8887</td><td style=\"text-align: right;\">      1.8</td><td style=\"text-align: right;\">        64</td><td style=\"text-align: right;\">0.0001</td><td style=\"text-align: right;\"> 0.705155</td><td style=\"text-align: right;\"> 0.659908</td><td style=\"text-align: right;\">     0.660369</td><td style=\"text-align: right;\">50</td></tr>\n",
       "<tr><td>VGNAE_1e-05_0_4982a_00011 </td><td>TERMINATED</td><td>127.0.0.1:8903</td><td style=\"text-align: right;\">      1.8</td><td style=\"text-align: right;\">        64</td><td style=\"text-align: right;\">1e-05 </td><td style=\"text-align: right;\"> 0.705155</td><td style=\"text-align: right;\"> 0.657604</td><td style=\"text-align: right;\">     0.657604</td><td style=\"text-align: right;\">50</td></tr>\n",
       "<tr><td>VGNAE_0.001_0_4982a_00012 </td><td>TERMINATED</td><td>127.0.0.1:8887</td><td style=\"text-align: right;\">      1.8</td><td style=\"text-align: right;\">       128</td><td style=\"text-align: right;\">0.001 </td><td style=\"text-align: right;\"> 0.94161 </td><td style=\"text-align: right;\"> 0.813825</td><td style=\"text-align: right;\">     0.818433</td><td style=\"text-align: right;\">50</td></tr>\n",
       "<tr><td>VGNAE_0.0001_0_4982a_00013</td><td>TERMINATED</td><td>127.0.0.1:8903</td><td style=\"text-align: right;\">      1.8</td><td style=\"text-align: right;\">       128</td><td style=\"text-align: right;\">0.0001</td><td style=\"text-align: right;\"> 0.705155</td><td style=\"text-align: right;\"> 0.659908</td><td style=\"text-align: right;\">     0.660369</td><td style=\"text-align: right;\">50</td></tr>\n",
       "<tr><td>VGNAE_1e-05_0_4982a_00014 </td><td>TERMINATED</td><td>127.0.0.1:8887</td><td style=\"text-align: right;\">      1.8</td><td style=\"text-align: right;\">       128</td><td style=\"text-align: right;\">1e-05 </td><td style=\"text-align: right;\"> 0.705155</td><td style=\"text-align: right;\"> 0.657604</td><td style=\"text-align: right;\">     0.657604</td><td style=\"text-align: right;\">50</td></tr>\n",
       "</tbody>\n",
       "</table>\n",
       "  </div>\n",
       "</div>\n",
       "<style>\n",
       ".tuneStatus {\n",
       "  color: var(--jp-ui-font-color1);\n",
       "}\n",
       ".tuneStatus .systemInfo {\n",
       "  display: flex;\n",
       "  flex-direction: column;\n",
       "}\n",
       ".tuneStatus td {\n",
       "  white-space: nowrap;\n",
       "}\n",
       ".tuneStatus .trialStatus {\n",
       "  display: flex;\n",
       "  flex-direction: column;\n",
       "}\n",
       ".tuneStatus h3 {\n",
       "  font-weight: bold;\n",
       "}\n",
       ".tuneStatus .hDivider {\n",
       "  border-bottom-width: var(--jp-border-width);\n",
       "  border-bottom-color: var(--jp-border-color0);\n",
       "  border-bottom-style: solid;\n",
       "}\n",
       ".tuneStatus .vDivider {\n",
       "  border-left-width: var(--jp-border-width);\n",
       "  border-left-color: var(--jp-border-color0);\n",
       "  border-left-style: solid;\n",
       "  margin: 0.5em 1em 0.5em 1em;\n",
       "}\n",
       "</style>\n"
      ],
      "text/plain": [
       "<IPython.core.display.HTML object>"
      ]
     },
     "metadata": {},
     "output_type": "display_data"
    },
    {
     "name": "stderr",
     "output_type": "stream",
     "text": [
      "2023-04-23 11:43:21,824\tINFO worker.py:1553 -- Started a local Ray instance.\n",
      "2023-04-23 11:48:36,496\tINFO tune.py:798 -- Total run time: 313.82 seconds (304.79 seconds for the tuning loop).\n"
     ]
    }
   ],
   "source": [
    "# how many trials to run (if grid_search utilized, it will run this number per grid_search value)\n",
    "num_samples = 1\n",
    "\n",
    "# run experiment\n",
    "result_grid = autoenc.run_ray_experiment(\n",
    "    autoenc.train_validate, config, ray_path, num_samples,\n",
    "    metric_columns = [\"trn_auc\", \"val_auc\", \"max_val_auc\", \"training_iteration\"],\n",
    "    parameter_columns = [\"scaling\", \"num_prop\", \"lr\"]\n",
    ")"
   ]
  },
  {
   "cell_type": "markdown",
   "id": "c419b918",
   "metadata": {},
   "source": [
    "#### 3.2 Result of Hyperparameter tuning"
   ]
  },
  {
   "cell_type": "code",
   "execution_count": 91,
   "id": "0e9db923",
   "metadata": {},
   "outputs": [
    {
     "name": "stderr",
     "output_type": "stream",
     "text": [
      "2023-04-23 12:18:03,079\tWARNING tuner_internal.py:292 -- The trainable will be overwritten - this should be done with caution: it's possible to supply an incompatible trainable, and there are no guarantees that the resumed experiment will continue successfully. If you encounter errors during training, ensure that you are passing in the same trainable that was passed into the initial `Tuner` object.\n"
     ]
    },
    {
     "name": "stdout",
     "output_type": "stream",
     "text": [
      "Loading results from ray_results/train_validate_2023-04-23_11-43-18...\n"
     ]
    },
    {
     "name": "stderr",
     "output_type": "stream",
     "text": [
      "2023-04-23 12:18:13,365\tINFO experiment_analysis.py:789 -- No `self.trials`. Drawing logdirs from checkpoint file. This may result in some information that is out of sync, as checkpointing is periodic.\n"
     ]
    },
    {
     "name": "stdout",
     "output_type": "stream",
     "text": [
      "Done!\n",
      "\n",
      "No errors! Number of terminated trials: 15\n"
     ]
    }
   ],
   "source": [
    "restored_tuner, result_grid = autoenc.open_validate_ray_experiment(\n",
    "    \"ray_results/train_validate_2023-04-23_11-43-18\",\n",
    "    autoenc.train_validate\n",
    ")"
   ]
  },
  {
   "cell_type": "code",
   "execution_count": 92,
   "id": "31297470",
   "metadata": {},
   "outputs": [
    {
     "data": {
      "text/html": [
       "<div>\n",
       "<style scoped>\n",
       "    .dataframe tbody tr th:only-of-type {\n",
       "        vertical-align: middle;\n",
       "    }\n",
       "\n",
       "    .dataframe tbody tr th {\n",
       "        vertical-align: top;\n",
       "    }\n",
       "\n",
       "    .dataframe thead th {\n",
       "        text-align: right;\n",
       "    }\n",
       "</style>\n",
       "<table border=\"1\" class=\"dataframe\">\n",
       "  <thead>\n",
       "    <tr style=\"text-align: right;\">\n",
       "      <th></th>\n",
       "      <th>trial_id</th>\n",
       "      <th>training_iteration</th>\n",
       "      <th>config/enc_channels</th>\n",
       "      <th>config/scaling</th>\n",
       "      <th>config/num_prop</th>\n",
       "      <th>config/lr</th>\n",
       "      <th>config/wd</th>\n",
       "      <th>trn_loss</th>\n",
       "      <th>val_loss</th>\n",
       "      <th>trn_auc</th>\n",
       "      <th>val_auc</th>\n",
       "    </tr>\n",
       "  </thead>\n",
       "  <tbody>\n",
       "    <tr>\n",
       "      <th>0</th>\n",
       "      <td>4982a_00000</td>\n",
       "      <td>42</td>\n",
       "      <td>64</td>\n",
       "      <td>1.8</td>\n",
       "      <td>4</td>\n",
       "      <td>0.00100</td>\n",
       "      <td>0</td>\n",
       "      <td>5.112204</td>\n",
       "      <td>1.409582</td>\n",
       "      <td>0.948185</td>\n",
       "      <td>0.825806</td>\n",
       "    </tr>\n",
       "    <tr>\n",
       "      <th>3</th>\n",
       "      <td>4982a_00003</td>\n",
       "      <td>41</td>\n",
       "      <td>64</td>\n",
       "      <td>1.8</td>\n",
       "      <td>16</td>\n",
       "      <td>0.00100</td>\n",
       "      <td>0</td>\n",
       "      <td>5.324944</td>\n",
       "      <td>1.422033</td>\n",
       "      <td>0.950026</td>\n",
       "      <td>0.823963</td>\n",
       "    </tr>\n",
       "    <tr>\n",
       "      <th>6</th>\n",
       "      <td>4982a_00006</td>\n",
       "      <td>47</td>\n",
       "      <td>64</td>\n",
       "      <td>1.8</td>\n",
       "      <td>32</td>\n",
       "      <td>0.00100</td>\n",
       "      <td>0</td>\n",
       "      <td>5.056614</td>\n",
       "      <td>1.652868</td>\n",
       "      <td>0.940163</td>\n",
       "      <td>0.819355</td>\n",
       "    </tr>\n",
       "    <tr>\n",
       "      <th>9</th>\n",
       "      <td>4982a_00009</td>\n",
       "      <td>48</td>\n",
       "      <td>64</td>\n",
       "      <td>1.8</td>\n",
       "      <td>64</td>\n",
       "      <td>0.00100</td>\n",
       "      <td>0</td>\n",
       "      <td>4.720571</td>\n",
       "      <td>1.399702</td>\n",
       "      <td>0.944503</td>\n",
       "      <td>0.818433</td>\n",
       "    </tr>\n",
       "    <tr>\n",
       "      <th>12</th>\n",
       "      <td>4982a_00012</td>\n",
       "      <td>48</td>\n",
       "      <td>64</td>\n",
       "      <td>1.8</td>\n",
       "      <td>128</td>\n",
       "      <td>0.00100</td>\n",
       "      <td>0</td>\n",
       "      <td>4.720572</td>\n",
       "      <td>1.399701</td>\n",
       "      <td>0.944503</td>\n",
       "      <td>0.818433</td>\n",
       "    </tr>\n",
       "    <tr>\n",
       "      <th>1</th>\n",
       "      <td>4982a_00001</td>\n",
       "      <td>1</td>\n",
       "      <td>64</td>\n",
       "      <td>1.8</td>\n",
       "      <td>4</td>\n",
       "      <td>0.00010</td>\n",
       "      <td>0</td>\n",
       "      <td>9.989462</td>\n",
       "      <td>6.556673</td>\n",
       "      <td>0.693056</td>\n",
       "      <td>0.661751</td>\n",
       "    </tr>\n",
       "    <tr>\n",
       "      <th>2</th>\n",
       "      <td>4982a_00002</td>\n",
       "      <td>1</td>\n",
       "      <td>64</td>\n",
       "      <td>1.8</td>\n",
       "      <td>4</td>\n",
       "      <td>0.00001</td>\n",
       "      <td>0</td>\n",
       "      <td>9.989462</td>\n",
       "      <td>6.556799</td>\n",
       "      <td>0.693056</td>\n",
       "      <td>0.661751</td>\n",
       "    </tr>\n",
       "    <tr>\n",
       "      <th>10</th>\n",
       "      <td>4982a_00010</td>\n",
       "      <td>35</td>\n",
       "      <td>64</td>\n",
       "      <td>1.8</td>\n",
       "      <td>64</td>\n",
       "      <td>0.00010</td>\n",
       "      <td>0</td>\n",
       "      <td>10.118744</td>\n",
       "      <td>7.350160</td>\n",
       "      <td>0.705155</td>\n",
       "      <td>0.660369</td>\n",
       "    </tr>\n",
       "    <tr>\n",
       "      <th>13</th>\n",
       "      <td>4982a_00013</td>\n",
       "      <td>35</td>\n",
       "      <td>64</td>\n",
       "      <td>1.8</td>\n",
       "      <td>128</td>\n",
       "      <td>0.00010</td>\n",
       "      <td>0</td>\n",
       "      <td>10.118744</td>\n",
       "      <td>7.350160</td>\n",
       "      <td>0.705155</td>\n",
       "      <td>0.660369</td>\n",
       "    </tr>\n",
       "    <tr>\n",
       "      <th>7</th>\n",
       "      <td>4982a_00007</td>\n",
       "      <td>35</td>\n",
       "      <td>64</td>\n",
       "      <td>1.8</td>\n",
       "      <td>32</td>\n",
       "      <td>0.00010</td>\n",
       "      <td>0</td>\n",
       "      <td>10.118716</td>\n",
       "      <td>7.350062</td>\n",
       "      <td>0.705024</td>\n",
       "      <td>0.659908</td>\n",
       "    </tr>\n",
       "  </tbody>\n",
       "</table>\n",
       "</div>"
      ],
      "text/plain": [
       "       trial_id  training_iteration  config/enc_channels  config/scaling  \\\n",
       "0   4982a_00000                  42                   64             1.8   \n",
       "3   4982a_00003                  41                   64             1.8   \n",
       "6   4982a_00006                  47                   64             1.8   \n",
       "9   4982a_00009                  48                   64             1.8   \n",
       "12  4982a_00012                  48                   64             1.8   \n",
       "1   4982a_00001                   1                   64             1.8   \n",
       "2   4982a_00002                   1                   64             1.8   \n",
       "10  4982a_00010                  35                   64             1.8   \n",
       "13  4982a_00013                  35                   64             1.8   \n",
       "7   4982a_00007                  35                   64             1.8   \n",
       "\n",
       "    config/num_prop  config/lr  config/wd   trn_loss  val_loss   trn_auc  \\\n",
       "0                 4    0.00100          0   5.112204  1.409582  0.948185   \n",
       "3                16    0.00100          0   5.324944  1.422033  0.950026   \n",
       "6                32    0.00100          0   5.056614  1.652868  0.940163   \n",
       "9                64    0.00100          0   4.720571  1.399702  0.944503   \n",
       "12              128    0.00100          0   4.720572  1.399701  0.944503   \n",
       "1                 4    0.00010          0   9.989462  6.556673  0.693056   \n",
       "2                 4    0.00001          0   9.989462  6.556799  0.693056   \n",
       "10               64    0.00010          0  10.118744  7.350160  0.705155   \n",
       "13              128    0.00010          0  10.118744  7.350160  0.705155   \n",
       "7                32    0.00010          0  10.118716  7.350062  0.705024   \n",
       "\n",
       "     val_auc  \n",
       "0   0.825806  \n",
       "3   0.823963  \n",
       "6   0.819355  \n",
       "9   0.818433  \n",
       "12  0.818433  \n",
       "1   0.661751  \n",
       "2   0.661751  \n",
       "10  0.660369  \n",
       "13  0.660369  \n",
       "7   0.659908  "
      ]
     },
     "execution_count": 92,
     "metadata": {},
     "output_type": "execute_result"
    }
   ],
   "source": [
    "# get best score per trial (highest validation accuracy)\n",
    "N = 10\n",
    "best_result_df = result_grid.get_dataframe(\n",
    "    filter_metric=\"val_auc\", filter_mode=\"max\"\n",
    ")\n",
    "best_result_df = best_result_df[[\"trial_id\", \"training_iteration\", \"config/enc_channels\",\n",
    "                                 \"config/scaling\", \"config/num_prop\", \"config/lr\", \"config/wd\", \n",
    "                                 \"trn_loss\", \"val_loss\", \"trn_auc\", \"val_auc\"]]\n",
    "best_result_df = best_result_df.sort_values(by=[\"val_auc\"], ascending = False)\n",
    "\n",
    "if len(result_grid) > N:\n",
    "    best_result_df = best_result_df.head(N)\n",
    "\n",
    "best_result_df"
   ]
  },
  {
   "cell_type": "markdown",
   "id": "155cb789",
   "metadata": {},
   "source": [
    "#### 3.3 Embeddings based on best model"
   ]
  },
  {
   "cell_type": "code",
   "execution_count": 102,
   "id": "60a3d4eb",
   "metadata": {},
   "outputs": [
    {
     "data": {
      "text/plain": [
       "<All keys matched successfully>"
      ]
     },
     "execution_count": 102,
     "metadata": {},
     "output_type": "execute_result"
    }
   ],
   "source": [
    "# load best autoencoder\n",
    "path = os.path.abspath(\"\")+\"/models/VGNAE_0.001_0_4982a_00000_autoencoder.pt\"\n",
    "#path = \"models/autoencoder.pt\"\n",
    "model = VGAE(autoenc.Encoder(data.x.size()[1], 64, 1.5, 4, 0, 0))\n",
    "model.load_state_dict(torch.load(path, map_location=torch.device('cpu')))"
   ]
  },
  {
   "cell_type": "code",
   "execution_count": 103,
   "id": "9a83b802",
   "metadata": {},
   "outputs": [],
   "source": [
    "# get embeddings of nodes\n",
    "embedding = autoenc.get_embeddings(model, data.x, data.train_pos_edges)"
   ]
  },
  {
   "cell_type": "code",
   "execution_count": 104,
   "id": "f1a3e22b",
   "metadata": {},
   "outputs": [
    {
     "name": "stdout",
     "output_type": "stream",
     "text": [
      "[[-3.1470058  -0.69348514  1.2015048  ...  0.46626264  0.5235968\n",
      "   1.6211315 ]\n",
      " [ 0.43980443  0.723609    0.37427843 ...  0.1249349   1.095577\n",
      "   1.0135643 ]\n",
      " [-0.9413802   0.17225897  0.26274672 ...  0.93197554 -0.90382165\n",
      "   0.47807515]\n",
      " ...\n",
      " [-2.412036   -0.24900346 -0.5787547  ...  2.2004526  -0.18173164\n",
      "   0.08079515]\n",
      " [-0.77156967 -0.38765618 -1.1806533  ... -1.5115606   0.12829044\n",
      "   0.52693987]\n",
      " [ 1.2350285  -0.39330256 -0.08083931 ...  0.09639663 -0.40052375\n",
      "  -0.05452605]]\n"
     ]
    }
   ],
   "source": [
    "print(embedding)"
   ]
  },
  {
   "cell_type": "code",
   "execution_count": 77,
   "id": "12aae6b8",
   "metadata": {},
   "outputs": [],
   "source": [
    "# plot embedding\n",
    "plt.scatter(\n",
    "    embedding[:, 0],\n",
    "    embedding[:, 1])\n",
    "plt.gca().set_aspect('equal', 'datalim')\n",
    "plt.title('VGNAE projection (first 2 dim) of nodes')\n",
    "plt.savefig('scatter_plot')\n",
    "plt.close()"
   ]
  },
  {
   "cell_type": "markdown",
   "id": "564340ea",
   "metadata": {},
   "source": [
    "Embeddings look like a sphere, we cannot do any meaningful clusering based on this.\n",
    "\n",
    "Let us now take our original VGNAE embeddings and put them into a pandas dataframe."
   ]
  },
  {
   "cell_type": "code",
   "execution_count": 105,
   "id": "7b823a53",
   "metadata": {},
   "outputs": [
    {
     "data": {
      "text/html": [
       "<div>\n",
       "<style scoped>\n",
       "    .dataframe tbody tr th:only-of-type {\n",
       "        vertical-align: middle;\n",
       "    }\n",
       "\n",
       "    .dataframe tbody tr th {\n",
       "        vertical-align: top;\n",
       "    }\n",
       "\n",
       "    .dataframe thead th {\n",
       "        text-align: right;\n",
       "    }\n",
       "</style>\n",
       "<table border=\"1\" class=\"dataframe\">\n",
       "  <thead>\n",
       "    <tr style=\"text-align: right;\">\n",
       "      <th></th>\n",
       "      <th>x1</th>\n",
       "      <th>x2</th>\n",
       "      <th>x3</th>\n",
       "      <th>x4</th>\n",
       "      <th>x5</th>\n",
       "      <th>x6</th>\n",
       "      <th>x7</th>\n",
       "      <th>x8</th>\n",
       "      <th>x9</th>\n",
       "      <th>x10</th>\n",
       "      <th>...</th>\n",
       "      <th>x55</th>\n",
       "      <th>x56</th>\n",
       "      <th>x57</th>\n",
       "      <th>x58</th>\n",
       "      <th>x59</th>\n",
       "      <th>x60</th>\n",
       "      <th>x61</th>\n",
       "      <th>x62</th>\n",
       "      <th>x63</th>\n",
       "      <th>x64</th>\n",
       "    </tr>\n",
       "  </thead>\n",
       "  <tbody>\n",
       "    <tr>\n",
       "      <th>0</th>\n",
       "      <td>-3.147006</td>\n",
       "      <td>-0.693485</td>\n",
       "      <td>1.201505</td>\n",
       "      <td>-0.049189</td>\n",
       "      <td>-2.477531</td>\n",
       "      <td>0.940949</td>\n",
       "      <td>1.030151</td>\n",
       "      <td>-1.317478</td>\n",
       "      <td>1.021093</td>\n",
       "      <td>1.930461</td>\n",
       "      <td>...</td>\n",
       "      <td>1.356891</td>\n",
       "      <td>0.585385</td>\n",
       "      <td>-0.296732</td>\n",
       "      <td>1.043022</td>\n",
       "      <td>0.670434</td>\n",
       "      <td>0.953403</td>\n",
       "      <td>2.153965</td>\n",
       "      <td>0.466263</td>\n",
       "      <td>0.523597</td>\n",
       "      <td>1.621132</td>\n",
       "    </tr>\n",
       "    <tr>\n",
       "      <th>1</th>\n",
       "      <td>0.439804</td>\n",
       "      <td>0.723609</td>\n",
       "      <td>0.374278</td>\n",
       "      <td>0.009205</td>\n",
       "      <td>-0.324646</td>\n",
       "      <td>2.173416</td>\n",
       "      <td>0.206423</td>\n",
       "      <td>-0.613854</td>\n",
       "      <td>0.980051</td>\n",
       "      <td>-0.320066</td>\n",
       "      <td>...</td>\n",
       "      <td>0.414434</td>\n",
       "      <td>0.075904</td>\n",
       "      <td>-1.574996</td>\n",
       "      <td>0.831630</td>\n",
       "      <td>-0.720067</td>\n",
       "      <td>0.735137</td>\n",
       "      <td>0.125447</td>\n",
       "      <td>0.124935</td>\n",
       "      <td>1.095577</td>\n",
       "      <td>1.013564</td>\n",
       "    </tr>\n",
       "    <tr>\n",
       "      <th>2</th>\n",
       "      <td>-0.941380</td>\n",
       "      <td>0.172259</td>\n",
       "      <td>0.262747</td>\n",
       "      <td>0.143806</td>\n",
       "      <td>0.144087</td>\n",
       "      <td>0.195176</td>\n",
       "      <td>-0.347765</td>\n",
       "      <td>0.060223</td>\n",
       "      <td>-0.553427</td>\n",
       "      <td>-0.361967</td>\n",
       "      <td>...</td>\n",
       "      <td>0.369703</td>\n",
       "      <td>-0.641352</td>\n",
       "      <td>0.031440</td>\n",
       "      <td>0.562272</td>\n",
       "      <td>-0.603931</td>\n",
       "      <td>0.262770</td>\n",
       "      <td>-1.057136</td>\n",
       "      <td>0.931976</td>\n",
       "      <td>-0.903822</td>\n",
       "      <td>0.478075</td>\n",
       "    </tr>\n",
       "    <tr>\n",
       "      <th>3</th>\n",
       "      <td>-0.683729</td>\n",
       "      <td>0.384113</td>\n",
       "      <td>1.066712</td>\n",
       "      <td>-0.784413</td>\n",
       "      <td>-0.817814</td>\n",
       "      <td>0.953324</td>\n",
       "      <td>0.118580</td>\n",
       "      <td>2.385186</td>\n",
       "      <td>-0.285979</td>\n",
       "      <td>0.746182</td>\n",
       "      <td>...</td>\n",
       "      <td>-0.689772</td>\n",
       "      <td>1.163549</td>\n",
       "      <td>0.054138</td>\n",
       "      <td>-0.116594</td>\n",
       "      <td>-0.518696</td>\n",
       "      <td>-0.012660</td>\n",
       "      <td>0.088384</td>\n",
       "      <td>-0.219844</td>\n",
       "      <td>-0.785585</td>\n",
       "      <td>0.113611</td>\n",
       "    </tr>\n",
       "    <tr>\n",
       "      <th>4</th>\n",
       "      <td>0.176874</td>\n",
       "      <td>0.846721</td>\n",
       "      <td>-0.172514</td>\n",
       "      <td>-1.459543</td>\n",
       "      <td>0.897850</td>\n",
       "      <td>1.151623</td>\n",
       "      <td>0.558093</td>\n",
       "      <td>-0.481528</td>\n",
       "      <td>-1.528028</td>\n",
       "      <td>0.809247</td>\n",
       "      <td>...</td>\n",
       "      <td>-0.295646</td>\n",
       "      <td>-0.033303</td>\n",
       "      <td>-1.364283</td>\n",
       "      <td>-0.437886</td>\n",
       "      <td>1.031550</td>\n",
       "      <td>-0.510202</td>\n",
       "      <td>-0.003027</td>\n",
       "      <td>-0.601052</td>\n",
       "      <td>-0.762295</td>\n",
       "      <td>0.539120</td>\n",
       "    </tr>\n",
       "    <tr>\n",
       "      <th>...</th>\n",
       "      <td>...</td>\n",
       "      <td>...</td>\n",
       "      <td>...</td>\n",
       "      <td>...</td>\n",
       "      <td>...</td>\n",
       "      <td>...</td>\n",
       "      <td>...</td>\n",
       "      <td>...</td>\n",
       "      <td>...</td>\n",
       "      <td>...</td>\n",
       "      <td>...</td>\n",
       "      <td>...</td>\n",
       "      <td>...</td>\n",
       "      <td>...</td>\n",
       "      <td>...</td>\n",
       "      <td>...</td>\n",
       "      <td>...</td>\n",
       "      <td>...</td>\n",
       "      <td>...</td>\n",
       "      <td>...</td>\n",
       "      <td>...</td>\n",
       "    </tr>\n",
       "    <tr>\n",
       "      <th>2703</th>\n",
       "      <td>1.445216</td>\n",
       "      <td>-1.218790</td>\n",
       "      <td>-0.279565</td>\n",
       "      <td>-0.696438</td>\n",
       "      <td>0.420386</td>\n",
       "      <td>0.128165</td>\n",
       "      <td>-0.505334</td>\n",
       "      <td>-0.203056</td>\n",
       "      <td>1.467542</td>\n",
       "      <td>-1.238313</td>\n",
       "      <td>...</td>\n",
       "      <td>0.406204</td>\n",
       "      <td>1.324047</td>\n",
       "      <td>-0.481330</td>\n",
       "      <td>1.132483</td>\n",
       "      <td>-0.682260</td>\n",
       "      <td>0.788056</td>\n",
       "      <td>0.544333</td>\n",
       "      <td>-2.147440</td>\n",
       "      <td>-0.817016</td>\n",
       "      <td>0.878112</td>\n",
       "    </tr>\n",
       "    <tr>\n",
       "      <th>2704</th>\n",
       "      <td>0.725573</td>\n",
       "      <td>0.141230</td>\n",
       "      <td>0.708655</td>\n",
       "      <td>0.041915</td>\n",
       "      <td>0.324548</td>\n",
       "      <td>-1.125085</td>\n",
       "      <td>-1.442970</td>\n",
       "      <td>-0.667905</td>\n",
       "      <td>-0.146254</td>\n",
       "      <td>-1.541423</td>\n",
       "      <td>...</td>\n",
       "      <td>-1.191757</td>\n",
       "      <td>1.182551</td>\n",
       "      <td>0.508355</td>\n",
       "      <td>-0.843233</td>\n",
       "      <td>-0.116571</td>\n",
       "      <td>-0.093316</td>\n",
       "      <td>-0.181522</td>\n",
       "      <td>0.889183</td>\n",
       "      <td>-0.316258</td>\n",
       "      <td>-0.378547</td>\n",
       "    </tr>\n",
       "    <tr>\n",
       "      <th>2705</th>\n",
       "      <td>-2.412036</td>\n",
       "      <td>-0.249003</td>\n",
       "      <td>-0.578755</td>\n",
       "      <td>-0.186452</td>\n",
       "      <td>-1.881456</td>\n",
       "      <td>1.590825</td>\n",
       "      <td>-0.353436</td>\n",
       "      <td>1.747569</td>\n",
       "      <td>-1.506543</td>\n",
       "      <td>-0.557148</td>\n",
       "      <td>...</td>\n",
       "      <td>0.549199</td>\n",
       "      <td>1.412113</td>\n",
       "      <td>1.732373</td>\n",
       "      <td>-0.068925</td>\n",
       "      <td>-0.322579</td>\n",
       "      <td>-0.398206</td>\n",
       "      <td>-1.245025</td>\n",
       "      <td>2.200453</td>\n",
       "      <td>-0.181732</td>\n",
       "      <td>0.080795</td>\n",
       "    </tr>\n",
       "    <tr>\n",
       "      <th>2706</th>\n",
       "      <td>-0.771570</td>\n",
       "      <td>-0.387656</td>\n",
       "      <td>-1.180653</td>\n",
       "      <td>-1.297818</td>\n",
       "      <td>0.916602</td>\n",
       "      <td>0.793003</td>\n",
       "      <td>-1.803585</td>\n",
       "      <td>0.531975</td>\n",
       "      <td>1.052815</td>\n",
       "      <td>0.675198</td>\n",
       "      <td>...</td>\n",
       "      <td>-1.818894</td>\n",
       "      <td>1.298334</td>\n",
       "      <td>0.072770</td>\n",
       "      <td>-0.878730</td>\n",
       "      <td>2.461720</td>\n",
       "      <td>0.271092</td>\n",
       "      <td>-0.898784</td>\n",
       "      <td>-1.511561</td>\n",
       "      <td>0.128290</td>\n",
       "      <td>0.526940</td>\n",
       "    </tr>\n",
       "    <tr>\n",
       "      <th>2707</th>\n",
       "      <td>1.235029</td>\n",
       "      <td>-0.393303</td>\n",
       "      <td>-0.080839</td>\n",
       "      <td>-0.100346</td>\n",
       "      <td>-0.020121</td>\n",
       "      <td>0.086417</td>\n",
       "      <td>-0.694852</td>\n",
       "      <td>0.137117</td>\n",
       "      <td>0.873359</td>\n",
       "      <td>-2.036592</td>\n",
       "      <td>...</td>\n",
       "      <td>-0.301850</td>\n",
       "      <td>0.616600</td>\n",
       "      <td>1.336999</td>\n",
       "      <td>0.783472</td>\n",
       "      <td>0.557007</td>\n",
       "      <td>-0.321690</td>\n",
       "      <td>0.525451</td>\n",
       "      <td>0.096397</td>\n",
       "      <td>-0.400524</td>\n",
       "      <td>-0.054526</td>\n",
       "    </tr>\n",
       "  </tbody>\n",
       "</table>\n",
       "<p>2708 rows × 64 columns</p>\n",
       "</div>"
      ],
      "text/plain": [
       "            x1        x2        x3        x4        x5        x6        x7  \\\n",
       "0    -3.147006 -0.693485  1.201505 -0.049189 -2.477531  0.940949  1.030151   \n",
       "1     0.439804  0.723609  0.374278  0.009205 -0.324646  2.173416  0.206423   \n",
       "2    -0.941380  0.172259  0.262747  0.143806  0.144087  0.195176 -0.347765   \n",
       "3    -0.683729  0.384113  1.066712 -0.784413 -0.817814  0.953324  0.118580   \n",
       "4     0.176874  0.846721 -0.172514 -1.459543  0.897850  1.151623  0.558093   \n",
       "...        ...       ...       ...       ...       ...       ...       ...   \n",
       "2703  1.445216 -1.218790 -0.279565 -0.696438  0.420386  0.128165 -0.505334   \n",
       "2704  0.725573  0.141230  0.708655  0.041915  0.324548 -1.125085 -1.442970   \n",
       "2705 -2.412036 -0.249003 -0.578755 -0.186452 -1.881456  1.590825 -0.353436   \n",
       "2706 -0.771570 -0.387656 -1.180653 -1.297818  0.916602  0.793003 -1.803585   \n",
       "2707  1.235029 -0.393303 -0.080839 -0.100346 -0.020121  0.086417 -0.694852   \n",
       "\n",
       "            x8        x9       x10  ...       x55       x56       x57  \\\n",
       "0    -1.317478  1.021093  1.930461  ...  1.356891  0.585385 -0.296732   \n",
       "1    -0.613854  0.980051 -0.320066  ...  0.414434  0.075904 -1.574996   \n",
       "2     0.060223 -0.553427 -0.361967  ...  0.369703 -0.641352  0.031440   \n",
       "3     2.385186 -0.285979  0.746182  ... -0.689772  1.163549  0.054138   \n",
       "4    -0.481528 -1.528028  0.809247  ... -0.295646 -0.033303 -1.364283   \n",
       "...        ...       ...       ...  ...       ...       ...       ...   \n",
       "2703 -0.203056  1.467542 -1.238313  ...  0.406204  1.324047 -0.481330   \n",
       "2704 -0.667905 -0.146254 -1.541423  ... -1.191757  1.182551  0.508355   \n",
       "2705  1.747569 -1.506543 -0.557148  ...  0.549199  1.412113  1.732373   \n",
       "2706  0.531975  1.052815  0.675198  ... -1.818894  1.298334  0.072770   \n",
       "2707  0.137117  0.873359 -2.036592  ... -0.301850  0.616600  1.336999   \n",
       "\n",
       "           x58       x59       x60       x61       x62       x63       x64  \n",
       "0     1.043022  0.670434  0.953403  2.153965  0.466263  0.523597  1.621132  \n",
       "1     0.831630 -0.720067  0.735137  0.125447  0.124935  1.095577  1.013564  \n",
       "2     0.562272 -0.603931  0.262770 -1.057136  0.931976 -0.903822  0.478075  \n",
       "3    -0.116594 -0.518696 -0.012660  0.088384 -0.219844 -0.785585  0.113611  \n",
       "4    -0.437886  1.031550 -0.510202 -0.003027 -0.601052 -0.762295  0.539120  \n",
       "...        ...       ...       ...       ...       ...       ...       ...  \n",
       "2703  1.132483 -0.682260  0.788056  0.544333 -2.147440 -0.817016  0.878112  \n",
       "2704 -0.843233 -0.116571 -0.093316 -0.181522  0.889183 -0.316258 -0.378547  \n",
       "2705 -0.068925 -0.322579 -0.398206 -1.245025  2.200453 -0.181732  0.080795  \n",
       "2706 -0.878730  2.461720  0.271092 -0.898784 -1.511561  0.128290  0.526940  \n",
       "2707  0.783472  0.557007 -0.321690  0.525451  0.096397 -0.400524 -0.054526  \n",
       "\n",
       "[2708 rows x 64 columns]"
      ]
     },
     "execution_count": 105,
     "metadata": {},
     "output_type": "execute_result"
    }
   ],
   "source": [
    "node_emb = pd.DataFrame(embedding).rename(columns = {val: f\"x{val+1}\" for val in range(embedding.shape[1])})\n",
    "\n",
    "node_emb"
   ]
  },
  {
   "cell_type": "code",
   "execution_count": 52,
   "id": "b83546fc",
   "metadata": {},
   "outputs": [
    {
     "name": "stdout",
     "output_type": "stream",
     "text": [
      "Index(['sim', 'y', 'pred'], dtype='object')\n"
     ]
    }
   ],
   "source": [
    "print(y_train_hat.columns)"
   ]
  },
  {
   "cell_type": "markdown",
   "id": "64dcbb71",
   "metadata": {},
   "source": [
    "#### 3.4 Compute edge features based on best model"
   ]
  },
  {
   "cell_type": "code",
   "execution_count": 106,
   "id": "4f6dc822",
   "metadata": {},
   "outputs": [
    {
     "name": "stdout",
     "output_type": "stream",
     "text": [
      "ROC:  0.9764215364930167\n",
      "Acc:  0.948185165702262\n"
     ]
    }
   ],
   "source": [
    "# predict train\n",
    "y_train_hat = pd.DataFrame(autoenc.get_similarity(model, data.x, data.train_pos_edges, data.train_edges))\n",
    "\n",
    "y_train_hat = (y_train_hat\n",
    "    .rename(columns = {0: \"sim\"})\n",
    "    .assign(y = trainval_tf.loc[trainval_tf.train_mask == True].y.values)\n",
    "    .assign(pred = lambda df_: (df_.sim > df_.sim.median()).astype(int))\n",
    ")\n",
    "\n",
    "print(\"ROC: \", roc_auc_score(y_train_hat.y, y_train_hat.sim))\n",
    "print(\"Acc: \", accuracy_score(y_train_hat.y, y_train_hat.pred))"
   ]
  },
  {
   "cell_type": "code",
   "execution_count": 107,
   "id": "e245cbd7",
   "metadata": {},
   "outputs": [],
   "source": [
    "import matplotlib.pyplot as plt\n",
    "\n",
    "fig, ax = plt.subplots()\n",
    "ax.scatter(y_train_hat.loc[y_train_hat['y'] == 0, 'sim'], y_train_hat.loc[y_train_hat['y'] == 0, 'y'], label='0')\n",
    "ax.scatter(y_train_hat.loc[y_train_hat['y'] == 1, 'sim'], y_train_hat.loc[y_train_hat['y'] == 1, 'y'], label='1')\n",
    "ax.legend()\n",
    "plt.xlabel('sim')\n",
    "plt.ylabel('y')\n",
    "plt.savefig('scatter_plot.png')\n",
    "plt.close()"
   ]
  },
  {
   "cell_type": "code",
   "execution_count": 24,
   "id": "31eab61f",
   "metadata": {},
   "outputs": [
    {
     "ename": "KeyError",
     "evalue": "\"None of [Index(['sim', 'y'], dtype='object')] are in the [columns]\"",
     "output_type": "error",
     "traceback": [
      "\u001b[0;31m---------------------------------------------------------------------------\u001b[0m",
      "\u001b[0;31mKeyError\u001b[0m                                  Traceback (most recent call last)",
      "\u001b[0;32m/var/folders/wl/zfv53bfx13j4zx15j58_cby00000gn/T/ipykernel_2487/3330746676.py\u001b[0m in \u001b[0;36m<module>\u001b[0;34m\u001b[0m\n\u001b[0;32m----> 1\u001b[0;31m \u001b[0my_train_hat_clean\u001b[0m \u001b[0;34m=\u001b[0m \u001b[0my_train_hat\u001b[0m\u001b[0;34m[\u001b[0m\u001b[0;34m[\u001b[0m\u001b[0;34m\"sim\"\u001b[0m\u001b[0;34m,\u001b[0m \u001b[0;34m\"y\"\u001b[0m\u001b[0;34m]\u001b[0m\u001b[0;34m]\u001b[0m\u001b[0;34m.\u001b[0m\u001b[0mapply\u001b[0m\u001b[0;34m(\u001b[0m\u001b[0mpd\u001b[0m\u001b[0;34m.\u001b[0m\u001b[0mto_numeric\u001b[0m\u001b[0;34m,\u001b[0m \u001b[0merrors\u001b[0m\u001b[0;34m=\u001b[0m\u001b[0;34m'coerce'\u001b[0m\u001b[0;34m)\u001b[0m\u001b[0;34m.\u001b[0m\u001b[0mdropna\u001b[0m\u001b[0;34m(\u001b[0m\u001b[0;34m)\u001b[0m\u001b[0;34m\u001b[0m\u001b[0;34m\u001b[0m\u001b[0m\n\u001b[0m\u001b[1;32m      2\u001b[0m \u001b[0msns\u001b[0m\u001b[0;34m.\u001b[0m\u001b[0mpairplot\u001b[0m\u001b[0;34m(\u001b[0m\u001b[0my_train_hat_clean\u001b[0m\u001b[0;34m[\u001b[0m\u001b[0;34m[\u001b[0m\u001b[0;34m\"sim\"\u001b[0m\u001b[0;34m,\u001b[0m \u001b[0;34m\"y\"\u001b[0m\u001b[0;34m]\u001b[0m\u001b[0;34m]\u001b[0m\u001b[0;34m,\u001b[0m \u001b[0mhue\u001b[0m \u001b[0;34m=\u001b[0m \u001b[0;34m\"y\"\u001b[0m\u001b[0;34m)\u001b[0m\u001b[0;34m\u001b[0m\u001b[0;34m\u001b[0m\u001b[0m\n",
      "\u001b[0;32m/Library/Frameworks/Python.framework/Versions/3.9/lib/python3.9/site-packages/pandas/core/frame.py\u001b[0m in \u001b[0;36m__getitem__\u001b[0;34m(self, key)\u001b[0m\n\u001b[1;32m   3462\u001b[0m             \u001b[0;32mif\u001b[0m \u001b[0mis_iterator\u001b[0m\u001b[0;34m(\u001b[0m\u001b[0mkey\u001b[0m\u001b[0;34m)\u001b[0m\u001b[0;34m:\u001b[0m\u001b[0;34m\u001b[0m\u001b[0;34m\u001b[0m\u001b[0m\n\u001b[1;32m   3463\u001b[0m                 \u001b[0mkey\u001b[0m \u001b[0;34m=\u001b[0m \u001b[0mlist\u001b[0m\u001b[0;34m(\u001b[0m\u001b[0mkey\u001b[0m\u001b[0;34m)\u001b[0m\u001b[0;34m\u001b[0m\u001b[0;34m\u001b[0m\u001b[0m\n\u001b[0;32m-> 3464\u001b[0;31m             \u001b[0mindexer\u001b[0m \u001b[0;34m=\u001b[0m \u001b[0mself\u001b[0m\u001b[0;34m.\u001b[0m\u001b[0mloc\u001b[0m\u001b[0;34m.\u001b[0m\u001b[0m_get_listlike_indexer\u001b[0m\u001b[0;34m(\u001b[0m\u001b[0mkey\u001b[0m\u001b[0;34m,\u001b[0m \u001b[0maxis\u001b[0m\u001b[0;34m=\u001b[0m\u001b[0;36m1\u001b[0m\u001b[0;34m)\u001b[0m\u001b[0;34m[\u001b[0m\u001b[0;36m1\u001b[0m\u001b[0;34m]\u001b[0m\u001b[0;34m\u001b[0m\u001b[0;34m\u001b[0m\u001b[0m\n\u001b[0m\u001b[1;32m   3465\u001b[0m \u001b[0;34m\u001b[0m\u001b[0m\n\u001b[1;32m   3466\u001b[0m         \u001b[0;31m# take() does not accept boolean indexers\u001b[0m\u001b[0;34m\u001b[0m\u001b[0;34m\u001b[0m\u001b[0m\n",
      "\u001b[0;32m/Library/Frameworks/Python.framework/Versions/3.9/lib/python3.9/site-packages/pandas/core/indexing.py\u001b[0m in \u001b[0;36m_get_listlike_indexer\u001b[0;34m(self, key, axis)\u001b[0m\n\u001b[1;32m   1312\u001b[0m             \u001b[0mkeyarr\u001b[0m\u001b[0;34m,\u001b[0m \u001b[0mindexer\u001b[0m\u001b[0;34m,\u001b[0m \u001b[0mnew_indexer\u001b[0m \u001b[0;34m=\u001b[0m \u001b[0max\u001b[0m\u001b[0;34m.\u001b[0m\u001b[0m_reindex_non_unique\u001b[0m\u001b[0;34m(\u001b[0m\u001b[0mkeyarr\u001b[0m\u001b[0;34m)\u001b[0m\u001b[0;34m\u001b[0m\u001b[0;34m\u001b[0m\u001b[0m\n\u001b[1;32m   1313\u001b[0m \u001b[0;34m\u001b[0m\u001b[0m\n\u001b[0;32m-> 1314\u001b[0;31m         \u001b[0mself\u001b[0m\u001b[0;34m.\u001b[0m\u001b[0m_validate_read_indexer\u001b[0m\u001b[0;34m(\u001b[0m\u001b[0mkeyarr\u001b[0m\u001b[0;34m,\u001b[0m \u001b[0mindexer\u001b[0m\u001b[0;34m,\u001b[0m \u001b[0maxis\u001b[0m\u001b[0;34m)\u001b[0m\u001b[0;34m\u001b[0m\u001b[0;34m\u001b[0m\u001b[0m\n\u001b[0m\u001b[1;32m   1315\u001b[0m \u001b[0;34m\u001b[0m\u001b[0m\n\u001b[1;32m   1316\u001b[0m         if needs_i8_conversion(ax.dtype) or isinstance(\n",
      "\u001b[0;32m/Library/Frameworks/Python.framework/Versions/3.9/lib/python3.9/site-packages/pandas/core/indexing.py\u001b[0m in \u001b[0;36m_validate_read_indexer\u001b[0;34m(self, key, indexer, axis)\u001b[0m\n\u001b[1;32m   1372\u001b[0m                 \u001b[0;32mif\u001b[0m \u001b[0muse_interval_msg\u001b[0m\u001b[0;34m:\u001b[0m\u001b[0;34m\u001b[0m\u001b[0;34m\u001b[0m\u001b[0m\n\u001b[1;32m   1373\u001b[0m                     \u001b[0mkey\u001b[0m \u001b[0;34m=\u001b[0m \u001b[0mlist\u001b[0m\u001b[0;34m(\u001b[0m\u001b[0mkey\u001b[0m\u001b[0;34m)\u001b[0m\u001b[0;34m\u001b[0m\u001b[0;34m\u001b[0m\u001b[0m\n\u001b[0;32m-> 1374\u001b[0;31m                 \u001b[0;32mraise\u001b[0m \u001b[0mKeyError\u001b[0m\u001b[0;34m(\u001b[0m\u001b[0;34mf\"None of [{key}] are in the [{axis_name}]\"\u001b[0m\u001b[0;34m)\u001b[0m\u001b[0;34m\u001b[0m\u001b[0;34m\u001b[0m\u001b[0m\n\u001b[0m\u001b[1;32m   1375\u001b[0m \u001b[0;34m\u001b[0m\u001b[0m\n\u001b[1;32m   1376\u001b[0m             \u001b[0mnot_found\u001b[0m \u001b[0;34m=\u001b[0m \u001b[0mlist\u001b[0m\u001b[0;34m(\u001b[0m\u001b[0mensure_index\u001b[0m\u001b[0;34m(\u001b[0m\u001b[0mkey\u001b[0m\u001b[0;34m)\u001b[0m\u001b[0;34m[\u001b[0m\u001b[0mmissing_mask\u001b[0m\u001b[0;34m.\u001b[0m\u001b[0mnonzero\u001b[0m\u001b[0;34m(\u001b[0m\u001b[0;34m)\u001b[0m\u001b[0;34m[\u001b[0m\u001b[0;36m0\u001b[0m\u001b[0;34m]\u001b[0m\u001b[0;34m]\u001b[0m\u001b[0;34m.\u001b[0m\u001b[0munique\u001b[0m\u001b[0;34m(\u001b[0m\u001b[0;34m)\u001b[0m\u001b[0;34m)\u001b[0m\u001b[0;34m\u001b[0m\u001b[0;34m\u001b[0m\u001b[0m\n",
      "\u001b[0;31mKeyError\u001b[0m: \"None of [Index(['sim', 'y'], dtype='object')] are in the [columns]\""
     ]
    }
   ],
   "source": [
    "y_train_hat_clean = y_train_hat[[\"sim\", \"y\"]].apply(pd.to_numeric, errors='coerce').dropna()\n",
    "sns.pairplot(y_train_hat_clean[[\"sim\", \"y\"]], hue = \"y\")"
   ]
  },
  {
   "cell_type": "code",
   "execution_count": 108,
   "id": "bc2a3c26",
   "metadata": {
    "scrolled": true
   },
   "outputs": [
    {
     "name": "stdout",
     "output_type": "stream",
     "text": [
      "2170\n",
      "ROC:  0.889936503217312\n",
      "Acc:  0.8258064516129032\n"
     ]
    }
   ],
   "source": [
    "# predict val\n",
    "y_val_hat = pd.DataFrame(autoenc.get_similarity(model, data.x, data.train_pos_edges, data.val_edges))\n",
    "print(len(y_val_hat))\n",
    "y_val_hat = (y_val_hat\n",
    "    .rename(columns = {0: \"sim\"})\n",
    "    .assign(y = trainval_tf.loc[trainval_tf.val_mask == True].y.values)\n",
    "    .assign(pred = lambda df_: (df_.sim > df_.sim.median()).astype(int))\n",
    ")\n",
    "print(\"ROC: \", roc_auc_score(y_val_hat.y, y_val_hat.sim))\n",
    "print(\"Acc: \", accuracy_score(y_val_hat.y, y_val_hat.pred))"
   ]
  },
  {
   "cell_type": "code",
   "execution_count": 109,
   "id": "4f8461a8",
   "metadata": {},
   "outputs": [],
   "source": [
    "tmp = (val_tf\n",
    "    .assign(sim  = y_val_hat.pred.values)\n",
    "    .assign(dist = lambda df_: [np.linalg.norm(node_emb.loc[u].values-node_emb.loc[v].values) for u, v in zip(df_.source, df_.target)])\n",
    ")"
   ]
  },
  {
   "cell_type": "code",
   "execution_count": 84,
   "id": "ca8db459",
   "metadata": {},
   "outputs": [
    {
     "ename": "NameError",
     "evalue": "name 'tmp' is not defined",
     "output_type": "error",
     "traceback": [
      "\u001b[0;31m---------------------------------------------------------------------------\u001b[0m",
      "\u001b[0;31mNameError\u001b[0m                                 Traceback (most recent call last)",
      "\u001b[0;32m/var/folders/wl/zfv53bfx13j4zx15j58_cby00000gn/T/ipykernel_1579/3301759999.py\u001b[0m in \u001b[0;36m<module>\u001b[0;34m\u001b[0m\n\u001b[0;32m----> 1\u001b[0;31m \u001b[0msns\u001b[0m\u001b[0;34m.\u001b[0m\u001b[0mpairplot\u001b[0m\u001b[0;34m(\u001b[0m\u001b[0mtmp\u001b[0m\u001b[0;34m[\u001b[0m\u001b[0;34m[\u001b[0m\u001b[0;34m\"sim\"\u001b[0m\u001b[0;34m,\u001b[0m \u001b[0;34m\"dist\"\u001b[0m\u001b[0;34m,\u001b[0m \u001b[0;34m\"y\"\u001b[0m\u001b[0;34m]\u001b[0m\u001b[0;34m]\u001b[0m\u001b[0;34m,\u001b[0m \u001b[0mhue\u001b[0m \u001b[0;34m=\u001b[0m \u001b[0;34m\"y\"\u001b[0m\u001b[0;34m)\u001b[0m\u001b[0;34m\u001b[0m\u001b[0;34m\u001b[0m\u001b[0m\n\u001b[0m",
      "\u001b[0;31mNameError\u001b[0m: name 'tmp' is not defined"
     ]
    }
   ],
   "source": [
    "sns.pairplot(tmp[[\"sim\", \"dist\", \"y\"]], hue = \"y\")"
   ]
  },
  {
   "cell_type": "code",
   "execution_count": 110,
   "id": "4efe1fbc",
   "metadata": {},
   "outputs": [
    {
     "data": {
      "text/html": [
       "<div>\n",
       "<style scoped>\n",
       "    .dataframe tbody tr th:only-of-type {\n",
       "        vertical-align: middle;\n",
       "    }\n",
       "\n",
       "    .dataframe tbody tr th {\n",
       "        vertical-align: top;\n",
       "    }\n",
       "\n",
       "    .dataframe thead th {\n",
       "        text-align: right;\n",
       "    }\n",
       "</style>\n",
       "<table border=\"1\" class=\"dataframe\">\n",
       "  <thead>\n",
       "    <tr style=\"text-align: right;\">\n",
       "      <th></th>\n",
       "      <th>target</th>\n",
       "      <th>source</th>\n",
       "      <th>y</th>\n",
       "      <th>sim</th>\n",
       "      <th>dist</th>\n",
       "    </tr>\n",
       "  </thead>\n",
       "  <tbody>\n",
       "    <tr>\n",
       "      <th>target</th>\n",
       "      <td>1.000000</td>\n",
       "      <td>0.320768</td>\n",
       "      <td>-0.493566</td>\n",
       "      <td>-0.420214</td>\n",
       "      <td>0.226317</td>\n",
       "    </tr>\n",
       "    <tr>\n",
       "      <th>source</th>\n",
       "      <td>0.320768</td>\n",
       "      <td>1.000000</td>\n",
       "      <td>-0.487168</td>\n",
       "      <td>-0.398406</td>\n",
       "      <td>0.295535</td>\n",
       "    </tr>\n",
       "    <tr>\n",
       "      <th>y</th>\n",
       "      <td>-0.493566</td>\n",
       "      <td>-0.487168</td>\n",
       "      <td>1.000000</td>\n",
       "      <td>0.651613</td>\n",
       "      <td>-0.352756</td>\n",
       "    </tr>\n",
       "    <tr>\n",
       "      <th>sim</th>\n",
       "      <td>-0.420214</td>\n",
       "      <td>-0.398406</td>\n",
       "      <td>0.651613</td>\n",
       "      <td>1.000000</td>\n",
       "      <td>-0.337812</td>\n",
       "    </tr>\n",
       "    <tr>\n",
       "      <th>dist</th>\n",
       "      <td>0.226317</td>\n",
       "      <td>0.295535</td>\n",
       "      <td>-0.352756</td>\n",
       "      <td>-0.337812</td>\n",
       "      <td>1.000000</td>\n",
       "    </tr>\n",
       "  </tbody>\n",
       "</table>\n",
       "</div>"
      ],
      "text/plain": [
       "          target    source         y       sim      dist\n",
       "target  1.000000  0.320768 -0.493566 -0.420214  0.226317\n",
       "source  0.320768  1.000000 -0.487168 -0.398406  0.295535\n",
       "y      -0.493566 -0.487168  1.000000  0.651613 -0.352756\n",
       "sim    -0.420214 -0.398406  0.651613  1.000000 -0.337812\n",
       "dist    0.226317  0.295535 -0.352756 -0.337812  1.000000"
      ]
     },
     "execution_count": 110,
     "metadata": {},
     "output_type": "execute_result"
    }
   ],
   "source": [
    "tmp[['target', 'source', 'y', 'sim', 'dist']].corr()"
   ]
  },
  {
   "cell_type": "code",
   "execution_count": 111,
   "id": "d3fe8363",
   "metadata": {},
   "outputs": [
    {
     "data": {
      "text/plain": [
       "pred\n",
       "0       542\n",
       "1       542\n",
       "dtype: int64"
      ]
     },
     "execution_count": 111,
     "metadata": {},
     "output_type": "execute_result"
    }
   ],
   "source": [
    "# predict test\n",
    "y_test_hat = pd.DataFrame(autoenc.get_similarity(model, data.x, data.trainval_pos_edges, data.test_edges))\n",
    "y_test_hat = (y_test_hat\n",
    "    .rename(columns = {0: \"sim\"})\n",
    "    .assign(pred = lambda df_: (df_.sim > df_.sim.median()).astype(int))\n",
    ")\n",
    "y_test_hat[[\"pred\"]].value_counts()"
   ]
  }
 ],
 "metadata": {
  "kernelspec": {
   "display_name": "Python 3",
   "language": "python",
   "name": "python3"
  },
  "language_info": {
   "codemirror_mode": {
    "name": "ipython",
    "version": 3
   },
   "file_extension": ".py",
   "mimetype": "text/x-python",
   "name": "python",
   "nbconvert_exporter": "python",
   "pygments_lexer": "ipython3",
   "version": "3.9.7"
  },
  "vscode": {
   "interpreter": {
    "hash": "edc5d5641674580b35290ba45bd16007251669062615a59c5f9a5e5dd7884ea6"
   }
  }
 },
 "nbformat": 4,
 "nbformat_minor": 5
}
