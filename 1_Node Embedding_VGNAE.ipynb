{
 "cells": [
  {
   "cell_type": "markdown",
   "id": "ca3f9796",
   "metadata": {},
   "source": [
    "# Machine Learning in Network Science\n",
    "Group Challenge\n",
    "\n",
    "***\n",
    "by: Leonardo Basili, Paul Bédier, Lasse Schmidt\n",
    "\n",
    "within: MS Data Sciences & Business Analytics\n",
    "\n",
    "at: CentraleSupélec & ESSEC Business School\n",
    "***"
   ]
  },
  {
   "cell_type": "markdown",
   "id": "3a46be5a",
   "metadata": {},
   "source": [
    "This notebook covers deep learning techniques, namely:\n",
    "- Variational Graph Normalized Auto-Encoders (based on https://arxiv.org/abs/2108.08046) which allow us to learn graph embeddings in an unsupervised way (based on graph structure and node embeddings)"
   ]
  },
  {
   "cell_type": "markdown",
   "id": "54f241a1",
   "metadata": {},
   "source": [
    "### 1. Import Packages"
   ]
  },
  {
   "cell_type": "code",
   "execution_count": 112,
   "id": "98e82605",
   "metadata": {},
   "outputs": [
    {
     "data": {
      "text/plain": [
       "<module 'util.autoencoder' from '/Users/macbookpro/Documents/GitHub/Network-Science_Final-Project/util/autoencoder.py'>"
      ]
     },
     "execution_count": 112,
     "metadata": {},
     "output_type": "execute_result"
    }
   ],
   "source": [
    "from importlib import reload\n",
    "reload(analyseData)\n",
    "reload(loadData)\n",
    "reload(modeling)\n",
    "reload(autoenc)"
   ]
  },
  {
   "cell_type": "code",
   "execution_count": 86,
   "id": "a3ffae4f",
   "metadata": {},
   "outputs": [],
   "source": [
    "# import own scripts\n",
    "import util.analyse_Data as analyseData\n",
    "#import util.preprocess_Data as prepData\n",
    "import util.load_Data as loadData\n",
    "import util.modeling as modeling\n",
    "import util.autoencoder as autoenc"
   ]
  },
  {
   "cell_type": "code",
   "execution_count": 87,
   "id": "d7c6ba33",
   "metadata": {},
   "outputs": [],
   "source": [
    "# parse & handle data\n",
    "import os\n",
    "import numpy as np\n",
    "import pandas as pd\n",
    "\n",
    "# modeling\n",
    "import torch\n",
    "from torch_geometric.nn import GAE, VGAE\n",
    "\n",
    "# hyperparam optimization\n",
    "from ray import tune, air\n",
    "\n",
    "# evaluation\n",
    "from sklearn.metrics import accuracy_score, roc_auc_score, classification_report, confusion_matrix, ConfusionMatrixDisplay\n",
    "\n",
    "\n",
    "# visualization\n",
    "import matplotlib.pyplot as plt\n",
    "import seaborn as sns"
   ]
  },
  {
   "cell_type": "code",
   "execution_count": 88,
   "id": "c84a352e",
   "metadata": {},
   "outputs": [],
   "source": [
    "# set matplotlib and seaborn settings for nicer plots\n",
    "%matplotlib inline\n",
    "\n",
    "SMALL_SIZE = 6\n",
    "MEDIUM_SIZE = 8\n",
    "BIGGER_SIZE = 10\n",
    "\n",
    "plt.rc('font', size=SMALL_SIZE)          # controls default text sizes\n",
    "plt.rc('axes', titlesize=BIGGER_SIZE)    # fontsize of the axes title\n",
    "plt.rc('axes', labelsize=MEDIUM_SIZE)    # fontsize of the x and y labels\n",
    "plt.rc('xtick', labelsize=SMALL_SIZE)    # fontsize of the tick labels\n",
    "plt.rc('ytick', labelsize=SMALL_SIZE)    # fontsize of the tick labels\n",
    "plt.rc('legend', fontsize=MEDIUM_SIZE)   # legend fontsize\n",
    "plt.rc('figure', titlesize=BIGGER_SIZE)  # fontsize of the figure title"
   ]
  },
  {
   "cell_type": "markdown",
   "id": "74f20e78",
   "metadata": {},
   "source": [
    "### 2. Load Data for Modeling"
   ]
  },
  {
   "cell_type": "code",
   "execution_count": 113,
   "id": "2a7d5835",
   "metadata": {},
   "outputs": [
    {
     "name": "stdout",
     "output_type": "stream",
     "text": [
      "Number of positive edges for training: 3802\n",
      "Number of positive edges for validation: 1085\n",
      "Number of positive edges for test: 542\n",
      "Number of edges in original graph: 5429\n",
      "Number of edges in training graph: 3802\n",
      "Number of non-existing edges generated: 29971\n",
      "Number of negative edges for training: 3802\n",
      "Number of negative edges for validation: 1085\n",
      "Number of negative edges for test: 542\n",
      "Enriching node features...\n"
     ]
    },
    {
     "data": {
      "application/vnd.jupyter.widget-view+json": {
       "model_id": "3189a20170e740b684709756c725f8a5",
       "version_major": 2,
       "version_minor": 0
      },
      "text/plain": [
       "Computing transition probabilities:   0%|          | 0/2708 [00:00<?, ?it/s]"
      ]
     },
     "metadata": {},
     "output_type": "display_data"
    },
    {
     "name": "stderr",
     "output_type": "stream",
     "text": [
      "Generating walks (CPU: 1): 100%|██████████| 10/10 [00:00<00:00, 13.30it/s]\n",
      "/Users/macbookpro/Library/Python/3.9/lib/python/site-packages/networkx/algorithms/link_analysis/hits_alg.py:78: FutureWarning: adjacency_matrix will return a scipy.sparse array instead of a matrix in Networkx 3.0.\n",
      "  A = nx.adjacency_matrix(G, nodelist=list(G), dtype=float)\n"
     ]
    },
    {
     "data": {
      "application/vnd.jupyter.widget-view+json": {
       "model_id": "c26dc8cbbf6f479688bcf342dceb5990",
       "version_major": 2,
       "version_minor": 0
      },
      "text/plain": [
       "Computing transition probabilities:   0%|          | 0/2708 [00:00<?, ?it/s]"
      ]
     },
     "metadata": {},
     "output_type": "display_data"
    },
    {
     "name": "stderr",
     "output_type": "stream",
     "text": [
      "Generating walks (CPU: 1): 100%|██████████| 10/10 [00:00<00:00, 10.91it/s]\n"
     ]
    },
    {
     "name": "stdout",
     "output_type": "stream",
     "text": [
      "Create PyTorch Geometric dataset...\n"
     ]
    }
   ],
   "source": [
    "# might take up to a minute\n",
    "data, (G, G_train, G_trainval, node_info, train_tf, val_tf, trainval_tf, test_tf) = autoenc.load()"
   ]
  },
  {
   "cell_type": "code",
   "execution_count": 90,
   "id": "3ee7a8e9",
   "metadata": {},
   "outputs": [],
   "source": [
    "# where to save trial results to\n",
    "ray_path = os.path.abspath(\"\")+\"/ray_results\"\n",
    "if not os.path.isdir(ray_path):\n",
    "    os.mkdir(ray_path)"
   ]
  },
  {
   "cell_type": "markdown",
   "id": "345c4898",
   "metadata": {},
   "source": [
    "### 3. VGNAE Node Embeddings\n",
    "\n",
    "https://github.com/SeongJinAhn/VGNAE/blob/main/main.py for Variational Graph Normalized Auto-Encoders"
   ]
  },
  {
   "cell_type": "markdown",
   "id": "372aac42",
   "metadata": {},
   "source": [
    "#### 3.1 Hyperparameter tuning"
   ]
  },
  {
   "cell_type": "code",
   "execution_count": 70,
   "id": "b68c1c9f",
   "metadata": {},
   "outputs": [],
   "source": [
    "# tunable hyperparameter search space --> search using tune.choice([]), tune.uniform(lower, upper), tune.grid_search([])\n",
    "config = {\n",
    "    # log params in raytune\n",
    "    \"ray\": True,\n",
    "    \n",
    "    # print results per epoch\n",
    "    \"verbose\": False,\n",
    "    \n",
    "    # basic infos\n",
    "    \"data\": data,\n",
    "    \"max_epochs\": 50,\n",
    "    \"save\": True, # if we want to save best model on validation set\n",
    "    \n",
    "    # model\n",
    "    \"model\": \"VGNAE\",\n",
    "    \n",
    "    ## encoder\n",
    "    \"enc_channels\": 64,\n",
    "    \"scaling\": 1.8,\n",
    "    \"num_prop\": tune.grid_search([4, 16, 32, 64, 128]),\n",
    "    \"teleport\": 0, # tune.grid_search([0, 0.1, 0.2]),\n",
    "    \"dropout\": 0, # tune.grid_search([0, 0.1, 0.2]),\n",
    "    \n",
    "    # optimizer\n",
    "    \"lr\": tune.grid_search([1e-3, 1e-4, 1e-5]),\n",
    "    \"wd\": 0,\n",
    "}"
   ]
  },
  {
   "cell_type": "code",
   "execution_count": 71,
   "id": "5116af65",
   "metadata": {},
   "outputs": [
    {
     "data": {
      "text/html": [
       "<div class=\"tuneStatus\">\n",
       "  <div style=\"display: flex;flex-direction: row\">\n",
       "    <div style=\"display: flex;flex-direction: column;\">\n",
       "      <h3>Tune Status</h3>\n",
       "      <table>\n",
       "<tbody>\n",
       "<tr><td>Current time:</td><td>2023-04-23 11:48:36</td></tr>\n",
       "<tr><td>Running for: </td><td>00:05:13.79        </td></tr>\n",
       "<tr><td>Memory:      </td><td>15.1/16.0 GiB      </td></tr>\n",
       "</tbody>\n",
       "</table>\n",
       "    </div>\n",
       "    <div class=\"vDivider\"></div>\n",
       "    <div class=\"systemInfo\">\n",
       "      <h3>System Info</h3>\n",
       "      Using FIFO scheduling algorithm.<br>Resources requested: 0/8 CPUs, 0/0 GPUs, 0.0/10.92 GiB heap, 0.0/2.0 GiB objects\n",
       "    </div>\n",
       "    <div class=\"vDivider\"></div>\n",
       "<div class=\"messages\">\n",
       "  <h3>Messages</h3>\n",
       "  : ***LOW MEMORY*** less than 10% of the memory on this node is available for use. This can cause unexpected crashes. Consider reducing the memory used by your application or reducing the Ray object store size by setting `object_store_memory` when calling `ray.init`.\n",
       "  \n",
       "  \n",
       "</div>\n",
       "<style>\n",
       ".messages {\n",
       "  color: var(--jp-ui-font-color1);\n",
       "  display: flex;\n",
       "  flex-direction: column;\n",
       "  padding-left: 1em;\n",
       "  overflow-y: auto;\n",
       "}\n",
       ".messages h3 {\n",
       "  font-weight: bold;\n",
       "}\n",
       ".vDivider {\n",
       "  border-left-width: var(--jp-border-width);\n",
       "  border-left-color: var(--jp-border-color0);\n",
       "  border-left-style: solid;\n",
       "  margin: 0.5em 1em 0.5em 1em;\n",
       "}\n",
       "</style>\n",
       "\n",
       "  </div>\n",
       "  <div class=\"hDivider\"></div>\n",
       "  <div class=\"trialStatus\">\n",
       "    <h3>Trial Status</h3>\n",
       "    <table>\n",
       "<thead>\n",
       "<tr><th>Trial name                </th><th>status    </th><th>loc           </th><th style=\"text-align: right;\">  scaling</th><th style=\"text-align: right;\">  num_prop</th><th style=\"text-align: right;\">    lr</th><th style=\"text-align: right;\">  trn_auc</th><th style=\"text-align: right;\">  val_auc</th><th style=\"text-align: right;\">  max_val_auc</th><th style=\"text-align: right;\">   training_iterat\n",
       "ion</th></tr>\n",
       "</thead>\n",
       "<tbody>\n",
       "<tr><td>VGNAE_0.001_0_4982a_00000 </td><td>TERMINATED</td><td>127.0.0.1:8887</td><td style=\"text-align: right;\">      1.8</td><td style=\"text-align: right;\">         4</td><td style=\"text-align: right;\">0.001 </td><td style=\"text-align: right;\"> 0.941873</td><td style=\"text-align: right;\"> 0.817512</td><td style=\"text-align: right;\">     0.825806</td><td style=\"text-align: right;\">50</td></tr>\n",
       "<tr><td>VGNAE_0.0001_0_4982a_00001</td><td>TERMINATED</td><td>127.0.0.1:8903</td><td style=\"text-align: right;\">      1.8</td><td style=\"text-align: right;\">         4</td><td style=\"text-align: right;\">0.0001</td><td style=\"text-align: right;\"> 0.693582</td><td style=\"text-align: right;\"> 0.661751</td><td style=\"text-align: right;\">     0.661751</td><td style=\"text-align: right;\">50</td></tr>\n",
       "<tr><td>VGNAE_1e-05_0_4982a_00002 </td><td>TERMINATED</td><td>127.0.0.1:8887</td><td style=\"text-align: right;\">      1.8</td><td style=\"text-align: right;\">         4</td><td style=\"text-align: right;\">1e-05 </td><td style=\"text-align: right;\"> 0.693319</td><td style=\"text-align: right;\"> 0.661751</td><td style=\"text-align: right;\">     0.661751</td><td style=\"text-align: right;\">50</td></tr>\n",
       "<tr><td>VGNAE_0.001_0_4982a_00003 </td><td>TERMINATED</td><td>127.0.0.1:8903</td><td style=\"text-align: right;\">      1.8</td><td style=\"text-align: right;\">        16</td><td style=\"text-align: right;\">0.001 </td><td style=\"text-align: right;\"> 0.940558</td><td style=\"text-align: right;\"> 0.814747</td><td style=\"text-align: right;\">     0.823963</td><td style=\"text-align: right;\">50</td></tr>\n",
       "<tr><td>VGNAE_0.0001_0_4982a_00004</td><td>TERMINATED</td><td>127.0.0.1:8887</td><td style=\"text-align: right;\">      1.8</td><td style=\"text-align: right;\">        16</td><td style=\"text-align: right;\">0.0001</td><td style=\"text-align: right;\"> 0.705155</td><td style=\"text-align: right;\"> 0.658525</td><td style=\"text-align: right;\">     0.658986</td><td style=\"text-align: right;\">50</td></tr>\n",
       "<tr><td>VGNAE_1e-05_0_4982a_00005 </td><td>TERMINATED</td><td>127.0.0.1:8903</td><td style=\"text-align: right;\">      1.8</td><td style=\"text-align: right;\">        16</td><td style=\"text-align: right;\">1e-05 </td><td style=\"text-align: right;\"> 0.705155</td><td style=\"text-align: right;\"> 0.654839</td><td style=\"text-align: right;\">     0.6553  </td><td style=\"text-align: right;\">50</td></tr>\n",
       "<tr><td>VGNAE_0.001_0_4982a_00006 </td><td>TERMINATED</td><td>127.0.0.1:8887</td><td style=\"text-align: right;\">      1.8</td><td style=\"text-align: right;\">        32</td><td style=\"text-align: right;\">0.001 </td><td style=\"text-align: right;\"> 0.941084</td><td style=\"text-align: right;\"> 0.814747</td><td style=\"text-align: right;\">     0.819355</td><td style=\"text-align: right;\">50</td></tr>\n",
       "<tr><td>VGNAE_0.0001_0_4982a_00007</td><td>TERMINATED</td><td>127.0.0.1:8903</td><td style=\"text-align: right;\">      1.8</td><td style=\"text-align: right;\">        32</td><td style=\"text-align: right;\">0.0001</td><td style=\"text-align: right;\"> 0.705155</td><td style=\"text-align: right;\"> 0.659908</td><td style=\"text-align: right;\">     0.659908</td><td style=\"text-align: right;\">50</td></tr>\n",
       "<tr><td>VGNAE_1e-05_0_4982a_00008 </td><td>TERMINATED</td><td>127.0.0.1:8887</td><td style=\"text-align: right;\">      1.8</td><td style=\"text-align: right;\">        32</td><td style=\"text-align: right;\">1e-05 </td><td style=\"text-align: right;\"> 0.705024</td><td style=\"text-align: right;\"> 0.657604</td><td style=\"text-align: right;\">     0.657604</td><td style=\"text-align: right;\">50</td></tr>\n",
       "<tr><td>VGNAE_0.001_0_4982a_00009 </td><td>TERMINATED</td><td>127.0.0.1:8903</td><td style=\"text-align: right;\">      1.8</td><td style=\"text-align: right;\">        64</td><td style=\"text-align: right;\">0.001 </td><td style=\"text-align: right;\"> 0.94161 </td><td style=\"text-align: right;\"> 0.813825</td><td style=\"text-align: right;\">     0.818433</td><td style=\"text-align: right;\">50</td></tr>\n",
       "<tr><td>VGNAE_0.0001_0_4982a_00010</td><td>TERMINATED</td><td>127.0.0.1:8887</td><td style=\"text-align: right;\">      1.8</td><td style=\"text-align: right;\">        64</td><td style=\"text-align: right;\">0.0001</td><td style=\"text-align: right;\"> 0.705155</td><td style=\"text-align: right;\"> 0.659908</td><td style=\"text-align: right;\">     0.660369</td><td style=\"text-align: right;\">50</td></tr>\n",
       "<tr><td>VGNAE_1e-05_0_4982a_00011 </td><td>TERMINATED</td><td>127.0.0.1:8903</td><td style=\"text-align: right;\">      1.8</td><td style=\"text-align: right;\">        64</td><td style=\"text-align: right;\">1e-05 </td><td style=\"text-align: right;\"> 0.705155</td><td style=\"text-align: right;\"> 0.657604</td><td style=\"text-align: right;\">     0.657604</td><td style=\"text-align: right;\">50</td></tr>\n",
       "<tr><td>VGNAE_0.001_0_4982a_00012 </td><td>TERMINATED</td><td>127.0.0.1:8887</td><td style=\"text-align: right;\">      1.8</td><td style=\"text-align: right;\">       128</td><td style=\"text-align: right;\">0.001 </td><td style=\"text-align: right;\"> 0.94161 </td><td style=\"text-align: right;\"> 0.813825</td><td style=\"text-align: right;\">     0.818433</td><td style=\"text-align: right;\">50</td></tr>\n",
       "<tr><td>VGNAE_0.0001_0_4982a_00013</td><td>TERMINATED</td><td>127.0.0.1:8903</td><td style=\"text-align: right;\">      1.8</td><td style=\"text-align: right;\">       128</td><td style=\"text-align: right;\">0.0001</td><td style=\"text-align: right;\"> 0.705155</td><td style=\"text-align: right;\"> 0.659908</td><td style=\"text-align: right;\">     0.660369</td><td style=\"text-align: right;\">50</td></tr>\n",
       "<tr><td>VGNAE_1e-05_0_4982a_00014 </td><td>TERMINATED</td><td>127.0.0.1:8887</td><td style=\"text-align: right;\">      1.8</td><td style=\"text-align: right;\">       128</td><td style=\"text-align: right;\">1e-05 </td><td style=\"text-align: right;\"> 0.705155</td><td style=\"text-align: right;\"> 0.657604</td><td style=\"text-align: right;\">     0.657604</td><td style=\"text-align: right;\">50</td></tr>\n",
       "</tbody>\n",
       "</table>\n",
       "  </div>\n",
       "</div>\n",
       "<style>\n",
       ".tuneStatus {\n",
       "  color: var(--jp-ui-font-color1);\n",
       "}\n",
       ".tuneStatus .systemInfo {\n",
       "  display: flex;\n",
       "  flex-direction: column;\n",
       "}\n",
       ".tuneStatus td {\n",
       "  white-space: nowrap;\n",
       "}\n",
       ".tuneStatus .trialStatus {\n",
       "  display: flex;\n",
       "  flex-direction: column;\n",
       "}\n",
       ".tuneStatus h3 {\n",
       "  font-weight: bold;\n",
       "}\n",
       ".tuneStatus .hDivider {\n",
       "  border-bottom-width: var(--jp-border-width);\n",
       "  border-bottom-color: var(--jp-border-color0);\n",
       "  border-bottom-style: solid;\n",
       "}\n",
       ".tuneStatus .vDivider {\n",
       "  border-left-width: var(--jp-border-width);\n",
       "  border-left-color: var(--jp-border-color0);\n",
       "  border-left-style: solid;\n",
       "  margin: 0.5em 1em 0.5em 1em;\n",
       "}\n",
       "</style>\n"
      ],
      "text/plain": [
       "<IPython.core.display.HTML object>"
      ]
     },
     "metadata": {},
     "output_type": "display_data"
    },
    {
     "name": "stderr",
     "output_type": "stream",
     "text": [
      "2023-04-23 11:43:21,824\tINFO worker.py:1553 -- Started a local Ray instance.\n",
      "2023-04-23 11:48:36,496\tINFO tune.py:798 -- Total run time: 313.82 seconds (304.79 seconds for the tuning loop).\n"
     ]
    }
   ],
   "source": [
    "# how many trials to run (if grid_search utilized, it will run this number per grid_search value)\n",
    "num_samples = 1\n",
    "\n",
    "# run experiment\n",
    "result_grid = autoenc.run_ray_experiment(\n",
    "    autoenc.train_validate, config, ray_path, num_samples,\n",
    "    metric_columns = [\"trn_auc\", \"val_auc\", \"max_val_auc\", \"training_iteration\"],\n",
    "    parameter_columns = [\"scaling\", \"num_prop\", \"lr\"]\n",
    ")"
   ]
  },
  {
   "cell_type": "markdown",
   "id": "c419b918",
   "metadata": {},
   "source": [
    "#### 3.2 Result of Hyperparameter tuning"
   ]
  },
  {
   "cell_type": "code",
   "execution_count": 114,
   "id": "0e9db923",
   "metadata": {},
   "outputs": [
    {
     "name": "stderr",
     "output_type": "stream",
     "text": [
      "2023-04-23 16:34:53,591\tWARNING tuner_internal.py:292 -- The trainable will be overwritten - this should be done with caution: it's possible to supply an incompatible trainable, and there are no guarantees that the resumed experiment will continue successfully. If you encounter errors during training, ensure that you are passing in the same trainable that was passed into the initial `Tuner` object.\n"
     ]
    },
    {
     "name": "stdout",
     "output_type": "stream",
     "text": [
      "Loading results from ray_results/train_validate_2023-04-23_11-43-18...\n"
     ]
    },
    {
     "name": "stderr",
     "output_type": "stream",
     "text": [
      "2023-04-23 16:35:04,360\tINFO experiment_analysis.py:789 -- No `self.trials`. Drawing logdirs from checkpoint file. This may result in some information that is out of sync, as checkpointing is periodic.\n"
     ]
    },
    {
     "name": "stdout",
     "output_type": "stream",
     "text": [
      "Done!\n",
      "\n",
      "No errors! Number of terminated trials: 15\n"
     ]
    }
   ],
   "source": [
    "restored_tuner, result_grid = autoenc.open_validate_ray_experiment(\n",
    "    \"ray_results/train_validate_2023-04-23_11-43-18\",\n",
    "    autoenc.train_validate\n",
    ")"
   ]
  },
  {
   "cell_type": "code",
   "execution_count": 115,
   "id": "31297470",
   "metadata": {},
   "outputs": [
    {
     "data": {
      "text/html": [
       "<div>\n",
       "<style scoped>\n",
       "    .dataframe tbody tr th:only-of-type {\n",
       "        vertical-align: middle;\n",
       "    }\n",
       "\n",
       "    .dataframe tbody tr th {\n",
       "        vertical-align: top;\n",
       "    }\n",
       "\n",
       "    .dataframe thead th {\n",
       "        text-align: right;\n",
       "    }\n",
       "</style>\n",
       "<table border=\"1\" class=\"dataframe\">\n",
       "  <thead>\n",
       "    <tr style=\"text-align: right;\">\n",
       "      <th></th>\n",
       "      <th>trial_id</th>\n",
       "      <th>training_iteration</th>\n",
       "      <th>config/enc_channels</th>\n",
       "      <th>config/scaling</th>\n",
       "      <th>config/num_prop</th>\n",
       "      <th>config/lr</th>\n",
       "      <th>config/wd</th>\n",
       "      <th>trn_loss</th>\n",
       "      <th>val_loss</th>\n",
       "      <th>trn_auc</th>\n",
       "      <th>val_auc</th>\n",
       "    </tr>\n",
       "  </thead>\n",
       "  <tbody>\n",
       "    <tr>\n",
       "      <th>0</th>\n",
       "      <td>4982a_00000</td>\n",
       "      <td>42</td>\n",
       "      <td>64</td>\n",
       "      <td>1.8</td>\n",
       "      <td>4</td>\n",
       "      <td>0.00100</td>\n",
       "      <td>0</td>\n",
       "      <td>5.112204</td>\n",
       "      <td>1.409582</td>\n",
       "      <td>0.948185</td>\n",
       "      <td>0.825806</td>\n",
       "    </tr>\n",
       "    <tr>\n",
       "      <th>3</th>\n",
       "      <td>4982a_00003</td>\n",
       "      <td>41</td>\n",
       "      <td>64</td>\n",
       "      <td>1.8</td>\n",
       "      <td>16</td>\n",
       "      <td>0.00100</td>\n",
       "      <td>0</td>\n",
       "      <td>5.324944</td>\n",
       "      <td>1.422033</td>\n",
       "      <td>0.950026</td>\n",
       "      <td>0.823963</td>\n",
       "    </tr>\n",
       "    <tr>\n",
       "      <th>6</th>\n",
       "      <td>4982a_00006</td>\n",
       "      <td>47</td>\n",
       "      <td>64</td>\n",
       "      <td>1.8</td>\n",
       "      <td>32</td>\n",
       "      <td>0.00100</td>\n",
       "      <td>0</td>\n",
       "      <td>5.056614</td>\n",
       "      <td>1.652868</td>\n",
       "      <td>0.940163</td>\n",
       "      <td>0.819355</td>\n",
       "    </tr>\n",
       "    <tr>\n",
       "      <th>9</th>\n",
       "      <td>4982a_00009</td>\n",
       "      <td>48</td>\n",
       "      <td>64</td>\n",
       "      <td>1.8</td>\n",
       "      <td>64</td>\n",
       "      <td>0.00100</td>\n",
       "      <td>0</td>\n",
       "      <td>4.720571</td>\n",
       "      <td>1.399702</td>\n",
       "      <td>0.944503</td>\n",
       "      <td>0.818433</td>\n",
       "    </tr>\n",
       "    <tr>\n",
       "      <th>12</th>\n",
       "      <td>4982a_00012</td>\n",
       "      <td>48</td>\n",
       "      <td>64</td>\n",
       "      <td>1.8</td>\n",
       "      <td>128</td>\n",
       "      <td>0.00100</td>\n",
       "      <td>0</td>\n",
       "      <td>4.720572</td>\n",
       "      <td>1.399701</td>\n",
       "      <td>0.944503</td>\n",
       "      <td>0.818433</td>\n",
       "    </tr>\n",
       "    <tr>\n",
       "      <th>1</th>\n",
       "      <td>4982a_00001</td>\n",
       "      <td>1</td>\n",
       "      <td>64</td>\n",
       "      <td>1.8</td>\n",
       "      <td>4</td>\n",
       "      <td>0.00010</td>\n",
       "      <td>0</td>\n",
       "      <td>9.989462</td>\n",
       "      <td>6.556673</td>\n",
       "      <td>0.693056</td>\n",
       "      <td>0.661751</td>\n",
       "    </tr>\n",
       "    <tr>\n",
       "      <th>2</th>\n",
       "      <td>4982a_00002</td>\n",
       "      <td>1</td>\n",
       "      <td>64</td>\n",
       "      <td>1.8</td>\n",
       "      <td>4</td>\n",
       "      <td>0.00001</td>\n",
       "      <td>0</td>\n",
       "      <td>9.989462</td>\n",
       "      <td>6.556799</td>\n",
       "      <td>0.693056</td>\n",
       "      <td>0.661751</td>\n",
       "    </tr>\n",
       "    <tr>\n",
       "      <th>10</th>\n",
       "      <td>4982a_00010</td>\n",
       "      <td>35</td>\n",
       "      <td>64</td>\n",
       "      <td>1.8</td>\n",
       "      <td>64</td>\n",
       "      <td>0.00010</td>\n",
       "      <td>0</td>\n",
       "      <td>10.118744</td>\n",
       "      <td>7.350160</td>\n",
       "      <td>0.705155</td>\n",
       "      <td>0.660369</td>\n",
       "    </tr>\n",
       "    <tr>\n",
       "      <th>13</th>\n",
       "      <td>4982a_00013</td>\n",
       "      <td>35</td>\n",
       "      <td>64</td>\n",
       "      <td>1.8</td>\n",
       "      <td>128</td>\n",
       "      <td>0.00010</td>\n",
       "      <td>0</td>\n",
       "      <td>10.118744</td>\n",
       "      <td>7.350160</td>\n",
       "      <td>0.705155</td>\n",
       "      <td>0.660369</td>\n",
       "    </tr>\n",
       "    <tr>\n",
       "      <th>7</th>\n",
       "      <td>4982a_00007</td>\n",
       "      <td>35</td>\n",
       "      <td>64</td>\n",
       "      <td>1.8</td>\n",
       "      <td>32</td>\n",
       "      <td>0.00010</td>\n",
       "      <td>0</td>\n",
       "      <td>10.118716</td>\n",
       "      <td>7.350062</td>\n",
       "      <td>0.705024</td>\n",
       "      <td>0.659908</td>\n",
       "    </tr>\n",
       "  </tbody>\n",
       "</table>\n",
       "</div>"
      ],
      "text/plain": [
       "       trial_id  training_iteration  config/enc_channels  config/scaling  \\\n",
       "0   4982a_00000                  42                   64             1.8   \n",
       "3   4982a_00003                  41                   64             1.8   \n",
       "6   4982a_00006                  47                   64             1.8   \n",
       "9   4982a_00009                  48                   64             1.8   \n",
       "12  4982a_00012                  48                   64             1.8   \n",
       "1   4982a_00001                   1                   64             1.8   \n",
       "2   4982a_00002                   1                   64             1.8   \n",
       "10  4982a_00010                  35                   64             1.8   \n",
       "13  4982a_00013                  35                   64             1.8   \n",
       "7   4982a_00007                  35                   64             1.8   \n",
       "\n",
       "    config/num_prop  config/lr  config/wd   trn_loss  val_loss   trn_auc  \\\n",
       "0                 4    0.00100          0   5.112204  1.409582  0.948185   \n",
       "3                16    0.00100          0   5.324944  1.422033  0.950026   \n",
       "6                32    0.00100          0   5.056614  1.652868  0.940163   \n",
       "9                64    0.00100          0   4.720571  1.399702  0.944503   \n",
       "12              128    0.00100          0   4.720572  1.399701  0.944503   \n",
       "1                 4    0.00010          0   9.989462  6.556673  0.693056   \n",
       "2                 4    0.00001          0   9.989462  6.556799  0.693056   \n",
       "10               64    0.00010          0  10.118744  7.350160  0.705155   \n",
       "13              128    0.00010          0  10.118744  7.350160  0.705155   \n",
       "7                32    0.00010          0  10.118716  7.350062  0.705024   \n",
       "\n",
       "     val_auc  \n",
       "0   0.825806  \n",
       "3   0.823963  \n",
       "6   0.819355  \n",
       "9   0.818433  \n",
       "12  0.818433  \n",
       "1   0.661751  \n",
       "2   0.661751  \n",
       "10  0.660369  \n",
       "13  0.660369  \n",
       "7   0.659908  "
      ]
     },
     "execution_count": 115,
     "metadata": {},
     "output_type": "execute_result"
    }
   ],
   "source": [
    "# get best score per trial (highest validation accuracy)\n",
    "N = 10\n",
    "best_result_df = result_grid.get_dataframe(\n",
    "    filter_metric=\"val_auc\", filter_mode=\"max\"\n",
    ")\n",
    "best_result_df = best_result_df[[\"trial_id\", \"training_iteration\", \"config/enc_channels\",\n",
    "                                 \"config/scaling\", \"config/num_prop\", \"config/lr\", \"config/wd\", \n",
    "                                 \"trn_loss\", \"val_loss\", \"trn_auc\", \"val_auc\"]]\n",
    "best_result_df = best_result_df.sort_values(by=[\"val_auc\"], ascending = False)\n",
    "\n",
    "if len(result_grid) > N:\n",
    "    best_result_df = best_result_df.head(N)\n",
    "\n",
    "best_result_df"
   ]
  },
  {
   "cell_type": "markdown",
   "id": "155cb789",
   "metadata": {},
   "source": [
    "#### 3.3 Embeddings based on best model"
   ]
  },
  {
   "cell_type": "code",
   "execution_count": 102,
   "id": "60a3d4eb",
   "metadata": {},
   "outputs": [
    {
     "data": {
      "text/plain": [
       "<All keys matched successfully>"
      ]
     },
     "execution_count": 102,
     "metadata": {},
     "output_type": "execute_result"
    }
   ],
   "source": [
    "# load best autoencoder\n",
    "path = os.path.abspath(\"\")+\"/models/VGNAE_0.001_0_4982a_00000_autoencoder.pt\"\n",
    "#path = \"models/autoencoder.pt\"\n",
    "model = VGAE(autoenc.Encoder(data.x.size()[1], 64, 1.5, 4, 0, 0))\n",
    "model.load_state_dict(torch.load(path, map_location=torch.device('cpu')))"
   ]
  },
  {
   "cell_type": "code",
   "execution_count": 116,
   "id": "9a83b802",
   "metadata": {},
   "outputs": [],
   "source": [
    "# get embeddings of nodes\n",
    "embedding = autoenc.get_embeddings(model, data.x, data.train_pos_edges)"
   ]
  },
  {
   "cell_type": "code",
   "execution_count": 77,
   "id": "12aae6b8",
   "metadata": {},
   "outputs": [],
   "source": [
    "# plot embedding\n",
    "plt.scatter(\n",
    "    embedding[:, 0],\n",
    "    embedding[:, 1])\n",
    "plt.gca().set_aspect('equal', 'datalim')\n",
    "plt.title('VGNAE projection (first 2 dim) of nodes')\n",
    "plt.savefig('scatter_plot')\n",
    "plt.close()"
   ]
  },
  {
   "cell_type": "markdown",
   "id": "564340ea",
   "metadata": {},
   "source": [
    "Embeddings look like a sphere, we cannot do any meaningful clusering based on this.\n",
    "\n",
    "Let us now take our original VGNAE embeddings and put them into a pandas dataframe."
   ]
  },
  {
   "cell_type": "code",
   "execution_count": 118,
   "id": "7b823a53",
   "metadata": {},
   "outputs": [
    {
     "data": {
      "text/html": [
       "<div>\n",
       "<style scoped>\n",
       "    .dataframe tbody tr th:only-of-type {\n",
       "        vertical-align: middle;\n",
       "    }\n",
       "\n",
       "    .dataframe tbody tr th {\n",
       "        vertical-align: top;\n",
       "    }\n",
       "\n",
       "    .dataframe thead th {\n",
       "        text-align: right;\n",
       "    }\n",
       "</style>\n",
       "<table border=\"1\" class=\"dataframe\">\n",
       "  <thead>\n",
       "    <tr style=\"text-align: right;\">\n",
       "      <th></th>\n",
       "      <th>x1</th>\n",
       "      <th>x2</th>\n",
       "      <th>x3</th>\n",
       "      <th>x4</th>\n",
       "      <th>x5</th>\n",
       "      <th>x6</th>\n",
       "      <th>x7</th>\n",
       "      <th>x8</th>\n",
       "      <th>x9</th>\n",
       "      <th>x10</th>\n",
       "      <th>...</th>\n",
       "      <th>x55</th>\n",
       "      <th>x56</th>\n",
       "      <th>x57</th>\n",
       "      <th>x58</th>\n",
       "      <th>x59</th>\n",
       "      <th>x60</th>\n",
       "      <th>x61</th>\n",
       "      <th>x62</th>\n",
       "      <th>x63</th>\n",
       "      <th>x64</th>\n",
       "    </tr>\n",
       "  </thead>\n",
       "  <tbody>\n",
       "    <tr>\n",
       "      <th>0</th>\n",
       "      <td>-3.236286</td>\n",
       "      <td>-0.468748</td>\n",
       "      <td>0.200673</td>\n",
       "      <td>0.119956</td>\n",
       "      <td>-2.179250</td>\n",
       "      <td>0.696636</td>\n",
       "      <td>0.924463</td>\n",
       "      <td>-1.441486</td>\n",
       "      <td>0.961940</td>\n",
       "      <td>1.282785</td>\n",
       "      <td>...</td>\n",
       "      <td>1.646246</td>\n",
       "      <td>0.226134</td>\n",
       "      <td>-0.399453</td>\n",
       "      <td>1.185523</td>\n",
       "      <td>0.890281</td>\n",
       "      <td>1.064403</td>\n",
       "      <td>1.678228</td>\n",
       "      <td>0.644963</td>\n",
       "      <td>0.304780</td>\n",
       "      <td>0.644810</td>\n",
       "    </tr>\n",
       "    <tr>\n",
       "      <th>1</th>\n",
       "      <td>-0.689387</td>\n",
       "      <td>-0.065556</td>\n",
       "      <td>0.061150</td>\n",
       "      <td>-0.018767</td>\n",
       "      <td>-0.524612</td>\n",
       "      <td>0.274261</td>\n",
       "      <td>0.114785</td>\n",
       "      <td>-0.322952</td>\n",
       "      <td>0.256056</td>\n",
       "      <td>0.273089</td>\n",
       "      <td>...</td>\n",
       "      <td>0.293403</td>\n",
       "      <td>0.002241</td>\n",
       "      <td>-0.155225</td>\n",
       "      <td>0.475788</td>\n",
       "      <td>0.242563</td>\n",
       "      <td>0.012322</td>\n",
       "      <td>0.253677</td>\n",
       "      <td>0.065230</td>\n",
       "      <td>0.315171</td>\n",
       "      <td>-0.001243</td>\n",
       "    </tr>\n",
       "    <tr>\n",
       "      <th>2</th>\n",
       "      <td>-0.070377</td>\n",
       "      <td>-0.082472</td>\n",
       "      <td>-0.310569</td>\n",
       "      <td>-0.367790</td>\n",
       "      <td>-0.352006</td>\n",
       "      <td>0.236861</td>\n",
       "      <td>0.024659</td>\n",
       "      <td>0.453466</td>\n",
       "      <td>-0.217919</td>\n",
       "      <td>0.454189</td>\n",
       "      <td>...</td>\n",
       "      <td>0.173446</td>\n",
       "      <td>0.154276</td>\n",
       "      <td>0.043935</td>\n",
       "      <td>-0.186528</td>\n",
       "      <td>-0.616538</td>\n",
       "      <td>0.548091</td>\n",
       "      <td>-0.307670</td>\n",
       "      <td>-0.012849</td>\n",
       "      <td>-0.972306</td>\n",
       "      <td>-0.391044</td>\n",
       "    </tr>\n",
       "    <tr>\n",
       "      <th>3</th>\n",
       "      <td>-0.076936</td>\n",
       "      <td>0.014131</td>\n",
       "      <td>-0.440995</td>\n",
       "      <td>-0.316667</td>\n",
       "      <td>-0.161113</td>\n",
       "      <td>0.198380</td>\n",
       "      <td>-0.211003</td>\n",
       "      <td>0.361687</td>\n",
       "      <td>-0.219950</td>\n",
       "      <td>0.071757</td>\n",
       "      <td>...</td>\n",
       "      <td>0.268518</td>\n",
       "      <td>0.126637</td>\n",
       "      <td>0.083584</td>\n",
       "      <td>-0.035810</td>\n",
       "      <td>-0.756658</td>\n",
       "      <td>0.321382</td>\n",
       "      <td>-0.282552</td>\n",
       "      <td>0.023124</td>\n",
       "      <td>-0.949508</td>\n",
       "      <td>-0.349958</td>\n",
       "    </tr>\n",
       "    <tr>\n",
       "      <th>4</th>\n",
       "      <td>-0.073513</td>\n",
       "      <td>0.187677</td>\n",
       "      <td>-0.194551</td>\n",
       "      <td>-0.241421</td>\n",
       "      <td>-0.145095</td>\n",
       "      <td>0.182752</td>\n",
       "      <td>0.112181</td>\n",
       "      <td>0.249016</td>\n",
       "      <td>-0.242467</td>\n",
       "      <td>-0.010454</td>\n",
       "      <td>...</td>\n",
       "      <td>-0.155616</td>\n",
       "      <td>0.054306</td>\n",
       "      <td>0.116953</td>\n",
       "      <td>-0.239180</td>\n",
       "      <td>-0.127139</td>\n",
       "      <td>0.059047</td>\n",
       "      <td>-0.018299</td>\n",
       "      <td>-0.123850</td>\n",
       "      <td>-0.646065</td>\n",
       "      <td>-0.279567</td>\n",
       "    </tr>\n",
       "    <tr>\n",
       "      <th>...</th>\n",
       "      <td>...</td>\n",
       "      <td>...</td>\n",
       "      <td>...</td>\n",
       "      <td>...</td>\n",
       "      <td>...</td>\n",
       "      <td>...</td>\n",
       "      <td>...</td>\n",
       "      <td>...</td>\n",
       "      <td>...</td>\n",
       "      <td>...</td>\n",
       "      <td>...</td>\n",
       "      <td>...</td>\n",
       "      <td>...</td>\n",
       "      <td>...</td>\n",
       "      <td>...</td>\n",
       "      <td>...</td>\n",
       "      <td>...</td>\n",
       "      <td>...</td>\n",
       "      <td>...</td>\n",
       "      <td>...</td>\n",
       "      <td>...</td>\n",
       "    </tr>\n",
       "    <tr>\n",
       "      <th>2703</th>\n",
       "      <td>-0.588050</td>\n",
       "      <td>0.080777</td>\n",
       "      <td>0.228448</td>\n",
       "      <td>-0.312431</td>\n",
       "      <td>-0.262744</td>\n",
       "      <td>-0.159776</td>\n",
       "      <td>-0.168388</td>\n",
       "      <td>-0.133149</td>\n",
       "      <td>0.129800</td>\n",
       "      <td>-0.228947</td>\n",
       "      <td>...</td>\n",
       "      <td>0.184320</td>\n",
       "      <td>0.023790</td>\n",
       "      <td>0.180927</td>\n",
       "      <td>0.058787</td>\n",
       "      <td>-0.016759</td>\n",
       "      <td>-0.277593</td>\n",
       "      <td>0.178736</td>\n",
       "      <td>0.045534</td>\n",
       "      <td>0.190312</td>\n",
       "      <td>-0.196260</td>\n",
       "    </tr>\n",
       "    <tr>\n",
       "      <th>2704</th>\n",
       "      <td>-0.152371</td>\n",
       "      <td>0.163245</td>\n",
       "      <td>-0.113662</td>\n",
       "      <td>-0.145505</td>\n",
       "      <td>0.191914</td>\n",
       "      <td>0.372227</td>\n",
       "      <td>-0.054689</td>\n",
       "      <td>0.099280</td>\n",
       "      <td>0.411920</td>\n",
       "      <td>0.117131</td>\n",
       "      <td>...</td>\n",
       "      <td>0.224125</td>\n",
       "      <td>0.053014</td>\n",
       "      <td>-0.102753</td>\n",
       "      <td>-0.137425</td>\n",
       "      <td>0.137797</td>\n",
       "      <td>0.295350</td>\n",
       "      <td>-0.000475</td>\n",
       "      <td>0.202006</td>\n",
       "      <td>0.158019</td>\n",
       "      <td>-0.446322</td>\n",
       "    </tr>\n",
       "    <tr>\n",
       "      <th>2705</th>\n",
       "      <td>-0.108056</td>\n",
       "      <td>-0.093721</td>\n",
       "      <td>-0.021188</td>\n",
       "      <td>0.281823</td>\n",
       "      <td>-0.082897</td>\n",
       "      <td>0.069613</td>\n",
       "      <td>-0.124905</td>\n",
       "      <td>0.114227</td>\n",
       "      <td>-0.325545</td>\n",
       "      <td>-0.302511</td>\n",
       "      <td>...</td>\n",
       "      <td>0.232269</td>\n",
       "      <td>0.249294</td>\n",
       "      <td>-0.085221</td>\n",
       "      <td>-0.001192</td>\n",
       "      <td>-0.296016</td>\n",
       "      <td>0.222574</td>\n",
       "      <td>-0.007141</td>\n",
       "      <td>0.084271</td>\n",
       "      <td>-0.117485</td>\n",
       "      <td>-0.077285</td>\n",
       "    </tr>\n",
       "    <tr>\n",
       "      <th>2706</th>\n",
       "      <td>-0.083750</td>\n",
       "      <td>-0.094119</td>\n",
       "      <td>-0.211447</td>\n",
       "      <td>0.264650</td>\n",
       "      <td>0.013921</td>\n",
       "      <td>0.094120</td>\n",
       "      <td>-0.125289</td>\n",
       "      <td>0.194479</td>\n",
       "      <td>-0.373463</td>\n",
       "      <td>-0.138108</td>\n",
       "      <td>...</td>\n",
       "      <td>-0.132007</td>\n",
       "      <td>0.168180</td>\n",
       "      <td>-0.131623</td>\n",
       "      <td>-0.110672</td>\n",
       "      <td>-0.428557</td>\n",
       "      <td>0.014701</td>\n",
       "      <td>-0.196563</td>\n",
       "      <td>-0.094884</td>\n",
       "      <td>-0.062665</td>\n",
       "      <td>-0.361352</td>\n",
       "    </tr>\n",
       "    <tr>\n",
       "      <th>2707</th>\n",
       "      <td>0.083383</td>\n",
       "      <td>0.015131</td>\n",
       "      <td>-0.291782</td>\n",
       "      <td>0.259255</td>\n",
       "      <td>0.260820</td>\n",
       "      <td>0.101369</td>\n",
       "      <td>0.023663</td>\n",
       "      <td>0.000293</td>\n",
       "      <td>-0.200030</td>\n",
       "      <td>-0.280702</td>\n",
       "      <td>...</td>\n",
       "      <td>-0.271221</td>\n",
       "      <td>-0.102823</td>\n",
       "      <td>-0.064412</td>\n",
       "      <td>-0.089895</td>\n",
       "      <td>-0.001835</td>\n",
       "      <td>0.048174</td>\n",
       "      <td>-0.053286</td>\n",
       "      <td>-0.022382</td>\n",
       "      <td>-0.339670</td>\n",
       "      <td>-0.278265</td>\n",
       "    </tr>\n",
       "  </tbody>\n",
       "</table>\n",
       "<p>2708 rows × 64 columns</p>\n",
       "</div>"
      ],
      "text/plain": [
       "            x1        x2        x3        x4        x5        x6        x7  \\\n",
       "0    -3.236286 -0.468748  0.200673  0.119956 -2.179250  0.696636  0.924463   \n",
       "1    -0.689387 -0.065556  0.061150 -0.018767 -0.524612  0.274261  0.114785   \n",
       "2    -0.070377 -0.082472 -0.310569 -0.367790 -0.352006  0.236861  0.024659   \n",
       "3    -0.076936  0.014131 -0.440995 -0.316667 -0.161113  0.198380 -0.211003   \n",
       "4    -0.073513  0.187677 -0.194551 -0.241421 -0.145095  0.182752  0.112181   \n",
       "...        ...       ...       ...       ...       ...       ...       ...   \n",
       "2703 -0.588050  0.080777  0.228448 -0.312431 -0.262744 -0.159776 -0.168388   \n",
       "2704 -0.152371  0.163245 -0.113662 -0.145505  0.191914  0.372227 -0.054689   \n",
       "2705 -0.108056 -0.093721 -0.021188  0.281823 -0.082897  0.069613 -0.124905   \n",
       "2706 -0.083750 -0.094119 -0.211447  0.264650  0.013921  0.094120 -0.125289   \n",
       "2707  0.083383  0.015131 -0.291782  0.259255  0.260820  0.101369  0.023663   \n",
       "\n",
       "            x8        x9       x10  ...       x55       x56       x57  \\\n",
       "0    -1.441486  0.961940  1.282785  ...  1.646246  0.226134 -0.399453   \n",
       "1    -0.322952  0.256056  0.273089  ...  0.293403  0.002241 -0.155225   \n",
       "2     0.453466 -0.217919  0.454189  ...  0.173446  0.154276  0.043935   \n",
       "3     0.361687 -0.219950  0.071757  ...  0.268518  0.126637  0.083584   \n",
       "4     0.249016 -0.242467 -0.010454  ... -0.155616  0.054306  0.116953   \n",
       "...        ...       ...       ...  ...       ...       ...       ...   \n",
       "2703 -0.133149  0.129800 -0.228947  ...  0.184320  0.023790  0.180927   \n",
       "2704  0.099280  0.411920  0.117131  ...  0.224125  0.053014 -0.102753   \n",
       "2705  0.114227 -0.325545 -0.302511  ...  0.232269  0.249294 -0.085221   \n",
       "2706  0.194479 -0.373463 -0.138108  ... -0.132007  0.168180 -0.131623   \n",
       "2707  0.000293 -0.200030 -0.280702  ... -0.271221 -0.102823 -0.064412   \n",
       "\n",
       "           x58       x59       x60       x61       x62       x63       x64  \n",
       "0     1.185523  0.890281  1.064403  1.678228  0.644963  0.304780  0.644810  \n",
       "1     0.475788  0.242563  0.012322  0.253677  0.065230  0.315171 -0.001243  \n",
       "2    -0.186528 -0.616538  0.548091 -0.307670 -0.012849 -0.972306 -0.391044  \n",
       "3    -0.035810 -0.756658  0.321382 -0.282552  0.023124 -0.949508 -0.349958  \n",
       "4    -0.239180 -0.127139  0.059047 -0.018299 -0.123850 -0.646065 -0.279567  \n",
       "...        ...       ...       ...       ...       ...       ...       ...  \n",
       "2703  0.058787 -0.016759 -0.277593  0.178736  0.045534  0.190312 -0.196260  \n",
       "2704 -0.137425  0.137797  0.295350 -0.000475  0.202006  0.158019 -0.446322  \n",
       "2705 -0.001192 -0.296016  0.222574 -0.007141  0.084271 -0.117485 -0.077285  \n",
       "2706 -0.110672 -0.428557  0.014701 -0.196563 -0.094884 -0.062665 -0.361352  \n",
       "2707 -0.089895 -0.001835  0.048174 -0.053286 -0.022382 -0.339670 -0.278265  \n",
       "\n",
       "[2708 rows x 64 columns]"
      ]
     },
     "execution_count": 118,
     "metadata": {},
     "output_type": "execute_result"
    }
   ],
   "source": [
    "node_emb = pd.DataFrame(embedding).rename(columns = {val: f\"x{val+1}\" for val in range(embedding.shape[1])})\n",
    "\n",
    "node_emb"
   ]
  },
  {
   "cell_type": "code",
   "execution_count": 52,
   "id": "b83546fc",
   "metadata": {},
   "outputs": [
    {
     "name": "stdout",
     "output_type": "stream",
     "text": [
      "Index(['sim', 'y', 'pred'], dtype='object')\n"
     ]
    }
   ],
   "source": [
    "print(y_train_hat.columns)"
   ]
  },
  {
   "cell_type": "markdown",
   "id": "64dcbb71",
   "metadata": {},
   "source": [
    "#### 3.4 Compute edge features based on best model"
   ]
  },
  {
   "cell_type": "code",
   "execution_count": 119,
   "id": "4f6dc822",
   "metadata": {},
   "outputs": [
    {
     "name": "stdout",
     "output_type": "stream",
     "text": [
      "ROC:  0.9764215364930167\n",
      "Acc:  0.948185165702262\n"
     ]
    }
   ],
   "source": [
    "# predict train\n",
    "y_train_hat = pd.DataFrame(autoenc.get_similarity(model, data.x, data.train_pos_edges, data.train_edges))\n",
    "\n",
    "y_train_hat = (y_train_hat\n",
    "    .rename(columns = {0: \"sim\"})\n",
    "    .assign(y = trainval_tf.loc[trainval_tf.train_mask == True].y.values)\n",
    "    .assign(pred = lambda df_: (df_.sim > df_.sim.median()).astype(int))\n",
    ")\n",
    "\n",
    "print(\"ROC: \", roc_auc_score(y_train_hat.y, y_train_hat.sim))\n",
    "print(\"Acc: \", accuracy_score(y_train_hat.y, y_train_hat.pred))"
   ]
  },
  {
   "cell_type": "code",
   "execution_count": 120,
   "id": "e245cbd7",
   "metadata": {},
   "outputs": [],
   "source": [
    "import matplotlib.pyplot as plt\n",
    "\n",
    "fig, ax = plt.subplots()\n",
    "ax.scatter(y_train_hat.loc[y_train_hat['y'] == 0, 'sim'], y_train_hat.loc[y_train_hat['y'] == 0, 'y'], label='0')\n",
    "ax.scatter(y_train_hat.loc[y_train_hat['y'] == 1, 'sim'], y_train_hat.loc[y_train_hat['y'] == 1, 'y'], label='1')\n",
    "ax.legend()\n",
    "plt.xlabel('sim')\n",
    "plt.ylabel('y')\n",
    "plt.savefig('scatter_plot.png')\n",
    "plt.close()"
   ]
  },
  {
   "cell_type": "code",
   "execution_count": 24,
   "id": "31eab61f",
   "metadata": {},
   "outputs": [
    {
     "ename": "KeyError",
     "evalue": "\"None of [Index(['sim', 'y'], dtype='object')] are in the [columns]\"",
     "output_type": "error",
     "traceback": [
      "\u001b[0;31m---------------------------------------------------------------------------\u001b[0m",
      "\u001b[0;31mKeyError\u001b[0m                                  Traceback (most recent call last)",
      "\u001b[0;32m/var/folders/wl/zfv53bfx13j4zx15j58_cby00000gn/T/ipykernel_2487/3330746676.py\u001b[0m in \u001b[0;36m<module>\u001b[0;34m\u001b[0m\n\u001b[0;32m----> 1\u001b[0;31m \u001b[0my_train_hat_clean\u001b[0m \u001b[0;34m=\u001b[0m \u001b[0my_train_hat\u001b[0m\u001b[0;34m[\u001b[0m\u001b[0;34m[\u001b[0m\u001b[0;34m\"sim\"\u001b[0m\u001b[0;34m,\u001b[0m \u001b[0;34m\"y\"\u001b[0m\u001b[0;34m]\u001b[0m\u001b[0;34m]\u001b[0m\u001b[0;34m.\u001b[0m\u001b[0mapply\u001b[0m\u001b[0;34m(\u001b[0m\u001b[0mpd\u001b[0m\u001b[0;34m.\u001b[0m\u001b[0mto_numeric\u001b[0m\u001b[0;34m,\u001b[0m \u001b[0merrors\u001b[0m\u001b[0;34m=\u001b[0m\u001b[0;34m'coerce'\u001b[0m\u001b[0;34m)\u001b[0m\u001b[0;34m.\u001b[0m\u001b[0mdropna\u001b[0m\u001b[0;34m(\u001b[0m\u001b[0;34m)\u001b[0m\u001b[0;34m\u001b[0m\u001b[0;34m\u001b[0m\u001b[0m\n\u001b[0m\u001b[1;32m      2\u001b[0m \u001b[0msns\u001b[0m\u001b[0;34m.\u001b[0m\u001b[0mpairplot\u001b[0m\u001b[0;34m(\u001b[0m\u001b[0my_train_hat_clean\u001b[0m\u001b[0;34m[\u001b[0m\u001b[0;34m[\u001b[0m\u001b[0;34m\"sim\"\u001b[0m\u001b[0;34m,\u001b[0m \u001b[0;34m\"y\"\u001b[0m\u001b[0;34m]\u001b[0m\u001b[0;34m]\u001b[0m\u001b[0;34m,\u001b[0m \u001b[0mhue\u001b[0m \u001b[0;34m=\u001b[0m \u001b[0;34m\"y\"\u001b[0m\u001b[0;34m)\u001b[0m\u001b[0;34m\u001b[0m\u001b[0;34m\u001b[0m\u001b[0m\n",
      "\u001b[0;32m/Library/Frameworks/Python.framework/Versions/3.9/lib/python3.9/site-packages/pandas/core/frame.py\u001b[0m in \u001b[0;36m__getitem__\u001b[0;34m(self, key)\u001b[0m\n\u001b[1;32m   3462\u001b[0m             \u001b[0;32mif\u001b[0m \u001b[0mis_iterator\u001b[0m\u001b[0;34m(\u001b[0m\u001b[0mkey\u001b[0m\u001b[0;34m)\u001b[0m\u001b[0;34m:\u001b[0m\u001b[0;34m\u001b[0m\u001b[0;34m\u001b[0m\u001b[0m\n\u001b[1;32m   3463\u001b[0m                 \u001b[0mkey\u001b[0m \u001b[0;34m=\u001b[0m \u001b[0mlist\u001b[0m\u001b[0;34m(\u001b[0m\u001b[0mkey\u001b[0m\u001b[0;34m)\u001b[0m\u001b[0;34m\u001b[0m\u001b[0;34m\u001b[0m\u001b[0m\n\u001b[0;32m-> 3464\u001b[0;31m             \u001b[0mindexer\u001b[0m \u001b[0;34m=\u001b[0m \u001b[0mself\u001b[0m\u001b[0;34m.\u001b[0m\u001b[0mloc\u001b[0m\u001b[0;34m.\u001b[0m\u001b[0m_get_listlike_indexer\u001b[0m\u001b[0;34m(\u001b[0m\u001b[0mkey\u001b[0m\u001b[0;34m,\u001b[0m \u001b[0maxis\u001b[0m\u001b[0;34m=\u001b[0m\u001b[0;36m1\u001b[0m\u001b[0;34m)\u001b[0m\u001b[0;34m[\u001b[0m\u001b[0;36m1\u001b[0m\u001b[0;34m]\u001b[0m\u001b[0;34m\u001b[0m\u001b[0;34m\u001b[0m\u001b[0m\n\u001b[0m\u001b[1;32m   3465\u001b[0m \u001b[0;34m\u001b[0m\u001b[0m\n\u001b[1;32m   3466\u001b[0m         \u001b[0;31m# take() does not accept boolean indexers\u001b[0m\u001b[0;34m\u001b[0m\u001b[0;34m\u001b[0m\u001b[0m\n",
      "\u001b[0;32m/Library/Frameworks/Python.framework/Versions/3.9/lib/python3.9/site-packages/pandas/core/indexing.py\u001b[0m in \u001b[0;36m_get_listlike_indexer\u001b[0;34m(self, key, axis)\u001b[0m\n\u001b[1;32m   1312\u001b[0m             \u001b[0mkeyarr\u001b[0m\u001b[0;34m,\u001b[0m \u001b[0mindexer\u001b[0m\u001b[0;34m,\u001b[0m \u001b[0mnew_indexer\u001b[0m \u001b[0;34m=\u001b[0m \u001b[0max\u001b[0m\u001b[0;34m.\u001b[0m\u001b[0m_reindex_non_unique\u001b[0m\u001b[0;34m(\u001b[0m\u001b[0mkeyarr\u001b[0m\u001b[0;34m)\u001b[0m\u001b[0;34m\u001b[0m\u001b[0;34m\u001b[0m\u001b[0m\n\u001b[1;32m   1313\u001b[0m \u001b[0;34m\u001b[0m\u001b[0m\n\u001b[0;32m-> 1314\u001b[0;31m         \u001b[0mself\u001b[0m\u001b[0;34m.\u001b[0m\u001b[0m_validate_read_indexer\u001b[0m\u001b[0;34m(\u001b[0m\u001b[0mkeyarr\u001b[0m\u001b[0;34m,\u001b[0m \u001b[0mindexer\u001b[0m\u001b[0;34m,\u001b[0m \u001b[0maxis\u001b[0m\u001b[0;34m)\u001b[0m\u001b[0;34m\u001b[0m\u001b[0;34m\u001b[0m\u001b[0m\n\u001b[0m\u001b[1;32m   1315\u001b[0m \u001b[0;34m\u001b[0m\u001b[0m\n\u001b[1;32m   1316\u001b[0m         if needs_i8_conversion(ax.dtype) or isinstance(\n",
      "\u001b[0;32m/Library/Frameworks/Python.framework/Versions/3.9/lib/python3.9/site-packages/pandas/core/indexing.py\u001b[0m in \u001b[0;36m_validate_read_indexer\u001b[0;34m(self, key, indexer, axis)\u001b[0m\n\u001b[1;32m   1372\u001b[0m                 \u001b[0;32mif\u001b[0m \u001b[0muse_interval_msg\u001b[0m\u001b[0;34m:\u001b[0m\u001b[0;34m\u001b[0m\u001b[0;34m\u001b[0m\u001b[0m\n\u001b[1;32m   1373\u001b[0m                     \u001b[0mkey\u001b[0m \u001b[0;34m=\u001b[0m \u001b[0mlist\u001b[0m\u001b[0;34m(\u001b[0m\u001b[0mkey\u001b[0m\u001b[0;34m)\u001b[0m\u001b[0;34m\u001b[0m\u001b[0;34m\u001b[0m\u001b[0m\n\u001b[0;32m-> 1374\u001b[0;31m                 \u001b[0;32mraise\u001b[0m \u001b[0mKeyError\u001b[0m\u001b[0;34m(\u001b[0m\u001b[0;34mf\"None of [{key}] are in the [{axis_name}]\"\u001b[0m\u001b[0;34m)\u001b[0m\u001b[0;34m\u001b[0m\u001b[0;34m\u001b[0m\u001b[0m\n\u001b[0m\u001b[1;32m   1375\u001b[0m \u001b[0;34m\u001b[0m\u001b[0m\n\u001b[1;32m   1376\u001b[0m             \u001b[0mnot_found\u001b[0m \u001b[0;34m=\u001b[0m \u001b[0mlist\u001b[0m\u001b[0;34m(\u001b[0m\u001b[0mensure_index\u001b[0m\u001b[0;34m(\u001b[0m\u001b[0mkey\u001b[0m\u001b[0;34m)\u001b[0m\u001b[0;34m[\u001b[0m\u001b[0mmissing_mask\u001b[0m\u001b[0;34m.\u001b[0m\u001b[0mnonzero\u001b[0m\u001b[0;34m(\u001b[0m\u001b[0;34m)\u001b[0m\u001b[0;34m[\u001b[0m\u001b[0;36m0\u001b[0m\u001b[0;34m]\u001b[0m\u001b[0;34m]\u001b[0m\u001b[0;34m.\u001b[0m\u001b[0munique\u001b[0m\u001b[0;34m(\u001b[0m\u001b[0;34m)\u001b[0m\u001b[0;34m)\u001b[0m\u001b[0;34m\u001b[0m\u001b[0;34m\u001b[0m\u001b[0m\n",
      "\u001b[0;31mKeyError\u001b[0m: \"None of [Index(['sim', 'y'], dtype='object')] are in the [columns]\""
     ]
    }
   ],
   "source": [
    "y_train_hat_clean = y_train_hat[[\"sim\", \"y\"]].apply(pd.to_numeric, errors='coerce').dropna()\n",
    "sns.pairplot(y_train_hat_clean[[\"sim\", \"y\"]], hue = \"y\")"
   ]
  },
  {
   "cell_type": "code",
   "execution_count": 121,
   "id": "bc2a3c26",
   "metadata": {
    "scrolled": true
   },
   "outputs": [
    {
     "name": "stdout",
     "output_type": "stream",
     "text": [
      "2170\n",
      "ROC:  0.889936503217312\n",
      "Acc:  0.8258064516129032\n"
     ]
    }
   ],
   "source": [
    "# predict val\n",
    "y_val_hat = pd.DataFrame(autoenc.get_similarity(model, data.x, data.train_pos_edges, data.val_edges))\n",
    "print(len(y_val_hat))\n",
    "y_val_hat = (y_val_hat\n",
    "    .rename(columns = {0: \"sim\"})\n",
    "    .assign(y = trainval_tf.loc[trainval_tf.val_mask == True].y.values)\n",
    "    .assign(pred = lambda df_: (df_.sim > df_.sim.median()).astype(int))\n",
    ")\n",
    "print(\"ROC: \", roc_auc_score(y_val_hat.y, y_val_hat.sim))\n",
    "print(\"Acc: \", accuracy_score(y_val_hat.y, y_val_hat.pred))"
   ]
  },
  {
   "cell_type": "code",
   "execution_count": 122,
   "id": "4f8461a8",
   "metadata": {},
   "outputs": [],
   "source": [
    "tmp = (val_tf\n",
    "    .assign(sim  = y_val_hat.pred.values)\n",
    "    .assign(dist = lambda df_: [np.linalg.norm(node_emb.loc[u].values-node_emb.loc[v].values) for u, v in zip(df_.source, df_.target)])\n",
    ")"
   ]
  },
  {
   "cell_type": "code",
   "execution_count": 84,
   "id": "ca8db459",
   "metadata": {},
   "outputs": [
    {
     "ename": "NameError",
     "evalue": "name 'tmp' is not defined",
     "output_type": "error",
     "traceback": [
      "\u001b[0;31m---------------------------------------------------------------------------\u001b[0m",
      "\u001b[0;31mNameError\u001b[0m                                 Traceback (most recent call last)",
      "\u001b[0;32m/var/folders/wl/zfv53bfx13j4zx15j58_cby00000gn/T/ipykernel_1579/3301759999.py\u001b[0m in \u001b[0;36m<module>\u001b[0;34m\u001b[0m\n\u001b[0;32m----> 1\u001b[0;31m \u001b[0msns\u001b[0m\u001b[0;34m.\u001b[0m\u001b[0mpairplot\u001b[0m\u001b[0;34m(\u001b[0m\u001b[0mtmp\u001b[0m\u001b[0;34m[\u001b[0m\u001b[0;34m[\u001b[0m\u001b[0;34m\"sim\"\u001b[0m\u001b[0;34m,\u001b[0m \u001b[0;34m\"dist\"\u001b[0m\u001b[0;34m,\u001b[0m \u001b[0;34m\"y\"\u001b[0m\u001b[0;34m]\u001b[0m\u001b[0;34m]\u001b[0m\u001b[0;34m,\u001b[0m \u001b[0mhue\u001b[0m \u001b[0;34m=\u001b[0m \u001b[0;34m\"y\"\u001b[0m\u001b[0;34m)\u001b[0m\u001b[0;34m\u001b[0m\u001b[0;34m\u001b[0m\u001b[0m\n\u001b[0m",
      "\u001b[0;31mNameError\u001b[0m: name 'tmp' is not defined"
     ]
    }
   ],
   "source": [
    "sns.pairplot(tmp[[\"sim\", \"dist\", \"y\"]], hue = \"y\")"
   ]
  },
  {
   "cell_type": "code",
   "execution_count": 123,
   "id": "4efe1fbc",
   "metadata": {},
   "outputs": [
    {
     "data": {
      "text/html": [
       "<div>\n",
       "<style scoped>\n",
       "    .dataframe tbody tr th:only-of-type {\n",
       "        vertical-align: middle;\n",
       "    }\n",
       "\n",
       "    .dataframe tbody tr th {\n",
       "        vertical-align: top;\n",
       "    }\n",
       "\n",
       "    .dataframe thead th {\n",
       "        text-align: right;\n",
       "    }\n",
       "</style>\n",
       "<table border=\"1\" class=\"dataframe\">\n",
       "  <thead>\n",
       "    <tr style=\"text-align: right;\">\n",
       "      <th></th>\n",
       "      <th>target</th>\n",
       "      <th>source</th>\n",
       "      <th>y</th>\n",
       "      <th>sim</th>\n",
       "      <th>dist</th>\n",
       "    </tr>\n",
       "  </thead>\n",
       "  <tbody>\n",
       "    <tr>\n",
       "      <th>target</th>\n",
       "      <td>1.000000</td>\n",
       "      <td>0.320768</td>\n",
       "      <td>-0.493566</td>\n",
       "      <td>-0.420214</td>\n",
       "      <td>-0.256462</td>\n",
       "    </tr>\n",
       "    <tr>\n",
       "      <th>source</th>\n",
       "      <td>0.320768</td>\n",
       "      <td>1.000000</td>\n",
       "      <td>-0.487168</td>\n",
       "      <td>-0.398406</td>\n",
       "      <td>-0.012116</td>\n",
       "    </tr>\n",
       "    <tr>\n",
       "      <th>y</th>\n",
       "      <td>-0.493566</td>\n",
       "      <td>-0.487168</td>\n",
       "      <td>1.000000</td>\n",
       "      <td>0.651613</td>\n",
       "      <td>0.011700</td>\n",
       "    </tr>\n",
       "    <tr>\n",
       "      <th>sim</th>\n",
       "      <td>-0.420214</td>\n",
       "      <td>-0.398406</td>\n",
       "      <td>0.651613</td>\n",
       "      <td>1.000000</td>\n",
       "      <td>-0.026005</td>\n",
       "    </tr>\n",
       "    <tr>\n",
       "      <th>dist</th>\n",
       "      <td>-0.256462</td>\n",
       "      <td>-0.012116</td>\n",
       "      <td>0.011700</td>\n",
       "      <td>-0.026005</td>\n",
       "      <td>1.000000</td>\n",
       "    </tr>\n",
       "  </tbody>\n",
       "</table>\n",
       "</div>"
      ],
      "text/plain": [
       "          target    source         y       sim      dist\n",
       "target  1.000000  0.320768 -0.493566 -0.420214 -0.256462\n",
       "source  0.320768  1.000000 -0.487168 -0.398406 -0.012116\n",
       "y      -0.493566 -0.487168  1.000000  0.651613  0.011700\n",
       "sim    -0.420214 -0.398406  0.651613  1.000000 -0.026005\n",
       "dist   -0.256462 -0.012116  0.011700 -0.026005  1.000000"
      ]
     },
     "execution_count": 123,
     "metadata": {},
     "output_type": "execute_result"
    }
   ],
   "source": [
    "tmp[['target', 'source', 'y', 'sim', 'dist']].corr()"
   ]
  },
  {
   "cell_type": "code",
   "execution_count": 124,
   "id": "d3fe8363",
   "metadata": {},
   "outputs": [
    {
     "data": {
      "text/plain": [
       "pred\n",
       "0       542\n",
       "1       542\n",
       "dtype: int64"
      ]
     },
     "execution_count": 124,
     "metadata": {},
     "output_type": "execute_result"
    }
   ],
   "source": [
    "# predict test\n",
    "y_test_hat = pd.DataFrame(autoenc.get_similarity(model, data.x, data.trainval_pos_edges, data.test_edges))\n",
    "y_test_hat = (y_test_hat\n",
    "    .rename(columns = {0: \"sim\"})\n",
    "    .assign(pred = lambda df_: (df_.sim > df_.sim.median()).astype(int))\n",
    ")\n",
    "y_test_hat[[\"pred\"]].value_counts()"
   ]
  }
 ],
 "metadata": {
  "kernelspec": {
   "display_name": "Python 3",
   "language": "python",
   "name": "python3"
  },
  "language_info": {
   "codemirror_mode": {
    "name": "ipython",
    "version": 3
   },
   "file_extension": ".py",
   "mimetype": "text/x-python",
   "name": "python",
   "nbconvert_exporter": "python",
   "pygments_lexer": "ipython3",
   "version": "3.9.7"
  },
  "vscode": {
   "interpreter": {
    "hash": "edc5d5641674580b35290ba45bd16007251669062615a59c5f9a5e5dd7884ea6"
   }
  }
 },
 "nbformat": 4,
 "nbformat_minor": 5
}
