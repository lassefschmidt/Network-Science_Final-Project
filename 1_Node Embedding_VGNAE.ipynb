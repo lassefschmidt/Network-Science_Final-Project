{
 "cells": [
  {
   "attachments": {},
   "cell_type": "markdown",
   "id": "ca3f9796",
   "metadata": {},
   "source": [
    "# Machine Learning in Network Science\n",
    "Final Project\n",
    "\n",
    "***\n",
    "by: Leonardo Basili, Paul Bédier, Lasse Schmidt\n",
    "\n",
    "within: MS Data Sciences & Business Analytics\n",
    "\n",
    "at: CentraleSupélec & ESSEC Business School\n",
    "***"
   ]
  },
  {
   "cell_type": "markdown",
   "id": "3a46be5a",
   "metadata": {},
   "source": [
    "This notebook covers deep learning techniques, namely:\n",
    "- Variational Graph Normalized Auto-Encoders (based on https://arxiv.org/abs/2108.08046) which allow us to learn graph embeddings in an unsupervised way (based on graph structure and node embeddings)"
   ]
  },
  {
   "cell_type": "markdown",
   "id": "54f241a1",
   "metadata": {},
   "source": [
    "### 1. Import Packages"
   ]
  },
  {
   "cell_type": "code",
   "execution_count": 3,
   "id": "98e82605",
   "metadata": {},
   "outputs": [
    {
     "data": {
      "text/plain": [
       "<module 'util.autoencoder' from '/Users/macbookpro/Documents/GitHub/Network-Science_Final-Project/util/autoencoder.py'>"
      ]
     },
     "execution_count": 3,
     "metadata": {},
     "output_type": "execute_result"
    }
   ],
   "source": [
    "from importlib import reload\n",
    "reload(analyseData)\n",
    "reload(loadData)\n",
    "reload(modeling)\n",
    "reload(autoenc)"
   ]
  },
  {
   "cell_type": "code",
   "execution_count": 2,
   "id": "a3ffae4f",
   "metadata": {},
   "outputs": [],
   "source": [
    "# import own scripts\n",
    "import util.analyse_Data as analyseData\n",
    "#import util.preprocess_Data as prepData\n",
    "import util.load_Data as loadData\n",
    "import util.modeling as modeling\n",
    "import util.autoencoder as autoenc"
   ]
  },
  {
   "cell_type": "code",
   "execution_count": 4,
   "id": "d7c6ba33",
   "metadata": {},
   "outputs": [],
   "source": [
    "# parse & handle data\n",
    "import os\n",
    "import numpy as np\n",
    "import pandas as pd\n",
    "\n",
    "# modeling\n",
    "import torch\n",
    "from torch_geometric.nn import GAE, VGAE\n",
    "\n",
    "# hyperparam optimization\n",
    "from ray import tune, air\n",
    "\n",
    "# evaluation\n",
    "from sklearn.metrics import accuracy_score, roc_auc_score, classification_report, confusion_matrix, ConfusionMatrixDisplay\n",
    "\n",
    "\n",
    "# visualization\n",
    "import matplotlib.pyplot as plt\n",
    "import seaborn as sns"
   ]
  },
  {
   "cell_type": "code",
   "execution_count": 5,
   "id": "c84a352e",
   "metadata": {},
   "outputs": [],
   "source": [
    "# set matplotlib and seaborn settings for nicer plots\n",
    "%matplotlib inline\n",
    "\n",
    "SMALL_SIZE = 6\n",
    "MEDIUM_SIZE = 8\n",
    "BIGGER_SIZE = 10\n",
    "\n",
    "plt.rc('font', size=SMALL_SIZE)          # controls default text sizes\n",
    "plt.rc('axes', titlesize=BIGGER_SIZE)    # fontsize of the axes title\n",
    "plt.rc('axes', labelsize=MEDIUM_SIZE)    # fontsize of the x and y labels\n",
    "plt.rc('xtick', labelsize=SMALL_SIZE)    # fontsize of the tick labels\n",
    "plt.rc('ytick', labelsize=SMALL_SIZE)    # fontsize of the tick labels\n",
    "plt.rc('legend', fontsize=MEDIUM_SIZE)   # legend fontsize\n",
    "plt.rc('figure', titlesize=BIGGER_SIZE)  # fontsize of the figure title"
   ]
  },
  {
   "cell_type": "markdown",
   "id": "74f20e78",
   "metadata": {},
   "source": [
    "### 2. Load Data for Modeling"
   ]
  },
  {
   "cell_type": "code",
   "execution_count": 6,
   "id": "2a7d5835",
   "metadata": {},
   "outputs": [
    {
     "name": "stdout",
     "output_type": "stream",
     "text": [
      "Number of positive edges for training: 3802\n",
      "Number of positive edges for validation: 1085\n",
      "Number of positive edges for test: 542\n",
      "Number of edges in original graph: 5429\n",
      "Number of edges in training graph: 3802\n",
      "Number of non-existing edges generated: 29971\n",
      "Number of negative edges for training: 3802\n",
      "Number of negative edges for validation: 1085\n",
      "Number of negative edges for test: 542\n",
      "Enriching node features...\n"
     ]
    },
    {
     "data": {
      "application/vnd.jupyter.widget-view+json": {
       "model_id": "a80fb51e3b6842229836463199a3bc62",
       "version_major": 2,
       "version_minor": 0
      },
      "text/plain": [
       "Computing transition probabilities:   0%|          | 0/2708 [00:00<?, ?it/s]"
      ]
     },
     "metadata": {},
     "output_type": "display_data"
    },
    {
     "name": "stderr",
     "output_type": "stream",
     "text": [
      "Generating walks (CPU: 1): 100%|██████████| 10/10 [00:00<00:00, 13.56it/s]\n",
      "/Users/macbookpro/Library/Python/3.9/lib/python/site-packages/networkx/algorithms/link_analysis/hits_alg.py:78: FutureWarning: adjacency_matrix will return a scipy.sparse array instead of a matrix in Networkx 3.0.\n",
      "  A = nx.adjacency_matrix(G, nodelist=list(G), dtype=float)\n"
     ]
    },
    {
     "data": {
      "application/vnd.jupyter.widget-view+json": {
       "model_id": "bb7311b00c9042b1bd68e20182bf7003",
       "version_major": 2,
       "version_minor": 0
      },
      "text/plain": [
       "Computing transition probabilities:   0%|          | 0/2708 [00:00<?, ?it/s]"
      ]
     },
     "metadata": {},
     "output_type": "display_data"
    },
    {
     "name": "stderr",
     "output_type": "stream",
     "text": [
      "Generating walks (CPU: 1): 100%|██████████| 10/10 [00:00<00:00, 10.16it/s]\n"
     ]
    },
    {
     "name": "stdout",
     "output_type": "stream",
     "text": [
      "Create PyTorch Geometric dataset...\n"
     ]
    }
   ],
   "source": [
    "# might take up to a minute\n",
    "data, (G, G_train, G_trainval, node_info, train_tf, val_tf, trainval_tf, test_tf) = autoenc.load()"
   ]
  },
  {
   "cell_type": "code",
   "execution_count": 5,
   "id": "3ee7a8e9",
   "metadata": {},
   "outputs": [],
   "source": [
    "# where to save trial results to\n",
    "ray_path = os.path.abspath(\"\")+\"/ray_results\"\n",
    "if not os.path.isdir(ray_path):\n",
    "    os.mkdir(ray_path)"
   ]
  },
  {
   "cell_type": "markdown",
   "id": "345c4898",
   "metadata": {},
   "source": [
    "### 3. VGNAE Node Embeddings\n",
    "\n",
    "https://github.com/SeongJinAhn/VGNAE/blob/main/main.py for Variational Graph Normalized Auto-Encoders"
   ]
  },
  {
   "cell_type": "markdown",
   "id": "372aac42",
   "metadata": {},
   "source": [
    "#### 3.1 Hyperparameter tuning"
   ]
  },
  {
   "cell_type": "code",
   "execution_count": 70,
   "id": "b68c1c9f",
   "metadata": {},
   "outputs": [],
   "source": [
    "# tunable hyperparameter search space --> search using tune.choice([]), tune.uniform(lower, upper), tune.grid_search([])\n",
    "config = {\n",
    "    # log params in raytune\n",
    "    \"ray\": True,\n",
    "    \n",
    "    # print results per epoch\n",
    "    \"verbose\": False,\n",
    "    \n",
    "    # basic infos\n",
    "    \"data\": data,\n",
    "    \"max_epochs\": 50,\n",
    "    \"save\": True, # if we want to save best model on validation set\n",
    "    \n",
    "    # model\n",
    "    \"model\": \"VGNAE\",\n",
    "    \n",
    "    ## encoder\n",
    "    \"enc_channels\": 64,\n",
    "    \"scaling\": 1.8,\n",
    "    \"num_prop\": tune.grid_search([4, 16, 32, 64, 128]),\n",
    "    \"teleport\": 0, # tune.grid_search([0, 0.1, 0.2]),\n",
    "    \"dropout\": 0, # tune.grid_search([0, 0.1, 0.2]),\n",
    "    \n",
    "    # optimizer\n",
    "    \"lr\": tune.grid_search([1e-3, 1e-4, 1e-5]),\n",
    "    \"wd\": 0,\n",
    "}"
   ]
  },
  {
   "cell_type": "code",
   "execution_count": 71,
   "id": "5116af65",
   "metadata": {},
   "outputs": [
    {
     "data": {
      "text/html": [
       "<div class=\"tuneStatus\">\n",
       "  <div style=\"display: flex;flex-direction: row\">\n",
       "    <div style=\"display: flex;flex-direction: column;\">\n",
       "      <h3>Tune Status</h3>\n",
       "      <table>\n",
       "<tbody>\n",
       "<tr><td>Current time:</td><td>2023-04-23 11:48:36</td></tr>\n",
       "<tr><td>Running for: </td><td>00:05:13.79        </td></tr>\n",
       "<tr><td>Memory:      </td><td>15.1/16.0 GiB      </td></tr>\n",
       "</tbody>\n",
       "</table>\n",
       "    </div>\n",
       "    <div class=\"vDivider\"></div>\n",
       "    <div class=\"systemInfo\">\n",
       "      <h3>System Info</h3>\n",
       "      Using FIFO scheduling algorithm.<br>Resources requested: 0/8 CPUs, 0/0 GPUs, 0.0/10.92 GiB heap, 0.0/2.0 GiB objects\n",
       "    </div>\n",
       "    <div class=\"vDivider\"></div>\n",
       "<div class=\"messages\">\n",
       "  <h3>Messages</h3>\n",
       "  : ***LOW MEMORY*** less than 10% of the memory on this node is available for use. This can cause unexpected crashes. Consider reducing the memory used by your application or reducing the Ray object store size by setting `object_store_memory` when calling `ray.init`.\n",
       "  \n",
       "  \n",
       "</div>\n",
       "<style>\n",
       ".messages {\n",
       "  color: var(--jp-ui-font-color1);\n",
       "  display: flex;\n",
       "  flex-direction: column;\n",
       "  padding-left: 1em;\n",
       "  overflow-y: auto;\n",
       "}\n",
       ".messages h3 {\n",
       "  font-weight: bold;\n",
       "}\n",
       ".vDivider {\n",
       "  border-left-width: var(--jp-border-width);\n",
       "  border-left-color: var(--jp-border-color0);\n",
       "  border-left-style: solid;\n",
       "  margin: 0.5em 1em 0.5em 1em;\n",
       "}\n",
       "</style>\n",
       "\n",
       "  </div>\n",
       "  <div class=\"hDivider\"></div>\n",
       "  <div class=\"trialStatus\">\n",
       "    <h3>Trial Status</h3>\n",
       "    <table>\n",
       "<thead>\n",
       "<tr><th>Trial name                </th><th>status    </th><th>loc           </th><th style=\"text-align: right;\">  scaling</th><th style=\"text-align: right;\">  num_prop</th><th style=\"text-align: right;\">    lr</th><th style=\"text-align: right;\">  trn_auc</th><th style=\"text-align: right;\">  val_auc</th><th style=\"text-align: right;\">  max_val_auc</th><th style=\"text-align: right;\">   training_iterat\n",
       "ion</th></tr>\n",
       "</thead>\n",
       "<tbody>\n",
       "<tr><td>VGNAE_0.001_0_4982a_00000 </td><td>TERMINATED</td><td>127.0.0.1:8887</td><td style=\"text-align: right;\">      1.8</td><td style=\"text-align: right;\">         4</td><td style=\"text-align: right;\">0.001 </td><td style=\"text-align: right;\"> 0.941873</td><td style=\"text-align: right;\"> 0.817512</td><td style=\"text-align: right;\">     0.825806</td><td style=\"text-align: right;\">50</td></tr>\n",
       "<tr><td>VGNAE_0.0001_0_4982a_00001</td><td>TERMINATED</td><td>127.0.0.1:8903</td><td style=\"text-align: right;\">      1.8</td><td style=\"text-align: right;\">         4</td><td style=\"text-align: right;\">0.0001</td><td style=\"text-align: right;\"> 0.693582</td><td style=\"text-align: right;\"> 0.661751</td><td style=\"text-align: right;\">     0.661751</td><td style=\"text-align: right;\">50</td></tr>\n",
       "<tr><td>VGNAE_1e-05_0_4982a_00002 </td><td>TERMINATED</td><td>127.0.0.1:8887</td><td style=\"text-align: right;\">      1.8</td><td style=\"text-align: right;\">         4</td><td style=\"text-align: right;\">1e-05 </td><td style=\"text-align: right;\"> 0.693319</td><td style=\"text-align: right;\"> 0.661751</td><td style=\"text-align: right;\">     0.661751</td><td style=\"text-align: right;\">50</td></tr>\n",
       "<tr><td>VGNAE_0.001_0_4982a_00003 </td><td>TERMINATED</td><td>127.0.0.1:8903</td><td style=\"text-align: right;\">      1.8</td><td style=\"text-align: right;\">        16</td><td style=\"text-align: right;\">0.001 </td><td style=\"text-align: right;\"> 0.940558</td><td style=\"text-align: right;\"> 0.814747</td><td style=\"text-align: right;\">     0.823963</td><td style=\"text-align: right;\">50</td></tr>\n",
       "<tr><td>VGNAE_0.0001_0_4982a_00004</td><td>TERMINATED</td><td>127.0.0.1:8887</td><td style=\"text-align: right;\">      1.8</td><td style=\"text-align: right;\">        16</td><td style=\"text-align: right;\">0.0001</td><td style=\"text-align: right;\"> 0.705155</td><td style=\"text-align: right;\"> 0.658525</td><td style=\"text-align: right;\">     0.658986</td><td style=\"text-align: right;\">50</td></tr>\n",
       "<tr><td>VGNAE_1e-05_0_4982a_00005 </td><td>TERMINATED</td><td>127.0.0.1:8903</td><td style=\"text-align: right;\">      1.8</td><td style=\"text-align: right;\">        16</td><td style=\"text-align: right;\">1e-05 </td><td style=\"text-align: right;\"> 0.705155</td><td style=\"text-align: right;\"> 0.654839</td><td style=\"text-align: right;\">     0.6553  </td><td style=\"text-align: right;\">50</td></tr>\n",
       "<tr><td>VGNAE_0.001_0_4982a_00006 </td><td>TERMINATED</td><td>127.0.0.1:8887</td><td style=\"text-align: right;\">      1.8</td><td style=\"text-align: right;\">        32</td><td style=\"text-align: right;\">0.001 </td><td style=\"text-align: right;\"> 0.941084</td><td style=\"text-align: right;\"> 0.814747</td><td style=\"text-align: right;\">     0.819355</td><td style=\"text-align: right;\">50</td></tr>\n",
       "<tr><td>VGNAE_0.0001_0_4982a_00007</td><td>TERMINATED</td><td>127.0.0.1:8903</td><td style=\"text-align: right;\">      1.8</td><td style=\"text-align: right;\">        32</td><td style=\"text-align: right;\">0.0001</td><td style=\"text-align: right;\"> 0.705155</td><td style=\"text-align: right;\"> 0.659908</td><td style=\"text-align: right;\">     0.659908</td><td style=\"text-align: right;\">50</td></tr>\n",
       "<tr><td>VGNAE_1e-05_0_4982a_00008 </td><td>TERMINATED</td><td>127.0.0.1:8887</td><td style=\"text-align: right;\">      1.8</td><td style=\"text-align: right;\">        32</td><td style=\"text-align: right;\">1e-05 </td><td style=\"text-align: right;\"> 0.705024</td><td style=\"text-align: right;\"> 0.657604</td><td style=\"text-align: right;\">     0.657604</td><td style=\"text-align: right;\">50</td></tr>\n",
       "<tr><td>VGNAE_0.001_0_4982a_00009 </td><td>TERMINATED</td><td>127.0.0.1:8903</td><td style=\"text-align: right;\">      1.8</td><td style=\"text-align: right;\">        64</td><td style=\"text-align: right;\">0.001 </td><td style=\"text-align: right;\"> 0.94161 </td><td style=\"text-align: right;\"> 0.813825</td><td style=\"text-align: right;\">     0.818433</td><td style=\"text-align: right;\">50</td></tr>\n",
       "<tr><td>VGNAE_0.0001_0_4982a_00010</td><td>TERMINATED</td><td>127.0.0.1:8887</td><td style=\"text-align: right;\">      1.8</td><td style=\"text-align: right;\">        64</td><td style=\"text-align: right;\">0.0001</td><td style=\"text-align: right;\"> 0.705155</td><td style=\"text-align: right;\"> 0.659908</td><td style=\"text-align: right;\">     0.660369</td><td style=\"text-align: right;\">50</td></tr>\n",
       "<tr><td>VGNAE_1e-05_0_4982a_00011 </td><td>TERMINATED</td><td>127.0.0.1:8903</td><td style=\"text-align: right;\">      1.8</td><td style=\"text-align: right;\">        64</td><td style=\"text-align: right;\">1e-05 </td><td style=\"text-align: right;\"> 0.705155</td><td style=\"text-align: right;\"> 0.657604</td><td style=\"text-align: right;\">     0.657604</td><td style=\"text-align: right;\">50</td></tr>\n",
       "<tr><td>VGNAE_0.001_0_4982a_00012 </td><td>TERMINATED</td><td>127.0.0.1:8887</td><td style=\"text-align: right;\">      1.8</td><td style=\"text-align: right;\">       128</td><td style=\"text-align: right;\">0.001 </td><td style=\"text-align: right;\"> 0.94161 </td><td style=\"text-align: right;\"> 0.813825</td><td style=\"text-align: right;\">     0.818433</td><td style=\"text-align: right;\">50</td></tr>\n",
       "<tr><td>VGNAE_0.0001_0_4982a_00013</td><td>TERMINATED</td><td>127.0.0.1:8903</td><td style=\"text-align: right;\">      1.8</td><td style=\"text-align: right;\">       128</td><td style=\"text-align: right;\">0.0001</td><td style=\"text-align: right;\"> 0.705155</td><td style=\"text-align: right;\"> 0.659908</td><td style=\"text-align: right;\">     0.660369</td><td style=\"text-align: right;\">50</td></tr>\n",
       "<tr><td>VGNAE_1e-05_0_4982a_00014 </td><td>TERMINATED</td><td>127.0.0.1:8887</td><td style=\"text-align: right;\">      1.8</td><td style=\"text-align: right;\">       128</td><td style=\"text-align: right;\">1e-05 </td><td style=\"text-align: right;\"> 0.705155</td><td style=\"text-align: right;\"> 0.657604</td><td style=\"text-align: right;\">     0.657604</td><td style=\"text-align: right;\">50</td></tr>\n",
       "</tbody>\n",
       "</table>\n",
       "  </div>\n",
       "</div>\n",
       "<style>\n",
       ".tuneStatus {\n",
       "  color: var(--jp-ui-font-color1);\n",
       "}\n",
       ".tuneStatus .systemInfo {\n",
       "  display: flex;\n",
       "  flex-direction: column;\n",
       "}\n",
       ".tuneStatus td {\n",
       "  white-space: nowrap;\n",
       "}\n",
       ".tuneStatus .trialStatus {\n",
       "  display: flex;\n",
       "  flex-direction: column;\n",
       "}\n",
       ".tuneStatus h3 {\n",
       "  font-weight: bold;\n",
       "}\n",
       ".tuneStatus .hDivider {\n",
       "  border-bottom-width: var(--jp-border-width);\n",
       "  border-bottom-color: var(--jp-border-color0);\n",
       "  border-bottom-style: solid;\n",
       "}\n",
       ".tuneStatus .vDivider {\n",
       "  border-left-width: var(--jp-border-width);\n",
       "  border-left-color: var(--jp-border-color0);\n",
       "  border-left-style: solid;\n",
       "  margin: 0.5em 1em 0.5em 1em;\n",
       "}\n",
       "</style>\n"
      ],
      "text/plain": [
       "<IPython.core.display.HTML object>"
      ]
     },
     "metadata": {},
     "output_type": "display_data"
    },
    {
     "name": "stderr",
     "output_type": "stream",
     "text": [
      "2023-04-23 11:43:21,824\tINFO worker.py:1553 -- Started a local Ray instance.\n",
      "2023-04-23 11:48:36,496\tINFO tune.py:798 -- Total run time: 313.82 seconds (304.79 seconds for the tuning loop).\n"
     ]
    }
   ],
   "source": [
    "# how many trials to run (if grid_search utilized, it will run this number per grid_search value)\n",
    "num_samples = 1\n",
    "\n",
    "# run experiment\n",
    "result_grid = autoenc.run_ray_experiment(\n",
    "    autoenc.train_validate, config, ray_path, num_samples,\n",
    "    metric_columns = [\"trn_auc\", \"val_auc\", \"max_val_auc\", \"training_iteration\"],\n",
    "    parameter_columns = [\"scaling\", \"num_prop\", \"lr\"]\n",
    ")"
   ]
  },
  {
   "cell_type": "markdown",
   "id": "c419b918",
   "metadata": {},
   "source": [
    "#### 3.2 Result of Hyperparameter tuning"
   ]
  },
  {
   "cell_type": "code",
   "execution_count": 7,
   "id": "0e9db923",
   "metadata": {},
   "outputs": [
    {
     "name": "stderr",
     "output_type": "stream",
     "text": [
      "The trainable will be overwritten - this should be done with caution: it's possible to supply an incompatible trainable, and there are no guarantees that the resumed experiment will continue successfully. If you encounter errors during training, ensure that you are passing in the same trainable that was passed into the initial `Tuner` object.\n"
     ]
    },
    {
     "name": "stdout",
     "output_type": "stream",
     "text": [
      "Loading results from ray_results/train_validate_2023-04-23_11-43-18...\n",
      "Done!\n",
      "\n",
      "No errors! Number of terminated trials: 15\n"
     ]
    }
   ],
   "source": [
    "restored_tuner, result_grid = autoenc.open_validate_ray_experiment(\n",
    "    \"ray_results/train_validate_2023-04-23_11-43-18\",\n",
    "    autoenc.train_validate\n",
    ")"
   ]
  },
  {
   "cell_type": "code",
   "execution_count": 8,
   "id": "31297470",
   "metadata": {},
   "outputs": [
    {
     "data": {
      "text/html": [
       "<div>\n",
       "<style scoped>\n",
       "    .dataframe tbody tr th:only-of-type {\n",
       "        vertical-align: middle;\n",
       "    }\n",
       "\n",
       "    .dataframe tbody tr th {\n",
       "        vertical-align: top;\n",
       "    }\n",
       "\n",
       "    .dataframe thead th {\n",
       "        text-align: right;\n",
       "    }\n",
       "</style>\n",
       "<table border=\"1\" class=\"dataframe\">\n",
       "  <thead>\n",
       "    <tr style=\"text-align: right;\">\n",
       "      <th></th>\n",
       "      <th>trial_id</th>\n",
       "      <th>training_iteration</th>\n",
       "      <th>config/enc_channels</th>\n",
       "      <th>config/scaling</th>\n",
       "      <th>config/num_prop</th>\n",
       "      <th>config/lr</th>\n",
       "      <th>config/wd</th>\n",
       "      <th>trn_loss</th>\n",
       "      <th>val_loss</th>\n",
       "      <th>trn_auc</th>\n",
       "      <th>val_auc</th>\n",
       "    </tr>\n",
       "  </thead>\n",
       "  <tbody>\n",
       "    <tr>\n",
       "      <th>0</th>\n",
       "      <td>4982a_00000</td>\n",
       "      <td>42</td>\n",
       "      <td>64</td>\n",
       "      <td>1.8</td>\n",
       "      <td>4</td>\n",
       "      <td>0.00100</td>\n",
       "      <td>0</td>\n",
       "      <td>5.112204</td>\n",
       "      <td>1.409582</td>\n",
       "      <td>0.948185</td>\n",
       "      <td>0.825806</td>\n",
       "    </tr>\n",
       "    <tr>\n",
       "      <th>3</th>\n",
       "      <td>4982a_00003</td>\n",
       "      <td>41</td>\n",
       "      <td>64</td>\n",
       "      <td>1.8</td>\n",
       "      <td>16</td>\n",
       "      <td>0.00100</td>\n",
       "      <td>0</td>\n",
       "      <td>5.324944</td>\n",
       "      <td>1.422033</td>\n",
       "      <td>0.950026</td>\n",
       "      <td>0.823963</td>\n",
       "    </tr>\n",
       "    <tr>\n",
       "      <th>6</th>\n",
       "      <td>4982a_00006</td>\n",
       "      <td>47</td>\n",
       "      <td>64</td>\n",
       "      <td>1.8</td>\n",
       "      <td>32</td>\n",
       "      <td>0.00100</td>\n",
       "      <td>0</td>\n",
       "      <td>5.056614</td>\n",
       "      <td>1.652868</td>\n",
       "      <td>0.940163</td>\n",
       "      <td>0.819355</td>\n",
       "    </tr>\n",
       "    <tr>\n",
       "      <th>9</th>\n",
       "      <td>4982a_00009</td>\n",
       "      <td>48</td>\n",
       "      <td>64</td>\n",
       "      <td>1.8</td>\n",
       "      <td>64</td>\n",
       "      <td>0.00100</td>\n",
       "      <td>0</td>\n",
       "      <td>4.720571</td>\n",
       "      <td>1.399702</td>\n",
       "      <td>0.944503</td>\n",
       "      <td>0.818433</td>\n",
       "    </tr>\n",
       "    <tr>\n",
       "      <th>12</th>\n",
       "      <td>4982a_00012</td>\n",
       "      <td>48</td>\n",
       "      <td>64</td>\n",
       "      <td>1.8</td>\n",
       "      <td>128</td>\n",
       "      <td>0.00100</td>\n",
       "      <td>0</td>\n",
       "      <td>4.720572</td>\n",
       "      <td>1.399701</td>\n",
       "      <td>0.944503</td>\n",
       "      <td>0.818433</td>\n",
       "    </tr>\n",
       "    <tr>\n",
       "      <th>1</th>\n",
       "      <td>4982a_00001</td>\n",
       "      <td>1</td>\n",
       "      <td>64</td>\n",
       "      <td>1.8</td>\n",
       "      <td>4</td>\n",
       "      <td>0.00010</td>\n",
       "      <td>0</td>\n",
       "      <td>9.989462</td>\n",
       "      <td>6.556673</td>\n",
       "      <td>0.693056</td>\n",
       "      <td>0.661751</td>\n",
       "    </tr>\n",
       "    <tr>\n",
       "      <th>2</th>\n",
       "      <td>4982a_00002</td>\n",
       "      <td>1</td>\n",
       "      <td>64</td>\n",
       "      <td>1.8</td>\n",
       "      <td>4</td>\n",
       "      <td>0.00001</td>\n",
       "      <td>0</td>\n",
       "      <td>9.989462</td>\n",
       "      <td>6.556799</td>\n",
       "      <td>0.693056</td>\n",
       "      <td>0.661751</td>\n",
       "    </tr>\n",
       "    <tr>\n",
       "      <th>10</th>\n",
       "      <td>4982a_00010</td>\n",
       "      <td>35</td>\n",
       "      <td>64</td>\n",
       "      <td>1.8</td>\n",
       "      <td>64</td>\n",
       "      <td>0.00010</td>\n",
       "      <td>0</td>\n",
       "      <td>10.118744</td>\n",
       "      <td>7.350160</td>\n",
       "      <td>0.705155</td>\n",
       "      <td>0.660369</td>\n",
       "    </tr>\n",
       "    <tr>\n",
       "      <th>13</th>\n",
       "      <td>4982a_00013</td>\n",
       "      <td>35</td>\n",
       "      <td>64</td>\n",
       "      <td>1.8</td>\n",
       "      <td>128</td>\n",
       "      <td>0.00010</td>\n",
       "      <td>0</td>\n",
       "      <td>10.118744</td>\n",
       "      <td>7.350160</td>\n",
       "      <td>0.705155</td>\n",
       "      <td>0.660369</td>\n",
       "    </tr>\n",
       "    <tr>\n",
       "      <th>7</th>\n",
       "      <td>4982a_00007</td>\n",
       "      <td>35</td>\n",
       "      <td>64</td>\n",
       "      <td>1.8</td>\n",
       "      <td>32</td>\n",
       "      <td>0.00010</td>\n",
       "      <td>0</td>\n",
       "      <td>10.118716</td>\n",
       "      <td>7.350062</td>\n",
       "      <td>0.705024</td>\n",
       "      <td>0.659908</td>\n",
       "    </tr>\n",
       "  </tbody>\n",
       "</table>\n",
       "</div>"
      ],
      "text/plain": [
       "       trial_id  training_iteration  config/enc_channels  config/scaling  \\\n",
       "0   4982a_00000                  42                   64             1.8   \n",
       "3   4982a_00003                  41                   64             1.8   \n",
       "6   4982a_00006                  47                   64             1.8   \n",
       "9   4982a_00009                  48                   64             1.8   \n",
       "12  4982a_00012                  48                   64             1.8   \n",
       "1   4982a_00001                   1                   64             1.8   \n",
       "2   4982a_00002                   1                   64             1.8   \n",
       "10  4982a_00010                  35                   64             1.8   \n",
       "13  4982a_00013                  35                   64             1.8   \n",
       "7   4982a_00007                  35                   64             1.8   \n",
       "\n",
       "    config/num_prop  config/lr  config/wd   trn_loss  val_loss   trn_auc  \\\n",
       "0                 4    0.00100          0   5.112204  1.409582  0.948185   \n",
       "3                16    0.00100          0   5.324944  1.422033  0.950026   \n",
       "6                32    0.00100          0   5.056614  1.652868  0.940163   \n",
       "9                64    0.00100          0   4.720571  1.399702  0.944503   \n",
       "12              128    0.00100          0   4.720572  1.399701  0.944503   \n",
       "1                 4    0.00010          0   9.989462  6.556673  0.693056   \n",
       "2                 4    0.00001          0   9.989462  6.556799  0.693056   \n",
       "10               64    0.00010          0  10.118744  7.350160  0.705155   \n",
       "13              128    0.00010          0  10.118744  7.350160  0.705155   \n",
       "7                32    0.00010          0  10.118716  7.350062  0.705024   \n",
       "\n",
       "     val_auc  \n",
       "0   0.825806  \n",
       "3   0.823963  \n",
       "6   0.819355  \n",
       "9   0.818433  \n",
       "12  0.818433  \n",
       "1   0.661751  \n",
       "2   0.661751  \n",
       "10  0.660369  \n",
       "13  0.660369  \n",
       "7   0.659908  "
      ]
     },
     "execution_count": 8,
     "metadata": {},
     "output_type": "execute_result"
    }
   ],
   "source": [
    "# get best score per trial (highest validation accuracy)\n",
    "N = 10\n",
    "best_result_df = result_grid.get_dataframe(\n",
    "    filter_metric=\"val_auc\", filter_mode=\"max\"\n",
    ")\n",
    "best_result_df = best_result_df[[\"trial_id\", \"training_iteration\", \"config/enc_channels\",\n",
    "                                 \"config/scaling\", \"config/num_prop\", \"config/lr\", \"config/wd\", \n",
    "                                 \"trn_loss\", \"val_loss\", \"trn_auc\", \"val_auc\"]]\n",
    "best_result_df = best_result_df.sort_values(by=[\"val_auc\"], ascending = False)\n",
    "\n",
    "if len(result_grid) > N:\n",
    "    best_result_df = best_result_df.head(N)\n",
    "\n",
    "best_result_df"
   ]
  },
  {
   "cell_type": "markdown",
   "id": "155cb789",
   "metadata": {},
   "source": [
    "#### 3.3 Embeddings based on best model"
   ]
  },
  {
   "cell_type": "code",
   "execution_count": 9,
   "id": "60a3d4eb",
   "metadata": {},
   "outputs": [
    {
     "data": {
      "text/plain": [
       "<All keys matched successfully>"
      ]
     },
     "execution_count": 9,
     "metadata": {},
     "output_type": "execute_result"
    }
   ],
   "source": [
    "# load best autoencoder\n",
    "path = os.path.abspath(\"\")+\"/models/VGNAE_0.001_0_4982a_00000_autoencoder.pt\"\n",
    "#path = \"models/autoencoder.pt\"\n",
    "model = VGAE(autoenc.Encoder(data.x.size()[1], 64, 1.5, 4, 0, 0))\n",
    "model.load_state_dict(torch.load(path, map_location=torch.device('cpu')))"
   ]
  },
  {
   "cell_type": "code",
   "execution_count": 10,
   "id": "9a83b802",
   "metadata": {},
   "outputs": [],
   "source": [
    "# get embeddings of nodes\n",
    "embedding = autoenc.get_embeddings(model, data.x, data.train_pos_edges)"
   ]
  },
  {
   "cell_type": "code",
   "execution_count": 9,
   "id": "12aae6b8",
   "metadata": {},
   "outputs": [
    {
     "data": {
      "text/plain": [
       "Text(0.5, 1.0, 'VGNAE projection (first 2 dim) of nodes')"
      ]
     },
     "execution_count": 9,
     "metadata": {},
     "output_type": "execute_result"
    },
    {
     "data": {
      "image/png": "[encoded data removed]",
      "text/plain": [
       "<Figure size 640x480 with 1 Axes>"
      ]
     },
     "metadata": {},
     "output_type": "display_data"
    }
   ],
   "source": [
    "# plot embedding\n",
    "plt.scatter(\n",
    "    embedding[:, 0],\n",
    "    embedding[:, 1])\n",
    "plt.gca().set_aspect('equal', 'datalim')\n",
    "plt.title('VGNAE projection (first 2 dim) of nodes')"
   ]
  },
  {
   "cell_type": "markdown",
   "id": "564340ea",
   "metadata": {},
   "source": [
    "Embeddings look like a sphere, we cannot do any meaningful clusering based on this.\n",
    "\n",
    "Let us now take our original VGNAE embeddings and put them into a pandas dataframe."
   ]
  },
  {
   "cell_type": "code",
   "execution_count": 11,
   "id": "7b823a53",
   "metadata": {},
   "outputs": [
    {
     "data": {
      "text/html": [
       "<div>\n",
       "<style scoped>\n",
       "    .dataframe tbody tr th:only-of-type {\n",
       "        vertical-align: middle;\n",
       "    }\n",
       "\n",
       "    .dataframe tbody tr th {\n",
       "        vertical-align: top;\n",
       "    }\n",
       "\n",
       "    .dataframe thead th {\n",
       "        text-align: right;\n",
       "    }\n",
       "</style>\n",
       "<table border=\"1\" class=\"dataframe\">\n",
       "  <thead>\n",
       "    <tr style=\"text-align: right;\">\n",
       "      <th></th>\n",
       "      <th>x1</th>\n",
       "      <th>x2</th>\n",
       "      <th>x3</th>\n",
       "      <th>x4</th>\n",
       "      <th>x5</th>\n",
       "      <th>x6</th>\n",
       "      <th>x7</th>\n",
       "      <th>x8</th>\n",
       "      <th>x9</th>\n",
       "      <th>x10</th>\n",
       "      <th>...</th>\n",
       "      <th>x55</th>\n",
       "      <th>x56</th>\n",
       "      <th>x57</th>\n",
       "      <th>x58</th>\n",
       "      <th>x59</th>\n",
       "      <th>x60</th>\n",
       "      <th>x61</th>\n",
       "      <th>x62</th>\n",
       "      <th>x63</th>\n",
       "      <th>x64</th>\n",
       "    </tr>\n",
       "  </thead>\n",
       "  <tbody>\n",
       "    <tr>\n",
       "      <th>0</th>\n",
       "      <td>-3.684275</td>\n",
       "      <td>-0.390357</td>\n",
       "      <td>0.237805</td>\n",
       "      <td>0.209263</td>\n",
       "      <td>-2.688622</td>\n",
       "      <td>1.715455</td>\n",
       "      <td>0.157440</td>\n",
       "      <td>-1.164599</td>\n",
       "      <td>0.740111</td>\n",
       "      <td>1.644186</td>\n",
       "      <td>...</td>\n",
       "      <td>2.678218</td>\n",
       "      <td>0.147141</td>\n",
       "      <td>-0.038281</td>\n",
       "      <td>0.944320</td>\n",
       "      <td>1.120950</td>\n",
       "      <td>1.255034</td>\n",
       "      <td>0.630997</td>\n",
       "      <td>0.527155</td>\n",
       "      <td>0.938439</td>\n",
       "      <td>1.019192</td>\n",
       "    </tr>\n",
       "    <tr>\n",
       "      <th>1</th>\n",
       "      <td>0.076166</td>\n",
       "      <td>0.059767</td>\n",
       "      <td>-0.158318</td>\n",
       "      <td>1.560888</td>\n",
       "      <td>-0.779525</td>\n",
       "      <td>0.459892</td>\n",
       "      <td>-1.365662</td>\n",
       "      <td>-1.616168</td>\n",
       "      <td>1.599544</td>\n",
       "      <td>0.756552</td>\n",
       "      <td>...</td>\n",
       "      <td>0.675042</td>\n",
       "      <td>2.356966</td>\n",
       "      <td>-0.613631</td>\n",
       "      <td>-0.864583</td>\n",
       "      <td>-1.070872</td>\n",
       "      <td>1.835952</td>\n",
       "      <td>-0.655934</td>\n",
       "      <td>0.432972</td>\n",
       "      <td>-0.595092</td>\n",
       "      <td>0.073825</td>\n",
       "    </tr>\n",
       "    <tr>\n",
       "      <th>2</th>\n",
       "      <td>0.016309</td>\n",
       "      <td>-1.601884</td>\n",
       "      <td>-1.015967</td>\n",
       "      <td>-0.013191</td>\n",
       "      <td>0.025150</td>\n",
       "      <td>-0.096930</td>\n",
       "      <td>-1.238217</td>\n",
       "      <td>1.269993</td>\n",
       "      <td>0.306996</td>\n",
       "      <td>0.877427</td>\n",
       "      <td>...</td>\n",
       "      <td>0.374527</td>\n",
       "      <td>0.503274</td>\n",
       "      <td>0.763981</td>\n",
       "      <td>0.420565</td>\n",
       "      <td>-0.547777</td>\n",
       "      <td>-0.540523</td>\n",
       "      <td>-1.041417</td>\n",
       "      <td>0.607648</td>\n",
       "      <td>-0.313490</td>\n",
       "      <td>0.588755</td>\n",
       "    </tr>\n",
       "    <tr>\n",
       "      <th>3</th>\n",
       "      <td>-0.996869</td>\n",
       "      <td>1.402517</td>\n",
       "      <td>-0.117586</td>\n",
       "      <td>-1.049351</td>\n",
       "      <td>1.347452</td>\n",
       "      <td>0.536408</td>\n",
       "      <td>-0.939439</td>\n",
       "      <td>-0.248995</td>\n",
       "      <td>0.621460</td>\n",
       "      <td>-1.194430</td>\n",
       "      <td>...</td>\n",
       "      <td>-1.092296</td>\n",
       "      <td>1.169123</td>\n",
       "      <td>-0.524217</td>\n",
       "      <td>0.474001</td>\n",
       "      <td>-0.244564</td>\n",
       "      <td>0.700645</td>\n",
       "      <td>-0.383142</td>\n",
       "      <td>0.054964</td>\n",
       "      <td>-0.938457</td>\n",
       "      <td>-0.800617</td>\n",
       "    </tr>\n",
       "    <tr>\n",
       "      <th>4</th>\n",
       "      <td>-0.152564</td>\n",
       "      <td>1.851592</td>\n",
       "      <td>-0.066182</td>\n",
       "      <td>0.126207</td>\n",
       "      <td>-1.368770</td>\n",
       "      <td>-0.680547</td>\n",
       "      <td>-0.465178</td>\n",
       "      <td>0.202172</td>\n",
       "      <td>1.067745</td>\n",
       "      <td>-0.409701</td>\n",
       "      <td>...</td>\n",
       "      <td>-1.671829</td>\n",
       "      <td>-1.925438</td>\n",
       "      <td>-0.351617</td>\n",
       "      <td>-1.931622</td>\n",
       "      <td>-0.568960</td>\n",
       "      <td>-0.977190</td>\n",
       "      <td>1.366243</td>\n",
       "      <td>-0.574887</td>\n",
       "      <td>-1.348064</td>\n",
       "      <td>0.546838</td>\n",
       "    </tr>\n",
       "    <tr>\n",
       "      <th>...</th>\n",
       "      <td>...</td>\n",
       "      <td>...</td>\n",
       "      <td>...</td>\n",
       "      <td>...</td>\n",
       "      <td>...</td>\n",
       "      <td>...</td>\n",
       "      <td>...</td>\n",
       "      <td>...</td>\n",
       "      <td>...</td>\n",
       "      <td>...</td>\n",
       "      <td>...</td>\n",
       "      <td>...</td>\n",
       "      <td>...</td>\n",
       "      <td>...</td>\n",
       "      <td>...</td>\n",
       "      <td>...</td>\n",
       "      <td>...</td>\n",
       "      <td>...</td>\n",
       "      <td>...</td>\n",
       "      <td>...</td>\n",
       "      <td>...</td>\n",
       "    </tr>\n",
       "    <tr>\n",
       "      <th>2703</th>\n",
       "      <td>-1.109346</td>\n",
       "      <td>0.644377</td>\n",
       "      <td>0.226566</td>\n",
       "      <td>-0.011676</td>\n",
       "      <td>-1.283839</td>\n",
       "      <td>-0.525929</td>\n",
       "      <td>-0.609605</td>\n",
       "      <td>-0.715837</td>\n",
       "      <td>-0.126207</td>\n",
       "      <td>-0.490885</td>\n",
       "      <td>...</td>\n",
       "      <td>0.402016</td>\n",
       "      <td>-0.294379</td>\n",
       "      <td>0.899832</td>\n",
       "      <td>0.336490</td>\n",
       "      <td>-0.559672</td>\n",
       "      <td>-0.600342</td>\n",
       "      <td>0.426627</td>\n",
       "      <td>0.063296</td>\n",
       "      <td>-0.521862</td>\n",
       "      <td>-0.537074</td>\n",
       "    </tr>\n",
       "    <tr>\n",
       "      <th>2704</th>\n",
       "      <td>-1.768423</td>\n",
       "      <td>0.071195</td>\n",
       "      <td>0.804665</td>\n",
       "      <td>-1.066419</td>\n",
       "      <td>0.549519</td>\n",
       "      <td>0.682866</td>\n",
       "      <td>-0.814682</td>\n",
       "      <td>-0.332563</td>\n",
       "      <td>0.599705</td>\n",
       "      <td>-2.039960</td>\n",
       "      <td>...</td>\n",
       "      <td>-0.637028</td>\n",
       "      <td>1.057103</td>\n",
       "      <td>-2.716740</td>\n",
       "      <td>0.012818</td>\n",
       "      <td>0.512498</td>\n",
       "      <td>1.166921</td>\n",
       "      <td>1.045631</td>\n",
       "      <td>0.903237</td>\n",
       "      <td>-0.131845</td>\n",
       "      <td>0.148735</td>\n",
       "    </tr>\n",
       "    <tr>\n",
       "      <th>2705</th>\n",
       "      <td>0.805491</td>\n",
       "      <td>-0.556973</td>\n",
       "      <td>-1.524812</td>\n",
       "      <td>0.073882</td>\n",
       "      <td>0.762265</td>\n",
       "      <td>0.500933</td>\n",
       "      <td>-0.180233</td>\n",
       "      <td>-0.324490</td>\n",
       "      <td>-2.614210</td>\n",
       "      <td>0.935786</td>\n",
       "      <td>...</td>\n",
       "      <td>-0.235378</td>\n",
       "      <td>0.608946</td>\n",
       "      <td>-1.922821</td>\n",
       "      <td>1.902627</td>\n",
       "      <td>-0.235011</td>\n",
       "      <td>-0.451802</td>\n",
       "      <td>1.036322</td>\n",
       "      <td>-0.909788</td>\n",
       "      <td>-0.141663</td>\n",
       "      <td>0.122146</td>\n",
       "    </tr>\n",
       "    <tr>\n",
       "      <th>2706</th>\n",
       "      <td>-0.562343</td>\n",
       "      <td>-0.553863</td>\n",
       "      <td>-0.021034</td>\n",
       "      <td>-0.451886</td>\n",
       "      <td>0.146741</td>\n",
       "      <td>0.207373</td>\n",
       "      <td>-0.279290</td>\n",
       "      <td>-0.572414</td>\n",
       "      <td>-2.052212</td>\n",
       "      <td>0.851796</td>\n",
       "      <td>...</td>\n",
       "      <td>0.124907</td>\n",
       "      <td>0.417274</td>\n",
       "      <td>-0.008573</td>\n",
       "      <td>2.370115</td>\n",
       "      <td>-2.127948</td>\n",
       "      <td>0.400919</td>\n",
       "      <td>0.346230</td>\n",
       "      <td>-2.188555</td>\n",
       "      <td>-0.548438</td>\n",
       "      <td>0.574697</td>\n",
       "    </tr>\n",
       "    <tr>\n",
       "      <th>2707</th>\n",
       "      <td>0.072053</td>\n",
       "      <td>-0.159620</td>\n",
       "      <td>0.046967</td>\n",
       "      <td>1.534095</td>\n",
       "      <td>0.764205</td>\n",
       "      <td>0.681826</td>\n",
       "      <td>-0.395789</td>\n",
       "      <td>-0.991066</td>\n",
       "      <td>-1.154369</td>\n",
       "      <td>-0.831662</td>\n",
       "      <td>...</td>\n",
       "      <td>-1.034901</td>\n",
       "      <td>-0.760243</td>\n",
       "      <td>0.012510</td>\n",
       "      <td>-0.843459</td>\n",
       "      <td>-1.355325</td>\n",
       "      <td>-1.316593</td>\n",
       "      <td>-0.464428</td>\n",
       "      <td>-1.064415</td>\n",
       "      <td>-0.576087</td>\n",
       "      <td>-0.261905</td>\n",
       "    </tr>\n",
       "  </tbody>\n",
       "</table>\n",
       "<p>2708 rows × 64 columns</p>\n",
       "</div>"
      ],
      "text/plain": [
       "            x1        x2        x3        x4        x5        x6        x7  \\\n",
       "0    -3.684275 -0.390357  0.237805  0.209263 -2.688622  1.715455  0.157440   \n",
       "1     0.076166  0.059767 -0.158318  1.560888 -0.779525  0.459892 -1.365662   \n",
       "2     0.016309 -1.601884 -1.015967 -0.013191  0.025150 -0.096930 -1.238217   \n",
       "3    -0.996869  1.402517 -0.117586 -1.049351  1.347452  0.536408 -0.939439   \n",
       "4    -0.152564  1.851592 -0.066182  0.126207 -1.368770 -0.680547 -0.465178   \n",
       "...        ...       ...       ...       ...       ...       ...       ...   \n",
       "2703 -1.109346  0.644377  0.226566 -0.011676 -1.283839 -0.525929 -0.609605   \n",
       "2704 -1.768423  0.071195  0.804665 -1.066419  0.549519  0.682866 -0.814682   \n",
       "2705  0.805491 -0.556973 -1.524812  0.073882  0.762265  0.500933 -0.180233   \n",
       "2706 -0.562343 -0.553863 -0.021034 -0.451886  0.146741  0.207373 -0.279290   \n",
       "2707  0.072053 -0.159620  0.046967  1.534095  0.764205  0.681826 -0.395789   \n",
       "\n",
       "            x8        x9       x10  ...       x55       x56       x57  \\\n",
       "0    -1.164599  0.740111  1.644186  ...  2.678218  0.147141 -0.038281   \n",
       "1    -1.616168  1.599544  0.756552  ...  0.675042  2.356966 -0.613631   \n",
       "2     1.269993  0.306996  0.877427  ...  0.374527  0.503274  0.763981   \n",
       "3    -0.248995  0.621460 -1.194430  ... -1.092296  1.169123 -0.524217   \n",
       "4     0.202172  1.067745 -0.409701  ... -1.671829 -1.925438 -0.351617   \n",
       "...        ...       ...       ...  ...       ...       ...       ...   \n",
       "2703 -0.715837 -0.126207 -0.490885  ...  0.402016 -0.294379  0.899832   \n",
       "2704 -0.332563  0.599705 -2.039960  ... -0.637028  1.057103 -2.716740   \n",
       "2705 -0.324490 -2.614210  0.935786  ... -0.235378  0.608946 -1.922821   \n",
       "2706 -0.572414 -2.052212  0.851796  ...  0.124907  0.417274 -0.008573   \n",
       "2707 -0.991066 -1.154369 -0.831662  ... -1.034901 -0.760243  0.012510   \n",
       "\n",
       "           x58       x59       x60       x61       x62       x63       x64  \n",
       "0     0.944320  1.120950  1.255034  0.630997  0.527155  0.938439  1.019192  \n",
       "1    -0.864583 -1.070872  1.835952 -0.655934  0.432972 -0.595092  0.073825  \n",
       "2     0.420565 -0.547777 -0.540523 -1.041417  0.607648 -0.313490  0.588755  \n",
       "3     0.474001 -0.244564  0.700645 -0.383142  0.054964 -0.938457 -0.800617  \n",
       "4    -1.931622 -0.568960 -0.977190  1.366243 -0.574887 -1.348064  0.546838  \n",
       "...        ...       ...       ...       ...       ...       ...       ...  \n",
       "2703  0.336490 -0.559672 -0.600342  0.426627  0.063296 -0.521862 -0.537074  \n",
       "2704  0.012818  0.512498  1.166921  1.045631  0.903237 -0.131845  0.148735  \n",
       "2705  1.902627 -0.235011 -0.451802  1.036322 -0.909788 -0.141663  0.122146  \n",
       "2706  2.370115 -2.127948  0.400919  0.346230 -2.188555 -0.548438  0.574697  \n",
       "2707 -0.843459 -1.355325 -1.316593 -0.464428 -1.064415 -0.576087 -0.261905  \n",
       "\n",
       "[2708 rows x 64 columns]"
      ]
     },
     "execution_count": 11,
     "metadata": {},
     "output_type": "execute_result"
    }
   ],
   "source": [
    "node_emb = pd.DataFrame(embedding).rename(columns = {val: f\"x{val+1}\" for val in range(embedding.shape[1])})\n",
    "\n",
    "node_emb"
   ]
  },
  {
   "cell_type": "markdown",
   "id": "64dcbb71",
   "metadata": {},
   "source": [
    "#### 3.4 Compute edge features based on best model"
   ]
  },
  {
   "cell_type": "code",
   "execution_count": 12,
   "id": "4f6dc822",
   "metadata": {},
   "outputs": [
    {
     "name": "stdout",
     "output_type": "stream",
     "text": [
      "ROC:  0.9764215364930167\n",
      "Acc:  0.948185165702262\n"
     ]
    }
   ],
   "source": [
    "# predict train\n",
    "y_train_hat = pd.DataFrame(autoenc.get_similarity(model, data.x, data.train_pos_edges, data.train_edges))\n",
    "\n",
    "y_train_hat = (y_train_hat\n",
    "    .rename(columns = {0: \"sim\"})\n",
    "    .assign(y = trainval_tf.loc[trainval_tf.train_mask == True].y.values)\n",
    "    .assign(pred = lambda df_: (df_.sim > df_.sim.median()).astype(int))\n",
    ")\n",
    "\n",
    "print(\"ROC: \", roc_auc_score(y_train_hat.y, y_train_hat.sim))\n",
    "print(\"Acc: \", accuracy_score(y_train_hat.y, y_train_hat.pred))"
   ]
  },
  {
   "cell_type": "code",
   "execution_count": 11,
   "id": "e245cbd7",
   "metadata": {},
   "outputs": [
    {
     "data": {
      "text/plain": [
       "Text(0, 0.5, 'y')"
      ]
     },
     "execution_count": 11,
     "metadata": {},
     "output_type": "execute_result"
    },
    {
     "data": {
      "image/png": "[encoded data removed]",
      "text/plain": [
       "<Figure size 640x480 with 1 Axes>"
      ]
     },
     "metadata": {},
     "output_type": "display_data"
    }
   ],
   "source": [
    "import matplotlib.pyplot as plt\n",
    "\n",
    "fig, ax = plt.subplots()\n",
    "ax.scatter(y_train_hat.loc[y_train_hat['y'] == 0, 'sim'], y_train_hat.loc[y_train_hat['y'] == 0, 'y'], label='0')\n",
    "ax.scatter(y_train_hat.loc[y_train_hat['y'] == 1, 'sim'], y_train_hat.loc[y_train_hat['y'] == 1, 'y'], label='1')\n",
    "ax.legend()\n",
    "plt.xlabel('sim')\n",
    "plt.ylabel('y')"
   ]
  },
  {
   "cell_type": "code",
   "execution_count": 12,
   "id": "31eab61f",
   "metadata": {},
   "outputs": [
    {
     "data": {
      "text/plain": [
       "<seaborn.axisgrid.PairGrid at 0x1e283ad1040>"
      ]
     },
     "execution_count": 12,
     "metadata": {},
     "output_type": "execute_result"
    },
    {
     "data": {
      "image/png": "[encoded data removed]",
      "text/plain": [
       "<Figure size 263.764x250 with 2 Axes>"
      ]
     },
     "metadata": {},
     "output_type": "display_data"
    }
   ],
   "source": [
    "y_train_hat_clean = y_train_hat[[\"sim\", \"y\"]].apply(pd.to_numeric, errors='coerce').dropna()\n",
    "sns.pairplot(y_train_hat_clean[[\"sim\", \"y\"]], hue = \"y\")"
   ]
  },
  {
   "cell_type": "code",
   "execution_count": 14,
   "id": "bc2a3c26",
   "metadata": {
    "scrolled": true
   },
   "outputs": [
    {
     "name": "stdout",
     "output_type": "stream",
     "text": [
      "2170\n",
      "1084\n",
      "ROC validation:  0.889936503217312\n",
      "Acc validation:  0.8258064516129032\n",
      "ROC test:  0.8855135414822782\n",
      "Acc test:  0.8191881918819188\n"
     ]
    }
   ],
   "source": [
    "# predict val\n",
    "y_val_hat = pd.DataFrame(autoenc.get_similarity(model, data.x, data.train_pos_edges, data.val_edges))\n",
    "print(len(y_val_hat))\n",
    "y_val_hat = (y_val_hat\n",
    "    .rename(columns = {0: \"sim\"})\n",
    "    .assign(y = trainval_tf.loc[trainval_tf.val_mask == True].y.values)\n",
    "    .assign(pred = lambda df_: (df_.sim > df_.sim.median()).astype(int))\n",
    ")\n",
    "\n",
    "y_test_hat = pd.DataFrame(autoenc.get_similarity(model, data.x, data.train_pos_edges, data.test_edges))\n",
    "print(len(y_test_hat))\n",
    "y_test_hat = (y_test_hat\n",
    "    .rename(columns = {0: \"sim\"})\n",
    "    .assign(y = test_tf.y.values)\n",
    "    .assign(pred = lambda df_: (df_.sim > df_.sim.median()).astype(int))\n",
    ")\n",
    "\n",
    "print(\"ROC validation: \", roc_auc_score(y_val_hat.y, y_val_hat.sim))\n",
    "print(\"Acc validation: \", accuracy_score(y_val_hat.y, y_val_hat.pred))\n",
    "print(\"ROC test: \", roc_auc_score(y_test_hat.y, y_test_hat.sim))\n",
    "print(\"Acc test: \", accuracy_score(y_test_hat.y, y_test_hat.pred))"
   ]
  },
  {
   "cell_type": "code",
   "execution_count": 16,
   "id": "4f8461a8",
   "metadata": {},
   "outputs": [],
   "source": [
    "tmp = (val_tf\n",
    "    .assign(sim  = y_val_hat.pred.values)\n",
    "    .assign(dist = lambda df_: [np.linalg.norm(node_emb.loc[u].values-node_emb.loc[v].values) for u, v in zip(df_.source, df_.target)])\n",
    ")"
   ]
  },
  {
   "cell_type": "code",
   "execution_count": 17,
   "id": "ca8db459",
   "metadata": {},
   "outputs": [
    {
     "data": {
      "text/plain": [
       "<seaborn.axisgrid.PairGrid at 0x1e287443b50>"
      ]
     },
     "execution_count": 17,
     "metadata": {},
     "output_type": "execute_result"
    },
    {
     "data": {
      "image/png": "[encoded data removed]",
      "text/plain": [
       "<Figure size 547.125x500 with 6 Axes>"
      ]
     },
     "metadata": {},
     "output_type": "display_data"
    }
   ],
   "source": [
    "sns.pairplot(tmp[[\"sim\", \"dist\", \"y\"]], hue = \"y\")"
   ]
  },
  {
   "cell_type": "code",
   "execution_count": 123,
   "id": "4efe1fbc",
   "metadata": {},
   "outputs": [
    {
     "data": {
      "text/html": [
       "<div>\n",
       "<style scoped>\n",
       "    .dataframe tbody tr th:only-of-type {\n",
       "        vertical-align: middle;\n",
       "    }\n",
       "\n",
       "    .dataframe tbody tr th {\n",
       "        vertical-align: top;\n",
       "    }\n",
       "\n",
       "    .dataframe thead th {\n",
       "        text-align: right;\n",
       "    }\n",
       "</style>\n",
       "<table border=\"1\" class=\"dataframe\">\n",
       "  <thead>\n",
       "    <tr style=\"text-align: right;\">\n",
       "      <th></th>\n",
       "      <th>target</th>\n",
       "      <th>source</th>\n",
       "      <th>y</th>\n",
       "      <th>sim</th>\n",
       "      <th>dist</th>\n",
       "    </tr>\n",
       "  </thead>\n",
       "  <tbody>\n",
       "    <tr>\n",
       "      <th>target</th>\n",
       "      <td>1.000000</td>\n",
       "      <td>0.320768</td>\n",
       "      <td>-0.493566</td>\n",
       "      <td>-0.420214</td>\n",
       "      <td>-0.256462</td>\n",
       "    </tr>\n",
       "    <tr>\n",
       "      <th>source</th>\n",
       "      <td>0.320768</td>\n",
       "      <td>1.000000</td>\n",
       "      <td>-0.487168</td>\n",
       "      <td>-0.398406</td>\n",
       "      <td>-0.012116</td>\n",
       "    </tr>\n",
       "    <tr>\n",
       "      <th>y</th>\n",
       "      <td>-0.493566</td>\n",
       "      <td>-0.487168</td>\n",
       "      <td>1.000000</td>\n",
       "      <td>0.651613</td>\n",
       "      <td>0.011700</td>\n",
       "    </tr>\n",
       "    <tr>\n",
       "      <th>sim</th>\n",
       "      <td>-0.420214</td>\n",
       "      <td>-0.398406</td>\n",
       "      <td>0.651613</td>\n",
       "      <td>1.000000</td>\n",
       "      <td>-0.026005</td>\n",
       "    </tr>\n",
       "    <tr>\n",
       "      <th>dist</th>\n",
       "      <td>-0.256462</td>\n",
       "      <td>-0.012116</td>\n",
       "      <td>0.011700</td>\n",
       "      <td>-0.026005</td>\n",
       "      <td>1.000000</td>\n",
       "    </tr>\n",
       "  </tbody>\n",
       "</table>\n",
       "</div>"
      ],
      "text/plain": [
       "          target    source         y       sim      dist\n",
       "target  1.000000  0.320768 -0.493566 -0.420214 -0.256462\n",
       "source  0.320768  1.000000 -0.487168 -0.398406 -0.012116\n",
       "y      -0.493566 -0.487168  1.000000  0.651613  0.011700\n",
       "sim    -0.420214 -0.398406  0.651613  1.000000 -0.026005\n",
       "dist   -0.256462 -0.012116  0.011700 -0.026005  1.000000"
      ]
     },
     "execution_count": 123,
     "metadata": {},
     "output_type": "execute_result"
    }
   ],
   "source": [
    "tmp[['target', 'source', 'y', 'sim', 'dist']].corr()"
   ]
  }
 ],
 "metadata": {
  "kernelspec": {
   "display_name": "base",
   "language": "python",
   "name": "python3"
  },
  "language_info": {
   "codemirror_mode": {
    "name": "ipython",
    "version": 3
   },
   "file_extension": ".py",
   "mimetype": "text/x-python",
   "name": "python",
   "nbconvert_exporter": "python",
   "pygments_lexer": "ipython3",
   "version": "3.9.7"
  },
  "vscode": {
   "interpreter": {
    "hash": "d8d474ac3dda8cca25779a238a24b15f76253abfd987b2ce967e8fcaa1f0ce32"
   }
  }
 },
 "nbformat": 4,
 "nbformat_minor": 5
}
