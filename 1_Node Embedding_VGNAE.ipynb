{
 "cells": [
  {
   "cell_type": "markdown",
   "id": "ca3f9796",
   "metadata": {},
   "source": [
    "# Machine Learning in Network Science\n",
    "Group Challenge\n",
    "\n",
    "***\n",
    "by: Leonardo Basili, Paul Bédier, Lasse Schmidt\n",
    "\n",
    "within: MS Data Sciences & Business Analytics\n",
    "\n",
    "at: CentraleSupélec & ESSEC Business School\n",
    "***"
   ]
  },
  {
   "cell_type": "markdown",
   "id": "3a46be5a",
   "metadata": {},
   "source": [
    "This notebook covers deep learning techniques, namely:\n",
    "- Variational Graph Normalized Auto-Encoders (based on https://arxiv.org/abs/2108.08046) which allow us to learn graph embeddings in an unsupervised way (based on graph structure and node embeddings)"
   ]
  },
  {
   "cell_type": "markdown",
   "id": "54f241a1",
   "metadata": {},
   "source": [
    "### 1. Import Packages"
   ]
  },
  {
   "cell_type": "code",
   "execution_count": 181,
   "id": "98e82605",
   "metadata": {},
   "outputs": [
    {
     "data": {
      "text/plain": [
       "<module 'util.autoencoder' from '/Users/macbookpro/Desktop/LABS/Network-Science_Final-Project/util/autoencoder.py'>"
      ]
     },
     "execution_count": 181,
     "metadata": {},
     "output_type": "execute_result"
    }
   ],
   "source": [
    "from importlib import reload\n",
    "reload(analyseData)\n",
    "reload(loadData)\n",
    "reload(modeling)\n",
    "reload(autoenc)"
   ]
  },
  {
   "cell_type": "code",
   "execution_count": 3,
   "id": "a3ffae4f",
   "metadata": {},
   "outputs": [],
   "source": [
    "# import own scripts\n",
    "import util.analyse_Data as analyseData\n",
    "#import util.preprocess_Data as prepData\n",
    "import util.load_Data as loadData\n",
    "import util.modeling as modeling\n",
    "import util.autoencoder as autoenc"
   ]
  },
  {
   "cell_type": "code",
   "execution_count": 6,
   "id": "d7c6ba33",
   "metadata": {},
   "outputs": [],
   "source": [
    "# parse & handle data\n",
    "import os\n",
    "import numpy as np\n",
    "import pandas as pd\n",
    "\n",
    "# modeling\n",
    "import torch\n",
    "from torch_geometric.nn import GAE, VGAE\n",
    "\n",
    "# hyperparam optimization\n",
    "from ray import tune, air\n",
    "\n",
    "# evaluation\n",
    "from sklearn.metrics import accuracy_score, roc_auc_score, classification_report, confusion_matrix, ConfusionMatrixDisplay\n",
    "\n",
    "\n",
    "# visualization\n",
    "import matplotlib.pyplot as plt\n",
    "import seaborn as sns"
   ]
  },
  {
   "cell_type": "code",
   "execution_count": 6,
   "id": "6adf7a6b",
   "metadata": {},
   "outputs": [
    {
     "name": "stdout",
     "output_type": "stream",
     "text": [
      "{0, 1, 2, 3, 4, 5, 6, 7, 8, 9, 10, 11, 12, 13, 14, 15, 16, 17, 18, 19, 20, 21, 22, 23, 24, 25, 26, 27, 28, 29, 30, 31, 32, 33, 34, 35, 36, 37, 38, 39, 40, 41, 42, 43, 44, 45, 46, 47, 48, 49, 50, 51, 52, 53, 54, 55, 56, 57, 58, 59, 60, 61, 62, 63, 64, 65, 66, 67, 68, 69, 70, 71, 72, 73, 74, 75, 76, 77, 78, 79, 80, 81, 82, 83, 84, 85, 86, 87, 88, 89, 90, 91, 92, 93, 94, 95, 96, 97, 98, 99, 100, 101, 102, 103, 104, 105, 106, 107, 108, 109, 110, 111, 112, 113, 114, 115, 116, 117, 118, 119, 120, 121, 122, 123, 124, 125, 126, 127, 128, 129, 130, 131, 132, 133, 134, 135, 136, 137, 138, 139, 140, 141, 142, 143, 144, 145, 146, 147, 148, 149, 150, 151, 152, 153, 154, 155, 156, 157, 158, 159, 160, 161, 162, 163, 164, 165, 166, 167, 168, 169, 170, 171, 172, 173, 174, 175, 176, 177, 178, 179, 180, 181, 182, 183, 184, 185, 186, 187, 188, 189, 190, 191, 192, 193, 194, 195, 196, 197, 198, 199, 200, 201, 202, 203, 204, 205, 206, 207, 208, 209, 210, 211, 212, 213, 214, 215, 216, 217, 218, 219, 220, 221, 222, 223, 224, 225, 226, 227, 228, 229, 230, 231, 232, 233, 234, 235, 236, 237, 238, 239, 240, 241, 242, 243, 244, 245, 246, 247, 248, 249, 250, 251, 252, 253, 254, 255, 256, 257, 258, 259, 260, 261, 262, 263, 264, 265, 266, 267, 268, 269, 270, 271, 272, 273, 274, 275, 276, 277, 278, 279, 280, 281, 282, 283, 284, 285, 286, 287, 288, 289, 290, 291, 292, 293, 294, 295, 296, 297, 298, 299, 300, 301, 302, 303, 304, 305, 306, 307, 308, 309, 310, 311, 312, 313, 314, 315, 316, 317, 318, 319, 320, 321, 322, 323, 324, 325, 326, 327, 328, 329, 330, 331, 332, 333, 334, 335, 336, 337, 338, 339, 340, 341, 342, 343, 344, 345, 346, 347, 348, 349, 350, 351, 352, 353, 354, 355, 356, 357, 358, 359, 360, 361, 362, 363, 364, 365, 366, 367, 368, 369, 370, 371, 372, 373, 374, 375, 376, 377, 378, 379, 380, 381, 382, 383, 384, 385, 386, 387, 388, 389, 390, 391, 392, 393, 394, 395, 396, 397, 398, 399, 400, 401, 402, 403, 404, 405, 406, 407, 408, 409, 410, 411, 412, 413, 414, 415, 416, 417, 418, 419, 420, 421, 422, 423, 424, 425, 426, 427, 428, 429, 430, 431, 432, 433, 434, 435, 436, 437, 438, 439, 440, 441, 442, 443, 444, 445, 446, 447, 448, 449, 450, 451, 452, 453, 454, 455, 456, 457, 458, 459, 460, 461, 462, 463, 464, 465, 466, 467, 468, 469, 470, 471, 472, 473, 474, 475, 476, 477, 478, 479, 480, 481, 482, 483, 484, 485, 486, 487, 488, 489, 490, 491, 492, 493, 494, 495, 496, 497, 498, 499, 500, 501, 502, 503, 504, 505, 506, 507, 508, 509, 510, 511, 512, 513, 514, 515, 516, 517, 518, 519, 520, 521, 522, 523, 524, 525, 526, 527, 528, 529, 530, 531, 532, 533, 534, 535, 536, 537, 538, 539, 540, 541, 542, 543, 544, 545, 546, 547, 548, 549, 550, 551, 552, 553, 554, 555, 556, 557, 558, 559, 560, 561, 562, 563, 564, 565, 566, 567, 568, 569, 570, 571, 572, 573, 574, 575, 576, 577, 578, 579, 580, 581, 582, 583, 584, 585, 586, 587, 588, 589, 590, 591, 592, 593, 594, 595, 596, 597, 598, 599, 600, 601, 602, 603, 604, 605, 606, 607, 608, 609, 610, 611, 612, 613, 614, 615, 616, 617, 618, 619, 620, 621, 622, 623, 624, 625, 626, 627, 628, 629, 630, 631, 632, 633, 634, 635, 636, 637, 638, 639, 640, 641, 642, 643, 644, 645, 646, 647, 648, 649, 650, 651, 652, 653, 654, 655, 656, 657, 658, 659, 660, 661, 662, 663, 664, 665, 666, 667, 668, 669, 670, 671, 672, 673, 674, 675, 676, 677, 678, 679, 680, 681, 682, 683, 684, 685, 686, 687, 688, 689, 690, 691, 692, 693, 694, 695, 696, 697, 698, 699, 700, 701, 702, 703, 704, 705, 706, 707, 708, 709, 710, 711, 712, 713, 714, 715, 716, 717, 718, 719, 720, 721, 722, 723, 724, 725, 726, 727, 728, 729, 730, 731, 732, 733, 734, 735, 736, 737, 738, 739, 740, 741, 742, 743, 744, 745, 746, 747, 748, 749, 750, 751, 752, 753, 754, 755, 756, 757, 758, 759, 760, 761, 762, 763, 764, 765, 766, 767, 768, 769, 770, 771, 772, 773, 774, 775, 776, 777, 778, 779, 780, 781, 782, 783, 784, 785, 786, 787, 788, 789, 790, 791, 792, 793, 794, 795, 796, 797, 798, 799, 800, 801, 802, 803, 804, 805, 806, 807, 808, 809, 810, 811, 812, 813, 814, 815, 816, 817, 818, 819, 820, 821, 822, 823, 824, 825, 826, 827, 828, 829, 830, 831, 832, 833, 834, 835, 836, 837, 838, 839, 840, 841, 842, 843, 844, 845, 846, 847, 848, 849, 850, 851, 852, 853, 854, 855, 856, 857, 858, 859, 860, 861, 862, 863, 864, 865, 866, 867, 868, 869, 870, 871, 872, 873, 874, 875, 876, 877, 878, 879, 880, 881, 882, 883, 884, 885, 886, 887, 888, 889, 890, 891, 892, 893, 894, 895, 896, 897, 898, 899, 900, 901, 902, 903, 904, 905, 906, 907, 908, 909, 910, 911, 912, 913, 914, 915, 916, 917, 918, 919, 920, 921, 922, 923, 924, 925, 926, 927, 928, 929, 930, 931, 932, 933, 934, 935, 936, 937, 938, 939, 940, 941, 942, 943, 944, 945, 946, 947, 948, 949, 950, 951, 952, 953, 954, 955, 956, 957, 958, 959, 960, 961, 962, 963, 964, 965, 966, 967, 968, 969, 970, 971, 972, 973, 974, 975, 976, 977, 978, 979, 980, 981, 982, 983, 984, 985, 986, 987, 988, 989, 990, 991, 992, 993, 994, 995, 996, 997, 998, 999, 1000, 1001, 1002, 1003, 1004, 1005, 1006, 1007, 1008, 1009, 1010, 1011, 1012, 1013, 1014, 1015, 1016, 1017, 1018, 1019, 1020, 1021, 1022, 1023, 1024, 1025, 1026, 1027, 1028, 1029, 1030, 1031, 1032, 1033, 1034, 1035, 1036, 1037, 1038, 1039, 1040, 1041, 1042, 1043, 1044, 1045, 1046, 1047, 1048, 1049, 1050, 1051, 1052, 1053, 1054, 1055, 1056, 1057, 1058, 1059, 1060, 1061, 1062, 1063, 1064, 1065, 1066, 1067, 1068, 1069, 1070, 1071, 1072, 1073, 1074, 1075, 1076, 1077, 1078, 1079, 1080, 1081, 1082, 1083, 1084, 1085, 1086, 1087, 1088, 1089, 1090, 1091, 1092, 1093, 1094, 1095, 1096, 1097, 1098, 1099, 1100, 1101, 1102, 1103, 1104, 1105, 1106, 1107, 1108, 1109, 1110, 1111, 1112, 1113, 1114, 1115, 1116, 1117, 1118, 1119, 1120, 1121, 1122, 1123, 1124, 1125, 1126, 1127, 1128, 1129, 1130, 1131, 1132, 1133, 1134, 1135, 1136, 1137, 1138, 1139, 1140, 1141, 1142, 1143, 1144, 1145, 1146, 1147, 1148, 1149, 1150, 1151, 1152, 1153, 1154, 1155, 1156, 1157, 1158, 1159, 1160, 1161, 1162, 1163, 1164, 1165, 1166, 1167, 1168, 1169, 1170, 1171, 1172, 1173, 1174, 1175, 1176, 1177, 1178, 1179, 1180, 1181, 1182, 1183, 1184, 1185, 1186, 1187, 1188, 1189, 1190, 1191, 1192, 1193, 1194, 1195, 1196, 1197, 1198, 1199, 1200, 1201, 1202, 1203, 1204, 1205, 1206, 1207, 1208, 1209, 1210, 1211, 1212, 1213, 1214, 1215, 1216, 1217, 1218, 1219, 1220, 1221, 1222, 1223, 1224, 1225, 1226, 1227, 1228, 1229, 1230, 1231, 1232, 1233, 1234, 1235, 1236, 1237, 1238, 1239, 1240, 1241, 1242, 1243, 1244, 1245, 1246, 1247, 1248, 1249, 1250, 1251, 1252, 1253, 1254, 1255, 1256, 1257, 1258, 1259, 1260, 1261, 1262, 1263, 1264, 1265, 1266, 1267, 1268, 1269, 1270, 1271, 1272, 1273, 1274, 1275, 1276, 1277, 1278, 1279, 1280, 1281, 1282, 1283, 1284, 1285, 1286, 1287, 1288, 1289, 1290, 1291, 1292, 1293, 1294, 1295, 1296, 1297, 1298, 1299, 1300, 1301, 1302, 1303, 1304, 1305, 1306, 1307, 1308, 1309, 1310, 1311, 1312, 1313, 1314, 1315, 1316, 1317, 1318, 1319, 1320, 1321, 1322, 1323, 1324, 1325, 1326, 1327, 1328, 1329, 1330, 1331, 1332, 1333, 1334, 1335, 1336, 1337, 1338, 1339, 1340, 1341, 1342, 1343, 1344, 1345, 1346, 1347, 1348, 1349, 1350, 1351, 1352, 1353, 1354, 1355, 1356, 1357, 1358, 1359, 1360, 1361, 1362, 1363, 1364, 1365, 1366, 1367, 1368, 1369, 1370, 1371, 1372, 1373, 1374, 1375, 1376, 1377, 1378, 1379, 1380, 1381, 1382, 1383, 1384, 1385, 1386, 1387, 1388, 1389, 1390, 1391, 1392, 1393, 1394, 1395, 1396, 1397, 1398, 1399, 1400, 1401, 1402, 1403, 1404, 1405, 1406, 1407, 1408, 1409, 1410, 1411, 1412, 1413, 1414, 1415, 1416, 1417, 1418, 1419, 1420, 1421, 1422, 1423, 1424, 1425, 1426, 1427, 1428, 1429, 1430, 1431, 1432, 1433, 1434, 1435, 1436, 1437, 1438, 1439, 1440, 1441, 1442, 1443, 1444, 1445, 1446, 1447, 1448, 1449, 1450, 1451, 1452, 1453, 1454, 1455, 1456, 1457, 1458, 1459, 1460, 1461, 1462, 1463, 1464, 1465, 1466, 1467, 1468, 1469, 1470, 1471, 1472, 1473, 1474, 1475, 1476, 1477, 1478, 1479, 1480, 1481, 1482, 1483, 1484, 1485, 1486, 1487, 1488, 1489, 1490, 1491, 1492, 1493, 1494, 1495, 1496, 1497, 1498, 1499, 1500, 1501, 1502, 1503, 1504, 1505, 1506, 1507, 1508, 1509, 1510, 1511, 1512, 1513, 1514, 1515, 1516, 1517, 1518, 1519, 1520, 1521, 1522, 1523, 1524, 1525, 1526, 1527, 1528, 1529, 1530, 1531, 1532, 1533, 1534, 1535, 1536, 1537, 1538, 1539, 1540, 1541, 1542, 1543, 1544, 1545, 1546, 1547, 1548, 1549, 1550, 1551, 1552, 1553, 1554, 1555, 1556, 1557, 1558, 1559, 1560, 1561, 1562, 1563, 1564, 1565, 1566, 1567, 1568, 1569, 1570, 1571, 1572, 1573, 1574, 1575, 1576, 1577, 1578, 1579, 1580, 1581, 1582, 1583, 1584, 1585, 1586, 1587, 1588, 1589, 1590, 1591, 1592, 1593, 1594, 1595, 1596, 1597, 1598, 1599, 1600, 1601, 1602, 1603, 1604, 1605, 1606, 1607, 1608, 1609, 1610, 1611, 1612, 1613, 1614, 1615, 1616, 1617, 1618, 1619, 1620, 1621, 1622, 1623, 1624, 1625, 1626, 1627, 1628, 1629, 1630, 1631, 1632, 1633, 1634, 1635, 1636, 1637, 1638, 1639, 1640, 1641, 1642, 1643, 1644, 1645, 1646, 1647, 1648, 1649, 1650, 1651, 1652, 1653, 1654, 1655, 1656, 1657, 1658, 1659, 1660, 1661, 1662, 1663, 1664, 1665, 1666, 1667, 1668, 1669, 1670, 1671, 1672, 1673, 1674, 1675, 1676, 1677, 1678, 1679, 1680, 1681, 1682, 1683, 1684, 1685, 1686, 1687, 1688, 1689, 1690, 1691, 1692, 1693, 1694, 1695, 1696, 1697, 1698, 1699, 1700, 1701, 1702, 1703, 1704, 1705, 1706, 1707, 1708, 1709, 1710, 1711, 1712, 1713, 1714, 1715, 1716, 1717, 1718, 1719, 1720, 1721, 1722, 1723, 1724, 1725, 1726, 1727, 1728, 1729, 1730, 1731, 1732, 1733, 1734, 1735, 1736, 1737, 1738, 1739, 1740, 1741, 1742, 1743, 1744, 1745, 1746, 1747, 1748, 1749, 1750, 1751, 1752, 1753, 1754, 1755, 1756, 1757, 1758, 1759, 1760, 1761, 1762, 1763, 1764, 1765, 1766, 1767, 1768, 1769, 1770, 1771, 1772, 1773, 1774, 1775, 1776, 1777, 1778, 1779, 1780, 1781, 1782, 1783, 1784, 1785, 1786, 1787, 1788, 1789, 1790, 1791, 1792, 1793, 1794, 1795, 1796, 1797, 1798, 1799, 1800, 1801, 1802, 1803, 1804, 1805, 1806, 1807, 1808, 1809, 1810, 1811, 1812, 1813, 1814, 1815, 1816, 1817, 1818, 1819, 1820, 1821, 1822, 1823, 1824, 1825, 1826, 1827, 1828, 1829, 1830, 1831, 1832, 1833, 1834, 1835, 1836, 1837, 1838, 1839, 1840, 1841, 1842, 1843, 1844, 1845, 1846, 1847, 1848, 1849, 1850, 1851, 1852, 1853, 1854, 1855, 1856, 1857, 1858, 1859, 1860, 1861, 1862, 1863, 1864, 1865, 1866, 1867, 1868, 1869, 1870, 1871, 1872, 1873, 1874, 1875, 1876, 1877, 1878, 1879, 1880, 1881, 1882, 1883, 1884, 1885, 1886, 1887, 1888, 1889, 1890, 1891, 1892, 1893, 1894, 1895, 1896, 1897, 1898, 1899, 1900, 1901, 1902, 1903, 1904, 1905, 1906, 1907, 1908, 1909, 1910, 1911, 1912, 1913, 1914, 1915, 1916, 1917, 1918, 1919, 1920, 1921, 1922, 1923, 1924, 1925, 1926, 1927, 1928, 1929, 1930, 1931, 1932, 1933, 1934, 1935, 1936, 1937, 1938, 1939, 1940, 1941, 1942, 1943, 1944, 1945, 1946, 1947, 1948, 1949, 1950, 1951, 1952, 1953, 1954, 1955, 1956, 1957, 1958, 1959, 1960, 1961, 1962, 1963, 1964, 1965, 1966, 1967, 1968, 1969, 1970, 1971, 1972, 1973, 1974, 1975, 1976, 1977, 1978, 1979, 1980, 1981, 1982, 1983, 1984, 1985, 1986, 1987, 1988, 1989, 1990, 1991, 1992, 1993, 1994, 1995, 1996, 1997, 1998, 1999, 2000, 2001, 2002, 2003, 2004, 2005, 2006, 2007, 2008, 2009, 2010, 2011, 2012, 2013, 2014, 2015, 2016, 2017, 2018, 2019, 2020, 2021, 2022, 2023, 2024, 2025, 2026, 2027, 2028, 2029, 2030, 2031, 2032, 2033, 2034, 2035, 2036, 2037, 2038, 2039, 2040, 2041, 2042, 2043, 2044, 2045, 2046, 2047, 2048, 2049, 2050, 2051, 2052, 2053, 2054, 2055, 2056, 2057, 2058, 2059, 2060, 2061, 2062, 2063, 2064, 2065, 2066, 2067, 2068, 2069, 2070, 2071, 2072, 2073, 2074, 2075, 2076, 2077, 2078, 2079, 2080, 2081, 2082, 2083, 2084, 2085, 2086, 2087, 2088, 2089, 2090, 2091, 2092, 2093, 2094, 2095, 2096, 2097, 2098, 2099, 2100, 2101, 2102, 2103, 2104, 2105, 2106, 2107, 2108, 2109, 2110, 2111, 2112, 2113, 2114, 2115, 2116, 2117, 2118, 2119, 2120, 2121, 2122, 2123, 2124, 2125, 2126, 2127, 2128, 2129, 2130, 2131, 2132, 2133, 2134, 2135, 2136, 2137, 2138, 2139, 2140, 2141, 2142, 2143, 2144, 2145, 2146, 2147, 2148, 2149, 2150, 2151, 2152, 2153, 2154, 2155, 2156, 2157, 2158, 2159, 2160, 2161, 2162, 2163, 2164, 2165, 2166, 2167, 2168, 2169, 2170, 2171, 2172, 2173, 2174, 2175, 2176, 2177, 2178, 2179, 2180, 2181, 2182, 2183, 2184, 2185, 2186, 2187, 2188, 2189, 2190, 2191, 2192, 2193, 2194, 2195, 2196, 2197, 2198, 2199, 2200, 2201, 2202, 2203, 2204, 2205, 2206, 2207, 2208, 2209, 2210, 2211, 2212, 2213, 2214, 2215, 2216, 2217, 2218, 2219, 2220, 2221, 2222, 2223, 2224, 2225, 2226, 2227, 2228, 2229, 2230, 2231, 2232, 2233, 2234, 2235, 2236, 2237, 2238, 2239, 2240, 2241, 2242, 2243, 2244, 2245, 2246, 2247, 2248, 2249, 2250, 2251, 2252, 2253, 2254, 2255, 2256, 2257, 2258, 2259, 2260, 2261, 2262, 2263, 2264, 2265, 2266, 2267, 2268, 2269, 2270, 2271, 2272, 2273, 2274, 2275, 2276, 2277, 2278, 2279, 2280, 2281, 2282, 2283, 2284, 2285, 2286, 2287, 2288, 2289, 2290, 2291, 2292, 2293, 2294, 2295, 2296, 2297, 2298, 2299, 2300, 2301, 2302, 2303, 2304, 2305, 2306, 2307, 2308, 2309, 2310, 2311, 2312, 2313, 2314, 2315, 2316, 2317, 2318, 2319, 2320, 2321, 2322, 2323, 2324, 2325, 2326, 2327, 2328, 2329, 2330, 2331, 2332, 2333, 2334, 2335, 2336, 2337, 2338, 2339, 2340, 2341, 2342, 2343, 2344, 2345, 2346, 2347, 2348, 2349, 2350, 2351, 2352, 2353, 2354, 2355, 2356, 2357, 2358, 2359, 2360, 2361, 2362, 2363, 2364, 2365, 2366, 2367, 2368, 2369, 2370, 2371, 2372, 2373, 2374, 2375, 2376, 2377, 2378, 2379, 2380, 2381, 2382, 2383, 2384, 2385, 2386, 2387, 2388, 2389, 2390, 2391, 2392, 2393, 2394, 2395, 2396, 2397, 2398, 2399, 2400, 2401, 2402, 2403, 2404, 2405, 2406, 2407, 2408, 2409, 2410, 2411, 2412, 2413, 2414, 2415, 2416, 2417, 2418, 2419, 2420, 2421, 2422, 2423, 2424, 2425, 2426, 2427, 2428, 2429, 2430, 2431, 2432, 2433, 2434, 2435, 2436, 2437, 2438, 2439, 2440, 2441, 2442, 2443, 2444, 2445, 2446, 2447, 2448, 2449, 2450, 2451, 2452, 2453, 2454, 2455, 2456, 2457, 2458, 2459, 2460, 2461, 2462, 2463, 2464, 2465, 2466, 2467, 2468, 2469, 2470, 2471, 2472, 2473, 2474, 2475, 2476, 2477, 2478, 2479, 2480, 2481, 2482, 2483, 2484, 2485, 2486, 2487, 2488, 2489, 2490, 2491, 2492, 2493, 2494, 2495, 2496, 2497, 2498, 2499, 2500, 2501, 2502, 2503, 2504, 2505, 2506, 2507, 2508, 2509, 2510, 2511, 2512, 2513, 2514, 2515, 2516, 2517, 2518, 2519, 2520, 2521, 2522, 2523, 2524, 2525, 2526, 2527, 2528, 2529, 2530, 2531, 2532, 2533, 2534, 2535, 2536, 2537, 2538, 2539, 2540, 2541, 2542, 2543, 2544, 2545, 2546, 2547, 2548, 2549, 2550, 2551, 2552, 2553, 2554, 2555, 2556, 2557, 2558, 2559, 2560, 2561, 2562, 2563, 2564, 2565, 2566, 2567, 2568, 2569, 2570, 2571, 2572, 2573, 2574, 2575, 2576, 2577, 2578, 2579, 2580, 2581, 2582, 2583, 2584, 2585, 2586, 2587, 2588, 2589, 2590, 2591, 2592, 2593, 2594, 2595, 2596, 2597, 2598, 2599, 2600, 2601, 2602, 2603, 2604, 2605, 2606, 2607, 2608, 2609, 2610, 2611, 2612, 2613, 2614, 2615, 2616, 2617, 2618, 2619, 2620, 2621, 2622, 2623, 2624, 2625, 2626, 2627, 2628, 2629, 2630, 2631, 2632, 2633, 2634, 2635, 2636, 2637, 2638, 2639, 2640, 2641, 2642, 2643, 2644, 2645, 2646, 2647, 2648, 2649, 2650, 2651, 2652, 2653, 2654, 2655, 2656, 2657, 2658, 2659, 2660, 2661, 2662, 2663, 2664, 2665, 2666, 2667, 2668, 2669, 2670, 2671, 2672, 2673, 2674, 2675, 2676, 2677, 2678, 2679, 2680, 2681, 2682, 2683, 2684, 2685, 2686, 2687, 2688, 2689, 2690, 2691, 2692, 2693, 2694, 2695, 2696, 2697, 2698, 2699, 2700, 2701, 2702, 2703, 2704, 2705, 2706, 2707}\n"
     ]
    }
   ],
   "source": [
    "# load raw data\n",
    "node_info, edgelist, class_to_idx_dict, idx_to_class_dict = loadData.load_raw()\n",
    "G = loadData.init_nx_graph(edgelist)\n",
    "nodes = set(edgelist.source).union(edgelist.target)\n",
    "print(nodes)"
   ]
  },
  {
   "cell_type": "code",
   "execution_count": 7,
   "id": "c84a352e",
   "metadata": {},
   "outputs": [],
   "source": [
    "# set matplotlib and seaborn settings for nicer plots\n",
    "%matplotlib inline\n",
    "\n",
    "SMALL_SIZE = 6\n",
    "MEDIUM_SIZE = 8\n",
    "BIGGER_SIZE = 10\n",
    "\n",
    "plt.rc('font', size=SMALL_SIZE)          # controls default text sizes\n",
    "plt.rc('axes', titlesize=BIGGER_SIZE)    # fontsize of the axes title\n",
    "plt.rc('axes', labelsize=MEDIUM_SIZE)    # fontsize of the x and y labels\n",
    "plt.rc('xtick', labelsize=SMALL_SIZE)    # fontsize of the tick labels\n",
    "plt.rc('ytick', labelsize=SMALL_SIZE)    # fontsize of the tick labels\n",
    "plt.rc('legend', fontsize=MEDIUM_SIZE)   # legend fontsize\n",
    "plt.rc('figure', titlesize=BIGGER_SIZE)  # fontsize of the figure title"
   ]
  },
  {
   "cell_type": "markdown",
   "id": "74f20e78",
   "metadata": {},
   "source": [
    "### 2. Load Data for Modeling"
   ]
  },
  {
   "cell_type": "code",
   "execution_count": 153,
   "id": "9b6c852e",
   "metadata": {},
   "outputs": [
    {
     "name": "stdout",
     "output_type": "stream",
     "text": [
      "Number of positive edges for training: 3802\n",
      "Number of positive edges for validation: 1085\n",
      "Number of positive edges for test: 542\n",
      "Number of edges in original graph: 5429\n",
      "Number of edges in training graph: 3802\n",
      "Number of non-existing edges generated: 29971\n",
      "Number of negative edges for training: 3802\n",
      "Number of negative edges for validation: 1085\n",
      "Number of negative edges for test: 542\n",
      "3802\n",
      "3802\n"
     ]
    }
   ],
   "source": [
    "reload(loadData)\n",
    "(G, G_train, G_trainval, node_info, train_tf, val_tf, trainval_tf, test_tf) = loadData.load()\n"
   ]
  },
  {
   "cell_type": "code",
   "execution_count": 154,
   "metadata": {},
   "outputs": [
    {
     "name": "stdout",
     "output_type": "stream",
     "text": [
      "sum of train pos edges: 3802\n",
      "sum of train neg edges: 3802\n",
      "sum of val pos edges: 1085\n",
      "sum of val neg edges: 1085\n"
     ]
    }
   ],
   "source": [
    "print(f\"sum of train pos edges: {((trainval_tf['y'] == 1) & (trainval_tf['train_mask'] == 1)).sum()}\")\n",
    "print(f\"sum of train neg edges: {((trainval_tf['y'] == 0) & (trainval_tf['train_mask'] == 1)).sum()}\")\n",
    "print(f\"sum of val pos edges: {((trainval_tf['y'] == 1) & (trainval_tf['val_mask'] == 1)).sum()}\")\n",
    "print(f\"sum of val neg edges: {((trainval_tf['y'] == 0) & (trainval_tf['val_mask'] == 1)).sum()}\")"
   ]
  },
  {
   "cell_type": "code",
   "execution_count": 158,
   "id": "2a7d5835",
   "metadata": {},
   "outputs": [
    {
     "name": "stdout",
     "output_type": "stream",
     "text": [
      "Number of positive edges for training: 3802\n",
      "Number of positive edges for validation: 1085\n",
      "Number of positive edges for test: 542\n",
      "Number of edges in original graph: 5429\n",
      "Number of edges in training graph: 3802\n",
      "Number of non-existing edges generated: 29971\n",
      "Number of negative edges for training: 3802\n",
      "Number of negative edges for validation: 1085\n",
      "Number of negative edges for test: 542\n",
      "sum of train pos edges: 3802\n",
      "sum of train neg edges: 3802\n",
      "sum of val pos edges: 1085\n",
      "sum of val neg edges: 1085\n",
      "sum of train pos edges: 3802\n",
      "sum of train neg edges: 3802\n",
      "sum of val pos edges: 1085\n",
      "sum of val neg edges: 1085\n",
      "Enriching node features...\n"
     ]
    },
    {
     "data": {
      "application/vnd.jupyter.widget-view+json": {
       "model_id": "f7622c4ee7fa4cfda041dddf58c56432",
       "version_major": 2,
       "version_minor": 0
      },
      "text/plain": [
       "Computing transition probabilities:   0%|          | 0/2708 [00:00<?, ?it/s]"
      ]
     },
     "metadata": {},
     "output_type": "display_data"
    },
    {
     "name": "stderr",
     "output_type": "stream",
     "text": [
      "Generating walks (CPU: 1): 100%|██████████| 10/10 [00:00<00:00, 14.00it/s]\n",
      "/Users/macbookpro/Library/Python/3.9/lib/python/site-packages/networkx/algorithms/link_analysis/hits_alg.py:78: FutureWarning: adjacency_matrix will return a scipy.sparse array instead of a matrix in Networkx 3.0.\n",
      "  A = nx.adjacency_matrix(G, nodelist=list(G), dtype=float)\n"
     ]
    },
    {
     "data": {
      "application/vnd.jupyter.widget-view+json": {
       "model_id": "cf66ae0867ad47ec8a4f5f48397ffcf5",
       "version_major": 2,
       "version_minor": 0
      },
      "text/plain": [
       "Computing transition probabilities:   0%|          | 0/2708 [00:00<?, ?it/s]"
      ]
     },
     "metadata": {},
     "output_type": "display_data"
    },
    {
     "name": "stderr",
     "output_type": "stream",
     "text": [
      "Generating walks (CPU: 1): 100%|██████████| 10/10 [00:00<00:00, 10.84it/s]\n"
     ]
    },
    {
     "name": "stdout",
     "output_type": "stream",
     "text": [
      "Create PyTorch Geometric dataset...\n"
     ]
    }
   ],
   "source": [
    "# might take up to a minute\n",
    "reload(loadData)\n",
    "reload(modeling)\n",
    "reload(autoenc)\n",
    "data, (G, G_train, G_trainval, node_info, train_tf, val_tf, trainval_tf, test_tf) = autoenc.load()"
   ]
  },
  {
   "cell_type": "code",
   "execution_count": 141,
   "id": "336a0783",
   "metadata": {},
   "outputs": [
    {
     "name": "stdout",
     "output_type": "stream",
     "text": [
      "False\n",
      "False\n",
      "False\n"
     ]
    }
   ],
   "source": [
    "print(train_tf.index.has_duplicates)\n",
    "print(val_tf.index.has_duplicates)\n",
    "print(trainval_tf.index.has_duplicates)"
   ]
  },
  {
   "cell_type": "code",
   "execution_count": 159,
   "id": "a09fec3e",
   "metadata": {},
   "outputs": [
    {
     "name": "stdout",
     "output_type": "stream",
     "text": [
      "4887\n",
      "4887\n",
      "3802\n",
      "3802\n",
      "1085\n",
      "1085\n",
      "9774\n",
      "sum of train pos edges: 3802\n",
      "sum of train neg edges: 3802\n",
      "sum of val pos edges: 1085\n",
      "sum of val neg edges: 1085\n",
      "duplicates: 0\n",
      "duplicates: 0\n",
      "sum of val pos edges: 4887\n",
      "sum of val edges: 2170\n",
      "sum of train edges: 2170\n",
      "sum of val edges: 7604\n",
      "sum of train edges: 7604\n",
      "train edges: 7604\n",
      "val edges: 2170\n"
     ]
    }
   ],
   "source": [
    "print((trainval_tf['y'] == 1).sum())\n",
    "print((trainval_tf['y'] == 0).sum())\n",
    "print((train_tf['y'] == 1).sum())\n",
    "print((train_tf['y'] == 0).sum())\n",
    "print((val_tf['y'] == 1).sum())\n",
    "print((val_tf['y'] == 0).sum())\n",
    "print(len(trainval_tf))\n",
    "\"\"\"print(f\"sum of train pos edges: {((trainval_tf['y'] == 1) & (trainval_tf['is_train'] == 1)).sum()}\")\n",
    "print(f\"sum of train neg edges: {((trainval_tf['y'] == 0) & (trainval_tf['is_train'] == 1)).sum()}\")\n",
    "print(f\"sum of val pos edges: {((trainval_tf['y'] == 1) & (trainval_tf['is_val'] == 1)).sum()}\")\n",
    "print(f\"sum of val neg edges: {((trainval_tf['y'] == 0) & (trainval_tf['is_val'] == 1)).sum()}\")\"\"\"\n",
    "print(f\"sum of train pos edges: {((trainval_tf['y'] == 1) & (trainval_tf['train_mask'] == 1)).sum()}\")\n",
    "print(f\"sum of train neg edges: {((trainval_tf['y'] == 0) & (trainval_tf['train_mask'] == 1)).sum()}\")\n",
    "print(f\"sum of val pos edges: {((trainval_tf['y'] == 1) & (trainval_tf['val_mask'] == 1)).sum()}\")\n",
    "print(f\"sum of val neg edges: {((trainval_tf['y'] == 0) & (trainval_tf['val_mask'] == 1)).sum()}\")\n",
    "print(f\"duplicates: {((trainval_tf['train_mask'] == 1) & (trainval_tf['val_mask'] == 1)).sum()}\")\n",
    "print(f\"duplicates: {((trainval_tf['train_mask'] == 0) & (trainval_tf['val_mask'] == 0)).sum()}\")\n",
    "print(f\"sum of val pos edges: {(trainval_tf['y'] == 1 & (trainval_tf['val_mask'] == 1)).sum()}\")\n",
    "print(f\"sum of val edges: {((trainval_tf['val_mask'] == 1)).sum()}\")\n",
    "print(f\"sum of train edges: {((trainval_tf['train_mask'] == 0)).sum()}\")\n",
    "print(f\"sum of val edges: {((trainval_tf['val_mask'] == 0)).sum()}\")\n",
    "print(f\"sum of train edges: {((trainval_tf['train_mask'] == 1)).sum()}\")\n",
    "print(f\"train edges: {((trainval_tf['train_mask'] == 1) & (trainval_tf['val_mask'] == 0)).sum()}\")\n",
    "print(f\"val edges: {((trainval_tf['train_mask'] == 0) & (trainval_tf['val_mask'] == 1)).sum()}\")\n"
   ]
  },
  {
   "cell_type": "code",
   "execution_count": 161,
   "id": "e10e0dfe",
   "metadata": {},
   "outputs": [
    {
     "name": "stdout",
     "output_type": "stream",
     "text": [
      "1085\n",
      "1085\n",
      "2170\n",
      "3802\n",
      "3802\n",
      "7604\n"
     ]
    },
    {
     "data": {
      "text/plain": [
       "'Number of positive edges for training: 3802\\nNumber of positive edges for validation: 1085\\nNumber of positive edges for test: 542\\nNumber of edges in original graph: 5429\\nNumber of edges in training graph: 3802\\nNumber of non-existing edges generated: 29971\\nNumber of negative edges for training: 3802\\nNumber of negative edges for validation: 1085\\nNumber of negative edges for test: 542'"
      ]
     },
     "execution_count": 161,
     "metadata": {},
     "output_type": "execute_result"
    }
   ],
   "source": [
    "\n",
    "print(data.val_pos_edges.shape[1])\n",
    "print(data.val_neg_edges.shape[1])\n",
    "print(data.val_edges.shape[1])\n",
    "\n",
    "print(data.train_pos_edges.shape[1])\n",
    "print(data.train_neg_edges.shape[1])\n",
    "print(data.train_edges.shape[1])\n",
    "\"\"\"Number of positive edges for training: 3802\n",
    "Number of positive edges for validation: 1085\n",
    "Number of positive edges for test: 542\n",
    "Number of edges in original graph: 5429\n",
    "Number of edges in training graph: 3802\n",
    "Number of non-existing edges generated: 29971\n",
    "Number of negative edges for training: 3802\n",
    "Number of negative edges for validation: 1085\n",
    "Number of negative edges for test: 542\"\"\""
   ]
  },
  {
   "cell_type": "code",
   "execution_count": 162,
   "id": "3ee7a8e9",
   "metadata": {},
   "outputs": [],
   "source": [
    "# where to save trial results to\n",
    "ray_path = os.path.abspath(\"\")+\"/ray_results\"\n",
    "if not os.path.isdir(ray_path):\n",
    "    os.mkdir(ray_path)"
   ]
  },
  {
   "cell_type": "markdown",
   "id": "345c4898",
   "metadata": {},
   "source": [
    "### 3. VGNAE Node Embeddings\n",
    "\n",
    "https://github.com/SeongJinAhn/VGNAE/blob/main/main.py for Variational Graph Normalized Auto-Encoders"
   ]
  },
  {
   "cell_type": "markdown",
   "id": "372aac42",
   "metadata": {},
   "source": [
    "#### 3.1 Hyperparameter tuning"
   ]
  },
  {
   "cell_type": "code",
   "execution_count": 163,
   "id": "b68c1c9f",
   "metadata": {},
   "outputs": [],
   "source": [
    "# tunable hyperparameter search space --> search using tune.choice([]), tune.uniform(lower, upper), tune.grid_search([])\n",
    "config = {\n",
    "    # log params in raytune\n",
    "    \"ray\": True,\n",
    "    \n",
    "    # print results per epoch\n",
    "    \"verbose\": False,\n",
    "    \n",
    "    # basic infos\n",
    "    \"data\": data,\n",
    "    \"max_epochs\": 50,\n",
    "    \"save\": True, # if we want to save best model on validation set\n",
    "    \n",
    "    # model\n",
    "    \"model\": \"VGNAE\",\n",
    "    \n",
    "    ## encoder\n",
    "    \"enc_channels\": 64,\n",
    "    \"scaling\": 1.8,\n",
    "    \"num_prop\": tune.grid_search([4, 16, 32, 64, 128]),\n",
    "    \"teleport\": 0, # tune.grid_search([0, 0.1, 0.2]),\n",
    "    \"dropout\": 0, # tune.grid_search([0, 0.1, 0.2]),\n",
    "    \n",
    "    # optimizer\n",
    "    \"lr\": tune.grid_search([1e-3, 1e-4, 1e-5]),\n",
    "    \"wd\": 0,\n",
    "}"
   ]
  },
  {
   "cell_type": "code",
   "execution_count": 164,
   "id": "5116af65",
   "metadata": {},
   "outputs": [
    {
     "data": {
      "text/html": [
       "<div class=\"tuneStatus\">\n",
       "  <div style=\"display: flex;flex-direction: row\">\n",
       "    <div style=\"display: flex;flex-direction: column;\">\n",
       "      <h3>Tune Status</h3>\n",
       "      <table>\n",
       "<tbody>\n",
       "<tr><td>Current time:</td><td>2023-04-22 15:17:28</td></tr>\n",
       "<tr><td>Running for: </td><td>00:05:13.99        </td></tr>\n",
       "<tr><td>Memory:      </td><td>14.7/16.0 GiB      </td></tr>\n",
       "</tbody>\n",
       "</table>\n",
       "    </div>\n",
       "    <div class=\"vDivider\"></div>\n",
       "    <div class=\"systemInfo\">\n",
       "      <h3>System Info</h3>\n",
       "      Using FIFO scheduling algorithm.<br>Resources requested: 0/8 CPUs, 0/0 GPUs, 0.0/10.72 GiB heap, 0.0/2.0 GiB objects\n",
       "    </div>\n",
       "    <div class=\"vDivider\"></div>\n",
       "<div class=\"messages\">\n",
       "  <h3>Messages</h3>\n",
       "  : ***LOW MEMORY*** less than 10% of the memory on this node is available for use. This can cause unexpected crashes. Consider reducing the memory used by your application or reducing the Ray object store size by setting `object_store_memory` when calling `ray.init`.\n",
       "  \n",
       "  \n",
       "</div>\n",
       "<style>\n",
       ".messages {\n",
       "  color: var(--jp-ui-font-color1);\n",
       "  display: flex;\n",
       "  flex-direction: column;\n",
       "  padding-left: 1em;\n",
       "  overflow-y: auto;\n",
       "}\n",
       ".messages h3 {\n",
       "  font-weight: bold;\n",
       "}\n",
       ".vDivider {\n",
       "  border-left-width: var(--jp-border-width);\n",
       "  border-left-color: var(--jp-border-color0);\n",
       "  border-left-style: solid;\n",
       "  margin: 0.5em 1em 0.5em 1em;\n",
       "}\n",
       "</style>\n",
       "\n",
       "  </div>\n",
       "  <div class=\"hDivider\"></div>\n",
       "  <div class=\"trialStatus\">\n",
       "    <h3>Trial Status</h3>\n",
       "    <table>\n",
       "<thead>\n",
       "<tr><th>Trial name                </th><th>status    </th><th>loc            </th><th style=\"text-align: right;\">  scaling</th><th style=\"text-align: right;\">  num_prop</th><th style=\"text-align: right;\">    lr</th><th style=\"text-align: right;\">  trn_auc</th><th style=\"text-align: right;\">  val_auc</th><th style=\"text-align: right;\">  max_val_auc</th><th style=\"text-align: right;\">   training_iterat\n",
       "ion</th></tr>\n",
       "</thead>\n",
       "<tbody>\n",
       "<tr><td>VGNAE_0.001_0_4c954_00000 </td><td>TERMINATED</td><td>127.0.0.1:70601</td><td style=\"text-align: right;\">      1.8</td><td style=\"text-align: right;\">         4</td><td style=\"text-align: right;\">0.001 </td><td style=\"text-align: right;\"> 0.941873</td><td style=\"text-align: right;\"> 0.817512</td><td style=\"text-align: right;\">     0.825806</td><td style=\"text-align: right;\">50</td></tr>\n",
       "<tr><td>VGNAE_0.0001_0_4c954_00001</td><td>TERMINATED</td><td>127.0.0.1:70614</td><td style=\"text-align: right;\">      1.8</td><td style=\"text-align: right;\">         4</td><td style=\"text-align: right;\">0.0001</td><td style=\"text-align: right;\"> 0.693582</td><td style=\"text-align: right;\"> 0.661751</td><td style=\"text-align: right;\">     0.661751</td><td style=\"text-align: right;\">50</td></tr>\n",
       "<tr><td>VGNAE_1e-05_0_4c954_00002 </td><td>TERMINATED</td><td>127.0.0.1:70601</td><td style=\"text-align: right;\">      1.8</td><td style=\"text-align: right;\">         4</td><td style=\"text-align: right;\">1e-05 </td><td style=\"text-align: right;\"> 0.693319</td><td style=\"text-align: right;\"> 0.661751</td><td style=\"text-align: right;\">     0.661751</td><td style=\"text-align: right;\">50</td></tr>\n",
       "<tr><td>VGNAE_0.001_0_4c954_00003 </td><td>TERMINATED</td><td>127.0.0.1:70614</td><td style=\"text-align: right;\">      1.8</td><td style=\"text-align: right;\">        16</td><td style=\"text-align: right;\">0.001 </td><td style=\"text-align: right;\"> 0.940558</td><td style=\"text-align: right;\"> 0.814747</td><td style=\"text-align: right;\">     0.823963</td><td style=\"text-align: right;\">50</td></tr>\n",
       "<tr><td>VGNAE_0.0001_0_4c954_00004</td><td>TERMINATED</td><td>127.0.0.1:70601</td><td style=\"text-align: right;\">      1.8</td><td style=\"text-align: right;\">        16</td><td style=\"text-align: right;\">0.0001</td><td style=\"text-align: right;\"> 0.705155</td><td style=\"text-align: right;\"> 0.658525</td><td style=\"text-align: right;\">     0.658986</td><td style=\"text-align: right;\">50</td></tr>\n",
       "<tr><td>VGNAE_1e-05_0_4c954_00005 </td><td>TERMINATED</td><td>127.0.0.1:70614</td><td style=\"text-align: right;\">      1.8</td><td style=\"text-align: right;\">        16</td><td style=\"text-align: right;\">1e-05 </td><td style=\"text-align: right;\"> 0.705155</td><td style=\"text-align: right;\"> 0.654839</td><td style=\"text-align: right;\">     0.6553  </td><td style=\"text-align: right;\">50</td></tr>\n",
       "<tr><td>VGNAE_0.001_0_4c954_00006 </td><td>TERMINATED</td><td>127.0.0.1:70601</td><td style=\"text-align: right;\">      1.8</td><td style=\"text-align: right;\">        32</td><td style=\"text-align: right;\">0.001 </td><td style=\"text-align: right;\"> 0.941084</td><td style=\"text-align: right;\"> 0.814747</td><td style=\"text-align: right;\">     0.819355</td><td style=\"text-align: right;\">50</td></tr>\n",
       "<tr><td>VGNAE_0.0001_0_4c954_00007</td><td>TERMINATED</td><td>127.0.0.1:70614</td><td style=\"text-align: right;\">      1.8</td><td style=\"text-align: right;\">        32</td><td style=\"text-align: right;\">0.0001</td><td style=\"text-align: right;\"> 0.705155</td><td style=\"text-align: right;\"> 0.659908</td><td style=\"text-align: right;\">     0.659908</td><td style=\"text-align: right;\">50</td></tr>\n",
       "<tr><td>VGNAE_1e-05_0_4c954_00008 </td><td>TERMINATED</td><td>127.0.0.1:70601</td><td style=\"text-align: right;\">      1.8</td><td style=\"text-align: right;\">        32</td><td style=\"text-align: right;\">1e-05 </td><td style=\"text-align: right;\"> 0.705024</td><td style=\"text-align: right;\"> 0.657604</td><td style=\"text-align: right;\">     0.657604</td><td style=\"text-align: right;\">50</td></tr>\n",
       "<tr><td>VGNAE_0.001_0_4c954_00009 </td><td>TERMINATED</td><td>127.0.0.1:70614</td><td style=\"text-align: right;\">      1.8</td><td style=\"text-align: right;\">        64</td><td style=\"text-align: right;\">0.001 </td><td style=\"text-align: right;\"> 0.94161 </td><td style=\"text-align: right;\"> 0.813825</td><td style=\"text-align: right;\">     0.818433</td><td style=\"text-align: right;\">50</td></tr>\n",
       "<tr><td>VGNAE_0.0001_0_4c954_00010</td><td>TERMINATED</td><td>127.0.0.1:70601</td><td style=\"text-align: right;\">      1.8</td><td style=\"text-align: right;\">        64</td><td style=\"text-align: right;\">0.0001</td><td style=\"text-align: right;\"> 0.705155</td><td style=\"text-align: right;\"> 0.659908</td><td style=\"text-align: right;\">     0.660369</td><td style=\"text-align: right;\">50</td></tr>\n",
       "<tr><td>VGNAE_1e-05_0_4c954_00011 </td><td>TERMINATED</td><td>127.0.0.1:70614</td><td style=\"text-align: right;\">      1.8</td><td style=\"text-align: right;\">        64</td><td style=\"text-align: right;\">1e-05 </td><td style=\"text-align: right;\"> 0.705155</td><td style=\"text-align: right;\"> 0.657604</td><td style=\"text-align: right;\">     0.657604</td><td style=\"text-align: right;\">50</td></tr>\n",
       "<tr><td>VGNAE_0.001_0_4c954_00012 </td><td>TERMINATED</td><td>127.0.0.1:70601</td><td style=\"text-align: right;\">      1.8</td><td style=\"text-align: right;\">       128</td><td style=\"text-align: right;\">0.001 </td><td style=\"text-align: right;\"> 0.94161 </td><td style=\"text-align: right;\"> 0.813825</td><td style=\"text-align: right;\">     0.818433</td><td style=\"text-align: right;\">50</td></tr>\n",
       "<tr><td>VGNAE_0.0001_0_4c954_00013</td><td>TERMINATED</td><td>127.0.0.1:70614</td><td style=\"text-align: right;\">      1.8</td><td style=\"text-align: right;\">       128</td><td style=\"text-align: right;\">0.0001</td><td style=\"text-align: right;\"> 0.705155</td><td style=\"text-align: right;\"> 0.659908</td><td style=\"text-align: right;\">     0.660369</td><td style=\"text-align: right;\">50</td></tr>\n",
       "<tr><td>VGNAE_1e-05_0_4c954_00014 </td><td>TERMINATED</td><td>127.0.0.1:70601</td><td style=\"text-align: right;\">      1.8</td><td style=\"text-align: right;\">       128</td><td style=\"text-align: right;\">1e-05 </td><td style=\"text-align: right;\"> 0.705155</td><td style=\"text-align: right;\"> 0.657604</td><td style=\"text-align: right;\">     0.657604</td><td style=\"text-align: right;\">50</td></tr>\n",
       "</tbody>\n",
       "</table>\n",
       "  </div>\n",
       "</div>\n",
       "<style>\n",
       ".tuneStatus {\n",
       "  color: var(--jp-ui-font-color1);\n",
       "}\n",
       ".tuneStatus .systemInfo {\n",
       "  display: flex;\n",
       "  flex-direction: column;\n",
       "}\n",
       ".tuneStatus td {\n",
       "  white-space: nowrap;\n",
       "}\n",
       ".tuneStatus .trialStatus {\n",
       "  display: flex;\n",
       "  flex-direction: column;\n",
       "}\n",
       ".tuneStatus h3 {\n",
       "  font-weight: bold;\n",
       "}\n",
       ".tuneStatus .hDivider {\n",
       "  border-bottom-width: var(--jp-border-width);\n",
       "  border-bottom-color: var(--jp-border-color0);\n",
       "  border-bottom-style: solid;\n",
       "}\n",
       ".tuneStatus .vDivider {\n",
       "  border-left-width: var(--jp-border-width);\n",
       "  border-left-color: var(--jp-border-color0);\n",
       "  border-left-style: solid;\n",
       "  margin: 0.5em 1em 0.5em 1em;\n",
       "}\n",
       "</style>\n"
      ],
      "text/plain": [
       "<IPython.core.display.HTML object>"
      ]
     },
     "metadata": {},
     "output_type": "display_data"
    },
    {
     "name": "stderr",
     "output_type": "stream",
     "text": [
      "2023-04-22 15:12:13,361\tINFO worker.py:1553 -- Started a local Ray instance.\n",
      "2023-04-22 15:17:28,419\tINFO tune.py:798 -- Total run time: 314.03 seconds (305.95 seconds for the tuning loop).\n"
     ]
    }
   ],
   "source": [
    "# how many trials to run (if grid_search utilized, it will run this number per grid_search value)\n",
    "num_samples = 1\n",
    "\n",
    "# run experiment\n",
    "result_grid = autoenc.run_ray_experiment(\n",
    "    autoenc.train_validate, config, ray_path, num_samples,\n",
    "    metric_columns = [\"trn_auc\", \"val_auc\", \"max_val_auc\", \"training_iteration\"],\n",
    "    parameter_columns = [\"scaling\", \"num_prop\", \"lr\"]\n",
    ")"
   ]
  },
  {
   "cell_type": "markdown",
   "id": "c419b918",
   "metadata": {},
   "source": [
    "#### 3.2 Result of Hyperparameter tuning"
   ]
  },
  {
   "cell_type": "code",
   "execution_count": 165,
   "id": "0e9db923",
   "metadata": {},
   "outputs": [
    {
     "name": "stderr",
     "output_type": "stream",
     "text": [
      "2023-04-22 15:20:55,919\tWARNING tuner_internal.py:292 -- The trainable will be overwritten - this should be done with caution: it's possible to supply an incompatible trainable, and there are no guarantees that the resumed experiment will continue successfully. If you encounter errors during training, ensure that you are passing in the same trainable that was passed into the initial `Tuner` object.\n"
     ]
    },
    {
     "name": "stdout",
     "output_type": "stream",
     "text": [
      "Loading results from ray_results/train_validate_2023-04-22_15-12-11...\n"
     ]
    },
    {
     "name": "stderr",
     "output_type": "stream",
     "text": [
      "2023-04-22 15:21:06,539\tINFO experiment_analysis.py:789 -- No `self.trials`. Drawing logdirs from checkpoint file. This may result in some information that is out of sync, as checkpointing is periodic.\n"
     ]
    },
    {
     "name": "stdout",
     "output_type": "stream",
     "text": [
      "Done!\n",
      "\n",
      "No errors! Number of terminated trials: 15\n"
     ]
    }
   ],
   "source": [
    "restored_tuner, result_grid = autoenc.open_validate_ray_experiment(\n",
    "    \"ray_results/train_validate_2023-04-22_15-12-11\",\n",
    "    autoenc.train_validate\n",
    ")\n"
   ]
  },
  {
   "cell_type": "code",
   "execution_count": 166,
   "id": "31297470",
   "metadata": {},
   "outputs": [
    {
     "data": {
      "text/html": [
       "<div>\n",
       "<style scoped>\n",
       "    .dataframe tbody tr th:only-of-type {\n",
       "        vertical-align: middle;\n",
       "    }\n",
       "\n",
       "    .dataframe tbody tr th {\n",
       "        vertical-align: top;\n",
       "    }\n",
       "\n",
       "    .dataframe thead th {\n",
       "        text-align: right;\n",
       "    }\n",
       "</style>\n",
       "<table border=\"1\" class=\"dataframe\">\n",
       "  <thead>\n",
       "    <tr style=\"text-align: right;\">\n",
       "      <th></th>\n",
       "      <th>trial_id</th>\n",
       "      <th>training_iteration</th>\n",
       "      <th>config/enc_channels</th>\n",
       "      <th>config/scaling</th>\n",
       "      <th>config/num_prop</th>\n",
       "      <th>config/lr</th>\n",
       "      <th>config/wd</th>\n",
       "      <th>trn_loss</th>\n",
       "      <th>val_loss</th>\n",
       "      <th>trn_auc</th>\n",
       "      <th>val_auc</th>\n",
       "    </tr>\n",
       "  </thead>\n",
       "  <tbody>\n",
       "    <tr>\n",
       "      <th>0</th>\n",
       "      <td>4c954_00000</td>\n",
       "      <td>42</td>\n",
       "      <td>64</td>\n",
       "      <td>1.8</td>\n",
       "      <td>4</td>\n",
       "      <td>0.00100</td>\n",
       "      <td>0</td>\n",
       "      <td>5.112204</td>\n",
       "      <td>1.409582</td>\n",
       "      <td>0.948185</td>\n",
       "      <td>0.825806</td>\n",
       "    </tr>\n",
       "    <tr>\n",
       "      <th>3</th>\n",
       "      <td>4c954_00003</td>\n",
       "      <td>41</td>\n",
       "      <td>64</td>\n",
       "      <td>1.8</td>\n",
       "      <td>16</td>\n",
       "      <td>0.00100</td>\n",
       "      <td>0</td>\n",
       "      <td>5.324944</td>\n",
       "      <td>1.422033</td>\n",
       "      <td>0.950026</td>\n",
       "      <td>0.823963</td>\n",
       "    </tr>\n",
       "    <tr>\n",
       "      <th>6</th>\n",
       "      <td>4c954_00006</td>\n",
       "      <td>47</td>\n",
       "      <td>64</td>\n",
       "      <td>1.8</td>\n",
       "      <td>32</td>\n",
       "      <td>0.00100</td>\n",
       "      <td>0</td>\n",
       "      <td>5.056614</td>\n",
       "      <td>1.652868</td>\n",
       "      <td>0.940163</td>\n",
       "      <td>0.819355</td>\n",
       "    </tr>\n",
       "    <tr>\n",
       "      <th>9</th>\n",
       "      <td>4c954_00009</td>\n",
       "      <td>48</td>\n",
       "      <td>64</td>\n",
       "      <td>1.8</td>\n",
       "      <td>64</td>\n",
       "      <td>0.00100</td>\n",
       "      <td>0</td>\n",
       "      <td>4.720571</td>\n",
       "      <td>1.399702</td>\n",
       "      <td>0.944503</td>\n",
       "      <td>0.818433</td>\n",
       "    </tr>\n",
       "    <tr>\n",
       "      <th>12</th>\n",
       "      <td>4c954_00012</td>\n",
       "      <td>48</td>\n",
       "      <td>64</td>\n",
       "      <td>1.8</td>\n",
       "      <td>128</td>\n",
       "      <td>0.00100</td>\n",
       "      <td>0</td>\n",
       "      <td>4.720572</td>\n",
       "      <td>1.399701</td>\n",
       "      <td>0.944503</td>\n",
       "      <td>0.818433</td>\n",
       "    </tr>\n",
       "    <tr>\n",
       "      <th>1</th>\n",
       "      <td>4c954_00001</td>\n",
       "      <td>1</td>\n",
       "      <td>64</td>\n",
       "      <td>1.8</td>\n",
       "      <td>4</td>\n",
       "      <td>0.00010</td>\n",
       "      <td>0</td>\n",
       "      <td>9.989462</td>\n",
       "      <td>6.556673</td>\n",
       "      <td>0.693056</td>\n",
       "      <td>0.661751</td>\n",
       "    </tr>\n",
       "    <tr>\n",
       "      <th>2</th>\n",
       "      <td>4c954_00002</td>\n",
       "      <td>1</td>\n",
       "      <td>64</td>\n",
       "      <td>1.8</td>\n",
       "      <td>4</td>\n",
       "      <td>0.00001</td>\n",
       "      <td>0</td>\n",
       "      <td>9.989462</td>\n",
       "      <td>6.556799</td>\n",
       "      <td>0.693056</td>\n",
       "      <td>0.661751</td>\n",
       "    </tr>\n",
       "    <tr>\n",
       "      <th>10</th>\n",
       "      <td>4c954_00010</td>\n",
       "      <td>35</td>\n",
       "      <td>64</td>\n",
       "      <td>1.8</td>\n",
       "      <td>64</td>\n",
       "      <td>0.00010</td>\n",
       "      <td>0</td>\n",
       "      <td>10.118744</td>\n",
       "      <td>7.350160</td>\n",
       "      <td>0.705155</td>\n",
       "      <td>0.660369</td>\n",
       "    </tr>\n",
       "    <tr>\n",
       "      <th>13</th>\n",
       "      <td>4c954_00013</td>\n",
       "      <td>35</td>\n",
       "      <td>64</td>\n",
       "      <td>1.8</td>\n",
       "      <td>128</td>\n",
       "      <td>0.00010</td>\n",
       "      <td>0</td>\n",
       "      <td>10.118744</td>\n",
       "      <td>7.350160</td>\n",
       "      <td>0.705155</td>\n",
       "      <td>0.660369</td>\n",
       "    </tr>\n",
       "    <tr>\n",
       "      <th>7</th>\n",
       "      <td>4c954_00007</td>\n",
       "      <td>35</td>\n",
       "      <td>64</td>\n",
       "      <td>1.8</td>\n",
       "      <td>32</td>\n",
       "      <td>0.00010</td>\n",
       "      <td>0</td>\n",
       "      <td>10.118716</td>\n",
       "      <td>7.350062</td>\n",
       "      <td>0.705024</td>\n",
       "      <td>0.659908</td>\n",
       "    </tr>\n",
       "  </tbody>\n",
       "</table>\n",
       "</div>"
      ],
      "text/plain": [
       "       trial_id  training_iteration  config/enc_channels  config/scaling  \\\n",
       "0   4c954_00000                  42                   64             1.8   \n",
       "3   4c954_00003                  41                   64             1.8   \n",
       "6   4c954_00006                  47                   64             1.8   \n",
       "9   4c954_00009                  48                   64             1.8   \n",
       "12  4c954_00012                  48                   64             1.8   \n",
       "1   4c954_00001                   1                   64             1.8   \n",
       "2   4c954_00002                   1                   64             1.8   \n",
       "10  4c954_00010                  35                   64             1.8   \n",
       "13  4c954_00013                  35                   64             1.8   \n",
       "7   4c954_00007                  35                   64             1.8   \n",
       "\n",
       "    config/num_prop  config/lr  config/wd   trn_loss  val_loss   trn_auc  \\\n",
       "0                 4    0.00100          0   5.112204  1.409582  0.948185   \n",
       "3                16    0.00100          0   5.324944  1.422033  0.950026   \n",
       "6                32    0.00100          0   5.056614  1.652868  0.940163   \n",
       "9                64    0.00100          0   4.720571  1.399702  0.944503   \n",
       "12              128    0.00100          0   4.720572  1.399701  0.944503   \n",
       "1                 4    0.00010          0   9.989462  6.556673  0.693056   \n",
       "2                 4    0.00001          0   9.989462  6.556799  0.693056   \n",
       "10               64    0.00010          0  10.118744  7.350160  0.705155   \n",
       "13              128    0.00010          0  10.118744  7.350160  0.705155   \n",
       "7                32    0.00010          0  10.118716  7.350062  0.705024   \n",
       "\n",
       "     val_auc  \n",
       "0   0.825806  \n",
       "3   0.823963  \n",
       "6   0.819355  \n",
       "9   0.818433  \n",
       "12  0.818433  \n",
       "1   0.661751  \n",
       "2   0.661751  \n",
       "10  0.660369  \n",
       "13  0.660369  \n",
       "7   0.659908  "
      ]
     },
     "execution_count": 166,
     "metadata": {},
     "output_type": "execute_result"
    }
   ],
   "source": [
    "# get best score per trial (highest validation accuracy)\n",
    "N = 10\n",
    "best_result_df = result_grid.get_dataframe(\n",
    "    filter_metric=\"val_auc\", filter_mode=\"max\"\n",
    ")\n",
    "best_result_df = best_result_df[[\"trial_id\", \"training_iteration\", \"config/enc_channels\",\n",
    "                                 \"config/scaling\", \"config/num_prop\", \"config/lr\", \"config/wd\", \n",
    "                                 \"trn_loss\", \"val_loss\", \"trn_auc\", \"val_auc\"]]\n",
    "best_result_df = best_result_df.sort_values(by=[\"val_auc\"], ascending = False)\n",
    "\n",
    "if len(result_grid) > N:\n",
    "    best_result_df = best_result_df.head(N)\n",
    "\n",
    "best_result_df"
   ]
  },
  {
   "cell_type": "markdown",
   "id": "155cb789",
   "metadata": {},
   "source": [
    "#### 3.3 Embeddings based on best model"
   ]
  },
  {
   "cell_type": "code",
   "execution_count": 167,
   "id": "60a3d4eb",
   "metadata": {},
   "outputs": [
    {
     "data": {
      "text/plain": [
       "<All keys matched successfully>"
      ]
     },
     "execution_count": 167,
     "metadata": {},
     "output_type": "execute_result"
    }
   ],
   "source": [
    "# load best autoencoder\n",
    "path = os.path.abspath(\"\")+\"/models/VGNAE_0.001_0_4c954_00000\\\\autoencoder.pt\"\n",
    "#path = \"models/autoencoder.pt\"\n",
    "model = VGAE(autoenc.Encoder(data.x.size()[1], 64, 1.5, 4, 0, 0))\n",
    "model.load_state_dict(torch.load(path, map_location=torch.device('cpu')))"
   ]
  },
  {
   "cell_type": "code",
   "execution_count": 22,
   "id": "919fb780",
   "metadata": {},
   "outputs": [
    {
     "name": "stdout",
     "output_type": "stream",
     "text": [
      "<class 'torch_geometric.data.data.Data'>\n"
     ]
    }
   ],
   "source": [
    "print(type(data))"
   ]
  },
  {
   "cell_type": "code",
   "execution_count": 169,
   "id": "9a83b802",
   "metadata": {},
   "outputs": [],
   "source": [
    "# get embeddings of nodes\n",
    "embedding = autoenc.get_embeddings(model, data.x, data.train_pos_edges)"
   ]
  },
  {
   "cell_type": "code",
   "execution_count": 24,
   "id": "01a1a71d",
   "metadata": {},
   "outputs": [
    {
     "name": "stdout",
     "output_type": "stream",
     "text": [
      "2708\n",
      "0\n"
     ]
    }
   ],
   "source": [
    "\n",
    "print(len(np.unique(embedding[:, 0])))\n",
    "\n",
    "# Count NaN values in the vector\n",
    "print(np.isnan(embedding[:, 0]).sum())"
   ]
  },
  {
   "cell_type": "code",
   "execution_count": 170,
   "id": "12aae6b8",
   "metadata": {},
   "outputs": [
    {
     "data": {
      "text/plain": [
       "Text(0.5, 1.0, 'VGNAE projection (first 2 dim) of nodes')"
      ]
     },
     "execution_count": 170,
     "metadata": {},
     "output_type": "execute_result"
    },
    {
     "ename": "UnicodeDecodeError",
     "evalue": "'utf-8' codec can't decode byte 0x89 in position 0: invalid start byte",
     "output_type": "error",
     "traceback": [
      "\u001b[0;31m---------------------------------------------------------------------------\u001b[0m",
      "\u001b[0;31mUnicodeDecodeError\u001b[0m                        Traceback (most recent call last)",
      "\u001b[0;32m/Library/Frameworks/Python.framework/Versions/3.9/lib/python3.9/site-packages/matplotlib_inline/backend_inline.py\u001b[0m in \u001b[0;36mshow\u001b[0;34m(close, block)\u001b[0m\n\u001b[1;32m     39\u001b[0m     \u001b[0;32mtry\u001b[0m\u001b[0;34m:\u001b[0m\u001b[0;34m\u001b[0m\u001b[0;34m\u001b[0m\u001b[0m\n\u001b[1;32m     40\u001b[0m         \u001b[0;32mfor\u001b[0m \u001b[0mfigure_manager\u001b[0m \u001b[0;32min\u001b[0m \u001b[0mGcf\u001b[0m\u001b[0;34m.\u001b[0m\u001b[0mget_all_fig_managers\u001b[0m\u001b[0;34m(\u001b[0m\u001b[0;34m)\u001b[0m\u001b[0;34m:\u001b[0m\u001b[0;34m\u001b[0m\u001b[0;34m\u001b[0m\u001b[0m\n\u001b[0;32m---> 41\u001b[0;31m             display(\n\u001b[0m\u001b[1;32m     42\u001b[0m                 \u001b[0mfigure_manager\u001b[0m\u001b[0;34m.\u001b[0m\u001b[0mcanvas\u001b[0m\u001b[0;34m.\u001b[0m\u001b[0mfigure\u001b[0m\u001b[0;34m,\u001b[0m\u001b[0;34m\u001b[0m\u001b[0;34m\u001b[0m\u001b[0m\n\u001b[1;32m     43\u001b[0m                 \u001b[0mmetadata\u001b[0m\u001b[0;34m=\u001b[0m\u001b[0m_fetch_figure_metadata\u001b[0m\u001b[0;34m(\u001b[0m\u001b[0mfigure_manager\u001b[0m\u001b[0;34m.\u001b[0m\u001b[0mcanvas\u001b[0m\u001b[0;34m.\u001b[0m\u001b[0mfigure\u001b[0m\u001b[0;34m)\u001b[0m\u001b[0;34m\u001b[0m\u001b[0;34m\u001b[0m\u001b[0m\n",
      "\u001b[0;32m/Library/Frameworks/Python.framework/Versions/3.9/lib/python3.9/site-packages/IPython/core/display.py\u001b[0m in \u001b[0;36mdisplay\u001b[0;34m(include, exclude, metadata, transient, display_id, *objs, **kwargs)\u001b[0m\n\u001b[1;32m    325\u001b[0m                 \u001b[0;31m# kwarg-specified metadata gets precedence\u001b[0m\u001b[0;34m\u001b[0m\u001b[0;34m\u001b[0m\u001b[0m\n\u001b[1;32m    326\u001b[0m                 \u001b[0m_merge\u001b[0m\u001b[0;34m(\u001b[0m\u001b[0mmd_dict\u001b[0m\u001b[0;34m,\u001b[0m \u001b[0mmetadata\u001b[0m\u001b[0;34m)\u001b[0m\u001b[0;34m\u001b[0m\u001b[0;34m\u001b[0m\u001b[0m\n\u001b[0;32m--> 327\u001b[0;31m             \u001b[0mpublish_display_data\u001b[0m\u001b[0;34m(\u001b[0m\u001b[0mdata\u001b[0m\u001b[0;34m=\u001b[0m\u001b[0mformat_dict\u001b[0m\u001b[0;34m,\u001b[0m \u001b[0mmetadata\u001b[0m\u001b[0;34m=\u001b[0m\u001b[0mmd_dict\u001b[0m\u001b[0;34m,\u001b[0m \u001b[0;34m**\u001b[0m\u001b[0mkwargs\u001b[0m\u001b[0;34m)\u001b[0m\u001b[0;34m\u001b[0m\u001b[0;34m\u001b[0m\u001b[0m\n\u001b[0m\u001b[1;32m    328\u001b[0m     \u001b[0;32mif\u001b[0m \u001b[0mdisplay_id\u001b[0m\u001b[0;34m:\u001b[0m\u001b[0;34m\u001b[0m\u001b[0;34m\u001b[0m\u001b[0m\n\u001b[1;32m    329\u001b[0m         \u001b[0;32mreturn\u001b[0m \u001b[0mDisplayHandle\u001b[0m\u001b[0;34m(\u001b[0m\u001b[0mdisplay_id\u001b[0m\u001b[0;34m)\u001b[0m\u001b[0;34m\u001b[0m\u001b[0;34m\u001b[0m\u001b[0m\n",
      "\u001b[0;32m/Library/Frameworks/Python.framework/Versions/3.9/lib/python3.9/site-packages/IPython/core/display.py\u001b[0m in \u001b[0;36mpublish_display_data\u001b[0;34m(data, metadata, source, transient, **kwargs)\u001b[0m\n\u001b[1;32m    117\u001b[0m         \u001b[0mkwargs\u001b[0m\u001b[0;34m[\u001b[0m\u001b[0;34m'transient'\u001b[0m\u001b[0;34m]\u001b[0m \u001b[0;34m=\u001b[0m \u001b[0mtransient\u001b[0m\u001b[0;34m\u001b[0m\u001b[0;34m\u001b[0m\u001b[0m\n\u001b[1;32m    118\u001b[0m \u001b[0;34m\u001b[0m\u001b[0m\n\u001b[0;32m--> 119\u001b[0;31m     display_pub.publish(\n\u001b[0m\u001b[1;32m    120\u001b[0m         \u001b[0mdata\u001b[0m\u001b[0;34m=\u001b[0m\u001b[0mdata\u001b[0m\u001b[0;34m,\u001b[0m\u001b[0;34m\u001b[0m\u001b[0;34m\u001b[0m\u001b[0m\n\u001b[1;32m    121\u001b[0m         \u001b[0mmetadata\u001b[0m\u001b[0;34m=\u001b[0m\u001b[0mmetadata\u001b[0m\u001b[0;34m,\u001b[0m\u001b[0;34m\u001b[0m\u001b[0;34m\u001b[0m\u001b[0m\n",
      "\u001b[0;32m/Library/Frameworks/Python.framework/Versions/3.9/lib/python3.9/site-packages/ipykernel/zmqshell.py\u001b[0m in \u001b[0;36mpublish\u001b[0;34m(self, data, metadata, transient, update)\u001b[0m\n\u001b[1;32m    136\u001b[0m                 \u001b[0;32mreturn\u001b[0m\u001b[0;34m\u001b[0m\u001b[0;34m\u001b[0m\u001b[0m\n\u001b[1;32m    137\u001b[0m \u001b[0;34m\u001b[0m\u001b[0m\n\u001b[0;32m--> 138\u001b[0;31m         self.session.send(\n\u001b[0m\u001b[1;32m    139\u001b[0m             \u001b[0mself\u001b[0m\u001b[0;34m.\u001b[0m\u001b[0mpub_socket\u001b[0m\u001b[0;34m,\u001b[0m \u001b[0mmsg\u001b[0m\u001b[0;34m,\u001b[0m \u001b[0mident\u001b[0m\u001b[0;34m=\u001b[0m\u001b[0mself\u001b[0m\u001b[0;34m.\u001b[0m\u001b[0mtopic\u001b[0m\u001b[0;34m,\u001b[0m\u001b[0;34m\u001b[0m\u001b[0;34m\u001b[0m\u001b[0m\n\u001b[1;32m    140\u001b[0m         )\n",
      "\u001b[0;32m/Library/Frameworks/Python.framework/Versions/3.9/lib/python3.9/site-packages/jupyter_client/session.py\u001b[0m in \u001b[0;36msend\u001b[0;34m(self, stream, msg_or_type, content, parent, ident, buffers, track, header, metadata)\u001b[0m\n\u001b[1;32m    828\u001b[0m         \u001b[0;32mif\u001b[0m \u001b[0mself\u001b[0m\u001b[0;34m.\u001b[0m\u001b[0madapt_version\u001b[0m\u001b[0;34m:\u001b[0m\u001b[0;34m\u001b[0m\u001b[0;34m\u001b[0m\u001b[0m\n\u001b[1;32m    829\u001b[0m             \u001b[0mmsg\u001b[0m \u001b[0;34m=\u001b[0m \u001b[0madapt\u001b[0m\u001b[0;34m(\u001b[0m\u001b[0mmsg\u001b[0m\u001b[0;34m,\u001b[0m \u001b[0mself\u001b[0m\u001b[0;34m.\u001b[0m\u001b[0madapt_version\u001b[0m\u001b[0;34m)\u001b[0m\u001b[0;34m\u001b[0m\u001b[0;34m\u001b[0m\u001b[0m\n\u001b[0;32m--> 830\u001b[0;31m         \u001b[0mto_send\u001b[0m \u001b[0;34m=\u001b[0m \u001b[0mself\u001b[0m\u001b[0;34m.\u001b[0m\u001b[0mserialize\u001b[0m\u001b[0;34m(\u001b[0m\u001b[0mmsg\u001b[0m\u001b[0;34m,\u001b[0m \u001b[0mident\u001b[0m\u001b[0;34m)\u001b[0m\u001b[0;34m\u001b[0m\u001b[0;34m\u001b[0m\u001b[0m\n\u001b[0m\u001b[1;32m    831\u001b[0m         \u001b[0mto_send\u001b[0m\u001b[0;34m.\u001b[0m\u001b[0mextend\u001b[0m\u001b[0;34m(\u001b[0m\u001b[0mbuffers\u001b[0m\u001b[0;34m)\u001b[0m\u001b[0;34m\u001b[0m\u001b[0;34m\u001b[0m\u001b[0m\n\u001b[1;32m    832\u001b[0m         \u001b[0mlongest\u001b[0m \u001b[0;34m=\u001b[0m \u001b[0mmax\u001b[0m\u001b[0;34m(\u001b[0m\u001b[0;34m[\u001b[0m\u001b[0mlen\u001b[0m\u001b[0;34m(\u001b[0m\u001b[0ms\u001b[0m\u001b[0;34m)\u001b[0m \u001b[0;32mfor\u001b[0m \u001b[0ms\u001b[0m \u001b[0;32min\u001b[0m \u001b[0mto_send\u001b[0m\u001b[0;34m]\u001b[0m\u001b[0;34m)\u001b[0m\u001b[0;34m\u001b[0m\u001b[0;34m\u001b[0m\u001b[0m\n",
      "\u001b[0;32m/Library/Frameworks/Python.framework/Versions/3.9/lib/python3.9/site-packages/jupyter_client/session.py\u001b[0m in \u001b[0;36mserialize\u001b[0;34m(self, msg, ident)\u001b[0m\n\u001b[1;32m    702\u001b[0m             \u001b[0mcontent\u001b[0m \u001b[0;34m=\u001b[0m \u001b[0mself\u001b[0m\u001b[0;34m.\u001b[0m\u001b[0mnone\u001b[0m\u001b[0;34m\u001b[0m\u001b[0;34m\u001b[0m\u001b[0m\n\u001b[1;32m    703\u001b[0m         \u001b[0;32melif\u001b[0m \u001b[0misinstance\u001b[0m\u001b[0;34m(\u001b[0m\u001b[0mcontent\u001b[0m\u001b[0;34m,\u001b[0m \u001b[0mdict\u001b[0m\u001b[0;34m)\u001b[0m\u001b[0;34m:\u001b[0m\u001b[0;34m\u001b[0m\u001b[0;34m\u001b[0m\u001b[0m\n\u001b[0;32m--> 704\u001b[0;31m             \u001b[0mcontent\u001b[0m \u001b[0;34m=\u001b[0m \u001b[0mself\u001b[0m\u001b[0;34m.\u001b[0m\u001b[0mpack\u001b[0m\u001b[0;34m(\u001b[0m\u001b[0mcontent\u001b[0m\u001b[0;34m)\u001b[0m\u001b[0;34m\u001b[0m\u001b[0;34m\u001b[0m\u001b[0m\n\u001b[0m\u001b[1;32m    705\u001b[0m         \u001b[0;32melif\u001b[0m \u001b[0misinstance\u001b[0m\u001b[0;34m(\u001b[0m\u001b[0mcontent\u001b[0m\u001b[0;34m,\u001b[0m \u001b[0mbytes\u001b[0m\u001b[0;34m)\u001b[0m\u001b[0;34m:\u001b[0m\u001b[0;34m\u001b[0m\u001b[0;34m\u001b[0m\u001b[0m\n\u001b[1;32m    706\u001b[0m             \u001b[0;31m# content is already packed, as in a relayed message\u001b[0m\u001b[0;34m\u001b[0m\u001b[0;34m\u001b[0m\u001b[0m\n",
      "\u001b[0;32m/Library/Frameworks/Python.framework/Versions/3.9/lib/python3.9/site-packages/jupyter_client/session.py\u001b[0m in \u001b[0;36mjson_packer\u001b[0;34m(obj)\u001b[0m\n\u001b[1;32m     93\u001b[0m \u001b[0;34m\u001b[0m\u001b[0m\n\u001b[1;32m     94\u001b[0m \u001b[0;32mdef\u001b[0m \u001b[0mjson_packer\u001b[0m\u001b[0;34m(\u001b[0m\u001b[0mobj\u001b[0m\u001b[0;34m)\u001b[0m\u001b[0;34m:\u001b[0m\u001b[0;34m\u001b[0m\u001b[0;34m\u001b[0m\u001b[0m\n\u001b[0;32m---> 95\u001b[0;31m     return jsonapi.dumps(\n\u001b[0m\u001b[1;32m     96\u001b[0m         \u001b[0mobj\u001b[0m\u001b[0;34m,\u001b[0m\u001b[0;34m\u001b[0m\u001b[0;34m\u001b[0m\u001b[0m\n\u001b[1;32m     97\u001b[0m         \u001b[0mdefault\u001b[0m\u001b[0;34m=\u001b[0m\u001b[0mjson_default\u001b[0m\u001b[0;34m,\u001b[0m\u001b[0;34m\u001b[0m\u001b[0;34m\u001b[0m\u001b[0m\n",
      "\u001b[0;32m~/Library/Python/3.9/lib/python/site-packages/zmq/utils/jsonapi.py\u001b[0m in \u001b[0;36mdumps\u001b[0;34m(o, **kwargs)\u001b[0m\n\u001b[1;32m     38\u001b[0m         \u001b[0mkwargs\u001b[0m\u001b[0;34m[\u001b[0m\u001b[0;34m'separators'\u001b[0m\u001b[0;34m]\u001b[0m \u001b[0;34m=\u001b[0m \u001b[0;34m(\u001b[0m\u001b[0;34m','\u001b[0m\u001b[0;34m,\u001b[0m \u001b[0;34m':'\u001b[0m\u001b[0;34m)\u001b[0m\u001b[0;34m\u001b[0m\u001b[0;34m\u001b[0m\u001b[0m\n\u001b[1;32m     39\u001b[0m \u001b[0;34m\u001b[0m\u001b[0m\n\u001b[0;32m---> 40\u001b[0;31m     \u001b[0ms\u001b[0m \u001b[0;34m=\u001b[0m \u001b[0mjsonmod\u001b[0m\u001b[0;34m.\u001b[0m\u001b[0mdumps\u001b[0m\u001b[0;34m(\u001b[0m\u001b[0mo\u001b[0m\u001b[0;34m,\u001b[0m \u001b[0;34m**\u001b[0m\u001b[0mkwargs\u001b[0m\u001b[0;34m)\u001b[0m\u001b[0;34m\u001b[0m\u001b[0;34m\u001b[0m\u001b[0m\n\u001b[0m\u001b[1;32m     41\u001b[0m \u001b[0;34m\u001b[0m\u001b[0m\n\u001b[1;32m     42\u001b[0m     \u001b[0;32mif\u001b[0m \u001b[0misinstance\u001b[0m\u001b[0;34m(\u001b[0m\u001b[0ms\u001b[0m\u001b[0;34m,\u001b[0m \u001b[0municode\u001b[0m\u001b[0;34m)\u001b[0m\u001b[0;34m:\u001b[0m\u001b[0;34m\u001b[0m\u001b[0;34m\u001b[0m\u001b[0m\n",
      "\u001b[0;32m~/Library/Python/3.9/lib/python/site-packages/simplejson/__init__.py\u001b[0m in \u001b[0;36mdumps\u001b[0;34m(obj, skipkeys, ensure_ascii, check_circular, allow_nan, cls, indent, separators, encoding, default, use_decimal, namedtuple_as_object, tuple_as_array, bigint_as_string, sort_keys, item_sort_key, for_json, ignore_nan, int_as_string_bitcount, iterable_as_array, **kw)\u001b[0m\n\u001b[1;32m    379\u001b[0m     \u001b[0;32mif\u001b[0m \u001b[0mcls\u001b[0m \u001b[0;32mis\u001b[0m \u001b[0;32mNone\u001b[0m\u001b[0;34m:\u001b[0m\u001b[0;34m\u001b[0m\u001b[0;34m\u001b[0m\u001b[0m\n\u001b[1;32m    380\u001b[0m         \u001b[0mcls\u001b[0m \u001b[0;34m=\u001b[0m \u001b[0mJSONEncoder\u001b[0m\u001b[0;34m\u001b[0m\u001b[0;34m\u001b[0m\u001b[0m\n\u001b[0;32m--> 381\u001b[0;31m     return cls(\n\u001b[0m\u001b[1;32m    382\u001b[0m         \u001b[0mskipkeys\u001b[0m\u001b[0;34m=\u001b[0m\u001b[0mskipkeys\u001b[0m\u001b[0;34m,\u001b[0m \u001b[0mensure_ascii\u001b[0m\u001b[0;34m=\u001b[0m\u001b[0mensure_ascii\u001b[0m\u001b[0;34m,\u001b[0m\u001b[0;34m\u001b[0m\u001b[0;34m\u001b[0m\u001b[0m\n\u001b[1;32m    383\u001b[0m         \u001b[0mcheck_circular\u001b[0m\u001b[0;34m=\u001b[0m\u001b[0mcheck_circular\u001b[0m\u001b[0;34m,\u001b[0m \u001b[0mallow_nan\u001b[0m\u001b[0;34m=\u001b[0m\u001b[0mallow_nan\u001b[0m\u001b[0;34m,\u001b[0m \u001b[0mindent\u001b[0m\u001b[0;34m=\u001b[0m\u001b[0mindent\u001b[0m\u001b[0;34m,\u001b[0m\u001b[0;34m\u001b[0m\u001b[0;34m\u001b[0m\u001b[0m\n",
      "\u001b[0;32m~/Library/Python/3.9/lib/python/site-packages/simplejson/encoder.py\u001b[0m in \u001b[0;36mencode\u001b[0;34m(self, o)\u001b[0m\n\u001b[1;32m    296\u001b[0m         \u001b[0;31m# exceptions aren't as detailed.  The list call should be roughly\u001b[0m\u001b[0;34m\u001b[0m\u001b[0;34m\u001b[0m\u001b[0m\n\u001b[1;32m    297\u001b[0m         \u001b[0;31m# equivalent to the PySequence_Fast that ''.join() would do.\u001b[0m\u001b[0;34m\u001b[0m\u001b[0;34m\u001b[0m\u001b[0m\n\u001b[0;32m--> 298\u001b[0;31m         \u001b[0mchunks\u001b[0m \u001b[0;34m=\u001b[0m \u001b[0mself\u001b[0m\u001b[0;34m.\u001b[0m\u001b[0miterencode\u001b[0m\u001b[0;34m(\u001b[0m\u001b[0mo\u001b[0m\u001b[0;34m)\u001b[0m\u001b[0;34m\u001b[0m\u001b[0;34m\u001b[0m\u001b[0m\n\u001b[0m\u001b[1;32m    299\u001b[0m         \u001b[0;32mif\u001b[0m \u001b[0;32mnot\u001b[0m \u001b[0misinstance\u001b[0m\u001b[0;34m(\u001b[0m\u001b[0mchunks\u001b[0m\u001b[0;34m,\u001b[0m \u001b[0;34m(\u001b[0m\u001b[0mlist\u001b[0m\u001b[0;34m,\u001b[0m \u001b[0mtuple\u001b[0m\u001b[0;34m)\u001b[0m\u001b[0;34m)\u001b[0m\u001b[0;34m:\u001b[0m\u001b[0;34m\u001b[0m\u001b[0;34m\u001b[0m\u001b[0m\n\u001b[1;32m    300\u001b[0m             \u001b[0mchunks\u001b[0m \u001b[0;34m=\u001b[0m \u001b[0mlist\u001b[0m\u001b[0;34m(\u001b[0m\u001b[0mchunks\u001b[0m\u001b[0;34m)\u001b[0m\u001b[0;34m\u001b[0m\u001b[0;34m\u001b[0m\u001b[0m\n",
      "\u001b[0;32m~/Library/Python/3.9/lib/python/site-packages/simplejson/encoder.py\u001b[0m in \u001b[0;36miterencode\u001b[0;34m(self, o)\u001b[0m\n\u001b[1;32m    377\u001b[0m                 self.iterable_as_array, Decimal=decimal.Decimal)\n\u001b[1;32m    378\u001b[0m         \u001b[0;32mtry\u001b[0m\u001b[0;34m:\u001b[0m\u001b[0;34m\u001b[0m\u001b[0;34m\u001b[0m\u001b[0m\n\u001b[0;32m--> 379\u001b[0;31m             \u001b[0;32mreturn\u001b[0m \u001b[0m_iterencode\u001b[0m\u001b[0;34m(\u001b[0m\u001b[0mo\u001b[0m\u001b[0;34m,\u001b[0m \u001b[0;36m0\u001b[0m\u001b[0;34m)\u001b[0m\u001b[0;34m\u001b[0m\u001b[0;34m\u001b[0m\u001b[0m\n\u001b[0m\u001b[1;32m    380\u001b[0m         \u001b[0;32mfinally\u001b[0m\u001b[0;34m:\u001b[0m\u001b[0;34m\u001b[0m\u001b[0;34m\u001b[0m\u001b[0m\n\u001b[1;32m    381\u001b[0m             \u001b[0mkey_memo\u001b[0m\u001b[0;34m.\u001b[0m\u001b[0mclear\u001b[0m\u001b[0;34m(\u001b[0m\u001b[0;34m)\u001b[0m\u001b[0;34m\u001b[0m\u001b[0;34m\u001b[0m\u001b[0m\n",
      "\u001b[0;32m~/Library/Python/3.9/lib/python/site-packages/simplejson/encoder.py\u001b[0m in \u001b[0;36mencode_basestring\u001b[0;34m(s, _PY3, _q)\u001b[0m\n\u001b[1;32m     43\u001b[0m     \u001b[0;32mif\u001b[0m \u001b[0m_PY3\u001b[0m\u001b[0;34m:\u001b[0m\u001b[0;34m\u001b[0m\u001b[0;34m\u001b[0m\u001b[0m\n\u001b[1;32m     44\u001b[0m         \u001b[0;32mif\u001b[0m \u001b[0misinstance\u001b[0m\u001b[0;34m(\u001b[0m\u001b[0ms\u001b[0m\u001b[0;34m,\u001b[0m \u001b[0mbytes\u001b[0m\u001b[0;34m)\u001b[0m\u001b[0;34m:\u001b[0m\u001b[0;34m\u001b[0m\u001b[0;34m\u001b[0m\u001b[0m\n\u001b[0;32m---> 45\u001b[0;31m             \u001b[0ms\u001b[0m \u001b[0;34m=\u001b[0m \u001b[0mstr\u001b[0m\u001b[0;34m(\u001b[0m\u001b[0ms\u001b[0m\u001b[0;34m,\u001b[0m \u001b[0;34m'utf-8'\u001b[0m\u001b[0;34m)\u001b[0m\u001b[0;34m\u001b[0m\u001b[0;34m\u001b[0m\u001b[0m\n\u001b[0m\u001b[1;32m     46\u001b[0m         \u001b[0;32melif\u001b[0m \u001b[0mtype\u001b[0m\u001b[0;34m(\u001b[0m\u001b[0ms\u001b[0m\u001b[0;34m)\u001b[0m \u001b[0;32mis\u001b[0m \u001b[0;32mnot\u001b[0m \u001b[0mstr\u001b[0m\u001b[0;34m:\u001b[0m\u001b[0;34m\u001b[0m\u001b[0;34m\u001b[0m\u001b[0m\n\u001b[1;32m     47\u001b[0m             \u001b[0;31m# convert an str subclass instance to exact str\u001b[0m\u001b[0;34m\u001b[0m\u001b[0;34m\u001b[0m\u001b[0m\n",
      "\u001b[0;31mUnicodeDecodeError\u001b[0m: 'utf-8' codec can't decode byte 0x89 in position 0: invalid start byte"
     ]
    }
   ],
   "source": [
    "# plot embedding\n",
    "plt.scatter(\n",
    "    embedding[:, 0],\n",
    "    embedding[:, 1])\n",
    "plt.gca().set_aspect('equal', 'datalim')\n",
    "plt.title('VGNAE projection (first 2 dim) of nodes')"
   ]
  },
  {
   "cell_type": "markdown",
   "id": "564340ea",
   "metadata": {},
   "source": [
    "Embeddings look like a sphere, we cannot do any meaningful clusering based on this.\n",
    "\n",
    "Let us now take our original VGNAE embeddings and put them into a pandas dataframe."
   ]
  },
  {
   "cell_type": "code",
   "execution_count": 171,
   "id": "7b823a53",
   "metadata": {},
   "outputs": [
    {
     "data": {
      "text/html": [
       "<div>\n",
       "<style scoped>\n",
       "    .dataframe tbody tr th:only-of-type {\n",
       "        vertical-align: middle;\n",
       "    }\n",
       "\n",
       "    .dataframe tbody tr th {\n",
       "        vertical-align: top;\n",
       "    }\n",
       "\n",
       "    .dataframe thead th {\n",
       "        text-align: right;\n",
       "    }\n",
       "</style>\n",
       "<table border=\"1\" class=\"dataframe\">\n",
       "  <thead>\n",
       "    <tr style=\"text-align: right;\">\n",
       "      <th></th>\n",
       "      <th>x1</th>\n",
       "      <th>x2</th>\n",
       "      <th>x3</th>\n",
       "      <th>x4</th>\n",
       "      <th>x5</th>\n",
       "      <th>x6</th>\n",
       "      <th>x7</th>\n",
       "      <th>x8</th>\n",
       "      <th>x9</th>\n",
       "      <th>x10</th>\n",
       "      <th>...</th>\n",
       "      <th>x55</th>\n",
       "      <th>x56</th>\n",
       "      <th>x57</th>\n",
       "      <th>x58</th>\n",
       "      <th>x59</th>\n",
       "      <th>x60</th>\n",
       "      <th>x61</th>\n",
       "      <th>x62</th>\n",
       "      <th>x63</th>\n",
       "      <th>x64</th>\n",
       "    </tr>\n",
       "  </thead>\n",
       "  <tbody>\n",
       "    <tr>\n",
       "      <th>0</th>\n",
       "      <td>-3.631031</td>\n",
       "      <td>0.028460</td>\n",
       "      <td>0.926335</td>\n",
       "      <td>0.548944</td>\n",
       "      <td>-2.193384</td>\n",
       "      <td>0.731222</td>\n",
       "      <td>1.397902</td>\n",
       "      <td>-1.545606</td>\n",
       "      <td>1.244934</td>\n",
       "      <td>1.000957</td>\n",
       "      <td>...</td>\n",
       "      <td>1.358602</td>\n",
       "      <td>-0.166094</td>\n",
       "      <td>-0.160326</td>\n",
       "      <td>1.100742</td>\n",
       "      <td>0.812491</td>\n",
       "      <td>0.704597</td>\n",
       "      <td>0.639013</td>\n",
       "      <td>0.758376</td>\n",
       "      <td>0.568736</td>\n",
       "      <td>0.215883</td>\n",
       "    </tr>\n",
       "    <tr>\n",
       "      <th>1</th>\n",
       "      <td>-0.628823</td>\n",
       "      <td>-0.912323</td>\n",
       "      <td>0.148418</td>\n",
       "      <td>0.129887</td>\n",
       "      <td>-1.000357</td>\n",
       "      <td>-0.196018</td>\n",
       "      <td>0.929288</td>\n",
       "      <td>-0.577871</td>\n",
       "      <td>0.262739</td>\n",
       "      <td>-0.001889</td>\n",
       "      <td>...</td>\n",
       "      <td>-1.556029</td>\n",
       "      <td>0.267822</td>\n",
       "      <td>1.300768</td>\n",
       "      <td>-0.427655</td>\n",
       "      <td>0.539979</td>\n",
       "      <td>0.189573</td>\n",
       "      <td>1.328683</td>\n",
       "      <td>-0.685855</td>\n",
       "      <td>-1.975274</td>\n",
       "      <td>0.329615</td>\n",
       "    </tr>\n",
       "    <tr>\n",
       "      <th>2</th>\n",
       "      <td>-0.532698</td>\n",
       "      <td>-1.655529</td>\n",
       "      <td>-0.401727</td>\n",
       "      <td>0.540130</td>\n",
       "      <td>-0.163291</td>\n",
       "      <td>0.445807</td>\n",
       "      <td>0.616954</td>\n",
       "      <td>0.578093</td>\n",
       "      <td>-1.522068</td>\n",
       "      <td>0.336746</td>\n",
       "      <td>...</td>\n",
       "      <td>-0.092530</td>\n",
       "      <td>-0.547607</td>\n",
       "      <td>0.559317</td>\n",
       "      <td>0.046573</td>\n",
       "      <td>-0.247027</td>\n",
       "      <td>1.177279</td>\n",
       "      <td>-0.246121</td>\n",
       "      <td>-0.709579</td>\n",
       "      <td>-0.604069</td>\n",
       "      <td>-0.077611</td>\n",
       "    </tr>\n",
       "    <tr>\n",
       "      <th>3</th>\n",
       "      <td>-0.868176</td>\n",
       "      <td>-0.862198</td>\n",
       "      <td>-2.047325</td>\n",
       "      <td>-0.001196</td>\n",
       "      <td>0.021318</td>\n",
       "      <td>1.498208</td>\n",
       "      <td>-0.649617</td>\n",
       "      <td>-0.621859</td>\n",
       "      <td>0.534795</td>\n",
       "      <td>-0.572370</td>\n",
       "      <td>...</td>\n",
       "      <td>1.019343</td>\n",
       "      <td>-0.060611</td>\n",
       "      <td>0.787599</td>\n",
       "      <td>-1.255767</td>\n",
       "      <td>-0.586231</td>\n",
       "      <td>0.898220</td>\n",
       "      <td>0.127469</td>\n",
       "      <td>1.042326</td>\n",
       "      <td>0.220740</td>\n",
       "      <td>-1.133598</td>\n",
       "    </tr>\n",
       "    <tr>\n",
       "      <th>4</th>\n",
       "      <td>-0.422011</td>\n",
       "      <td>0.741677</td>\n",
       "      <td>1.214974</td>\n",
       "      <td>-1.098017</td>\n",
       "      <td>0.588002</td>\n",
       "      <td>0.224144</td>\n",
       "      <td>-0.653673</td>\n",
       "      <td>0.718662</td>\n",
       "      <td>0.375990</td>\n",
       "      <td>0.592233</td>\n",
       "      <td>...</td>\n",
       "      <td>0.916731</td>\n",
       "      <td>0.274831</td>\n",
       "      <td>-0.720984</td>\n",
       "      <td>-0.199879</td>\n",
       "      <td>-0.208231</td>\n",
       "      <td>-0.757123</td>\n",
       "      <td>-2.359159</td>\n",
       "      <td>0.350891</td>\n",
       "      <td>-0.981901</td>\n",
       "      <td>1.005091</td>\n",
       "    </tr>\n",
       "    <tr>\n",
       "      <th>...</th>\n",
       "      <td>...</td>\n",
       "      <td>...</td>\n",
       "      <td>...</td>\n",
       "      <td>...</td>\n",
       "      <td>...</td>\n",
       "      <td>...</td>\n",
       "      <td>...</td>\n",
       "      <td>...</td>\n",
       "      <td>...</td>\n",
       "      <td>...</td>\n",
       "      <td>...</td>\n",
       "      <td>...</td>\n",
       "      <td>...</td>\n",
       "      <td>...</td>\n",
       "      <td>...</td>\n",
       "      <td>...</td>\n",
       "      <td>...</td>\n",
       "      <td>...</td>\n",
       "      <td>...</td>\n",
       "      <td>...</td>\n",
       "      <td>...</td>\n",
       "    </tr>\n",
       "    <tr>\n",
       "      <th>2703</th>\n",
       "      <td>-0.510620</td>\n",
       "      <td>-0.318713</td>\n",
       "      <td>0.370595</td>\n",
       "      <td>-1.302752</td>\n",
       "      <td>0.970978</td>\n",
       "      <td>-1.405791</td>\n",
       "      <td>-1.257336</td>\n",
       "      <td>-0.411335</td>\n",
       "      <td>-0.240713</td>\n",
       "      <td>-1.554785</td>\n",
       "      <td>...</td>\n",
       "      <td>-0.990376</td>\n",
       "      <td>-1.784252</td>\n",
       "      <td>-0.037024</td>\n",
       "      <td>-0.316709</td>\n",
       "      <td>-0.957318</td>\n",
       "      <td>0.321584</td>\n",
       "      <td>0.484114</td>\n",
       "      <td>0.216402</td>\n",
       "      <td>0.538928</td>\n",
       "      <td>-0.736905</td>\n",
       "    </tr>\n",
       "    <tr>\n",
       "      <th>2704</th>\n",
       "      <td>-2.070222</td>\n",
       "      <td>0.338095</td>\n",
       "      <td>1.204159</td>\n",
       "      <td>-0.458026</td>\n",
       "      <td>0.531755</td>\n",
       "      <td>1.257530</td>\n",
       "      <td>-0.139964</td>\n",
       "      <td>1.501166</td>\n",
       "      <td>0.246643</td>\n",
       "      <td>0.710152</td>\n",
       "      <td>...</td>\n",
       "      <td>1.511560</td>\n",
       "      <td>0.023357</td>\n",
       "      <td>1.944482</td>\n",
       "      <td>-1.088314</td>\n",
       "      <td>-1.085923</td>\n",
       "      <td>-0.271345</td>\n",
       "      <td>0.466946</td>\n",
       "      <td>-0.680112</td>\n",
       "      <td>0.460005</td>\n",
       "      <td>0.125971</td>\n",
       "    </tr>\n",
       "    <tr>\n",
       "      <th>2705</th>\n",
       "      <td>0.345489</td>\n",
       "      <td>-0.906130</td>\n",
       "      <td>0.703535</td>\n",
       "      <td>-0.096268</td>\n",
       "      <td>2.555202</td>\n",
       "      <td>0.376796</td>\n",
       "      <td>-1.372653</td>\n",
       "      <td>1.828496</td>\n",
       "      <td>-1.323692</td>\n",
       "      <td>-0.089441</td>\n",
       "      <td>...</td>\n",
       "      <td>-1.178744</td>\n",
       "      <td>0.424242</td>\n",
       "      <td>-0.661691</td>\n",
       "      <td>-1.280372</td>\n",
       "      <td>-0.989201</td>\n",
       "      <td>-0.125848</td>\n",
       "      <td>0.536621</td>\n",
       "      <td>-0.372583</td>\n",
       "      <td>1.535238</td>\n",
       "      <td>-1.350510</td>\n",
       "    </tr>\n",
       "    <tr>\n",
       "      <th>2706</th>\n",
       "      <td>-0.300246</td>\n",
       "      <td>-0.125582</td>\n",
       "      <td>0.530144</td>\n",
       "      <td>0.632183</td>\n",
       "      <td>2.185719</td>\n",
       "      <td>0.849456</td>\n",
       "      <td>0.142994</td>\n",
       "      <td>1.541359</td>\n",
       "      <td>-1.005819</td>\n",
       "      <td>0.318848</td>\n",
       "      <td>...</td>\n",
       "      <td>-0.610017</td>\n",
       "      <td>0.270635</td>\n",
       "      <td>-1.764078</td>\n",
       "      <td>0.850458</td>\n",
       "      <td>-1.076462</td>\n",
       "      <td>1.976640</td>\n",
       "      <td>0.914309</td>\n",
       "      <td>-0.265571</td>\n",
       "      <td>1.933712</td>\n",
       "      <td>-2.279320</td>\n",
       "    </tr>\n",
       "    <tr>\n",
       "      <th>2707</th>\n",
       "      <td>-1.351847</td>\n",
       "      <td>-1.089315</td>\n",
       "      <td>-1.488793</td>\n",
       "      <td>-0.361280</td>\n",
       "      <td>0.670128</td>\n",
       "      <td>-0.566979</td>\n",
       "      <td>-0.428438</td>\n",
       "      <td>1.228156</td>\n",
       "      <td>-1.143055</td>\n",
       "      <td>0.838269</td>\n",
       "      <td>...</td>\n",
       "      <td>-1.108231</td>\n",
       "      <td>-0.462887</td>\n",
       "      <td>0.384882</td>\n",
       "      <td>0.515498</td>\n",
       "      <td>-0.120942</td>\n",
       "      <td>0.937826</td>\n",
       "      <td>-1.456800</td>\n",
       "      <td>0.711516</td>\n",
       "      <td>1.242311</td>\n",
       "      <td>-0.635365</td>\n",
       "    </tr>\n",
       "  </tbody>\n",
       "</table>\n",
       "<p>2708 rows × 64 columns</p>\n",
       "</div>"
      ],
      "text/plain": [
       "            x1        x2        x3        x4        x5        x6        x7  \\\n",
       "0    -3.631031  0.028460  0.926335  0.548944 -2.193384  0.731222  1.397902   \n",
       "1    -0.628823 -0.912323  0.148418  0.129887 -1.000357 -0.196018  0.929288   \n",
       "2    -0.532698 -1.655529 -0.401727  0.540130 -0.163291  0.445807  0.616954   \n",
       "3    -0.868176 -0.862198 -2.047325 -0.001196  0.021318  1.498208 -0.649617   \n",
       "4    -0.422011  0.741677  1.214974 -1.098017  0.588002  0.224144 -0.653673   \n",
       "...        ...       ...       ...       ...       ...       ...       ...   \n",
       "2703 -0.510620 -0.318713  0.370595 -1.302752  0.970978 -1.405791 -1.257336   \n",
       "2704 -2.070222  0.338095  1.204159 -0.458026  0.531755  1.257530 -0.139964   \n",
       "2705  0.345489 -0.906130  0.703535 -0.096268  2.555202  0.376796 -1.372653   \n",
       "2706 -0.300246 -0.125582  0.530144  0.632183  2.185719  0.849456  0.142994   \n",
       "2707 -1.351847 -1.089315 -1.488793 -0.361280  0.670128 -0.566979 -0.428438   \n",
       "\n",
       "            x8        x9       x10  ...       x55       x56       x57  \\\n",
       "0    -1.545606  1.244934  1.000957  ...  1.358602 -0.166094 -0.160326   \n",
       "1    -0.577871  0.262739 -0.001889  ... -1.556029  0.267822  1.300768   \n",
       "2     0.578093 -1.522068  0.336746  ... -0.092530 -0.547607  0.559317   \n",
       "3    -0.621859  0.534795 -0.572370  ...  1.019343 -0.060611  0.787599   \n",
       "4     0.718662  0.375990  0.592233  ...  0.916731  0.274831 -0.720984   \n",
       "...        ...       ...       ...  ...       ...       ...       ...   \n",
       "2703 -0.411335 -0.240713 -1.554785  ... -0.990376 -1.784252 -0.037024   \n",
       "2704  1.501166  0.246643  0.710152  ...  1.511560  0.023357  1.944482   \n",
       "2705  1.828496 -1.323692 -0.089441  ... -1.178744  0.424242 -0.661691   \n",
       "2706  1.541359 -1.005819  0.318848  ... -0.610017  0.270635 -1.764078   \n",
       "2707  1.228156 -1.143055  0.838269  ... -1.108231 -0.462887  0.384882   \n",
       "\n",
       "           x58       x59       x60       x61       x62       x63       x64  \n",
       "0     1.100742  0.812491  0.704597  0.639013  0.758376  0.568736  0.215883  \n",
       "1    -0.427655  0.539979  0.189573  1.328683 -0.685855 -1.975274  0.329615  \n",
       "2     0.046573 -0.247027  1.177279 -0.246121 -0.709579 -0.604069 -0.077611  \n",
       "3    -1.255767 -0.586231  0.898220  0.127469  1.042326  0.220740 -1.133598  \n",
       "4    -0.199879 -0.208231 -0.757123 -2.359159  0.350891 -0.981901  1.005091  \n",
       "...        ...       ...       ...       ...       ...       ...       ...  \n",
       "2703 -0.316709 -0.957318  0.321584  0.484114  0.216402  0.538928 -0.736905  \n",
       "2704 -1.088314 -1.085923 -0.271345  0.466946 -0.680112  0.460005  0.125971  \n",
       "2705 -1.280372 -0.989201 -0.125848  0.536621 -0.372583  1.535238 -1.350510  \n",
       "2706  0.850458 -1.076462  1.976640  0.914309 -0.265571  1.933712 -2.279320  \n",
       "2707  0.515498 -0.120942  0.937826 -1.456800  0.711516  1.242311 -0.635365  \n",
       "\n",
       "[2708 rows x 64 columns]"
      ]
     },
     "execution_count": 171,
     "metadata": {},
     "output_type": "execute_result"
    }
   ],
   "source": [
    "node_emb = pd.DataFrame(embedding).rename(columns = {val: f\"x{val+1}\" for val in range(embedding.shape[1])})\n",
    "\n",
    "node_emb"
   ]
  },
  {
   "cell_type": "code",
   "execution_count": 75,
   "id": "b799886f",
   "metadata": {},
   "outputs": [
    {
     "name": "stdout",
     "output_type": "stream",
     "text": [
      "   y  source  target  train_mask\n",
      "0  0       1      21       False\n",
      "1  0    1698    2609       False\n",
      "2  0       1     905       False\n",
      "3  0     690    1698       False\n",
      "4  0       1     906       False\n",
      "   y  source  target  train_mask\n",
      "0  0       1      21       False\n",
      "1  0    1698    2609       False\n",
      "2  0       1     905       False\n",
      "3  0     690    1698       False\n",
      "4  0       1     906       False\n",
      "7604\n",
      "2170\n",
      "sim     0\n",
      "y       0\n",
      "pred    0\n",
      "dtype: int64\n"
     ]
    }
   ],
   "source": [
    "\n",
    "trainval_tf2 = trainval_tf\n",
    "trainval_tf2['train_mask'] = (trainval_tf2['y'] == 1)\n",
    "print(trainval_tf.head())\n",
    "print(trainval_tf2.head())\n",
    "print(len(train_tf))\n",
    "print(len(val_tf))\n",
    "\n",
    "train_tf['train_mask'] = True"
   ]
  },
  {
   "cell_type": "markdown",
   "id": "64dcbb71",
   "metadata": {},
   "source": [
    "#### 3.4 Compute edge features based on best model"
   ]
  },
  {
   "cell_type": "code",
   "execution_count": 172,
   "id": "4f6dc822",
   "metadata": {},
   "outputs": [
    {
     "name": "stdout",
     "output_type": "stream",
     "text": [
      "7604\n",
      "7604\n",
      "ROC:  0.9764215364930167\n",
      "Acc:  0.948185165702262\n"
     ]
    }
   ],
   "source": [
    "# predict train\n",
    "y_train_hat = pd.DataFrame(autoenc.get_similarity(model, data.x, data.train_pos_edges, data.train_edges))\n",
    "\n",
    "y_train_hat = (y_train_hat\n",
    "    .rename(columns = {0: \"sim\"})\n",
    "    .assign(y = trainval_tf.loc[trainval_tf.train_mask == True].y.values)\n",
    "    .assign(pred = lambda df_: (df_.sim > df_.sim.median()).astype(int))\n",
    ")\n",
    "\n",
    "print(\"ROC: \", roc_auc_score(y_train_hat.y, y_train_hat.sim))\n",
    "print(\"Acc: \", accuracy_score(y_train_hat.y, y_train_hat.pred))"
   ]
  },
  {
   "cell_type": "code",
   "execution_count": 15,
   "id": "e245cbd7",
   "metadata": {},
   "outputs": [],
   "source": [
    "import matplotlib.pyplot as plt\n",
    "\n",
    "fig, ax = plt.subplots()\n",
    "ax.scatter(y_train_hat.loc[y_train_hat['y'] == 0, 'sim'], y_train_hat.loc[y_train_hat['y'] == 0, 'y'], label='0')\n",
    "ax.scatter(y_train_hat.loc[y_train_hat['y'] == 1, 'sim'], y_train_hat.loc[y_train_hat['y'] == 1, 'y'], label='1')\n",
    "ax.legend()\n",
    "plt.xlabel('sim')\n",
    "plt.ylabel('y')\n",
    "plt.savefig('scatter_plot.png')\n",
    "plt.close()"
   ]
  },
  {
   "cell_type": "code",
   "execution_count": 173,
   "id": "31eab61f",
   "metadata": {},
   "outputs": [
    {
     "data": {
      "text/plain": [
       "<seaborn.axisgrid.PairGrid at 0x7fdd18d41a00>"
      ]
     },
     "execution_count": 173,
     "metadata": {},
     "output_type": "execute_result"
    },
    {
     "ename": "UnicodeDecodeError",
     "evalue": "'utf-8' codec can't decode byte 0x89 in position 0: invalid start byte",
     "output_type": "error",
     "traceback": [
      "\u001b[0;31m---------------------------------------------------------------------------\u001b[0m",
      "\u001b[0;31mUnicodeDecodeError\u001b[0m                        Traceback (most recent call last)",
      "\u001b[0;32m/Library/Frameworks/Python.framework/Versions/3.9/lib/python3.9/site-packages/matplotlib_inline/backend_inline.py\u001b[0m in \u001b[0;36mshow\u001b[0;34m(close, block)\u001b[0m\n\u001b[1;32m     39\u001b[0m     \u001b[0;32mtry\u001b[0m\u001b[0;34m:\u001b[0m\u001b[0;34m\u001b[0m\u001b[0;34m\u001b[0m\u001b[0m\n\u001b[1;32m     40\u001b[0m         \u001b[0;32mfor\u001b[0m \u001b[0mfigure_manager\u001b[0m \u001b[0;32min\u001b[0m \u001b[0mGcf\u001b[0m\u001b[0;34m.\u001b[0m\u001b[0mget_all_fig_managers\u001b[0m\u001b[0;34m(\u001b[0m\u001b[0;34m)\u001b[0m\u001b[0;34m:\u001b[0m\u001b[0;34m\u001b[0m\u001b[0;34m\u001b[0m\u001b[0m\n\u001b[0;32m---> 41\u001b[0;31m             display(\n\u001b[0m\u001b[1;32m     42\u001b[0m                 \u001b[0mfigure_manager\u001b[0m\u001b[0;34m.\u001b[0m\u001b[0mcanvas\u001b[0m\u001b[0;34m.\u001b[0m\u001b[0mfigure\u001b[0m\u001b[0;34m,\u001b[0m\u001b[0;34m\u001b[0m\u001b[0;34m\u001b[0m\u001b[0m\n\u001b[1;32m     43\u001b[0m                 \u001b[0mmetadata\u001b[0m\u001b[0;34m=\u001b[0m\u001b[0m_fetch_figure_metadata\u001b[0m\u001b[0;34m(\u001b[0m\u001b[0mfigure_manager\u001b[0m\u001b[0;34m.\u001b[0m\u001b[0mcanvas\u001b[0m\u001b[0;34m.\u001b[0m\u001b[0mfigure\u001b[0m\u001b[0;34m)\u001b[0m\u001b[0;34m\u001b[0m\u001b[0;34m\u001b[0m\u001b[0m\n",
      "\u001b[0;32m/Library/Frameworks/Python.framework/Versions/3.9/lib/python3.9/site-packages/IPython/core/display.py\u001b[0m in \u001b[0;36mdisplay\u001b[0;34m(include, exclude, metadata, transient, display_id, *objs, **kwargs)\u001b[0m\n\u001b[1;32m    325\u001b[0m                 \u001b[0;31m# kwarg-specified metadata gets precedence\u001b[0m\u001b[0;34m\u001b[0m\u001b[0;34m\u001b[0m\u001b[0m\n\u001b[1;32m    326\u001b[0m                 \u001b[0m_merge\u001b[0m\u001b[0;34m(\u001b[0m\u001b[0mmd_dict\u001b[0m\u001b[0;34m,\u001b[0m \u001b[0mmetadata\u001b[0m\u001b[0;34m)\u001b[0m\u001b[0;34m\u001b[0m\u001b[0;34m\u001b[0m\u001b[0m\n\u001b[0;32m--> 327\u001b[0;31m             \u001b[0mpublish_display_data\u001b[0m\u001b[0;34m(\u001b[0m\u001b[0mdata\u001b[0m\u001b[0;34m=\u001b[0m\u001b[0mformat_dict\u001b[0m\u001b[0;34m,\u001b[0m \u001b[0mmetadata\u001b[0m\u001b[0;34m=\u001b[0m\u001b[0mmd_dict\u001b[0m\u001b[0;34m,\u001b[0m \u001b[0;34m**\u001b[0m\u001b[0mkwargs\u001b[0m\u001b[0;34m)\u001b[0m\u001b[0;34m\u001b[0m\u001b[0;34m\u001b[0m\u001b[0m\n\u001b[0m\u001b[1;32m    328\u001b[0m     \u001b[0;32mif\u001b[0m \u001b[0mdisplay_id\u001b[0m\u001b[0;34m:\u001b[0m\u001b[0;34m\u001b[0m\u001b[0;34m\u001b[0m\u001b[0m\n\u001b[1;32m    329\u001b[0m         \u001b[0;32mreturn\u001b[0m \u001b[0mDisplayHandle\u001b[0m\u001b[0;34m(\u001b[0m\u001b[0mdisplay_id\u001b[0m\u001b[0;34m)\u001b[0m\u001b[0;34m\u001b[0m\u001b[0;34m\u001b[0m\u001b[0m\n",
      "\u001b[0;32m/Library/Frameworks/Python.framework/Versions/3.9/lib/python3.9/site-packages/IPython/core/display.py\u001b[0m in \u001b[0;36mpublish_display_data\u001b[0;34m(data, metadata, source, transient, **kwargs)\u001b[0m\n\u001b[1;32m    117\u001b[0m         \u001b[0mkwargs\u001b[0m\u001b[0;34m[\u001b[0m\u001b[0;34m'transient'\u001b[0m\u001b[0;34m]\u001b[0m \u001b[0;34m=\u001b[0m \u001b[0mtransient\u001b[0m\u001b[0;34m\u001b[0m\u001b[0;34m\u001b[0m\u001b[0m\n\u001b[1;32m    118\u001b[0m \u001b[0;34m\u001b[0m\u001b[0m\n\u001b[0;32m--> 119\u001b[0;31m     display_pub.publish(\n\u001b[0m\u001b[1;32m    120\u001b[0m         \u001b[0mdata\u001b[0m\u001b[0;34m=\u001b[0m\u001b[0mdata\u001b[0m\u001b[0;34m,\u001b[0m\u001b[0;34m\u001b[0m\u001b[0;34m\u001b[0m\u001b[0m\n\u001b[1;32m    121\u001b[0m         \u001b[0mmetadata\u001b[0m\u001b[0;34m=\u001b[0m\u001b[0mmetadata\u001b[0m\u001b[0;34m,\u001b[0m\u001b[0;34m\u001b[0m\u001b[0;34m\u001b[0m\u001b[0m\n",
      "\u001b[0;32m/Library/Frameworks/Python.framework/Versions/3.9/lib/python3.9/site-packages/ipykernel/zmqshell.py\u001b[0m in \u001b[0;36mpublish\u001b[0;34m(self, data, metadata, transient, update)\u001b[0m\n\u001b[1;32m    136\u001b[0m                 \u001b[0;32mreturn\u001b[0m\u001b[0;34m\u001b[0m\u001b[0;34m\u001b[0m\u001b[0m\n\u001b[1;32m    137\u001b[0m \u001b[0;34m\u001b[0m\u001b[0m\n\u001b[0;32m--> 138\u001b[0;31m         self.session.send(\n\u001b[0m\u001b[1;32m    139\u001b[0m             \u001b[0mself\u001b[0m\u001b[0;34m.\u001b[0m\u001b[0mpub_socket\u001b[0m\u001b[0;34m,\u001b[0m \u001b[0mmsg\u001b[0m\u001b[0;34m,\u001b[0m \u001b[0mident\u001b[0m\u001b[0;34m=\u001b[0m\u001b[0mself\u001b[0m\u001b[0;34m.\u001b[0m\u001b[0mtopic\u001b[0m\u001b[0;34m,\u001b[0m\u001b[0;34m\u001b[0m\u001b[0;34m\u001b[0m\u001b[0m\n\u001b[1;32m    140\u001b[0m         )\n",
      "\u001b[0;32m/Library/Frameworks/Python.framework/Versions/3.9/lib/python3.9/site-packages/jupyter_client/session.py\u001b[0m in \u001b[0;36msend\u001b[0;34m(self, stream, msg_or_type, content, parent, ident, buffers, track, header, metadata)\u001b[0m\n\u001b[1;32m    828\u001b[0m         \u001b[0;32mif\u001b[0m \u001b[0mself\u001b[0m\u001b[0;34m.\u001b[0m\u001b[0madapt_version\u001b[0m\u001b[0;34m:\u001b[0m\u001b[0;34m\u001b[0m\u001b[0;34m\u001b[0m\u001b[0m\n\u001b[1;32m    829\u001b[0m             \u001b[0mmsg\u001b[0m \u001b[0;34m=\u001b[0m \u001b[0madapt\u001b[0m\u001b[0;34m(\u001b[0m\u001b[0mmsg\u001b[0m\u001b[0;34m,\u001b[0m \u001b[0mself\u001b[0m\u001b[0;34m.\u001b[0m\u001b[0madapt_version\u001b[0m\u001b[0;34m)\u001b[0m\u001b[0;34m\u001b[0m\u001b[0;34m\u001b[0m\u001b[0m\n\u001b[0;32m--> 830\u001b[0;31m         \u001b[0mto_send\u001b[0m \u001b[0;34m=\u001b[0m \u001b[0mself\u001b[0m\u001b[0;34m.\u001b[0m\u001b[0mserialize\u001b[0m\u001b[0;34m(\u001b[0m\u001b[0mmsg\u001b[0m\u001b[0;34m,\u001b[0m \u001b[0mident\u001b[0m\u001b[0;34m)\u001b[0m\u001b[0;34m\u001b[0m\u001b[0;34m\u001b[0m\u001b[0m\n\u001b[0m\u001b[1;32m    831\u001b[0m         \u001b[0mto_send\u001b[0m\u001b[0;34m.\u001b[0m\u001b[0mextend\u001b[0m\u001b[0;34m(\u001b[0m\u001b[0mbuffers\u001b[0m\u001b[0;34m)\u001b[0m\u001b[0;34m\u001b[0m\u001b[0;34m\u001b[0m\u001b[0m\n\u001b[1;32m    832\u001b[0m         \u001b[0mlongest\u001b[0m \u001b[0;34m=\u001b[0m \u001b[0mmax\u001b[0m\u001b[0;34m(\u001b[0m\u001b[0;34m[\u001b[0m\u001b[0mlen\u001b[0m\u001b[0;34m(\u001b[0m\u001b[0ms\u001b[0m\u001b[0;34m)\u001b[0m \u001b[0;32mfor\u001b[0m \u001b[0ms\u001b[0m \u001b[0;32min\u001b[0m \u001b[0mto_send\u001b[0m\u001b[0;34m]\u001b[0m\u001b[0;34m)\u001b[0m\u001b[0;34m\u001b[0m\u001b[0;34m\u001b[0m\u001b[0m\n",
      "\u001b[0;32m/Library/Frameworks/Python.framework/Versions/3.9/lib/python3.9/site-packages/jupyter_client/session.py\u001b[0m in \u001b[0;36mserialize\u001b[0;34m(self, msg, ident)\u001b[0m\n\u001b[1;32m    702\u001b[0m             \u001b[0mcontent\u001b[0m \u001b[0;34m=\u001b[0m \u001b[0mself\u001b[0m\u001b[0;34m.\u001b[0m\u001b[0mnone\u001b[0m\u001b[0;34m\u001b[0m\u001b[0;34m\u001b[0m\u001b[0m\n\u001b[1;32m    703\u001b[0m         \u001b[0;32melif\u001b[0m \u001b[0misinstance\u001b[0m\u001b[0;34m(\u001b[0m\u001b[0mcontent\u001b[0m\u001b[0;34m,\u001b[0m \u001b[0mdict\u001b[0m\u001b[0;34m)\u001b[0m\u001b[0;34m:\u001b[0m\u001b[0;34m\u001b[0m\u001b[0;34m\u001b[0m\u001b[0m\n\u001b[0;32m--> 704\u001b[0;31m             \u001b[0mcontent\u001b[0m \u001b[0;34m=\u001b[0m \u001b[0mself\u001b[0m\u001b[0;34m.\u001b[0m\u001b[0mpack\u001b[0m\u001b[0;34m(\u001b[0m\u001b[0mcontent\u001b[0m\u001b[0;34m)\u001b[0m\u001b[0;34m\u001b[0m\u001b[0;34m\u001b[0m\u001b[0m\n\u001b[0m\u001b[1;32m    705\u001b[0m         \u001b[0;32melif\u001b[0m \u001b[0misinstance\u001b[0m\u001b[0;34m(\u001b[0m\u001b[0mcontent\u001b[0m\u001b[0;34m,\u001b[0m \u001b[0mbytes\u001b[0m\u001b[0;34m)\u001b[0m\u001b[0;34m:\u001b[0m\u001b[0;34m\u001b[0m\u001b[0;34m\u001b[0m\u001b[0m\n\u001b[1;32m    706\u001b[0m             \u001b[0;31m# content is already packed, as in a relayed message\u001b[0m\u001b[0;34m\u001b[0m\u001b[0;34m\u001b[0m\u001b[0m\n",
      "\u001b[0;32m/Library/Frameworks/Python.framework/Versions/3.9/lib/python3.9/site-packages/jupyter_client/session.py\u001b[0m in \u001b[0;36mjson_packer\u001b[0;34m(obj)\u001b[0m\n\u001b[1;32m     93\u001b[0m \u001b[0;34m\u001b[0m\u001b[0m\n\u001b[1;32m     94\u001b[0m \u001b[0;32mdef\u001b[0m \u001b[0mjson_packer\u001b[0m\u001b[0;34m(\u001b[0m\u001b[0mobj\u001b[0m\u001b[0;34m)\u001b[0m\u001b[0;34m:\u001b[0m\u001b[0;34m\u001b[0m\u001b[0;34m\u001b[0m\u001b[0m\n\u001b[0;32m---> 95\u001b[0;31m     return jsonapi.dumps(\n\u001b[0m\u001b[1;32m     96\u001b[0m         \u001b[0mobj\u001b[0m\u001b[0;34m,\u001b[0m\u001b[0;34m\u001b[0m\u001b[0;34m\u001b[0m\u001b[0m\n\u001b[1;32m     97\u001b[0m         \u001b[0mdefault\u001b[0m\u001b[0;34m=\u001b[0m\u001b[0mjson_default\u001b[0m\u001b[0;34m,\u001b[0m\u001b[0;34m\u001b[0m\u001b[0;34m\u001b[0m\u001b[0m\n",
      "\u001b[0;32m~/Library/Python/3.9/lib/python/site-packages/zmq/utils/jsonapi.py\u001b[0m in \u001b[0;36mdumps\u001b[0;34m(o, **kwargs)\u001b[0m\n\u001b[1;32m     38\u001b[0m         \u001b[0mkwargs\u001b[0m\u001b[0;34m[\u001b[0m\u001b[0;34m'separators'\u001b[0m\u001b[0;34m]\u001b[0m \u001b[0;34m=\u001b[0m \u001b[0;34m(\u001b[0m\u001b[0;34m','\u001b[0m\u001b[0;34m,\u001b[0m \u001b[0;34m':'\u001b[0m\u001b[0;34m)\u001b[0m\u001b[0;34m\u001b[0m\u001b[0;34m\u001b[0m\u001b[0m\n\u001b[1;32m     39\u001b[0m \u001b[0;34m\u001b[0m\u001b[0m\n\u001b[0;32m---> 40\u001b[0;31m     \u001b[0ms\u001b[0m \u001b[0;34m=\u001b[0m \u001b[0mjsonmod\u001b[0m\u001b[0;34m.\u001b[0m\u001b[0mdumps\u001b[0m\u001b[0;34m(\u001b[0m\u001b[0mo\u001b[0m\u001b[0;34m,\u001b[0m \u001b[0;34m**\u001b[0m\u001b[0mkwargs\u001b[0m\u001b[0;34m)\u001b[0m\u001b[0;34m\u001b[0m\u001b[0;34m\u001b[0m\u001b[0m\n\u001b[0m\u001b[1;32m     41\u001b[0m \u001b[0;34m\u001b[0m\u001b[0m\n\u001b[1;32m     42\u001b[0m     \u001b[0;32mif\u001b[0m \u001b[0misinstance\u001b[0m\u001b[0;34m(\u001b[0m\u001b[0ms\u001b[0m\u001b[0;34m,\u001b[0m \u001b[0municode\u001b[0m\u001b[0;34m)\u001b[0m\u001b[0;34m:\u001b[0m\u001b[0;34m\u001b[0m\u001b[0;34m\u001b[0m\u001b[0m\n",
      "\u001b[0;32m~/Library/Python/3.9/lib/python/site-packages/simplejson/__init__.py\u001b[0m in \u001b[0;36mdumps\u001b[0;34m(obj, skipkeys, ensure_ascii, check_circular, allow_nan, cls, indent, separators, encoding, default, use_decimal, namedtuple_as_object, tuple_as_array, bigint_as_string, sort_keys, item_sort_key, for_json, ignore_nan, int_as_string_bitcount, iterable_as_array, **kw)\u001b[0m\n\u001b[1;32m    379\u001b[0m     \u001b[0;32mif\u001b[0m \u001b[0mcls\u001b[0m \u001b[0;32mis\u001b[0m \u001b[0;32mNone\u001b[0m\u001b[0;34m:\u001b[0m\u001b[0;34m\u001b[0m\u001b[0;34m\u001b[0m\u001b[0m\n\u001b[1;32m    380\u001b[0m         \u001b[0mcls\u001b[0m \u001b[0;34m=\u001b[0m \u001b[0mJSONEncoder\u001b[0m\u001b[0;34m\u001b[0m\u001b[0;34m\u001b[0m\u001b[0m\n\u001b[0;32m--> 381\u001b[0;31m     return cls(\n\u001b[0m\u001b[1;32m    382\u001b[0m         \u001b[0mskipkeys\u001b[0m\u001b[0;34m=\u001b[0m\u001b[0mskipkeys\u001b[0m\u001b[0;34m,\u001b[0m \u001b[0mensure_ascii\u001b[0m\u001b[0;34m=\u001b[0m\u001b[0mensure_ascii\u001b[0m\u001b[0;34m,\u001b[0m\u001b[0;34m\u001b[0m\u001b[0;34m\u001b[0m\u001b[0m\n\u001b[1;32m    383\u001b[0m         \u001b[0mcheck_circular\u001b[0m\u001b[0;34m=\u001b[0m\u001b[0mcheck_circular\u001b[0m\u001b[0;34m,\u001b[0m \u001b[0mallow_nan\u001b[0m\u001b[0;34m=\u001b[0m\u001b[0mallow_nan\u001b[0m\u001b[0;34m,\u001b[0m \u001b[0mindent\u001b[0m\u001b[0;34m=\u001b[0m\u001b[0mindent\u001b[0m\u001b[0;34m,\u001b[0m\u001b[0;34m\u001b[0m\u001b[0;34m\u001b[0m\u001b[0m\n",
      "\u001b[0;32m~/Library/Python/3.9/lib/python/site-packages/simplejson/encoder.py\u001b[0m in \u001b[0;36mencode\u001b[0;34m(self, o)\u001b[0m\n\u001b[1;32m    296\u001b[0m         \u001b[0;31m# exceptions aren't as detailed.  The list call should be roughly\u001b[0m\u001b[0;34m\u001b[0m\u001b[0;34m\u001b[0m\u001b[0m\n\u001b[1;32m    297\u001b[0m         \u001b[0;31m# equivalent to the PySequence_Fast that ''.join() would do.\u001b[0m\u001b[0;34m\u001b[0m\u001b[0;34m\u001b[0m\u001b[0m\n\u001b[0;32m--> 298\u001b[0;31m         \u001b[0mchunks\u001b[0m \u001b[0;34m=\u001b[0m \u001b[0mself\u001b[0m\u001b[0;34m.\u001b[0m\u001b[0miterencode\u001b[0m\u001b[0;34m(\u001b[0m\u001b[0mo\u001b[0m\u001b[0;34m)\u001b[0m\u001b[0;34m\u001b[0m\u001b[0;34m\u001b[0m\u001b[0m\n\u001b[0m\u001b[1;32m    299\u001b[0m         \u001b[0;32mif\u001b[0m \u001b[0;32mnot\u001b[0m \u001b[0misinstance\u001b[0m\u001b[0;34m(\u001b[0m\u001b[0mchunks\u001b[0m\u001b[0;34m,\u001b[0m \u001b[0;34m(\u001b[0m\u001b[0mlist\u001b[0m\u001b[0;34m,\u001b[0m \u001b[0mtuple\u001b[0m\u001b[0;34m)\u001b[0m\u001b[0;34m)\u001b[0m\u001b[0;34m:\u001b[0m\u001b[0;34m\u001b[0m\u001b[0;34m\u001b[0m\u001b[0m\n\u001b[1;32m    300\u001b[0m             \u001b[0mchunks\u001b[0m \u001b[0;34m=\u001b[0m \u001b[0mlist\u001b[0m\u001b[0;34m(\u001b[0m\u001b[0mchunks\u001b[0m\u001b[0;34m)\u001b[0m\u001b[0;34m\u001b[0m\u001b[0;34m\u001b[0m\u001b[0m\n",
      "\u001b[0;32m~/Library/Python/3.9/lib/python/site-packages/simplejson/encoder.py\u001b[0m in \u001b[0;36miterencode\u001b[0;34m(self, o)\u001b[0m\n\u001b[1;32m    377\u001b[0m                 self.iterable_as_array, Decimal=decimal.Decimal)\n\u001b[1;32m    378\u001b[0m         \u001b[0;32mtry\u001b[0m\u001b[0;34m:\u001b[0m\u001b[0;34m\u001b[0m\u001b[0;34m\u001b[0m\u001b[0m\n\u001b[0;32m--> 379\u001b[0;31m             \u001b[0;32mreturn\u001b[0m \u001b[0m_iterencode\u001b[0m\u001b[0;34m(\u001b[0m\u001b[0mo\u001b[0m\u001b[0;34m,\u001b[0m \u001b[0;36m0\u001b[0m\u001b[0;34m)\u001b[0m\u001b[0;34m\u001b[0m\u001b[0;34m\u001b[0m\u001b[0m\n\u001b[0m\u001b[1;32m    380\u001b[0m         \u001b[0;32mfinally\u001b[0m\u001b[0;34m:\u001b[0m\u001b[0;34m\u001b[0m\u001b[0;34m\u001b[0m\u001b[0m\n\u001b[1;32m    381\u001b[0m             \u001b[0mkey_memo\u001b[0m\u001b[0;34m.\u001b[0m\u001b[0mclear\u001b[0m\u001b[0;34m(\u001b[0m\u001b[0;34m)\u001b[0m\u001b[0;34m\u001b[0m\u001b[0;34m\u001b[0m\u001b[0m\n",
      "\u001b[0;32m~/Library/Python/3.9/lib/python/site-packages/simplejson/encoder.py\u001b[0m in \u001b[0;36mencode_basestring\u001b[0;34m(s, _PY3, _q)\u001b[0m\n\u001b[1;32m     43\u001b[0m     \u001b[0;32mif\u001b[0m \u001b[0m_PY3\u001b[0m\u001b[0;34m:\u001b[0m\u001b[0;34m\u001b[0m\u001b[0;34m\u001b[0m\u001b[0m\n\u001b[1;32m     44\u001b[0m         \u001b[0;32mif\u001b[0m \u001b[0misinstance\u001b[0m\u001b[0;34m(\u001b[0m\u001b[0ms\u001b[0m\u001b[0;34m,\u001b[0m \u001b[0mbytes\u001b[0m\u001b[0;34m)\u001b[0m\u001b[0;34m:\u001b[0m\u001b[0;34m\u001b[0m\u001b[0;34m\u001b[0m\u001b[0m\n\u001b[0;32m---> 45\u001b[0;31m             \u001b[0ms\u001b[0m \u001b[0;34m=\u001b[0m \u001b[0mstr\u001b[0m\u001b[0;34m(\u001b[0m\u001b[0ms\u001b[0m\u001b[0;34m,\u001b[0m \u001b[0;34m'utf-8'\u001b[0m\u001b[0;34m)\u001b[0m\u001b[0;34m\u001b[0m\u001b[0;34m\u001b[0m\u001b[0m\n\u001b[0m\u001b[1;32m     46\u001b[0m         \u001b[0;32melif\u001b[0m \u001b[0mtype\u001b[0m\u001b[0;34m(\u001b[0m\u001b[0ms\u001b[0m\u001b[0;34m)\u001b[0m \u001b[0;32mis\u001b[0m \u001b[0;32mnot\u001b[0m \u001b[0mstr\u001b[0m\u001b[0;34m:\u001b[0m\u001b[0;34m\u001b[0m\u001b[0;34m\u001b[0m\u001b[0m\n\u001b[1;32m     47\u001b[0m             \u001b[0;31m# convert an str subclass instance to exact str\u001b[0m\u001b[0;34m\u001b[0m\u001b[0;34m\u001b[0m\u001b[0m\n",
      "\u001b[0;31mUnicodeDecodeError\u001b[0m: 'utf-8' codec can't decode byte 0x89 in position 0: invalid start byte"
     ]
    }
   ],
   "source": [
    "y_train_hat_clean = y_train_hat[[\"sim\", \"y\"]].apply(pd.to_numeric, errors='coerce').dropna()\n",
    "sns.pairplot(y_train_hat_clean[[\"sim\", \"y\"]], hue = \"y\")"
   ]
  },
  {
   "cell_type": "code",
   "execution_count": 28,
   "id": "76f8ae72",
   "metadata": {},
   "outputs": [
    {
     "name": "stdout",
     "output_type": "stream",
     "text": [
      "9774\n",
      "7604\n",
      "4942\n",
      "2170\n",
      "4832\n",
      "2361\n",
      "4942\n",
      "4832\n"
     ]
    },
    {
     "data": {
      "text/plain": [
       "'Number of positive edges for training: 3802\\nNumber of positive edges for validation: 1085\\nNumber of positive edges for test: 542\\nNumber of edges in original graph: 5429\\nNumber of edges in training graph: 3802\\nNumber of non-existing edges generated: 29971\\nNumber of negative edges for training: 3802\\nNumber of negative edges for validation: 1085\\nNumber of negative edges for test: 542'"
      ]
     },
     "execution_count": 28,
     "metadata": {},
     "output_type": "execute_result"
    }
   ],
   "source": [
    "print(len(trainval_tf))\n",
    "print(len(train_tf))\n",
    "print(len(y_train_hat))\n",
    "print(len(val_tf))\n",
    "print(len(y_val_hat))\n",
    "print(data.train_pos_edges.shape[1])\n",
    "print(data.train_edges.shape[1])\n",
    "print(data.val_edges.shape[1])\n",
    "\"\"\"Number of positive edges for training: 3802\n",
    "Number of positive edges for validation: 1085\n",
    "Number of positive edges for test: 542\n",
    "Number of edges in original graph: 5429\n",
    "Number of edges in training graph: 3802\n",
    "Number of non-existing edges generated: 29971\n",
    "Number of negative edges for training: 3802\n",
    "Number of negative edges for validation: 1085\n",
    "Number of negative edges for test: 542\"\"\""
   ]
  },
  {
   "cell_type": "code",
   "execution_count": 174,
   "id": "bc2a3c26",
   "metadata": {
    "scrolled": true
   },
   "outputs": [
    {
     "name": "stdout",
     "output_type": "stream",
     "text": [
      "2170\n",
      "ROC:  0.889936503217312\n",
      "Acc:  0.8258064516129032\n"
     ]
    }
   ],
   "source": [
    "# predict val\n",
    "y_val_hat = pd.DataFrame(autoenc.get_similarity(model, data.x, data.train_pos_edges, data.val_edges))\n",
    "print(len(y_val_hat))\n",
    "y_val_hat = (y_val_hat\n",
    "    .rename(columns = {0: \"sim\"})\n",
    "    .assign(y = trainval_tf.loc[trainval_tf.val_mask == True].y.values)\n",
    "    .assign(pred = lambda df_: (df_.sim > df_.sim.median()).astype(int))\n",
    ")\n",
    "print(\"ROC: \", roc_auc_score(y_val_hat.y, y_val_hat.sim))\n",
    "print(\"Acc: \", accuracy_score(y_val_hat.y, y_val_hat.pred))"
   ]
  },
  {
   "cell_type": "code",
   "execution_count": 41,
   "id": "3bc49fd4",
   "metadata": {},
   "outputs": [
    {
     "data": {
      "text/plain": [
       "2170"
      ]
     },
     "execution_count": 41,
     "metadata": {},
     "output_type": "execute_result"
    }
   ],
   "source": [
    "len(val_tf)\n"
   ]
  },
  {
   "cell_type": "code",
   "execution_count": 175,
   "id": "4f8461a8",
   "metadata": {},
   "outputs": [],
   "source": [
    "tmp = (val_tf\n",
    "    .assign(sim  = y_val_hat.pred.values)\n",
    "    .assign(dist = lambda df_: [np.linalg.norm(node_emb.loc[u].values-node_emb.loc[v].values) for u, v in zip(df_.source, df_.target)])\n",
    ")"
   ]
  },
  {
   "cell_type": "code",
   "execution_count": 84,
   "id": "ca8db459",
   "metadata": {},
   "outputs": [
    {
     "ename": "NameError",
     "evalue": "name 'tmp' is not defined",
     "output_type": "error",
     "traceback": [
      "\u001b[0;31m---------------------------------------------------------------------------\u001b[0m",
      "\u001b[0;31mNameError\u001b[0m                                 Traceback (most recent call last)",
      "\u001b[0;32m/var/folders/wl/zfv53bfx13j4zx15j58_cby00000gn/T/ipykernel_1579/3301759999.py\u001b[0m in \u001b[0;36m<module>\u001b[0;34m\u001b[0m\n\u001b[0;32m----> 1\u001b[0;31m \u001b[0msns\u001b[0m\u001b[0;34m.\u001b[0m\u001b[0mpairplot\u001b[0m\u001b[0;34m(\u001b[0m\u001b[0mtmp\u001b[0m\u001b[0;34m[\u001b[0m\u001b[0;34m[\u001b[0m\u001b[0;34m\"sim\"\u001b[0m\u001b[0;34m,\u001b[0m \u001b[0;34m\"dist\"\u001b[0m\u001b[0;34m,\u001b[0m \u001b[0;34m\"y\"\u001b[0m\u001b[0;34m]\u001b[0m\u001b[0;34m]\u001b[0m\u001b[0;34m,\u001b[0m \u001b[0mhue\u001b[0m \u001b[0;34m=\u001b[0m \u001b[0;34m\"y\"\u001b[0m\u001b[0;34m)\u001b[0m\u001b[0;34m\u001b[0m\u001b[0;34m\u001b[0m\u001b[0m\n\u001b[0m",
      "\u001b[0;31mNameError\u001b[0m: name 'tmp' is not defined"
     ]
    }
   ],
   "source": [
    "sns.pairplot(tmp[[\"sim\", \"dist\", \"y\"]], hue = \"y\")"
   ]
  },
  {
   "cell_type": "code",
   "execution_count": 179,
   "id": "4efe1fbc",
   "metadata": {},
   "outputs": [
    {
     "data": {
      "text/html": [
       "<div>\n",
       "<style scoped>\n",
       "    .dataframe tbody tr th:only-of-type {\n",
       "        vertical-align: middle;\n",
       "    }\n",
       "\n",
       "    .dataframe tbody tr th {\n",
       "        vertical-align: top;\n",
       "    }\n",
       "\n",
       "    .dataframe thead th {\n",
       "        text-align: right;\n",
       "    }\n",
       "</style>\n",
       "<table border=\"1\" class=\"dataframe\">\n",
       "  <thead>\n",
       "    <tr style=\"text-align: right;\">\n",
       "      <th></th>\n",
       "      <th>target</th>\n",
       "      <th>source</th>\n",
       "      <th>y</th>\n",
       "      <th>sim</th>\n",
       "      <th>dist</th>\n",
       "    </tr>\n",
       "  </thead>\n",
       "  <tbody>\n",
       "    <tr>\n",
       "      <th>target</th>\n",
       "      <td>1.000000</td>\n",
       "      <td>0.320768</td>\n",
       "      <td>-0.493566</td>\n",
       "      <td>-0.420214</td>\n",
       "      <td>0.199539</td>\n",
       "    </tr>\n",
       "    <tr>\n",
       "      <th>source</th>\n",
       "      <td>0.320768</td>\n",
       "      <td>1.000000</td>\n",
       "      <td>-0.487168</td>\n",
       "      <td>-0.398406</td>\n",
       "      <td>0.319183</td>\n",
       "    </tr>\n",
       "    <tr>\n",
       "      <th>y</th>\n",
       "      <td>-0.493566</td>\n",
       "      <td>-0.487168</td>\n",
       "      <td>1.000000</td>\n",
       "      <td>0.651613</td>\n",
       "      <td>-0.285842</td>\n",
       "    </tr>\n",
       "    <tr>\n",
       "      <th>sim</th>\n",
       "      <td>-0.420214</td>\n",
       "      <td>-0.398406</td>\n",
       "      <td>0.651613</td>\n",
       "      <td>1.000000</td>\n",
       "      <td>-0.273460</td>\n",
       "    </tr>\n",
       "    <tr>\n",
       "      <th>dist</th>\n",
       "      <td>0.199539</td>\n",
       "      <td>0.319183</td>\n",
       "      <td>-0.285842</td>\n",
       "      <td>-0.273460</td>\n",
       "      <td>1.000000</td>\n",
       "    </tr>\n",
       "  </tbody>\n",
       "</table>\n",
       "</div>"
      ],
      "text/plain": [
       "          target    source         y       sim      dist\n",
       "target  1.000000  0.320768 -0.493566 -0.420214  0.199539\n",
       "source  0.320768  1.000000 -0.487168 -0.398406  0.319183\n",
       "y      -0.493566 -0.487168  1.000000  0.651613 -0.285842\n",
       "sim    -0.420214 -0.398406  0.651613  1.000000 -0.273460\n",
       "dist    0.199539  0.319183 -0.285842 -0.273460  1.000000"
      ]
     },
     "execution_count": 179,
     "metadata": {},
     "output_type": "execute_result"
    }
   ],
   "source": [
    "tmp[['target', 'source', 'y', 'sim', 'dist']].corr()"
   ]
  },
  {
   "cell_type": "code",
   "execution_count": 180,
   "id": "d3fe8363",
   "metadata": {},
   "outputs": [
    {
     "data": {
      "text/plain": [
       "pred\n",
       "0       542\n",
       "1       542\n",
       "dtype: int64"
      ]
     },
     "execution_count": 180,
     "metadata": {},
     "output_type": "execute_result"
    }
   ],
   "source": [
    "# predict test\n",
    "y_test_hat = pd.DataFrame(autoenc.get_similarity(model, data.x, data.trainval_pos_edges, data.test_edges))\n",
    "y_test_hat = (y_test_hat\n",
    "    .rename(columns = {0: \"sim\"})\n",
    "    .assign(pred = lambda df_: (df_.sim > df_.sim.median()).astype(int))\n",
    ")\n",
    "y_test_hat[[\"pred\"]].value_counts()"
   ]
  }
 ],
 "metadata": {
  "kernelspec": {
   "display_name": "Python 3",
   "language": "python",
   "name": "python3"
  },
  "language_info": {
   "codemirror_mode": {
    "name": "ipython",
    "version": 3
   },
   "file_extension": ".py",
   "mimetype": "text/x-python",
   "name": "python",
   "nbconvert_exporter": "python",
   "pygments_lexer": "ipython3",
   "version": "3.9.7"
  },
  "vscode": {
   "interpreter": {
    "hash": "edc5d5641674580b35290ba45bd16007251669062615a59c5f9a5e5dd7884ea6"
   }
  }
 },
 "nbformat": 4,
 "nbformat_minor": 5
}
